{
 "cells": [
  {
   "cell_type": "markdown",
   "id": "9a65fd6c",
   "metadata": {},
   "source": [
    "## 목차\n",
    "---\n",
    "\n",
    "v1.0.1  (23.10.24)      \n",
    "\n",
    "\n",
    "---\n",
    "[머신러닝](#머신러닝)    \n",
    "- [지도학습](#지도학습)  \n",
    "    - [로지스틱 회귀](#로지스틱-회귀)\n",
    "    - [나이브 베이즈](#나이브-베이즈)\n",
    "    - [서포트 벡터 머신](#서포트-벡터-머신)\n",
    "    - [결정트리](#결정트리)\n",
    "    - [랜덤 포레스트](#랜덤-포레스트)\n",
    "    - [XGBoost](#XGBoost)\n",
    "    - [LightGBM](#LightGBM)\n",
    "    - [신경망](#신경망)\n",
    "    - [분류 회귀 구분](#분류-회귀-구분)              \n",
    "        - [분류모델 평가](#분류모델-평가) \n",
    "        - [회귀모델 평가](#회귀모델-평가)\n",
    "- [비지도학습](#비지도학습)     \n",
    "    - [차원축소](#차원축소)\n",
    "    - [클러스터링](#클러스터링)\n",
    "\n",
    "[통계](#통계) \n",
    "- [기초통계량](#기초통계량)\n",
    "    - [평균 중앙값 왜도 첨도 분위수 분산 표준편차 변동계수](#평균-중앙값-왜도-첨도-분위수-분산-표준편차-변동계수)\n",
    "\n",
    "- [확률](#확률)\n",
    "    - [조건부 확률](#조건부-확률)\n",
    "- [확률분포](#확률분포)   \n",
    "    - [공분산과 상관계수](#공분산과-상관계수)\n",
    "    - [베르누이분포](#베르누이분포)\n",
    "    - [이항분포](#이항분포)\n",
    "    - [음이항분포](#음이항분포)\n",
    "    - [초기하분포](#초기하분포)\n",
    "    - [포아송분포](#포아송분포)\n",
    "    - [이산형균일분포](#이산형균일분포)\n",
    "    - [지수분포](#지수분포)\n",
    "    - [정규분포](#정규분포)\n",
    "- [추정](#추정)   \n",
    "    - [점추정](#점추정)\n",
    "    - [구간추정](#구간추정)\n",
    "    - [모평균에 대한 구간추정](#모평균에-대한-구간추정)\n",
    "    - [모비율에 대한 구간추정](#모비율에-대한-구간추정)\n",
    "    - [모분산에 대한 구간추정](#모분산에-대한-구간추정)\n",
    "    - [표본크기 결정](#표본크기-결정)\n",
    "- [가설검정](#가설검정)\n",
    "    - [귀무가설과 대립가설](#귀무가설과-대립가설)\n",
    "    - [1종오류 2종오류](#1종오류-2종오류)\n",
    "    - [대립가설의 형태에 따른 기각역](#대립가설의-형태에-따른-기각역)\n",
    "    - [검정력과 유의 확률](#검정력과-유의-확률)\n",
    "    - [정규정 검정](#정규정-검정)\n",
    "        - [Shapiro Wilk 검정](#Shapiro-Wilk-검정)\n",
    "        - [Kolmogorov Smirnov 검정](#Kolmogorov-Smirnov-검정)\n",
    "    - [등분산 검정](#등분산-검정)\n",
    "        - [levene bartlett fligner 등분산 검정](#levene-bartlett-fligner-등분산-검정)\n",
    "    - [독립 표본 t 검정](#독립-표본-t-검정)\n",
    "    - [대응표본 표본 t 검정](#대응표본-표본-t-검정)\n",
    "    - [일표본 표본 t 검정](#일표본-표본-t-검정)\n",
    "\n",
    "- [분산분석](#분산분석)\n",
    "    - [일원배치 분산분석 oneway ANOVA](#일원배치-분산분석-oneway-ANOVA)\n",
    "    - [이원배치 분산분석 twoway ANOVA](#이원배치-분산분석-oneway-ANOVA)\n",
    "        - [교호작용 주효과 사후분석](#교호작용-주효과-사후분석) \n",
    "- [비모수검정](#비모수검정)   \n",
    "    - [카이제곱검정 적합성 검정](#카이제곱검정-적합성-검정)\n",
    "    - [카이제곱검정 독립성 검정](#카이제곱검정-독립성-검정)\n",
    "    - [카이제곱검정 동질성 검정](#카이제곱검정-동질성-검정)\n",
    "    - [맥니마 검정](#맥니마-검정)\n",
    "    - [피셔의 정확확률검정](#피셔의-정확확률검정)\n",
    "    - [크러스컬 윌리스 검정](#크러스컬-윌리스-검정)\n",
    "    - [프리드먼 검정](#프리드먼-검정)\n",
    "    - [맨휘트니 u검정 윌콕슨 순위합 검정](#맨휘트니-u검정-윌콕슨-순위합-검정)\n",
    "    - [부호검정](#부호검정)\n",
    "    - [윌콕슨 검정](#윌콕슨-검정)\n",
    "    - [코크란의 q검정](#코크란의-q검정)\n",
    "    - [Run 검정](#Run-검정)\n",
    "- [상관분석](#상관분석)   \n",
    "    - [상관관계분석](#상관관계분석)\n",
    "    - [편 상관관계분석](#편-상관관계분석)\n",
    "- [회귀분석](##2)\n",
    "    - [회귀모형의 기본가정](#회귀모형의-기본가정)\n",
    "    - [단순 선형 회귀](#단순-선형-회귀)\n",
    "    - [다중 회귀](#다중-회귀)\n",
    "    - [더미 변수 회귀분석](#더미-변수-회귀분석)\n",
    "    - [교호작용 유무에 다른 회귀모형](#교호작용-유무에-다른-회귀모형)\n",
    "\n",
    "[시계열](#시계열)\n",
    "- [정상성](#정상성)\n",
    "- [잔차분석](#잔차분석)\n",
    "- [시계열 분해](#시계열-분해)\n",
    "- [단순 이동평균 모형](#단순-이동평균-모형)\n",
    "- [평균평활 모형](#평균평활-모형)\n",
    "- [자기회귀 이동평균 모형](#자기회귀-이동평균-모형)\n",
    "- [ARIMA](#ARIMA)\n",
    "- [SARIMA](#SARIMA)\n",
    "- [VAR 모형](#VAR-모형)\n",
    "\n",
    "[전처리](#전처리)   \n",
    "- [판다스쿡북](#판다스쿡북)\n",
    "- [EDA](#EDA)\n",
    "    - [info describe unique nunique isnull  quantile](#info-describe-unique-nunique-isnull--quantile)\n",
    "- [이상치 처리](#이상치-처리)\n",
    "- [결측치 처리](#결측치-처리)      \n",
    "- [클래스불균형](#클래스불균형)    \n",
    "- [날짜데이터](#날짜데이터)\n",
    "- [스케일링](#스케일링)\n",
    "- [범주형 변수 인코딩](#범주형-변수-인코딩)\n",
    "- [학습데이터 분리](#학습데이터-분리)\n",
    "    - [hold out](#hold-out)\n",
    "    - [kfold](#kfold)\n",
    "\n",
    "[시각화](#시각화)   \n",
    "- [초기 코드 세팅](#초기-코드-세팅)\n",
    "\n",
    "[잔잔바리 기출](#잔잔바리-기출)\n",
    "- [관리도](#관리도)\n",
    "- [생존분석](#생존분석)\n",
    "- [수송계획법](#수송계획법)\n",
    "- [텍스트마이닝](#텍스트마이닝)\n",
    "\n",
    "\n",
    "[전체 패키지 로드](#전체-패키지-로드)    \n",
    "[주피터 노트북 단축키](#주피터-노트북-단축키)    \n",
    "[help dir](#help-dir)    \n",
    "[기출문제 유형 정리](#기출문제-유형-정리)    \n",
    "[제출노하우](#제출노하우)    \n",
    "[시험 참고 유튜브 블로그](#시험-참고-유튜브-블로그)    \n",
    "[시험후기](#참고-사이트)    \n",
    " "
   ]
  },
  {
   "cell_type": "markdown",
   "id": "b4c07085",
   "metadata": {},
   "source": [
    "### 머신러닝"
   ]
  },
  {
   "cell_type": "markdown",
   "id": "3558e863",
   "metadata": {},
   "source": [
    "### 지도학습"
   ]
  },
  {
   "cell_type": "markdown",
   "id": "cc997505",
   "metadata": {},
   "source": [
    "### 로지스틱 회귀"
   ]
  },
  {
   "cell_type": "markdown",
   "id": "e064fab1",
   "metadata": {},
   "source": [
    "### 나이브 베이즈"
   ]
  },
  {
   "cell_type": "markdown",
   "id": "d9903dc8",
   "metadata": {},
   "source": [
    "### 서포트 벡터 머신"
   ]
  },
  {
   "cell_type": "markdown",
   "id": "f9cc4544",
   "metadata": {},
   "source": [
    "### 결정트리"
   ]
  },
  {
   "cell_type": "markdown",
   "id": "ba3cea9b",
   "metadata": {},
   "source": [
    "### 랜덤 포레스트"
   ]
  },
  {
   "cell_type": "markdown",
   "id": "c40c0baa",
   "metadata": {},
   "source": [
    "### XGBoost"
   ]
  },
  {
   "cell_type": "markdown",
   "id": "ac77bff3",
   "metadata": {},
   "source": [
    "### LightGBM"
   ]
  },
  {
   "cell_type": "markdown",
   "id": "28187993",
   "metadata": {},
   "source": [
    "### 신경망"
   ]
  },
  {
   "cell_type": "markdown",
   "id": "7999c5e7",
   "metadata": {},
   "source": [
    "### 분류 회귀 구분"
   ]
  },
  {
   "cell_type": "markdown",
   "id": "02b8cfb3",
   "metadata": {},
   "source": [
    "### 분류모델 평가"
   ]
  },
  {
   "cell_type": "markdown",
   "id": "c620f83b",
   "metadata": {},
   "source": [
    "### 회귀모델 평가"
   ]
  },
  {
   "cell_type": "markdown",
   "id": "0fed0f7e",
   "metadata": {},
   "source": [
    "### 비지도학습"
   ]
  },
  {
   "cell_type": "markdown",
   "id": "d0fa6b38",
   "metadata": {},
   "source": [
    "### 차원축소"
   ]
  },
  {
   "cell_type": "markdown",
   "id": "86a95778",
   "metadata": {},
   "source": [
    "### 클러스터링"
   ]
  },
  {
   "cell_type": "markdown",
   "id": "94f8c784",
   "metadata": {},
   "source": [
    "### 통계"
   ]
  },
  {
   "cell_type": "markdown",
   "id": "288fc7a1",
   "metadata": {},
   "source": [
    "통계는 어렵다..!      \n",
    "x=$\\frac{-b\\pm\\sqrt{b^2-4ac}}{2a}$"
   ]
  },
  {
   "cell_type": "code",
   "execution_count": null,
   "id": "ed7325e9",
   "metadata": {},
   "outputs": [],
   "source": [
    "통계는 어렵다..!      \n",
    "x=$\\frac{-b\\pm\\sqrt{b^2-4ac}}{2a}$"
   ]
  },
  {
   "cell_type": "markdown",
   "id": "f06bab1b",
   "metadata": {},
   "source": [
    "### 기초통계량"
   ]
  },
  {
   "cell_type": "markdown",
   "id": "bf6e2262",
   "metadata": {},
   "source": [
    "### 평균 중앙값 왜도 첨도 분위수 분산 표준편차 변동계수"
   ]
  },
  {
   "cell_type": "markdown",
   "id": "98a7e939",
   "metadata": {},
   "source": [
    "### 확률"
   ]
  },
  {
   "cell_type": "markdown",
   "id": "a199b4d9",
   "metadata": {},
   "source": [
    "### 조건부 확률"
   ]
  },
  {
   "cell_type": "markdown",
   "id": "6b15d9a2",
   "metadata": {},
   "source": [
    "### 확률분포"
   ]
  },
  {
   "cell_type": "markdown",
   "id": "e2b6384a",
   "metadata": {},
   "source": [
    "### 공분산과 상관계수"
   ]
  },
  {
   "cell_type": "markdown",
   "id": "4d8d0e42",
   "metadata": {},
   "source": [
    "### 베르누이분포"
   ]
  },
  {
   "cell_type": "markdown",
   "id": "68d5caca",
   "metadata": {},
   "source": [
    "- 시행횟수가 1번이고 그 결과가 성공(1), 실패(0)으로만 나눠지는 분포로 성공의 확률을 $p$, 실패의 확률을 $1-p$로 나타냄.\n",
    "- 분포함수\n",
    "  $P(x)=p^x(1-p)^{1-x}$"
   ]
  },
  {
   "cell_type": "code",
   "execution_count": 2,
   "id": "52704927",
   "metadata": {},
   "outputs": [
    {
     "data": {
      "text/plain": [
       "array([0, 1, 1, 0, 1, 1, 0, 1, 1, 1, 0, 1, 0, 0, 1, 1, 0, 0, 0, 0, 0, 1,\n",
       "       1, 0, 1, 1, 1, 1, 1, 1, 0, 0, 0, 0, 0, 0, 1, 1, 1, 0, 1, 0, 0, 1,\n",
       "       0, 0, 1, 0, 0, 0, 0, 1, 0, 0, 1, 0, 1, 0, 0, 1, 1, 1, 0, 1, 0, 1,\n",
       "       0, 0, 0, 1, 0, 0, 1, 1, 1, 0, 0, 0, 1, 1, 0, 0, 1, 0, 1, 0, 1, 0,\n",
       "       1, 1, 0, 0, 1, 1, 1, 0, 1, 0, 0, 1], dtype=int64)"
      ]
     },
     "execution_count": 2,
     "metadata": {},
     "output_type": "execute_result"
    }
   ],
   "source": [
    "# 확률변수 1의 확률 분포가 0.4인 베르누이 분포로 랜덤값 100개 생성하기\n",
    "from scipy.stats import bernoulli\n",
    "bernoulli(0.4).rvs(100)"
   ]
  },
  {
   "cell_type": "markdown",
   "id": "c0cf28f5",
   "metadata": {},
   "source": [
    "### 이항분포"
   ]
  },
  {
   "cell_type": "markdown",
   "id": "88fc9ef9",
   "metadata": {},
   "source": [
    "### 음이항분포"
   ]
  },
  {
   "cell_type": "markdown",
   "id": "8560b6c1",
   "metadata": {},
   "source": [
    "### 초기하분포"
   ]
  },
  {
   "cell_type": "markdown",
   "id": "bf97c950",
   "metadata": {},
   "source": [
    "### 포아송분포"
   ]
  },
  {
   "cell_type": "markdown",
   "id": "07846948",
   "metadata": {},
   "source": [
    "### 이산형균일분포"
   ]
  },
  {
   "cell_type": "markdown",
   "id": "8e4c9033",
   "metadata": {},
   "source": [
    "### 지수분포"
   ]
  },
  {
   "cell_type": "markdown",
   "id": "f08aa111",
   "metadata": {},
   "source": [
    "### 정규분포"
   ]
  },
  {
   "cell_type": "markdown",
   "id": "fed17fce",
   "metadata": {},
   "source": [
    "### 추정"
   ]
  },
  {
   "cell_type": "markdown",
   "id": "6bc372e8",
   "metadata": {},
   "source": [
    "### 점추정"
   ]
  },
  {
   "cell_type": "markdown",
   "id": "73ed1f85",
   "metadata": {},
   "source": [
    "### 구간추정"
   ]
  },
  {
   "cell_type": "markdown",
   "id": "c2ed984c",
   "metadata": {},
   "source": [
    "### 모평균에 대한 구간추정"
   ]
  },
  {
   "cell_type": "markdown",
   "id": "ecb9f237",
   "metadata": {},
   "source": [
    "### 모비율에 대한 구간추정"
   ]
  },
  {
   "cell_type": "markdown",
   "id": "da0beb66",
   "metadata": {},
   "source": [
    "### 모분산에 대한 구간추정"
   ]
  },
  {
   "cell_type": "markdown",
   "id": "af79e3d1",
   "metadata": {},
   "source": [
    "### 표본크기 결정"
   ]
  },
  {
   "cell_type": "markdown",
   "id": "7b99751a",
   "metadata": {},
   "source": [
    "### 가설검정"
   ]
  },
  {
   "cell_type": "markdown",
   "id": "60d57e71",
   "metadata": {},
   "source": [
    "### 귀무가설과 대립가설"
   ]
  },
  {
   "cell_type": "markdown",
   "id": "e675871e",
   "metadata": {},
   "source": [
    "### 1종오류 2종오류"
   ]
  },
  {
   "cell_type": "markdown",
   "id": "b2628218",
   "metadata": {},
   "source": [
    "### 대립가설의 형태에 따른 기각역"
   ]
  },
  {
   "cell_type": "markdown",
   "id": "02069baf",
   "metadata": {},
   "source": [
    "### 검정력과 유의 확률"
   ]
  },
  {
   "cell_type": "markdown",
   "id": "6dded26e",
   "metadata": {},
   "source": [
    "### 정규정 검정"
   ]
  },
  {
   "cell_type": "markdown",
   "id": "3e16d8be",
   "metadata": {},
   "source": [
    "### Shapiro Wilk 검정"
   ]
  },
  {
   "cell_type": "markdown",
   "id": "c12a10d0",
   "metadata": {},
   "source": [
    "### Kolmogorov Smirnov 검정"
   ]
  },
  {
   "cell_type": "markdown",
   "id": "72f8b48e",
   "metadata": {},
   "source": [
    "### 등분산 검정"
   ]
  },
  {
   "cell_type": "markdown",
   "id": "0b36d7c1",
   "metadata": {},
   "source": [
    "### levene bartlett fligner 등분산 검정"
   ]
  },
  {
   "cell_type": "markdown",
   "id": "f341c5ef",
   "metadata": {},
   "source": [
    "### 독립 표본 t 검정"
   ]
  },
  {
   "cell_type": "markdown",
   "id": "883c7c4e",
   "metadata": {},
   "source": [
    "### 대응표본 표본 t 검정"
   ]
  },
  {
   "cell_type": "markdown",
   "id": "2ac4eedc",
   "metadata": {},
   "source": [
    "### 일표본 표본 t 검정"
   ]
  },
  {
   "cell_type": "markdown",
   "id": "6ad3c290",
   "metadata": {},
   "source": [
    "### 분산분석"
   ]
  },
  {
   "cell_type": "markdown",
   "id": "0bdb74a0",
   "metadata": {},
   "source": [
    "### 일원배치 분산분석 oneway ANOVA"
   ]
  },
  {
   "cell_type": "markdown",
   "id": "9425ed8f",
   "metadata": {},
   "source": [
    "### 이원배치 분산분석 two way ANOVA"
   ]
  },
  {
   "cell_type": "markdown",
   "id": "b6c099bd",
   "metadata": {},
   "source": [
    "### 교호작용 주효과 사후분석"
   ]
  },
  {
   "cell_type": "markdown",
   "id": "d6d9bac8",
   "metadata": {},
   "source": [
    "### 비모수검정"
   ]
  },
  {
   "cell_type": "markdown",
   "id": "33fe22a1",
   "metadata": {},
   "source": [
    "### 카이제곱검정 적합성 검정"
   ]
  },
  {
   "cell_type": "markdown",
   "id": "8db6d4b2",
   "metadata": {},
   "source": [
    "### 카이제곱검정 독립성 검정"
   ]
  },
  {
   "cell_type": "markdown",
   "id": "4b0d0580",
   "metadata": {},
   "source": [
    "### 카이제곱검정 동질성 검정"
   ]
  },
  {
   "cell_type": "markdown",
   "id": "8728a80b",
   "metadata": {},
   "source": [
    "- 카이제곱 동질성 검정은 두 개 이상의 모집단에서 추출한 표본이 동질한지 여부를 검정함.\n",
    "- 주로 모집단 간의 분포 차이가 있는지를 확인하는 데 사용됨. 예를 들어, 서로 다른 지역에서 고객 만족도 조사를 했을 때, 이 지역들 간에 만족도 분포가 동일한지를 검정할 수 있음.\n",
    "- 가설\n",
    "  귀무가설(H0) : 두 개의 그룹의 각 변수에 대하여 분포가 동일하다\n",
    "  대립가설(H1) : 적어도 하나의 그룹에서 다른 분포를 가진다."
   ]
  },
  {
   "cell_type": "code",
   "execution_count": 3,
   "id": "781024b8",
   "metadata": {},
   "outputs": [
    {
     "name": "stdout",
     "output_type": "stream",
     "text": [
      "카이제곱 통계량: 1.0820212925476087\n",
      "p-값: 0.5821595975351761\n",
      "자유도: 2\n",
      "기대값 테이블:\n",
      "[[46.34146341 31.70731707 21.95121951]\n",
      " [48.65853659 33.29268293 23.04878049]]\n"
     ]
    }
   ],
   "source": [
    "import numpy as np\n",
    "from scipy.stats import chi2_contingency\n",
    "\n",
    "# 예시 데이터: 두 개 이상의 모집단에서 추출한 범주형 변수 데이터\n",
    "data = np.array([[50, 30, 20],  # 모집단 1\n",
    "                 [45, 35, 25]]) # 모집단 2\n",
    "\n",
    "# 카이제곱 동질성 검정 실행\n",
    "chi2, p, dof, expected = chi2_contingency(data)\n",
    "\n",
    "# 결과 출력\n",
    "print(\"카이제곱 통계량:\", chi2)\n",
    "print(\"p-값:\", p)\n",
    "print(\"자유도:\", dof)\n",
    "print(\"기대값 테이블:\")\n",
    "print(expected)"
   ]
  },
  {
   "cell_type": "markdown",
   "id": "7d6cab3d",
   "metadata": {},
   "source": [
    "### 맥니마 검정"
   ]
  },
  {
   "cell_type": "markdown",
   "id": "2ce0bf44",
   "metadata": {},
   "source": [
    "### 피셔의 정확확률검정"
   ]
  },
  {
   "cell_type": "markdown",
   "id": "abe5df5d",
   "metadata": {},
   "source": [
    "### 크러스컬 윌리스 검정"
   ]
  },
  {
   "cell_type": "markdown",
   "id": "7e99d385",
   "metadata": {},
   "source": [
    "### 프리드먼 검정"
   ]
  },
  {
   "cell_type": "markdown",
   "id": "93d4f0d3",
   "metadata": {},
   "source": [
    "### 맨휘트니 u검정 윌콕슨 순위합 검정"
   ]
  },
  {
   "cell_type": "markdown",
   "id": "80754878",
   "metadata": {},
   "source": [
    "### 부호검정"
   ]
  },
  {
   "cell_type": "markdown",
   "id": "fe94f07b",
   "metadata": {},
   "source": [
    "### 윌콕슨 검정"
   ]
  },
  {
   "cell_type": "markdown",
   "id": "75c2a552",
   "metadata": {},
   "source": [
    "### 코크란의 q검정"
   ]
  },
  {
   "cell_type": "markdown",
   "id": "5e313c2a",
   "metadata": {},
   "source": [
    "### Run 검정"
   ]
  },
  {
   "cell_type": "markdown",
   "id": "c2e679e9",
   "metadata": {},
   "source": [
    "### 상관분석"
   ]
  },
  {
   "cell_type": "markdown",
   "id": "305ef455",
   "metadata": {},
   "source": [
    "### 상관관계분석"
   ]
  },
  {
   "cell_type": "markdown",
   "id": "c3f3f6b2",
   "metadata": {},
   "source": [
    "### 편 상관관계분석"
   ]
  },
  {
   "cell_type": "markdown",
   "id": "0016fdbc",
   "metadata": {},
   "source": [
    "### 회귀분석"
   ]
  },
  {
   "cell_type": "markdown",
   "id": "beebf7f2",
   "metadata": {},
   "source": [
    "### 회귀모형의 기본가정"
   ]
  },
  {
   "cell_type": "markdown",
   "id": "41b66030",
   "metadata": {},
   "source": [
    "### 단순 선형 회귀"
   ]
  },
  {
   "cell_type": "markdown",
   "id": "bf508c7f",
   "metadata": {},
   "source": [
    "- 하나의 독립변수와 하나의 종속변수의 정보를 가지고 일차방정식의 계수 w, b를 찾는 과정이다.    \n",
    "  $ Y = \\beta_0 + \\beta_1X + \\varepsilon $"
   ]
  },
  {
   "cell_type": "code",
   "execution_count": 3,
   "id": "3bb38d8b",
   "metadata": {},
   "outputs": [
    {
     "name": "stdout",
     "output_type": "stream",
     "text": [
      "                            OLS Regression Results                            \n",
      "==============================================================================\n",
      "Dep. Variable:                      y   R-squared:                       0.600\n",
      "Model:                            OLS   Adj. R-squared:                  0.467\n",
      "Method:                 Least Squares   F-statistic:                     4.500\n",
      "Date:                Tue, 24 Oct 2023   Prob (F-statistic):              0.124\n",
      "Time:                        23:08:04   Log-Likelihood:                -5.2598\n",
      "No. Observations:                   5   AIC:                             14.52\n",
      "Df Residuals:                       3   BIC:                             13.74\n",
      "Df Model:                           1                                         \n",
      "Covariance Type:            nonrobust                                         \n",
      "==============================================================================\n",
      "                 coef    std err          t      P>|t|      [0.025      0.975]\n",
      "------------------------------------------------------------------------------\n",
      "const          2.2000      0.938      2.345      0.101      -0.785       5.185\n",
      "x1             0.6000      0.283      2.121      0.124      -0.300       1.500\n",
      "==============================================================================\n",
      "Omnibus:                          nan   Durbin-Watson:                   2.017\n",
      "Prob(Omnibus):                    nan   Jarque-Bera (JB):                0.570\n",
      "Skew:                           0.289   Prob(JB):                        0.752\n",
      "Kurtosis:                       1.450   Cond. No.                         8.37\n",
      "==============================================================================\n",
      "\n",
      "Notes:\n",
      "[1] Standard Errors assume that the covariance matrix of the errors is correctly specified.\n"
     ]
    },
    {
     "name": "stderr",
     "output_type": "stream",
     "text": [
      "C:\\Users\\user\\anaconda3\\Lib\\site-packages\\statsmodels\\stats\\stattools.py:74: ValueWarning: omni_normtest is not valid with less than 8 observations; 5 samples were given.\n",
      "  warn(\"omni_normtest is not valid with less than 8 observations; %i \"\n"
     ]
    },
    {
     "data": {
      "image/png": "[encoded data removed]",
      "text/plain": [
       "<Figure size 640x480 with 1 Axes>"
      ]
     },
     "metadata": {},
     "output_type": "display_data"
    }
   ],
   "source": [
    "import numpy as np\n",
    "import statsmodels.api as sm\n",
    "import matplotlib.pyplot as plt\n",
    "\n",
    "# 데이터 생성 (예를 들어, X는 입력 변수, Y는 출력 변수)\n",
    "X = np.array([1, 2, 3, 4, 5])  # 독립 변수 X\n",
    "Y = np.array([2, 4, 5, 4, 5])  # 종속 변수 Y\n",
    "\n",
    "# 상수 항(절편) 추가\n",
    "X = sm.add_constant(X)\n",
    "\n",
    "# 선형 회귀 모델 피팅\n",
    "model = sm.OLS(Y, X).fit()\n",
    "\n",
    "# 회귀분석 결과 출력\n",
    "print(model.summary())\n",
    "\n",
    "# 회귀선 시각화\n",
    "Y_pred = model.predict(X)\n",
    "plt.scatter(X[:, 1], Y, label='data')\n",
    "plt.plot(X[:, 1], Y_pred, color='red', label='line')\n",
    "plt.legend()\n",
    "plt.show()"
   ]
  },
  {
   "cell_type": "markdown",
   "id": "9bcbd503",
   "metadata": {},
   "source": [
    "### 다중 회귀"
   ]
  },
  {
   "cell_type": "markdown",
   "id": "7babd4b3",
   "metadata": {},
   "source": [
    "### 더미 변수 회귀분석"
   ]
  },
  {
   "cell_type": "markdown",
   "id": "a3520094",
   "metadata": {},
   "source": [
    "### 교호작용 유무에 다른 회귀모형"
   ]
  },
  {
   "cell_type": "markdown",
   "id": "0f84c554",
   "metadata": {},
   "source": [
    "### 시계열"
   ]
  },
  {
   "cell_type": "markdown",
   "id": "fb2aaf50",
   "metadata": {},
   "source": [
    "### 정상성"
   ]
  },
  {
   "cell_type": "markdown",
   "id": "c74e5489",
   "metadata": {},
   "source": [
    "### 잔차분석"
   ]
  },
  {
   "cell_type": "markdown",
   "id": "9cd4dcd4",
   "metadata": {},
   "source": [
    "### 시계열 분해"
   ]
  },
  {
   "cell_type": "markdown",
   "id": "82932c54",
   "metadata": {},
   "source": [
    "### 단순 이동평균 모형"
   ]
  },
  {
   "cell_type": "markdown",
   "id": "117c17a3",
   "metadata": {},
   "source": [
    "### 평균평활 모형"
   ]
  },
  {
   "cell_type": "markdown",
   "id": "531b7eb5",
   "metadata": {},
   "source": [
    "### 자기회귀 이동평균 모형"
   ]
  },
  {
   "cell_type": "markdown",
   "id": "54005256",
   "metadata": {},
   "source": [
    "### ARIMA"
   ]
  },
  {
   "cell_type": "markdown",
   "id": "ff1f934d",
   "metadata": {},
   "source": [
    "### SARIMA"
   ]
  },
  {
   "cell_type": "markdown",
   "id": "29fdce84",
   "metadata": {},
   "source": [
    "### VAR 모형"
   ]
  },
  {
   "cell_type": "markdown",
   "id": "844fc07b",
   "metadata": {},
   "source": [
    "### 전처리"
   ]
  },
  {
   "cell_type": "markdown",
   "id": "737e2a5b",
   "metadata": {},
   "source": [
    "### 판다스쿡북"
   ]
  },
  {
   "cell_type": "markdown",
   "id": "51d519eb",
   "metadata": {},
   "source": [
    "### EDA"
   ]
  },
  {
   "cell_type": "markdown",
   "id": "6d9da295",
   "metadata": {},
   "source": [
    "### info describe unique nunique isnull  quantile"
   ]
  },
  {
   "cell_type": "markdown",
   "id": "24e4f162",
   "metadata": {},
   "source": [
    "### 이상치 처리"
   ]
  },
  {
   "cell_type": "markdown",
   "id": "c3f85df3",
   "metadata": {},
   "source": [
    "### 결측치 처리"
   ]
  },
  {
   "cell_type": "markdown",
   "id": "f492f46a",
   "metadata": {},
   "source": [
    "### 클래스불균형"
   ]
  },
  {
   "cell_type": "markdown",
   "id": "9f6fa214",
   "metadata": {},
   "source": [
    "### 날짜데이터"
   ]
  },
  {
   "cell_type": "markdown",
   "id": "09c5e6ee",
   "metadata": {},
   "source": [
    "### 스케일링"
   ]
  },
  {
   "cell_type": "markdown",
   "id": "2af2d4f4",
   "metadata": {},
   "source": [
    "### 범주형 변수 인코딩"
   ]
  },
  {
   "cell_type": "markdown",
   "id": "13cae7f8",
   "metadata": {},
   "source": [
    "### 학습데이터 분리"
   ]
  },
  {
   "cell_type": "markdown",
   "id": "db9db303",
   "metadata": {},
   "source": [
    "### hold out"
   ]
  },
  {
   "cell_type": "markdown",
   "id": "a18fbfc5",
   "metadata": {},
   "source": [
    "- 기계학습 모델을 테스트하는데 사용되는 데이터 분할 및 검"
   ]
  },
  {
   "cell_type": "markdown",
   "id": "d31e4c72",
   "metadata": {},
   "source": [
    "### kfold"
   ]
  },
  {
   "cell_type": "markdown",
   "id": "7a542644",
   "metadata": {},
   "source": [
    "### 시각화"
   ]
  }
 ],
 "metadata": {
  "kernelspec": {
   "display_name": "Python 3 (ipykernel)",
   "language": "python",
   "name": "python3"
  },
  "language_info": {
   "codemirror_mode": {
    "name": "ipython",
    "version": 3
   },
   "file_extension": ".py",
   "mimetype": "text/x-python",
   "name": "python",
   "nbconvert_exporter": "python",
   "pygments_lexer": "ipython3",
   "version": "3.11.5"
  }
 },
 "nbformat": 4,
 "nbformat_minor": 5
}
