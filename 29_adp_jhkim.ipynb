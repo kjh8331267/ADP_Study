{
 "cells": [
  {
   "cell_type": "markdown",
   "id": "1e530f30",
   "metadata": {},
   "source": [
    "# 29회 ADP 복원 "
   ]
  },
  {
   "cell_type": "code",
   "execution_count": 21,
   "id": "84eb04fd",
   "metadata": {},
   "outputs": [],
   "source": [
    "import pandas as pd\n",
    "import numpy as np\n",
    "import scipy.stats as stats\n",
    "import matplotlib.pyplot as plt\n",
    "import seaborn as sns\n",
    "from collections import Counter\n",
    "from scipy.stats import norm\n",
    "\n",
    "\n",
    "import warnings\n",
    "warnings.filterwarnings('ignore')"
   ]
  },
  {
   "cell_type": "markdown",
   "id": "d0c9251b",
   "metadata": {},
   "source": [
    "# 기계학습 (60점)"
   ]
  },
  {
   "cell_type": "markdown",
   "id": "435ce658",
   "metadata": {},
   "source": [
    "## 데이터 설명\n",
    "- 데이터 출처 : https://www.data.go.kr/data/15094266/fileData.do 후처리\n",
    "- 데이터 링크 : https://raw.githubusercontent.com/Datamanim/datarepo/main/adp/29/p1.csv\n",
    "- 데이터 설명 : 대구도시공사_빅데이터_영구임대아파트 입주자 퇴거여부 데이터, 고유번호를 가진 계약자와 특정 아파트에 대해 매년 퇴거여부를 기록한 데이터"
   ]
  },
  {
   "cell_type": "code",
   "execution_count": 3,
   "id": "3ad5d3bb",
   "metadata": {},
   "outputs": [
    {
     "data": {
      "text/html": [
       "<div>\n",
       "<style scoped>\n",
       "    .dataframe tbody tr th:only-of-type {\n",
       "        vertical-align: middle;\n",
       "    }\n",
       "\n",
       "    .dataframe tbody tr th {\n",
       "        vertical-align: top;\n",
       "    }\n",
       "\n",
       "    .dataframe thead th {\n",
       "        text-align: right;\n",
       "    }\n",
       "</style>\n",
       "<table border=\"1\" class=\"dataframe\">\n",
       "  <thead>\n",
       "    <tr style=\"text-align: right;\">\n",
       "      <th></th>\n",
       "      <th>순번</th>\n",
       "      <th>계약구분</th>\n",
       "      <th>재계약횟수</th>\n",
       "      <th>거주개월</th>\n",
       "      <th>아파트 이름</th>\n",
       "      <th>아파트 ID</th>\n",
       "      <th>아파트 평점</th>\n",
       "      <th>호실고유번호</th>\n",
       "      <th>층</th>\n",
       "      <th>평형대</th>\n",
       "      <th>계약자고유번호</th>\n",
       "      <th>계약서고유번호</th>\n",
       "      <th>입주연도</th>\n",
       "      <th>퇴거연도</th>\n",
       "      <th>거주연도</th>\n",
       "      <th>월세(원)</th>\n",
       "      <th>보증금(원)</th>\n",
       "      <th>대표나이</th>\n",
       "      <th>나이</th>\n",
       "      <th>성별</th>\n",
       "      <th>결혼여부</th>\n",
       "      <th>거주자 수</th>\n",
       "      <th>퇴거여부</th>\n",
       "    </tr>\n",
       "  </thead>\n",
       "  <tbody>\n",
       "    <tr>\n",
       "      <th>0</th>\n",
       "      <td>1</td>\n",
       "      <td>유효</td>\n",
       "      <td>10</td>\n",
       "      <td>222</td>\n",
       "      <td>강남아파트</td>\n",
       "      <td>5</td>\n",
       "      <td>7.0</td>\n",
       "      <td>14520</td>\n",
       "      <td>1</td>\n",
       "      <td>12</td>\n",
       "      <td>15468</td>\n",
       "      <td>15865</td>\n",
       "      <td>2003</td>\n",
       "      <td>NaN</td>\n",
       "      <td>2008</td>\n",
       "      <td>47100</td>\n",
       "      <td>3646000</td>\n",
       "      <td>46</td>\n",
       "      <td>33</td>\n",
       "      <td>남</td>\n",
       "      <td>미혼</td>\n",
       "      <td>3</td>\n",
       "      <td>미퇴거</td>\n",
       "    </tr>\n",
       "    <tr>\n",
       "      <th>1</th>\n",
       "      <td>1</td>\n",
       "      <td>유효</td>\n",
       "      <td>10</td>\n",
       "      <td>222</td>\n",
       "      <td>강남아파트</td>\n",
       "      <td>5</td>\n",
       "      <td>7.0</td>\n",
       "      <td>14520</td>\n",
       "      <td>1</td>\n",
       "      <td>12</td>\n",
       "      <td>15468</td>\n",
       "      <td>15865</td>\n",
       "      <td>2003</td>\n",
       "      <td>NaN</td>\n",
       "      <td>2009</td>\n",
       "      <td>56500</td>\n",
       "      <td>4375000</td>\n",
       "      <td>46</td>\n",
       "      <td>34</td>\n",
       "      <td>남</td>\n",
       "      <td>미혼</td>\n",
       "      <td>3</td>\n",
       "      <td>미퇴거</td>\n",
       "    </tr>\n",
       "    <tr>\n",
       "      <th>2</th>\n",
       "      <td>1</td>\n",
       "      <td>유효</td>\n",
       "      <td>10</td>\n",
       "      <td>222</td>\n",
       "      <td>강남아파트</td>\n",
       "      <td>5</td>\n",
       "      <td>7.0</td>\n",
       "      <td>14520</td>\n",
       "      <td>1</td>\n",
       "      <td>12</td>\n",
       "      <td>15468</td>\n",
       "      <td>15865</td>\n",
       "      <td>2003</td>\n",
       "      <td>NaN</td>\n",
       "      <td>2010</td>\n",
       "      <td>56500</td>\n",
       "      <td>4375000</td>\n",
       "      <td>46</td>\n",
       "      <td>35</td>\n",
       "      <td>남</td>\n",
       "      <td>미혼</td>\n",
       "      <td>3</td>\n",
       "      <td>미퇴거</td>\n",
       "    </tr>\n",
       "    <tr>\n",
       "      <th>3</th>\n",
       "      <td>1</td>\n",
       "      <td>유효</td>\n",
       "      <td>10</td>\n",
       "      <td>222</td>\n",
       "      <td>강남아파트</td>\n",
       "      <td>5</td>\n",
       "      <td>7.0</td>\n",
       "      <td>14520</td>\n",
       "      <td>1</td>\n",
       "      <td>12</td>\n",
       "      <td>15468</td>\n",
       "      <td>15865</td>\n",
       "      <td>2003</td>\n",
       "      <td>NaN</td>\n",
       "      <td>2011</td>\n",
       "      <td>69900</td>\n",
       "      <td>5408000</td>\n",
       "      <td>46</td>\n",
       "      <td>36</td>\n",
       "      <td>남</td>\n",
       "      <td>미혼</td>\n",
       "      <td>3</td>\n",
       "      <td>미퇴거</td>\n",
       "    </tr>\n",
       "    <tr>\n",
       "      <th>4</th>\n",
       "      <td>1</td>\n",
       "      <td>유효</td>\n",
       "      <td>10</td>\n",
       "      <td>222</td>\n",
       "      <td>강남아파트</td>\n",
       "      <td>5</td>\n",
       "      <td>7.0</td>\n",
       "      <td>14520</td>\n",
       "      <td>1</td>\n",
       "      <td>12</td>\n",
       "      <td>15468</td>\n",
       "      <td>15865</td>\n",
       "      <td>2003</td>\n",
       "      <td>NaN</td>\n",
       "      <td>2012</td>\n",
       "      <td>69900</td>\n",
       "      <td>5408000</td>\n",
       "      <td>46</td>\n",
       "      <td>37</td>\n",
       "      <td>남</td>\n",
       "      <td>미혼</td>\n",
       "      <td>3</td>\n",
       "      <td>미퇴거</td>\n",
       "    </tr>\n",
       "  </tbody>\n",
       "</table>\n",
       "</div>"
      ],
      "text/plain": [
       "   순번 계약구분  재계약횟수  거주개월 아파트 이름  아파트 ID  아파트 평점  호실고유번호  층  평형대  계약자고유번호  \\\n",
       "0   1   유효     10   222  강남아파트       5     7.0   14520  1   12    15468   \n",
       "1   1   유효     10   222  강남아파트       5     7.0   14520  1   12    15468   \n",
       "2   1   유효     10   222  강남아파트       5     7.0   14520  1   12    15468   \n",
       "3   1   유효     10   222  강남아파트       5     7.0   14520  1   12    15468   \n",
       "4   1   유효     10   222  강남아파트       5     7.0   14520  1   12    15468   \n",
       "\n",
       "   계약서고유번호  입주연도  퇴거연도  거주연도  월세(원)   보증금(원)  대표나이  나이 성별 결혼여부  거주자 수 퇴거여부  \n",
       "0    15865  2003   NaN  2008  47100  3646000    46  33  남   미혼      3  미퇴거  \n",
       "1    15865  2003   NaN  2009  56500  4375000    46  34  남   미혼      3  미퇴거  \n",
       "2    15865  2003   NaN  2010  56500  4375000    46  35  남   미혼      3  미퇴거  \n",
       "3    15865  2003   NaN  2011  69900  5408000    46  36  남   미혼      3  미퇴거  \n",
       "4    15865  2003   NaN  2012  69900  5408000    46  37  남   미혼      3  미퇴거  "
      ]
     },
     "execution_count": 3,
     "metadata": {},
     "output_type": "execute_result"
    }
   ],
   "source": [
    "#encoding = ['utf-8','cp949','utf-8-sig','euc-kr','latin']\n",
    "df =pd.read_csv('https://raw.githubusercontent.com/Datamanim/datarepo/main/adp/29/p1.csv',encoding= 'cp949')\n",
    "df.head()"
   ]
  },
  {
   "cell_type": "markdown",
   "id": "c9373a22",
   "metadata": {},
   "source": [
    "## 1-1  계약자고유번호를 기준으로 거주연도 별 여러개의 데이터가 쌓여 있다. 각 계약자고유번호에 대해 가장 최신의 거주연도 행만 남겨라."
   ]
  },
  {
   "cell_type": "code",
   "execution_count": null,
   "id": "a1d83940",
   "metadata": {},
   "outputs": [],
   "source": [
    "aa"
   ]
  },
  {
   "cell_type": "markdown",
   "id": "4bd74ff9",
   "metadata": {},
   "source": [
    "## 1-2 결측치 처리"
   ]
  },
  {
   "cell_type": "code",
   "execution_count": null,
   "id": "8e041c2d",
   "metadata": {},
   "outputs": [],
   "source": []
  },
  {
   "cell_type": "markdown",
   "id": "0265da78",
   "metadata": {},
   "source": [
    "## 1-3 이상치 처리"
   ]
  },
  {
   "cell_type": "code",
   "execution_count": null,
   "id": "43443f03",
   "metadata": {},
   "outputs": [],
   "source": []
  },
  {
   "cell_type": "markdown",
   "id": "36befdb1",
   "metadata": {},
   "source": [
    "## 2-1 재계약 횟수의 중앙값을 기준으로 중앙값보다 크거나 같으면 '높음', 작으면 '낮음' 으로 재계약 횟수 이분 변수를 구성하시오."
   ]
  },
  {
   "cell_type": "code",
   "execution_count": null,
   "id": "cff5898e",
   "metadata": {},
   "outputs": [],
   "source": []
  },
  {
   "cell_type": "markdown",
   "id": "0b465a8e",
   "metadata": {},
   "source": [
    "## 2-2 차원축소의 필요성을 논하고, 필요에 따라 차원을 축소하고 불필요하다면 그 근거를 논하시오."
   ]
  },
  {
   "cell_type": "code",
   "execution_count": null,
   "id": "1aa41c18",
   "metadata": {},
   "outputs": [],
   "source": []
  },
  {
   "cell_type": "markdown",
   "id": "a50e03d7",
   "metadata": {},
   "source": [
    "## 3-1 재계약 횟수 이분변수를 기준으로 세그먼트를 구분하고 각 세그먼트의 특징을 분석하시오."
   ]
  },
  {
   "cell_type": "code",
   "execution_count": null,
   "id": "beb1cd7b",
   "metadata": {},
   "outputs": [],
   "source": []
  },
  {
   "cell_type": "markdown",
   "id": "7c145d8f",
   "metadata": {},
   "source": [
    "## 3-2. 재계약횟수 변수를 종속변수로 하는 회귀 분석을 두 가지 이상의 방법론을 통해 수행하고 최종 모델을 결정하시오. 재계약횟수 이분변수를 종속변수로 하는 분류 분석을 두가지 이상의 방법론을 통해 수행하고 최종 모델을 결정하시오. "
   ]
  },
  {
   "cell_type": "code",
   "execution_count": null,
   "id": "102899ef",
   "metadata": {},
   "outputs": [],
   "source": []
  },
  {
   "cell_type": "markdown",
   "id": "0384e775",
   "metadata": {},
   "source": [
    "## 3-3 최종 채택한 모델에서 각각 유의하게 작용하는 변수를 확인 하고 설명하시오"
   ]
  },
  {
   "cell_type": "code",
   "execution_count": null,
   "id": "f38d5be9",
   "metadata": {},
   "outputs": [],
   "source": []
  },
  {
   "cell_type": "markdown",
   "id": "c8f2a882",
   "metadata": {},
   "source": [
    "## 3-4 해당 데이터 분석결과로 얻을 수 있는 점 제시"
   ]
  },
  {
   "cell_type": "code",
   "execution_count": null,
   "id": "db62ba6c",
   "metadata": {},
   "outputs": [],
   "source": []
  },
  {
   "cell_type": "markdown",
   "id": "c684b36a",
   "metadata": {},
   "source": [
    "## 데이터 설명\n",
    "- 데이터 출처 : https://www.kaggle.com/datasets/pschale/mlb-pitch-data-20152018 데이터를 후처리\n",
    "- 데이터 링크 : https://raw.githubusercontent.com/Datamanim/datarepo/main/adp/29/p2_.csv\n",
    "- 데이터 설명 : \n",
    "\n",
    "A 야구구단의 시합 결과중 일부를 나타낸다.    \n",
    "각 행은 하나의 경기를 의미(game_id)하며 9회차(= 9이닝) 동안 1번타자, 2번타자의 출루 정보를 의미한다.     \n",
    "각 컬럼에 대한 설명은 아래 이미지와 같으며, value값의 index는 이미지의 '수치 의미' 열을 통해 확인 할 수 있다.\n"
   ]
  },
  {
   "cell_type": "markdown",
   "id": "dbd91d8b",
   "metadata": {},
   "source": [
    "<img src=\"https://github.com/Datamanim/datarepo/blob/main/adp/29/p1_img.png?raw=true\" width=\"500\" height=\"600\">"
   ]
  },
  {
   "cell_type": "markdown",
   "id": "1bc6f69c",
   "metadata": {},
   "source": [
    "## 4-1 각 회차별로 1번 타자의 출루 (1,2,3루타와 사사구(볼넷, 몸에맞는공))가 있는 경우에 대해 득점이 발생 했는지 확인하고자 한다. 이를 위한 전처리를 수행하라. (단, 첫 번째 혹은 두 번째 타자가 홈런을 친 경우 해당 회차 데이터는 제외한다.)     \n",
    "\n",
    "조건1 : 득점여부를 범주형 종속변수로 한다. (1점이상 득점 :1, 무득점 :0)     \n",
    "조건2 : 각 회차 2번 타자의 데이터는 원핫 인코딩한다.    \n",
    "조건3 : 학습에 적절하지 않은 데이터는 제외한다.    "
   ]
  },
  {
   "cell_type": "markdown",
   "id": "9e1cab9f",
   "metadata": {},
   "source": [
    "제가 이해하고 의도한 29회 4-1번 문제에 대한 가이드 입니다.\n",
    "(4-1) 전처리 가이드\n",
    "1. 첫타자와 둘째타자의 각 이닝별 출루현황, 해당 이닝의 득점수를 3columns의 데이터로 변환\n",
    "2. 정수형 값이 아닌 데이터 행를 제거\n",
    "3. 홈런 (4)값을 가지는 행을 제거\n",
    "4. 이닝별 점수를 binary로 변환 (득점 있으면 1 ,없으면 0 )\n",
    "5. 둘째 타자 출루 결과를 one-hot encoding"
   ]
  },
  {
   "cell_type": "code",
   "execution_count": null,
   "id": "970bf8d6",
   "metadata": {},
   "outputs": [],
   "source": []
  },
  {
   "cell_type": "markdown",
   "id": "d95f4e52",
   "metadata": {},
   "source": [
    "## 4-2 4-1 데이터에 대해 Logistic Regression을 적용하고 2번타자의 희생번트 여부에 대한 회귀 계수 검정을 하라"
   ]
  },
  {
   "cell_type": "code",
   "execution_count": null,
   "id": "bff31238",
   "metadata": {},
   "outputs": [],
   "source": []
  },
  {
   "cell_type": "markdown",
   "id": "ced79c7b",
   "metadata": {},
   "source": [
    "## 4-3 SMOTE (random_state =0 지정)를 적용하여 data imbalance를 해결하라"
   ]
  },
  {
   "cell_type": "code",
   "execution_count": null,
   "id": "bd49fc09",
   "metadata": {},
   "outputs": [],
   "source": []
  },
  {
   "cell_type": "markdown",
   "id": "0b20a303",
   "metadata": {},
   "source": [
    "## 4-4 4-3 구성 데이터에 Logistic Regression을 적용하고 결과를 분석하라"
   ]
  },
  {
   "cell_type": "code",
   "execution_count": null,
   "id": "d140a98f",
   "metadata": {},
   "outputs": [],
   "source": []
  },
  {
   "cell_type": "markdown",
   "id": "9b6327dc",
   "metadata": {},
   "source": [
    "## 4-5 4-3 구성 데이터에 XGB 적용하고 결과를 분석하라"
   ]
  },
  {
   "cell_type": "code",
   "execution_count": null,
   "id": "ce7bc8d1",
   "metadata": {},
   "outputs": [],
   "source": []
  },
  {
   "cell_type": "markdown",
   "id": "526e7015",
   "metadata": {},
   "source": [
    "# 통계 (40점)"
   ]
  },
  {
   "cell_type": "markdown",
   "id": "862751b7",
   "metadata": {},
   "source": [
    "## 5. 제품 A의 불량률은 0.03이다. 25개의 제품을 뽑았을 때 3개가 불량일 확률을 구하시오. (소수점 다섯 째 자리에서 반올림)"
   ]
  },
  {
   "cell_type": "code",
   "execution_count": 2,
   "id": "34befc2e",
   "metadata": {},
   "outputs": [
    {
     "name": "stdout",
     "output_type": "stream",
     "text": [
      "25개의 제품을 뽑았을 때 3개가 불량일 확률은 0.031774이다\n"
     ]
    }
   ],
   "source": [
    "from scipy.stats import binom\n",
    "print('25개의 제품을 뽑았을 때 3개가 불량일 확률은 {:5f}이다'.\n",
    "      format(binom.pmf(3, 25, 0.03)))"
   ]
  },
  {
   "cell_type": "markdown",
   "id": "884a2cee",
   "metadata": {},
   "source": [
    "## 6. C사 생산 제품 1000개 중 양품이 600개, D사 생산 제품 500개 중 양품이 200개 이다. 두 회사의 양품률에 차이가 있는지 검정하여라."
   ]
  },
  {
   "cell_type": "code",
   "execution_count": 15,
   "id": "7f7d69a4",
   "metadata": {},
   "outputs": [
    {
     "name": "stdout",
     "output_type": "stream",
     "text": [
      "임계값: 1.959963984540054, 검정통계량: 7.319250547113997\n",
      "유의수준: 0.050, 유의확률: 0.00000\n",
      "신뢰구간: 0.146~0.254, 검정하고자 하는 값: 0.000\n"
     ]
    }
   ],
   "source": [
    "p1 = 0.6\n",
    "p2 = 0.4\n",
    "n1 = 1000\n",
    "n2 = 500\n",
    "\n",
    "conf_a = 0.05\n",
    "test_a = 0.05\n",
    "\n",
    "d0 = 0\n",
    "d - p1-p2\n",
    "pe = (n1*p1+ n2*p2) / (n1+n2) # pooled esimate\n",
    "SE2 = np.sqrt( pe*(1-pe)*(1/n1+1/n2)) # 합동 분산을 사용한 SE\n",
    "zstat = d / SE2 # 검정통계량\n",
    "\n",
    "conf_z = norm.ppf(1-conf_a/2)\n",
    "ME2 = conf_z * SE2 # 오차의 한계\n",
    "\n",
    "sp = (1-norm.cdf(np.abs(zstat)))*2\n",
    "cv = norm.ppf(1-test_a/2)\n",
    "print('임계값: {}, 검정통계량: {}'.format(cv, zstat))\n",
    "print('유의수준: {:.3f}, 유의확률: {:.5f}'.format(test_a, sp))\n",
    "print('신뢰구간: {:.3f}~{:.3f}, 검정하고자 하는 값: {:.3f}'.\n",
    "     format(d-ME2, d+ME2, d0))"
   ]
  },
  {
   "cell_type": "markdown",
   "id": "303a8e43",
   "metadata": {},
   "source": [
    "#### [답안] 18분\n",
    "- 귀무가설 : 모비율의 차는 0이다.\n",
    "- 대립가설 : 모비율의 차는 0이 아니다.\n",
    "- 유의수준이 유의확률(0.05)보다 작으므로 귀무가설을 기각한다. 모비율의 차는 0이 아니다. 두 회사의 양품률에는 차이가 있다."
   ]
  },
  {
   "cell_type": "markdown",
   "id": "c7a58e3e",
   "metadata": {},
   "source": [
    "## 7. 아래 데이터는 a,b,c,d 네 차종 각각 5회 실험 시 범퍼 파손 정도 이다. (단, 각 모집단은 정규분포를 따르며 모집단 간 등분산성을 가정한다.)"
   ]
  },
  {
   "cell_type": "markdown",
   "id": "f8b5ffa3",
   "metadata": {},
   "source": [
    "dataurl : https://raw.githubusercontent.com/Datamanim/datarepo/main/adp/29/p7.csv"
   ]
  },
  {
   "cell_type": "markdown",
   "id": "3036536d",
   "metadata": {},
   "source": [
    "### 7-1. 각 차종 별 범퍼 파손의 정도에 차이가 유의한지 검정하라."
   ]
  },
  {
   "cell_type": "code",
   "execution_count": 24,
   "id": "ddf1342d",
   "metadata": {
    "scrolled": true
   },
   "outputs": [
    {
     "data": {
      "text/plain": [
       "F_onewayResult(statistic=24.97695307518529, pvalue=2.8174779556216382e-06)"
      ]
     },
     "execution_count": 24,
     "metadata": {},
     "output_type": "execute_result"
    }
   ],
   "source": [
    "import pandas as pd\n",
    "df= pd.read_csv('https://raw.githubusercontent.com/Datamanim/datarepo/main/adp/29/p7.csv')\n",
    "stats.f_oneway(df.loc[df.name=='A','ratio'], df.loc[df.name=='B','ratio'],\n",
    "               df.loc[df.name=='C','ratio'], df.loc[df.name=='D','ratio'])"
   ]
  },
  {
   "cell_type": "markdown",
   "id": "24ea2509",
   "metadata": {},
   "source": [
    "#### [답변]\n",
    "- 귀무가설 : 각 차종별 범퍼 파손의 정도에 차이가 없다.\n",
    "- 연구가설 : 적어도 하나의 차종의 범퍼 파손의 정도에 차이가 있다.\n",
    "- 통계량 24.977, 유의확률(pvalue) 2.817로 유의수준 0.05보다 크므로 귀무가설을 채택한다."
   ]
  },
  {
   "cell_type": "markdown",
   "id": "85e74e58",
   "metadata": {},
   "source": [
    "### 7-2 귀무가설을 채택한다면 그 의미를 해석하고, 귀무가설을 기각하였다면 사후분석을 시행하라."
   ]
  },
  {
   "cell_type": "markdown",
   "id": "63c85a73",
   "metadata": {},
   "source": [
    "#### [답변]\n",
    "- 귀무가설을 채택하는데, 각 차종별 범퍼 파손의 정도에 차이가 없다는 것을 의미한다."
   ]
  },
  {
   "cell_type": "markdown",
   "id": "5d94251d",
   "metadata": {},
   "source": [
    "## 8. L1,L2,L3 세 개의 생산라인에서 각각 13%, 37%, 50%를 생산하며 각각 1.1% , 2.1%, 3.3% 불량률을 갖는다. 불량 제품이 나왔을 때 L1 라인에서 생산되었을 확률을 구하시오. (소수점 둘째자리에서 반올림)"
   ]
  },
  {
   "cell_type": "code",
   "execution_count": 27,
   "id": "1b3f1ed4",
   "metadata": {},
   "outputs": [
    {
     "name": "stdout",
     "output_type": "stream",
     "text": [
      "[답안]\n",
      "불량 제품이 나왔을 때 L1 라인에서 생산되었을 확률은 0.056입니다.\n"
     ]
    }
   ],
   "source": [
    "# P(L1|불량) = P(L1∩불량) / P(불량)\n",
    "\n",
    "# P(L1) = 0.13\n",
    "# P(L2) = 0.37\n",
    "# P(L3) = 0.5\n",
    "\n",
    "# P(불량|L1) = 0.011\n",
    "# P(불량|L2) = 0.021\n",
    "# P(불량|L3) = 0.033\n",
    "\n",
    "# P(불량) = P(L1∩불량)      + P(L2∩불량)      + P(L3∩불량) \n",
    "#         = P(불량|L1)*P(L1) + P(불량|L2)*P(L2) + P(불량|L3)*P(L3)\n",
    "L1_불량 = 0.011*0.13\n",
    "불량 = 0.011*0.13 + 0.021*0.37 + 0.033*0.5\n",
    "\n",
    "print('[답안]')\n",
    "print('불량 제품이 나왔을 때 L1 라인에서 생산되었을 확률은 {:.3f}입니다.'.\n",
    "      format(L1_불량/불량))"
   ]
  },
  {
   "cell_type": "markdown",
   "id": "491174a1",
   "metadata": {},
   "source": [
    "- (24분 소요)"
   ]
  },
  {
   "cell_type": "markdown",
   "id": "3d6834a0",
   "metadata": {},
   "source": [
    "created by datamanim [web-link](https://www.datamanim.com)"
   ]
  },
  {
   "cell_type": "markdown",
   "id": "2332fe2e",
   "metadata": {},
   "source": [
    "#### 끝. 10페이지"
   ]
  }
 ],
 "metadata": {
  "kernelspec": {
   "display_name": "Python 3 (ipykernel)",
   "language": "python",
   "name": "python3"
  },
  "language_info": {
   "codemirror_mode": {
    "name": "ipython",
    "version": 3
   },
   "file_extension": ".py",
   "mimetype": "text/x-python",
   "name": "python",
   "nbconvert_exporter": "python",
   "pygments_lexer": "ipython3",
   "version": "3.11.5"
  }
 },
 "nbformat": 4,
 "nbformat_minor": 5
}
