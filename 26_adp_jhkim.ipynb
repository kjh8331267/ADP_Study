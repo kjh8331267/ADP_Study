{
 "cells": [
  {
   "cell_type": "markdown",
   "id": "0a308b4f",
   "metadata": {},
   "source": [
    "# ADP 26회 실기 문제"
   ]
  },
  {
   "cell_type": "code",
   "execution_count": 157,
   "id": "e1c03b8e",
   "metadata": {},
   "outputs": [],
   "source": [
    "import pandas as pd\n",
    "import numpy as np\n",
    "import scipy as stats\n",
    "import matplotlib.pyplot as plt\n",
    "import seaborn as sns\n",
    "from collections import Counter\n",
    "import datetime as dt\n",
    "import time\n",
    "\n",
    "from sklearn.preprocessing import StandardScaler\n",
    "from sklearn.cluster import KMeans\n",
    "\n",
    "import warnings\n",
    "warnings.filterwarnings('ignore')"
   ]
  },
  {
   "cell_type": "markdown",
   "id": "e7116d9d",
   "metadata": {},
   "source": [
    "# 머신러닝 - 데이터 설명\n",
    "- 데이터 설명\n",
    "    - InvoiceNo: Invoice number. Nominal, a 6-digit integral number uniquely assigned to each transaction. If this code starts with letter 'c', it indicates a cancellation.     \n",
    "    - StockCode: Product (item) code. Nominal, a 5-digit integral number uniquely assigned to each distinct product.     \n",
    "    - Description: Product (item) name. Nominal.    \n",
    "    - Quantity: The quantities of each product (item) per transaction. Numeric.     \n",
    "    - InvoiceDate: Invice Date and time. Numeric, the day and time when each transaction was generated.   \n",
    "    - UnitPrice: Unit price. Numeric, Product price per unit in sterling.    \n",
    "    - CustomerID: Customer number. Nominal, a 5-digit integral number uniquely assigned to each customer.     \n",
    "    - Country: Country name. Nominal, the name of the country where each customer resides.  \n",
    "    \n",
    "- 출처 : - https://archive.ics.uci.edu/ml/index.phpm\n",
    "- 데이터url : https://raw.githubusercontent.com/Datamanim/datarepo/main/adp/26/problem1.csv"
   ]
  },
  {
   "cell_type": "code",
   "execution_count": 195,
   "id": "27575d52",
   "metadata": {},
   "outputs": [],
   "source": [
    "import pandas as pd\n",
    "df= pd.read_csv('https://raw.githubusercontent.com/Datamanim/datarepo/main/adp/26/problem1.csv')"
   ]
  },
  {
   "cell_type": "markdown",
   "id": "b2a4f16a",
   "metadata": {},
   "source": [
    "## 문제1.1 \n",
    "결측치를 확인 하고, 결측치 제거 또는 대치하고 방법에 대해 설명하라"
   ]
  },
  {
   "cell_type": "code",
   "execution_count": 116,
   "id": "d9751e2b",
   "metadata": {
    "scrolled": true
   },
   "outputs": [
    {
     "data": {
      "text/plain": [
       "Quantity     25\n",
       "UnitPrice    97\n",
       "dtype: int64"
      ]
     },
     "metadata": {},
     "output_type": "display_data"
    },
    {
     "data": {
      "text/plain": [
       "Quantity     0.069830\n",
       "UnitPrice    0.270942\n",
       "dtype: float64"
      ]
     },
     "metadata": {},
     "output_type": "display_data"
    },
    {
     "name": "stdout",
     "output_type": "stream",
     "text": [
      "(35801, 8)\n",
      "(35776, 8)\n"
     ]
    }
   ],
   "source": [
    "display(df.head(3))\n",
    "# 결측처리 전\n",
    "display(df.isna().sum()[df.isna().sum() >0])\n",
    "display(df.isna().sum()[df.isna().sum() >0]*100/df.shape[0])\n",
    "print(df.shape)\n",
    "# UniPrice 결측처리\n",
    "# 상품 코드가 같은 것들의 unit price의 최빈값으로 결측처리\n",
    "# 참고할만한 상품코드의 unit price이 없다면 전체 최빈값으로 결측처리함\n",
    "sc_na_up = list(df.loc[df.UnitPrice.isna(),'StockCode'].unique())\n",
    "for sc in sc_na_up:\n",
    "    same_sc_up = df.loc[df.StockCode == str(sc), 'UnitPrice']\n",
    "    if len(same_sc_up) - sum(same_sc_up.isna()) > 0:\n",
    "        mode = df.loc[df.StockCode == str(sc), 'UnitPrice'].mode()[0].copy()\n",
    "        df.loc[(df.StockCode == sc)&df.UnitPrice.isna(), 'UnitPrice'] = mode\n",
    "    else:\n",
    "        mode = df.loc[:, 'UnitPrice'].mode()[0].copy()\n",
    "        df.loc[(df.StockCode == sc)&df.UnitPrice.isna(), 'UnitPrice'] = mode\n",
    "        \n",
    "# Quantity 결측은 최빈값으로 처리\n",
    "# df.loc[df.Quantity.isna(), 'Quantity'] = mode\n",
    "df = df.drop(df.loc[df.Quantity.isna(),:].index, axis = 0)\n",
    "print(df.shape)"
   ]
  },
  {
   "cell_type": "markdown",
   "id": "b3ce2cd7",
   "metadata": {},
   "source": [
    "#### [답안] (31분)\n",
    "- 결측치가 있는 변수는 Quantity와 UnitPrice이다. 결측률은 둘 모두 1%가 되지 않는다. \n",
    "- UnitPrice는 데이터 특성상 StockCode가 같으면 같은 UnitPrice를 가지기 때문에 StockCode의 UnitPrice의 최빈값으로 결측처리를 하였고 참고할만 것들이 없다면 전체 최빈값으로 처리하였다.\n",
    "- Quntity의 경우는 참고할만한 데이터가 없고 결측률이 매우 낮기 때문에 25건에 대해 삭제처리하였다."
   ]
  },
  {
   "cell_type": "markdown",
   "id": "0c21081e",
   "metadata": {},
   "source": [
    "## 문제1.2 \n",
    "이상치를 제거하는 방법을 설명하고, 이상치 제거 전 후 결과에 대해 통계적인 방법을 포함하여 설명할 것"
   ]
  },
  {
   "cell_type": "code",
   "execution_count": 117,
   "id": "f340a661",
   "metadata": {},
   "outputs": [
    {
     "data": {
      "image/png": "[encoded data removed]",
      "text/plain": [
       "<Figure size 600x300 with 2 Axes>"
      ]
     },
     "metadata": {},
     "output_type": "display_data"
    },
    {
     "name": "stdout",
     "output_type": "stream",
     "text": [
      "이상치 처리 전 건수:  (35776, 8)\n",
      "이상치 처리 후 건수:  (35772, 8)\n"
     ]
    }
   ],
   "source": [
    "# 이상치 식별\n",
    "fig, axs = plt.subplots(1,2, figsize = (2*3, 1*3))\n",
    "axs = axs.reshape(1, -1)\n",
    "sns.boxplot(y = 'Quantity', data = df, ax = axs[0,0])\n",
    "sns.boxplot(y = 'UnitPrice', data = df, ax = axs[0,1])\n",
    "plt.tight_layout()\n",
    "plt.show()\n",
    "print('이상치 처리 전 건수: ', df.shape)\n",
    "\n",
    "# 이상치 처리\n",
    "del_idx = []\n",
    "del_idx.extend(list(df[df.Quantity > 2000].index))\n",
    "del_idx.extend(list(df[df.UnitPrice > 3000].index))\n",
    "df = df.drop(del_idx, axis = 0)\n",
    "\n",
    "print('이상치 처리 후 건수: ', df.shape)\n"
   ]
  },
  {
   "cell_type": "markdown",
   "id": "6aed68f4",
   "metadata": {},
   "source": [
    "#### [답안] (20분)\n",
    "- 먼저, 이상치를 식별부터 해야하는데 대표적인 방법으로 IQR방식이 있다. boxplot의 이상치 결정 방법을 그대로 이용하는 것인데 상황에 따라 아주 많은 데이터를 이상치로 간주할 위험이 있다. 데이터가 그러한 경우로 IQR방식이 아닌 boxplot를 확인하여 기준을 세워 크게 벗어난 데이터를 삭제한다. 그 결과 4건의 이상치가 삭제되었다."
   ]
  },
  {
   "cell_type": "markdown",
   "id": "1c59c076",
   "metadata": {},
   "source": [
    "## 문제1.3 \n",
    "각 StockCode을 기준으로 파생변수들을 만들고 제품들의 특성에 따른 군집 생성을 위한 전처리를 수행하라. "
   ]
  },
  {
   "cell_type": "code",
   "execution_count": 174,
   "id": "5e9fdf14",
   "metadata": {},
   "outputs": [
    {
     "data": {
      "text/html": [
       "<div>\n",
       "<style scoped>\n",
       "    .dataframe tbody tr th:only-of-type {\n",
       "        vertical-align: middle;\n",
       "    }\n",
       "\n",
       "    .dataframe tbody tr th {\n",
       "        vertical-align: top;\n",
       "    }\n",
       "\n",
       "    .dataframe thead th {\n",
       "        text-align: right;\n",
       "    }\n",
       "</style>\n",
       "<table border=\"1\" class=\"dataframe\">\n",
       "  <thead>\n",
       "    <tr style=\"text-align: right;\">\n",
       "      <th></th>\n",
       "      <th>StockCode</th>\n",
       "      <th>Price_count</th>\n",
       "      <th>Price_mean</th>\n",
       "      <th>Price_sum</th>\n",
       "      <th>Quantity_mean</th>\n",
       "      <th>Quantity_sum</th>\n",
       "      <th>UnitPrice_mean</th>\n",
       "    </tr>\n",
       "  </thead>\n",
       "  <tbody>\n",
       "    <tr>\n",
       "      <th>0</th>\n",
       "      <td>10002</td>\n",
       "      <td>12</td>\n",
       "      <td>35.933333</td>\n",
       "      <td>431.20</td>\n",
       "      <td>35.083333</td>\n",
       "      <td>421.0</td>\n",
       "      <td>0.850000</td>\n",
       "    </tr>\n",
       "    <tr>\n",
       "      <th>1</th>\n",
       "      <td>10120</td>\n",
       "      <td>1</td>\n",
       "      <td>10.210000</td>\n",
       "      <td>10.21</td>\n",
       "      <td>10.000000</td>\n",
       "      <td>10.0</td>\n",
       "      <td>0.210000</td>\n",
       "    </tr>\n",
       "    <tr>\n",
       "      <th>2</th>\n",
       "      <td>10125</td>\n",
       "      <td>13</td>\n",
       "      <td>47.673846</td>\n",
       "      <td>619.76</td>\n",
       "      <td>46.923077</td>\n",
       "      <td>610.0</td>\n",
       "      <td>0.750769</td>\n",
       "    </tr>\n",
       "  </tbody>\n",
       "</table>\n",
       "</div>"
      ],
      "text/plain": [
       "  StockCode  Price_count  Price_mean  Price_sum  Quantity_mean  Quantity_sum  \\\n",
       "0     10002           12   35.933333     431.20      35.083333         421.0   \n",
       "1     10120            1   10.210000      10.21      10.000000          10.0   \n",
       "2     10125           13   47.673846     619.76      46.923077         610.0   \n",
       "\n",
       "   UnitPrice_mean  \n",
       "0        0.850000  \n",
       "1        0.210000  \n",
       "2        0.750769  "
      ]
     },
     "metadata": {},
     "output_type": "display_data"
    }
   ],
   "source": [
    "df['Price'] = df['Quantity'] + df['UnitPrice']\n",
    "df['hour'] = df.InvoiceDate.str[-5:-3].astype('int')\n",
    "\n",
    "df2 = df.groupby('StockCode').agg({'Price':['count', 'mean', 'sum'],\n",
    "                                   'Quantity':['mean', 'sum'],\n",
    "                                   'UnitPrice':['mean']})\n",
    "df2.columns = ['_'.join(x) for x in df2.columns.to_flat_index()]\n",
    "df2 = df2.reset_index()\n",
    "display(df2.head(3))\n",
    "df3 = df.merge(df2, on = 'StockCode', how = 'left')\n",
    "\n",
    "df3.columns\n",
    "df4 = df3[['Quantity','UnitPrice', 'Price', 'hour',\n",
    "       'Price_count', 'Price_mean', 'Price_sum', 'Quantity_mean',\n",
    "       'Quantity_sum', 'UnitPrice_mean']]\n",
    "# 스케일링\n",
    "ss = StandardScaler()\n",
    "df5 = pd.DataFrame(ss.fit_transform(df4), columns = df4.columns)\n",
    "\n",
    "\n"
   ]
  },
  {
   "cell_type": "markdown",
   "id": "e9979667",
   "metadata": {},
   "source": [
    "#### [답안]  (7분)\n",
    "- StockCode별로 건수, 평균판매금액, 총판매금액, 평균판매수량, 총판매수량, 평균단위금액, 구매시간을 만들었다.\n",
    "- 그리고 스케일링을 진행하였다."
   ]
  },
  {
   "cell_type": "markdown",
   "id": "5a7d0d7d",
   "metadata": {},
   "source": [
    "## 문제 2.1 \n",
    "Kmeans , DBSCAN 방법 중 하나를 선택하여 군집분석을 시행하고 각 군집별 특성을 분석하라"
   ]
  },
  {
   "cell_type": "code",
   "execution_count": 181,
   "id": "a403d4eb",
   "metadata": {},
   "outputs": [
    {
     "data": {
      "image/png": "[encoded data removed]",
      "text/plain": [
       "<Figure size 640x480 with 1 Axes>"
      ]
     },
     "metadata": {},
     "output_type": "display_data"
    }
   ],
   "source": [
    "# 군집만들기\n",
    "model = KMeans(n_clusters = 3)\n",
    "distances = model.fit_transform(df5)\n",
    "kmeans_result = pd.DataFrame(model.labels_, columns = ['cluster'])\n",
    "\n",
    "ddf = pd.merge(df3, kmeans_result, left_index = True, right_index = True)\n",
    "\n",
    "#군집 결과 시각화\n",
    "fig, ax = plt.subplots(1,1)\n",
    "sns.scatterplot(x = 'Price_count', y = 'UnitPrice', data = ddf, hue = 'cluster', style = 'cluster',\n",
    "               s = 60, ax = ax, palette = 'Accent')\n",
    "plt.show()"
   ]
  },
  {
   "cell_type": "markdown",
   "id": "3aaf3763",
   "metadata": {},
   "source": [
    "#### [답안]\n",
    "- kmeans를 수행한 결과 3개의 군집을 형성하였는데 거래의 특징은 뚜렷하다.\n",
    "- 0번 군집은 상품의 단위가격이 낮으면서 거래 횟수은 적은 특징이 있고\n",
    "- 1번 군집은 거래 횟수는 적지만 단위가격이 높다.\n",
    "- 2번 군집은 거래 횟수가 많다는 특징이 있다.."
   ]
  },
  {
   "cell_type": "markdown",
   "id": "20259b64",
   "metadata": {},
   "source": [
    "## 문제 2.2 \n",
    "각 군집 별 대표 추천 상품을 도출할 것"
   ]
  },
  {
   "cell_type": "code",
   "execution_count": 208,
   "id": "f19e777e",
   "metadata": {},
   "outputs": [
    {
     "name": "stdout",
     "output_type": "stream",
     "text": [
      "0번 군집의 대표적 상품 : (22326)ROUND SNACK BOXES SET OF4 WOODLAND \n",
      "1번 군집의 대표적 상품 : (POST)POSTAGE\n",
      "2번 군집의 대표적 상품 : (M)Manual\n"
     ]
    }
   ],
   "source": [
    "sc_0 = ddf.loc[ddf['cluster']==0, 'StockCode'].mode()[0]\n",
    "print('0번 군집의 대표적 상품 : ({}){}'.format(sc_0, ddf.loc[ddf.StockCode == sc_0, 'Description'].unique()[0]))\n",
    "\n",
    "sc_1 = ddf.loc[ddf['cluster']==1, 'StockCode'].mode()[0]\n",
    "print('1번 군집의 대표적 상품 : ({}){}'.format(sc_1, ddf.loc[ddf.StockCode == sc_1, 'Description'].unique()[0]))\n",
    "\n",
    "sc_2 = ddf.loc[ddf['cluster']==2, 'StockCode'].mode()[0]\n",
    "print('2번 군집의 대표적 상품 : ({}){}'.format(sc_2, ddf.loc[ddf.StockCode == sc_2, 'Description'].unique()[0]))\n"
   ]
  },
  {
   "cell_type": "markdown",
   "id": "3d7f4768",
   "metadata": {},
   "source": [
    "## 문제 2.3 \n",
    "CustomerID가 12413인 고객을 대상으로 상품을 추천할 것"
   ]
  },
  {
   "cell_type": "code",
   "execution_count": 205,
   "id": "4443300c",
   "metadata": {},
   "outputs": [
    {
     "data": {
      "text/plain": [
       "cluster\n",
       "0    37\n",
       "1     3\n",
       "Name: count, dtype: int64"
      ]
     },
     "metadata": {},
     "output_type": "display_data"
    }
   ],
   "source": [
    "display(ddf.loc[ddf.CustomerID==12413, 'cluster'].value_counts())"
   ]
  },
  {
   "cell_type": "markdown",
   "id": "f46d7e01",
   "metadata": {},
   "source": [
    "#### [답안] 47분\n",
    "- 고객번호 12413의 경우 0번 군집에 해당하는 거래 37건, 1번 군집에 해당하는 거래 3건을 하였다. 해당 고객에게 상품을 추천한다면 0번 군집의 대표적 상품인 (22326)ROUND SNACK BOXES SET OF4 WOODLAND'를 추천하며 서브로 1번의 군집의 대표적 상품 (POST)POSTAGE도 추천한다."
   ]
  },
  {
   "cell_type": "markdown",
   "id": "791f8802",
   "metadata": {},
   "source": [
    "# 통계"
   ]
  },
  {
   "cell_type": "markdown",
   "id": "f36afec7",
   "metadata": {},
   "source": [
    "## 문제 3\n",
    "어느 제조업체의 제품 불량률을 조사하려고 한다. 이 회사의 제품 불량률이 실제로는 90%라고 알려져 있다.     \n",
    "이를 표본 조사로 추정하고자 합니다. 추정된 불량률의 추정오차한계가 5% 이내가 되도록 하려면, 어느 정도의 표본 크기가 필요한지 계산하라."
   ]
  },
  {
   "cell_type": "code",
   "execution_count": 8,
   "id": "d0dc0105",
   "metadata": {
    "ExecuteTime": {
     "end_time": "2022-09-04T04:59:53.353886Z",
     "start_time": "2022-09-04T04:59:52.069005Z"
    },
    "tags": [
     "hide-input"
    ]
   },
   "outputs": [],
   "source": []
  },
  {
   "cell_type": "markdown",
   "id": "d95e096f",
   "metadata": {},
   "source": [
    "## 문제 설명 (4번)\n",
    "![image](https://raw.githubusercontent.com/Datamanim/datarepo/main/adp/26/problem2.png)"
   ]
  },
  {
   "cell_type": "markdown",
   "id": "7147d76a",
   "metadata": {},
   "source": [
    "## 문제 4.1 \n",
    "은의 가격 및 이동평균값 3이 설정된 시계열 그래프를 그려라"
   ]
  },
  {
   "cell_type": "code",
   "execution_count": null,
   "id": "1fd7bde1",
   "metadata": {},
   "outputs": [],
   "source": []
  },
  {
   "cell_type": "markdown",
   "id": "d81112a7",
   "metadata": {},
   "source": [
    "## 문제 4.2\n",
    "1월 대비 9월의 은의 가격은 몇 % 올랐는가? 소수점 두번째 자리에서 반올림"
   ]
  },
  {
   "cell_type": "code",
   "execution_count": null,
   "id": "325bb2bc",
   "metadata": {},
   "outputs": [],
   "source": []
  },
  {
   "cell_type": "markdown",
   "id": "76918d7b",
   "metadata": {},
   "source": [
    "## 문제설명 (5번)\n",
    "<img src=\"https://github.com/Datamanim/datarepo/blob/main/adp/26/problem3.png?raw=true\" width=\"300\" height=\"300\">\n",
    "\n",
    "위 표는 A,B,C 자치구별 W 의원에 대한 찬성, 반대 지지를 나타낸다. 자치구별 지지율이 같은지에 대해서 검정하라"
   ]
  },
  {
   "cell_type": "markdown",
   "id": "0f222d5b",
   "metadata": {},
   "source": [
    "## 문제 5.1 \n",
    "연구가설과 귀무가설을 설정하라"
   ]
  },
  {
   "cell_type": "code",
   "execution_count": null,
   "id": "857e9a82",
   "metadata": {},
   "outputs": [],
   "source": []
  },
  {
   "cell_type": "markdown",
   "id": "72a8d5f3",
   "metadata": {},
   "source": [
    "## 문제 5.2 \n",
    "검정통계량을 구하고 결론을 내라"
   ]
  },
  {
   "cell_type": "code",
   "execution_count": null,
   "id": "50e72433",
   "metadata": {},
   "outputs": [],
   "source": []
  },
  {
   "cell_type": "markdown",
   "id": "6f29af2c",
   "metadata": {},
   "source": [
    "## 문제설명 (6번)\n",
    "A초등학교 남학생 16명과 여학생 9명의 혈압을 측정한 pressure.csv파일을 가지고 남녀학생의 평균 혈압에 차이가 없는지 확인하려한다.\n",
    "- 데이터 url :https://raw.githubusercontent.com/Datamanim/datarepo/main/adp/26/pressure.csv"
   ]
  },
  {
   "cell_type": "markdown",
   "id": "fb78ce9e",
   "metadata": {},
   "source": [
    "## 문제 6.2 \n",
    "검정 통계량을 구하고 가설 검정을 수행하라"
   ]
  },
  {
   "cell_type": "code",
   "execution_count": null,
   "id": "45c6117c",
   "metadata": {},
   "outputs": [],
   "source": []
  },
  {
   "cell_type": "markdown",
   "id": "145990ff",
   "metadata": {},
   "source": [
    "## 문제 6.3 \n",
    "6.2의 검정 통계량 값을 바탕으로 신뢰수준 95%하에서 신뢰구간을 설정하라"
   ]
  },
  {
   "cell_type": "code",
   "execution_count": null,
   "id": "9fc55d2f",
   "metadata": {},
   "outputs": [],
   "source": []
  },
  {
   "cell_type": "markdown",
   "id": "bc2a1d92",
   "metadata": {},
   "source": [
    "## 문제설명 (7번)\n",
    "height(키), weight(몸무게), waist(허리둘레) 컬럼을 가진 problem7.csv파일을 가지고 다음을 분석하라      \n",
    "A시의 20대 남성 411명을 임의로 추출하여 키, 몸무게, 허리둘레를 조사하여 기록한 데이터이다.         \n",
    "이 데이터를 이용하여 20대 남성의 키와 허리둘레가 체중에 영향을 미치는지 알아보고자 한다.     \n",
    "\n",
    "- 데이터 url :https://raw.githubusercontent.com/Datamanim/datarepo/main/adp/26/problem7.csv"
   ]
  },
  {
   "cell_type": "markdown",
   "id": "4c0f6221",
   "metadata": {},
   "source": [
    "## 문제 7.1\n",
    "아래 조건을 참고하여 회귀계수(반올림하여 소수점 두자리)를 구하시오.    \n",
    "- 베이지안 회귀   \n",
    "- 시드넘버 1234로 지정\n",
    "- 1000번의 burn-in 이후 10,000의 MCMC를 수행\n",
    "- 회귀계수의 사전분포는 부적절한 균일분포(improper uniform prior distribution), 오차항의 분산의 사전분포는 역감마 분포로 지정. 이때, 형상(Shape)모수와 척도(Scale)모수는 각각 0.005로 지정."
   ]
  },
  {
   "cell_type": "code",
   "execution_count": 1,
   "id": "2261317c",
   "metadata": {},
   "outputs": [],
   "source": [
    "import pandas as pd\n",
    "df =pd.read_csv('https://raw.githubusercontent.com/Datamanim/datarepo/main/adp/26/problem7.csv')\n"
   ]
  },
  {
   "cell_type": "markdown",
   "id": "35831cde",
   "metadata": {},
   "source": [
    "##### pystan 패키지 사용 추천"
   ]
  },
  {
   "cell_type": "code",
   "execution_count": null,
   "id": "d25838ef",
   "metadata": {},
   "outputs": [],
   "source": []
  },
  {
   "cell_type": "markdown",
   "id": "2959ad47",
   "metadata": {},
   "source": [
    "## 문제 7.2\n",
    "위에서 만든 모델을 바탕으로 키 180cm, 허리둘레 85cm인 남성의 몸무게를 추정하라"
   ]
  },
  {
   "cell_type": "code",
   "execution_count": null,
   "id": "759ca261",
   "metadata": {},
   "outputs": [],
   "source": []
  }
 ],
 "metadata": {
  "celltoolbar": "Edit Metadata",
  "kernelspec": {
   "display_name": "Python 3 (ipykernel)",
   "language": "python",
   "name": "python3"
  },
  "language_info": {
   "codemirror_mode": {
    "name": "ipython",
    "version": 3
   },
   "file_extension": ".py",
   "mimetype": "text/x-python",
   "name": "python",
   "nbconvert_exporter": "python",
   "pygments_lexer": "ipython3",
   "version": "3.11.5"
  }
 },
 "nbformat": 4,
 "nbformat_minor": 5
}
