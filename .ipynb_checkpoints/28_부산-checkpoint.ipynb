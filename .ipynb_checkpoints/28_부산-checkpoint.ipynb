{
 "cells": [
  {
   "cell_type": "markdown",
   "id": "1e530f30",
   "metadata": {},
   "source": [
    "# 28회 ADP 복원 "
   ]
  },
  {
   "cell_type": "markdown",
   "id": "99d780d7",
   "metadata": {},
   "source": [
    "packages"
   ]
  },
  {
   "cell_type": "code",
   "execution_count": 9,
   "id": "516b418e",
   "metadata": {
    "scrolled": true
   },
   "outputs": [
    {
     "data": {
      "text/html": [
       "<style>.container {width :95% !important;}</style>"
      ],
      "text/plain": [
       "<IPython.core.display.HTML object>"
      ]
     },
     "metadata": {},
     "output_type": "display_data"
    }
   ],
   "source": [
    "import pandas as pd\n",
    "import math\n",
    "import seaborn as sns\n",
    "import matplotlib.pyplot as plt\n",
    "from collections import Counter\n",
    "\n",
    "from IPython.display import display , HTML\n",
    "display(HTML(\"<style>.container {width :95% !important;}</style>\"))\n",
    "\n",
    "from scipy.stats import chi2_contingency\n",
    "import numpy as np\n",
    "\n",
    "from sklearn.decomposition import PCA\n",
    "from sklearn.preprocessing import MinMaxScaler\n",
    "\n",
    "from imblearn.over_sampling import SMOTE\n",
    "\n",
    "\n",
    "from sklearn.ensemble import RandomForestClassifier\n",
    "from sklearn.neural_network import MLPClassifier\n",
    "from lightgbm import LGBMClassifier\n",
    "\n",
    "from sklearn.model_selection import train_test_split\n",
    "from sklearn.metrics import f1_score , classification_report\n",
    "\n",
    "import warnings \n",
    "warnings.filterwarnings('ignore')\n",
    "\n",
    "from lightgbm import LGBMClassifier\n",
    "from sklearn.ensemble import VotingClassifier\n",
    "\n",
    "from scipy import stats\n",
    "import time\n",
    "# from lifelines import KaplanMeierFitter\n",
    "# from lifelines.statistics import logrank_test\n",
    "from scipy.stats import mannwhitneyu\n",
    "# import pingouin as pg"
   ]
  },
  {
   "cell_type": "markdown",
   "id": "d0c9251b",
   "metadata": {},
   "source": [
    "# 기계학습 (50점)"
   ]
  },
  {
   "cell_type": "markdown",
   "id": "435ce658",
   "metadata": {},
   "source": [
    "## 데이터 설명\n",
    "- 데이터 출처 : https://www.kaggle.com/datasets/dipam7/student-grade-prediction?resource=download 후처리\n",
    "- 데이터 링크 : https://raw.githubusercontent.com/Datamanim/datarepo/main/adp/28/p1.csv\n",
    "- 데이터 설명 : 학생의 다양한 주변 환경에 따른 결석 등급 (absences)\n",
    "    - sex : 성별 (F : 여성 / M :남성)\n",
    "    - age : 나이\n",
    "    - pstatus : 부모와 동거 유무 (T : 동거중 , A : 별거)\n",
    "    - medu : 어머니 교육(0 - 없음, 1 - 초등 교육(4학년), 2 - 5~9학년, 3 - 중등 교육 또는 4 - 고등 교육)\n",
    "    - fedu : 아버지 교육(0 - 없음, 1 - 초등 교육(4학년), 2 - 5 - 9학년, 3 - 중등 교육 또는 4 - 고등 교육)\n",
    "    - guardian : 학생의 보호자\n",
    "    - traveltime : 집에서 학교까지 이동 시간(1 - <15분, 2 - 15 - 30분, 3 - 30분 - 1시간, 또는 4 - >1시간)\n",
    "    - studytime : 주간 학습 시간(1 - <2시간, 2 - 2 - 5시간, 3 - 5 - 10시간 또는 4 - >10시간)\n",
    "    - failures : 과거 클래스 실패 수(n if 1<=n<3, 그렇지 않으면 4)\n",
    "    - freetime : 방과 후 자유 시간(숫자: 1 - 매우 낮음에서 5 - 매우 높음)\n",
    "    - famrel : 가족 관계의 질(숫자: 1 - 매우 나쁨에서 5 - 훌륭함)\n",
    "    - absences : 학교 결석 횟수등급 (0~5, 높은 숫자일수록 많은 결석 횟수)"
   ]
  },
  {
   "cell_type": "code",
   "execution_count": 2,
   "id": "39286a75",
   "metadata": {
    "scrolled": false
   },
   "outputs": [
    {
     "data": {
      "text/html": [
       "<div>\n",
       "<style scoped>\n",
       "    .dataframe tbody tr th:only-of-type {\n",
       "        vertical-align: middle;\n",
       "    }\n",
       "\n",
       "    .dataframe tbody tr th {\n",
       "        vertical-align: top;\n",
       "    }\n",
       "\n",
       "    .dataframe thead th {\n",
       "        text-align: right;\n",
       "    }\n",
       "</style>\n",
       "<table border=\"1\" class=\"dataframe\">\n",
       "  <thead>\n",
       "    <tr style=\"text-align: right;\">\n",
       "      <th></th>\n",
       "      <th>sex</th>\n",
       "      <th>age</th>\n",
       "      <th>pstatus</th>\n",
       "      <th>medu</th>\n",
       "      <th>fedu</th>\n",
       "      <th>guardian</th>\n",
       "      <th>traveltime</th>\n",
       "      <th>studytime</th>\n",
       "      <th>failures</th>\n",
       "      <th>freetime</th>\n",
       "      <th>famrel</th>\n",
       "      <th>absences</th>\n",
       "    </tr>\n",
       "  </thead>\n",
       "  <tbody>\n",
       "    <tr>\n",
       "      <th>0</th>\n",
       "      <td>F</td>\n",
       "      <td>18</td>\n",
       "      <td>A</td>\n",
       "      <td>4</td>\n",
       "      <td>4</td>\n",
       "      <td>mother</td>\n",
       "      <td>2</td>\n",
       "      <td>2</td>\n",
       "      <td>0</td>\n",
       "      <td>3</td>\n",
       "      <td>4</td>\n",
       "      <td>2</td>\n",
       "    </tr>\n",
       "    <tr>\n",
       "      <th>1</th>\n",
       "      <td>F</td>\n",
       "      <td>17</td>\n",
       "      <td>T</td>\n",
       "      <td>1</td>\n",
       "      <td>1</td>\n",
       "      <td>father</td>\n",
       "      <td>1</td>\n",
       "      <td>2</td>\n",
       "      <td>0</td>\n",
       "      <td>3</td>\n",
       "      <td>5</td>\n",
       "      <td>1</td>\n",
       "    </tr>\n",
       "    <tr>\n",
       "      <th>2</th>\n",
       "      <td>F</td>\n",
       "      <td>15</td>\n",
       "      <td>T</td>\n",
       "      <td>1</td>\n",
       "      <td>1</td>\n",
       "      <td>mother</td>\n",
       "      <td>1</td>\n",
       "      <td>2</td>\n",
       "      <td>3</td>\n",
       "      <td>3</td>\n",
       "      <td>4</td>\n",
       "      <td>3</td>\n",
       "    </tr>\n",
       "    <tr>\n",
       "      <th>3</th>\n",
       "      <td>F</td>\n",
       "      <td>15</td>\n",
       "      <td>T</td>\n",
       "      <td>4</td>\n",
       "      <td>2</td>\n",
       "      <td>mother</td>\n",
       "      <td>1</td>\n",
       "      <td>3</td>\n",
       "      <td>0</td>\n",
       "      <td>2</td>\n",
       "      <td>3</td>\n",
       "      <td>0</td>\n",
       "    </tr>\n",
       "    <tr>\n",
       "      <th>4</th>\n",
       "      <td>F</td>\n",
       "      <td>16</td>\n",
       "      <td>T</td>\n",
       "      <td>3</td>\n",
       "      <td>3</td>\n",
       "      <td>father</td>\n",
       "      <td>1</td>\n",
       "      <td>2</td>\n",
       "      <td>0</td>\n",
       "      <td>3</td>\n",
       "      <td>4</td>\n",
       "      <td>1</td>\n",
       "    </tr>\n",
       "  </tbody>\n",
       "</table>\n",
       "</div>"
      ],
      "text/plain": [
       "  sex  age pstatus  medu  fedu guardian  traveltime  studytime  failures  \\\n",
       "0   F   18       A     4     4   mother           2          2         0   \n",
       "1   F   17       T     1     1   father           1          2         0   \n",
       "2   F   15       T     1     1   mother           1          2         3   \n",
       "3   F   15       T     4     2   mother           1          3         0   \n",
       "4   F   16       T     3     3   father           1          2         0   \n",
       "\n",
       "   freetime  famrel  absences  \n",
       "0         3       4         2  \n",
       "1         3       5         1  \n",
       "2         3       4         3  \n",
       "3         2       3         0  \n",
       "4         3       4         1  "
      ]
     },
     "execution_count": 2,
     "metadata": {},
     "output_type": "execute_result"
    }
   ],
   "source": [
    "import pandas as pd\n",
    "df = pd.read_csv(\"https://raw.githubusercontent.com/Datamanim/datarepo/main/adp/28/p1.csv\")\n",
    "df.head()"
   ]
  },
  {
   "cell_type": "markdown",
   "id": "c9373a22",
   "metadata": {},
   "source": [
    "## 1-1. EDA를 진행하고 (+시각화) , 차원축소의 필요성이 있는지 확인 (5점)"
   ]
  },
  {
   "cell_type": "code",
   "execution_count": 3,
   "id": "e27f427c",
   "metadata": {
    "scrolled": false
   },
   "outputs": [
    {
     "name": "stdout",
     "output_type": "stream",
     "text": [
      "- 데이터 샘플 확인\n"
     ]
    },
    {
     "data": {
      "text/html": [
       "<div>\n",
       "<style scoped>\n",
       "    .dataframe tbody tr th:only-of-type {\n",
       "        vertical-align: middle;\n",
       "    }\n",
       "\n",
       "    .dataframe tbody tr th {\n",
       "        vertical-align: top;\n",
       "    }\n",
       "\n",
       "    .dataframe thead th {\n",
       "        text-align: right;\n",
       "    }\n",
       "</style>\n",
       "<table border=\"1\" class=\"dataframe\">\n",
       "  <thead>\n",
       "    <tr style=\"text-align: right;\">\n",
       "      <th></th>\n",
       "      <th>sex</th>\n",
       "      <th>age</th>\n",
       "      <th>pstatus</th>\n",
       "      <th>medu</th>\n",
       "      <th>fedu</th>\n",
       "      <th>guardian</th>\n",
       "      <th>traveltime</th>\n",
       "      <th>studytime</th>\n",
       "      <th>failures</th>\n",
       "      <th>freetime</th>\n",
       "      <th>famrel</th>\n",
       "      <th>absences</th>\n",
       "    </tr>\n",
       "  </thead>\n",
       "  <tbody>\n",
       "    <tr>\n",
       "      <th>0</th>\n",
       "      <td>F</td>\n",
       "      <td>18</td>\n",
       "      <td>A</td>\n",
       "      <td>4</td>\n",
       "      <td>4</td>\n",
       "      <td>mother</td>\n",
       "      <td>2</td>\n",
       "      <td>2</td>\n",
       "      <td>0</td>\n",
       "      <td>3</td>\n",
       "      <td>4</td>\n",
       "      <td>2</td>\n",
       "    </tr>\n",
       "    <tr>\n",
       "      <th>1</th>\n",
       "      <td>F</td>\n",
       "      <td>17</td>\n",
       "      <td>T</td>\n",
       "      <td>1</td>\n",
       "      <td>1</td>\n",
       "      <td>father</td>\n",
       "      <td>1</td>\n",
       "      <td>2</td>\n",
       "      <td>0</td>\n",
       "      <td>3</td>\n",
       "      <td>5</td>\n",
       "      <td>1</td>\n",
       "    </tr>\n",
       "    <tr>\n",
       "      <th>2</th>\n",
       "      <td>F</td>\n",
       "      <td>15</td>\n",
       "      <td>T</td>\n",
       "      <td>1</td>\n",
       "      <td>1</td>\n",
       "      <td>mother</td>\n",
       "      <td>1</td>\n",
       "      <td>2</td>\n",
       "      <td>3</td>\n",
       "      <td>3</td>\n",
       "      <td>4</td>\n",
       "      <td>3</td>\n",
       "    </tr>\n",
       "  </tbody>\n",
       "</table>\n",
       "</div>"
      ],
      "text/plain": [
       "  sex  age pstatus  medu  fedu guardian  traveltime  studytime  failures  \\\n",
       "0   F   18       A     4     4   mother           2          2         0   \n",
       "1   F   17       T     1     1   father           1          2         0   \n",
       "2   F   15       T     1     1   mother           1          2         3   \n",
       "\n",
       "   freetime  famrel  absences  \n",
       "0         3       4         2  \n",
       "1         3       5         1  \n",
       "2         3       4         3  "
      ]
     },
     "metadata": {},
     "output_type": "display_data"
    },
    {
     "name": "stdout",
     "output_type": "stream",
     "text": [
      "- 데이터 유형 확인\n",
      "<class 'pandas.core.frame.DataFrame'>\n",
      "RangeIndex: 395 entries, 0 to 394\n",
      "Data columns (total 12 columns):\n",
      " #   Column      Non-Null Count  Dtype \n",
      "---  ------      --------------  ----- \n",
      " 0   sex         395 non-null    object\n",
      " 1   age         395 non-null    int64 \n",
      " 2   pstatus     395 non-null    object\n",
      " 3   medu        395 non-null    int64 \n",
      " 4   fedu        395 non-null    int64 \n",
      " 5   guardian    395 non-null    object\n",
      " 6   traveltime  395 non-null    int64 \n",
      " 7   studytime   395 non-null    int64 \n",
      " 8   failures    395 non-null    int64 \n",
      " 9   freetime    395 non-null    int64 \n",
      " 10  famrel      395 non-null    int64 \n",
      " 11  absences    395 non-null    int64 \n",
      "dtypes: int64(9), object(3)\n",
      "memory usage: 37.2+ KB\n"
     ]
    },
    {
     "data": {
      "text/plain": [
       "None"
      ]
     },
     "metadata": {},
     "output_type": "display_data"
    },
    {
     "name": "stdout",
     "output_type": "stream",
     "text": [
      "- 데이터 기초통계량 확인\n"
     ]
    },
    {
     "data": {
      "text/html": [
       "<div>\n",
       "<style scoped>\n",
       "    .dataframe tbody tr th:only-of-type {\n",
       "        vertical-align: middle;\n",
       "    }\n",
       "\n",
       "    .dataframe tbody tr th {\n",
       "        vertical-align: top;\n",
       "    }\n",
       "\n",
       "    .dataframe thead th {\n",
       "        text-align: right;\n",
       "    }\n",
       "</style>\n",
       "<table border=\"1\" class=\"dataframe\">\n",
       "  <thead>\n",
       "    <tr style=\"text-align: right;\">\n",
       "      <th></th>\n",
       "      <th>age</th>\n",
       "      <th>medu</th>\n",
       "      <th>fedu</th>\n",
       "      <th>traveltime</th>\n",
       "      <th>studytime</th>\n",
       "      <th>failures</th>\n",
       "      <th>freetime</th>\n",
       "      <th>famrel</th>\n",
       "      <th>absences</th>\n",
       "    </tr>\n",
       "  </thead>\n",
       "  <tbody>\n",
       "    <tr>\n",
       "      <th>count</th>\n",
       "      <td>395.000000</td>\n",
       "      <td>395.000000</td>\n",
       "      <td>395.000000</td>\n",
       "      <td>395.000000</td>\n",
       "      <td>395.000000</td>\n",
       "      <td>395.000000</td>\n",
       "      <td>395.000000</td>\n",
       "      <td>395.000000</td>\n",
       "      <td>395.000000</td>\n",
       "    </tr>\n",
       "    <tr>\n",
       "      <th>mean</th>\n",
       "      <td>16.696203</td>\n",
       "      <td>2.749367</td>\n",
       "      <td>2.521519</td>\n",
       "      <td>1.448101</td>\n",
       "      <td>2.035443</td>\n",
       "      <td>0.334177</td>\n",
       "      <td>3.235443</td>\n",
       "      <td>3.944304</td>\n",
       "      <td>1.377215</td>\n",
       "    </tr>\n",
       "    <tr>\n",
       "      <th>std</th>\n",
       "      <td>1.276043</td>\n",
       "      <td>1.094735</td>\n",
       "      <td>1.088201</td>\n",
       "      <td>0.697505</td>\n",
       "      <td>0.839240</td>\n",
       "      <td>0.743651</td>\n",
       "      <td>0.998862</td>\n",
       "      <td>0.896659</td>\n",
       "      <td>1.555076</td>\n",
       "    </tr>\n",
       "    <tr>\n",
       "      <th>min</th>\n",
       "      <td>15.000000</td>\n",
       "      <td>0.000000</td>\n",
       "      <td>0.000000</td>\n",
       "      <td>1.000000</td>\n",
       "      <td>1.000000</td>\n",
       "      <td>0.000000</td>\n",
       "      <td>1.000000</td>\n",
       "      <td>1.000000</td>\n",
       "      <td>0.000000</td>\n",
       "    </tr>\n",
       "    <tr>\n",
       "      <th>25%</th>\n",
       "      <td>16.000000</td>\n",
       "      <td>2.000000</td>\n",
       "      <td>2.000000</td>\n",
       "      <td>1.000000</td>\n",
       "      <td>1.000000</td>\n",
       "      <td>0.000000</td>\n",
       "      <td>3.000000</td>\n",
       "      <td>4.000000</td>\n",
       "      <td>0.000000</td>\n",
       "    </tr>\n",
       "    <tr>\n",
       "      <th>50%</th>\n",
       "      <td>17.000000</td>\n",
       "      <td>3.000000</td>\n",
       "      <td>2.000000</td>\n",
       "      <td>1.000000</td>\n",
       "      <td>2.000000</td>\n",
       "      <td>0.000000</td>\n",
       "      <td>3.000000</td>\n",
       "      <td>4.000000</td>\n",
       "      <td>1.000000</td>\n",
       "    </tr>\n",
       "    <tr>\n",
       "      <th>75%</th>\n",
       "      <td>18.000000</td>\n",
       "      <td>4.000000</td>\n",
       "      <td>3.000000</td>\n",
       "      <td>2.000000</td>\n",
       "      <td>2.000000</td>\n",
       "      <td>0.000000</td>\n",
       "      <td>4.000000</td>\n",
       "      <td>5.000000</td>\n",
       "      <td>3.000000</td>\n",
       "    </tr>\n",
       "    <tr>\n",
       "      <th>max</th>\n",
       "      <td>22.000000</td>\n",
       "      <td>4.000000</td>\n",
       "      <td>4.000000</td>\n",
       "      <td>4.000000</td>\n",
       "      <td>4.000000</td>\n",
       "      <td>3.000000</td>\n",
       "      <td>5.000000</td>\n",
       "      <td>5.000000</td>\n",
       "      <td>4.000000</td>\n",
       "    </tr>\n",
       "  </tbody>\n",
       "</table>\n",
       "</div>"
      ],
      "text/plain": [
       "              age        medu        fedu  traveltime   studytime    failures  \\\n",
       "count  395.000000  395.000000  395.000000  395.000000  395.000000  395.000000   \n",
       "mean    16.696203    2.749367    2.521519    1.448101    2.035443    0.334177   \n",
       "std      1.276043    1.094735    1.088201    0.697505    0.839240    0.743651   \n",
       "min     15.000000    0.000000    0.000000    1.000000    1.000000    0.000000   \n",
       "25%     16.000000    2.000000    2.000000    1.000000    1.000000    0.000000   \n",
       "50%     17.000000    3.000000    2.000000    1.000000    2.000000    0.000000   \n",
       "75%     18.000000    4.000000    3.000000    2.000000    2.000000    0.000000   \n",
       "max     22.000000    4.000000    4.000000    4.000000    4.000000    3.000000   \n",
       "\n",
       "         freetime      famrel    absences  \n",
       "count  395.000000  395.000000  395.000000  \n",
       "mean     3.235443    3.944304    1.377215  \n",
       "std      0.998862    0.896659    1.555076  \n",
       "min      1.000000    1.000000    0.000000  \n",
       "25%      3.000000    4.000000    0.000000  \n",
       "50%      3.000000    4.000000    1.000000  \n",
       "75%      4.000000    5.000000    3.000000  \n",
       "max      5.000000    5.000000    4.000000  "
      ]
     },
     "metadata": {},
     "output_type": "display_data"
    },
    {
     "name": "stdout",
     "output_type": "stream",
     "text": [
      "- 데이터 결측 확인\n"
     ]
    },
    {
     "data": {
      "text/plain": [
       "Series([], dtype: int64)"
      ]
     },
     "metadata": {},
     "output_type": "display_data"
    },
    {
     "name": "stdout",
     "output_type": "stream",
     "text": [
      "- 연속형 데이터 boxplot\n"
     ]
    },
    {
     "data": {
      "image/png": "[encoded data removed]",
      "text/plain": [
       "<Figure size 1500x400 with 10 Axes>"
      ]
     },
     "metadata": {},
     "output_type": "display_data"
    },
    {
     "name": "stdout",
     "output_type": "stream",
     "text": [
      "- 데이터 분포 시각화\n"
     ]
    },
    {
     "data": {
      "image/png": "[encoded data removed]",
      "text/plain": [
       "<Figure size 2000x1000 with 12 Axes>"
      ]
     },
     "metadata": {},
     "output_type": "display_data"
    },
    {
     "name": "stdout",
     "output_type": "stream",
     "text": [
      "- 상관관계 확인\n"
     ]
    },
    {
     "data": {
      "image/png": "[encoded data removed]",
      "text/plain": [
       "<Figure size 640x480 with 2 Axes>"
      ]
     },
     "metadata": {},
     "output_type": "display_data"
    }
   ],
   "source": [
    "print('- 데이터 샘플 확인')\n",
    "display(df.head(3))\n",
    "print('- 데이터 유형 확인')\n",
    "display(df.info())\n",
    "print('- 데이터 기초통계량 확인')\n",
    "display(df.describe())\n",
    "print('- 데이터 결측 확인')\n",
    "display(df.isna().sum()[df.isna().sum()>0])\n",
    "print('- 연속형 데이터 boxplot')\n",
    "\n",
    "# 연속형 데이터만 추출\n",
    "df_num = df.select_dtypes(exclude = 'object')\n",
    "\n",
    "n_col = 5\n",
    "n_row = math.ceil(len(df_num.columns)/n_col)\n",
    "\n",
    "fig, axs = plt.subplots(n_row, n_col, figsize = (n_col*3, n_row*2))\n",
    "\n",
    "for r in range(0, n_row):\n",
    "    for c in range(0, n_col):\n",
    "        i = r*n_col + c\n",
    "        if i < len(df_num.columns):\n",
    "            sns.boxplot(y = list(df_num.columns)[i], data = df, ax = axs[r][c])\n",
    "plt.tight_layout()\n",
    "plt.show()\n",
    "\n",
    "print('- 데이터 분포 시각화')\n",
    "# 데이터 분포 확인\n",
    "def make_plot(df):\n",
    "    plt.figure(figsize = (20, 10))\n",
    "    for i, col in enumerate(df.select_dtypes(exclude=object).columns, start=1):\n",
    "        plt.subplot(3, 4, i)\n",
    "        plt.title(f'{col} Count')\n",
    "        plt.hist(df[col])\n",
    "        start_num = i+1\n",
    "        \n",
    "    for i, col in enumerate(df.select_dtypes(include=object).columns, start=start_num):\n",
    "        plt.subplot(3, 4, i)\n",
    "        plt.title(f'{col} Count')\n",
    "        sns.countplot(data = df, x = col)\n",
    "    plt.tight_layout()\n",
    "    plt.show()\n",
    "\n",
    "make_plot(df)\n",
    "\n",
    "\n",
    "print('- 상관관계 확인')\n",
    "df_cor = df_num.corr(method = 'pearson')\n",
    "sns.heatmap(df_cor,\n",
    "           xticklabels = df_cor.columns,\n",
    "           yticklabels = df_cor.columns,\n",
    "           cmap = 'RdBu_r',\n",
    "           annot = True, linewidth = 3)\n",
    "plt.show()\n",
    "\n",
    "#print('- 이상치 처리')\n",
    "#del_idx = []\n",
    "#del_idx.extend(list(df[df.]))"
   ]
  },
  {
   "cell_type": "markdown",
   "id": "e9ea3ad4",
   "metadata": {},
   "source": [
    "#### [답안] (34분)\n",
    "- 데이터는 3개의 범주형 변수, 9개의 연속형변수로 이루어져 있으며 이상치나 결측치는 없는 것으로 보인다. \n",
    "- 상관관계는 medu와 fedu가 양의 상관성이 크게 보이고 그 외의 변수는 상관성이 보이지 않는다. 그래도 차원축소를 해볼만은 할 것 같다.\n",
    "- 타겟변수인 결석횟수가 0으로 치우쳐져있어서 모델을 만들기 전 데이터 불균형 문제를 해결하는 것이 좋다."
   ]
  },
  {
   "cell_type": "markdown",
   "id": "2cc3e536",
   "metadata": {},
   "source": [
    "## 1-2. 데이터 품질 개선을 위한 방법이 있는지 찾고 데이터셋을 재생성하라 (5점)"
   ]
  },
  {
   "cell_type": "code",
   "execution_count": 70,
   "id": "575c153e",
   "metadata": {},
   "outputs": [
    {
     "name": "stdout",
     "output_type": "stream",
     "text": [
      "- 차원축소\n",
      "고유값 요약:\n",
      "                  고유값           기여율     누적기여율\n",
      "comp1   1.992887e+00  2.172865e-01  0.217286\n",
      "comp2   1.318117e+00  1.437156e-01  0.361002\n",
      "comp3   1.115034e+00  1.215733e-01  0.482575\n",
      "comp4   1.000125e+00  1.090447e-01  0.591620\n",
      "comp5   9.187687e-01  1.001743e-01  0.691794\n",
      "comp6   7.655102e-01  8.346435e-02  0.775259\n",
      "comp7   6.803603e-01  7.418038e-02  0.849439\n",
      "comp8   4.401223e-01  4.798698e-02  0.897426\n",
      "comp9   3.977288e-01  4.336477e-02  0.940791\n",
      "comp10  2.802794e-01  3.055915e-02  0.971350\n",
      "comp11  1.806252e-01  1.969375e-02  0.991044\n",
      "comp12  8.214411e-02  8.956255e-03  1.000000\n",
      "comp13  2.297283e-32  2.504751e-33  1.000000\n",
      "comp14  9.613731e-33  1.048195e-33  1.000000\n",
      "comp15  2.743369e-33  2.991123e-34  1.000000 \n",
      "\n",
      "comp1~8가 전체 분산의 90%를 설명하고 있으므로 n_components를 8로 하여 다시 만든다.\n",
      "\n",
      "pca 결과: \n"
     ]
    },
    {
     "data": {
      "text/html": [
       "<div>\n",
       "<style scoped>\n",
       "    .dataframe tbody tr th:only-of-type {\n",
       "        vertical-align: middle;\n",
       "    }\n",
       "\n",
       "    .dataframe tbody tr th {\n",
       "        vertical-align: top;\n",
       "    }\n",
       "\n",
       "    .dataframe thead th {\n",
       "        text-align: right;\n",
       "    }\n",
       "</style>\n",
       "<table border=\"1\" class=\"dataframe\">\n",
       "  <thead>\n",
       "    <tr style=\"text-align: right;\">\n",
       "      <th></th>\n",
       "      <th>comp1</th>\n",
       "      <th>comp2</th>\n",
       "      <th>comp3</th>\n",
       "      <th>comp4</th>\n",
       "      <th>comp5</th>\n",
       "      <th>comp6</th>\n",
       "      <th>comp7</th>\n",
       "      <th>comp8</th>\n",
       "      <th>absences</th>\n",
       "    </tr>\n",
       "  </thead>\n",
       "  <tbody>\n",
       "    <tr>\n",
       "      <th>0</th>\n",
       "      <td>-1.119243</td>\n",
       "      <td>-0.159530</td>\n",
       "      <td>0.135057</td>\n",
       "      <td>0.922367</td>\n",
       "      <td>1.688906</td>\n",
       "      <td>0.084629</td>\n",
       "      <td>-0.339341</td>\n",
       "      <td>0.073825</td>\n",
       "      <td>2</td>\n",
       "    </tr>\n",
       "    <tr>\n",
       "      <th>1</th>\n",
       "      <td>1.403234</td>\n",
       "      <td>0.776656</td>\n",
       "      <td>-1.330906</td>\n",
       "      <td>-0.806900</td>\n",
       "      <td>-0.649846</td>\n",
       "      <td>-1.001180</td>\n",
       "      <td>-0.458269</td>\n",
       "      <td>-0.873098</td>\n",
       "      <td>1</td>\n",
       "    </tr>\n",
       "    <tr>\n",
       "      <th>2</th>\n",
       "      <td>2.560491</td>\n",
       "      <td>0.223636</td>\n",
       "      <td>0.290734</td>\n",
       "      <td>0.220254</td>\n",
       "      <td>-2.017483</td>\n",
       "      <td>-0.398777</td>\n",
       "      <td>2.967237</td>\n",
       "      <td>0.024972</td>\n",
       "      <td>3</td>\n",
       "    </tr>\n",
       "  </tbody>\n",
       "</table>\n",
       "</div>"
      ],
      "text/plain": [
       "      comp1     comp2     comp3     comp4     comp5     comp6     comp7  \\\n",
       "0 -1.119243 -0.159530  0.135057  0.922367  1.688906  0.084629 -0.339341   \n",
       "1  1.403234  0.776656 -1.330906 -0.806900 -0.649846 -1.001180 -0.458269   \n",
       "2  2.560491  0.223636  0.290734  0.220254 -2.017483 -0.398777  2.967237   \n",
       "\n",
       "      comp8  absences  \n",
       "0  0.073825         2  \n",
       "1 -0.873098         1  \n",
       "2  0.024972         3  "
      ]
     },
     "metadata": {},
     "output_type": "display_data"
    },
    {
     "name": "stdout",
     "output_type": "stream",
     "text": [
      "- 오버샘플링을 통해 데이터 불균형 문제 해결\n",
      "오버샘플링 전 건수  Counter({0: 183, 4: 66, 1: 61, 3: 49, 2: 36})\n",
      "오버샘플링 후 건수  Counter({2: 183, 1: 183, 3: 183, 0: 183, 4: 183})\n"
     ]
    }
   ],
   "source": [
    "# 데이터 품질을 개선시키기 위한 방법으로는 이상치나 결측치를 보완하는 방법, 차원을 축소를 통해 다중공선성 문제를 피하는 방법 등이 있다. 이 데이터는 이상치나 결측치가 없는 것으로 판단되어 차원축소만 시행한다.\n",
    "\n",
    "print('- 차원축소')\n",
    "x_col = list(df.columns)\n",
    "x_col.remove('absences')\n",
    "df_x = df[x_col]\n",
    "\n",
    "# 인코딩\n",
    "from sklearn.preprocessing import OneHotEncoder\n",
    "df_x_enc = df_x.select_dtypes('object').copy()\n",
    "enc = OneHotEncoder(sparse = False).fit(df_x_enc)\n",
    "df_x_enc = pd.DataFrame(enc.transform(df_x_enc), columns = enc.get_feature_names_out())\n",
    "\n",
    "# 스케일링\n",
    "from sklearn.preprocessing import StandardScaler\n",
    "df_x_num = df_x.select_dtypes(exclude='object').copy()\n",
    "ss = StandardScaler().fit(df_x_num)\n",
    "df_x_num = pd.DataFrame(ss.transform(df_x_num), columns = df_x_num.columns)\n",
    "\n",
    "df_x2 = pd.concat([df_x_num, df_x_enc], axis = 1)\n",
    "\n",
    "# PCA적합\n",
    "model = PCA(n_components=df_x2.shape[1], svd_solver='auto')\n",
    "model.fit(df_x2)\n",
    "\n",
    "# 고유값 요약\n",
    "e_value = pd.DataFrame({'고유값':model.explained_variance_, '기여율':model.explained_variance_ratio_},\n",
    "                      index = ['comp%s'%i for i in range(1, df_x2.shape[1]+1)])\n",
    "e_value['누적기여율'] = e_value['기여율'].cumsum()\n",
    "print('고유값 요약:\\n', e_value, '\\n')\n",
    "\n",
    "print('comp1~8가 전체 분산의 90%를 설명하고 있으므로 n_components를 8로 하여 다시 만든다.')\n",
    "# PCA 재적합\n",
    "best_dim = 8\n",
    "model = PCA(n_components=best_dim, svd_solver = 'auto')\n",
    "model.fit(df_x2)\n",
    "df_pca_x = pd.DataFrame(model.fit_transform(df_x2), columns = ['comp%s'%i for i in range(1, best_dim+1)])\n",
    "df_pca = pd.concat([df_pca_x, df['absences']], axis = 1)\n",
    "print('\\npca 결과: ')\n",
    "display(df_pca.head(3))\n",
    "\n",
    "# 고유벡터 요약\n",
    "# e_vector = pd.DataFrame(model.components_, index = ['comp%s'%i for i in range(1, best_dim+1)], columns = df_x2.columns)\n",
    "# print('고유벡터 요약:\\n', e_vector.iloc[:, :5], '\\n')\n",
    "\n",
    "print('- 오버샘플링을 통해 데이터 불균형 문제 해결')\n",
    "print('오버샘플링 전 건수 ', Counter(df['absences']))\n",
    "smote = SMOTE(sampling_strategy = 'auto')\n",
    "df_smote_x, df_smote_y = smote.fit_resample(df_pca_x, df['absences'])\n",
    "print('오버샘플링 후 건수 ', Counter(df_smote_y))"
   ]
  },
  {
   "cell_type": "markdown",
   "id": "77c0889f",
   "metadata": {},
   "source": [
    "#### [답안] (16분)\n",
    "- 데이터 품질을 개선시키기 위한 방법으로는 이상치나 결측치를 보완하는 방법, 차원을 축소를 통해 다중공선성 문제를 피하는 방법, 데이터샘플링을 통해 불균형문제를 피하는 법 등이 있다. 이 데이터는 이상치나 결측치가 없는 것으로 판단되어 차원축소와 데이터 오버샘플링만 시행한다.\n",
    "- 차원축소는 pca를 적용했다. 전체 변수의 수만큼 pca를 수행했을때 comp1~8이 전체 분산의 90%를 설명하고 있으므로 n_components를 8로 하여 만들었다.\n",
    "- 오버샘플링은 SMOTE를 적용했으며 다수 클래스의 수에 맞게 데이터의 건수가 증가했다."
   ]
  },
  {
   "cell_type": "markdown",
   "id": "cc04e584",
   "metadata": {},
   "source": [
    "## 1-3. 1.2에서 제시한 방법이 데이터 과적합이 된다는 가정하에 어떻게 해결할 수 있을지 2가지 개선안 제시, 각방법들의 장단점 기술 (10점)"
   ]
  },
  {
   "cell_type": "markdown",
   "id": "de812a99",
   "metadata": {},
   "source": [
    "#### [답안]\n",
    "- 과적합을 방지하기 위해서는 교차검증, 규제, 드롭아웃 등의  방법이 있다.\n",
    "- 교차검증은 학습 데이터를 여러 부분으로 나누어 여러 파라미터 조건 하에 학습하여 교차 검증을 함으로써 최적화된 일반화 모델을 만들 수 있다는 장점이 있는 반면 계산 비용이 높고 큰 데이터셋에 대해 시간 소모가 클 수 있다는 단점이 있다.\n",
    "- 규제는 l1, l2등의 규제를 통해 모델의 가중치를 제한함으로써 과적합을 방지할 수 있다. 예측의 안정성과 l1의 경우 특성을 선택하여 모델의 간결성을 높일 수 있는 장점이 있는 반면 과도한 규제는 모델을 단순하게 만들어 정확도가 낮을 수 있다는 단점이 있다."
   ]
  },
  {
   "cell_type": "markdown",
   "id": "5a3e4c88",
   "metadata": {},
   "source": [
    "## 2-1. 1-2 데이터셋을 기준으로 random forest, neural network , lightgbm 3가지 방식으로 학교 결석 횟수등급을 예측하는 모델을 만들어라, f1 score로 모델을 평가하라 (5점)"
   ]
  },
  {
   "cell_type": "code",
   "execution_count": 72,
   "id": "a4eb526f",
   "metadata": {
    "scrolled": false
   },
   "outputs": [
    {
     "name": "stdout",
     "output_type": "stream",
     "text": [
      "데이터 분할\n",
      "[LightGBM] [Warning] No further splits with positive gain, best gain: -inf\n",
      "[LightGBM] [Warning] No further splits with positive gain, best gain: -inf\n",
      "[LightGBM] [Warning] No further splits with positive gain, best gain: -inf\n",
      "[LightGBM] [Warning] No further splits with positive gain, best gain: -inf\n",
      "f1_score 평가 결과 \n",
      "랜덤포레스트 : 0.702\n",
      "뉴럴네트워트: 0.487\n",
      "lightgbm : 0.320\n"
     ]
    }
   ],
   "source": [
    "print('데이터 분할')\n",
    "x_train, x_test, y_train, y_test = train_test_split(df_smote_x, df_smote_y, random_state=123, test_size = 0.3)\n",
    "\n",
    "rf = RandomForestClassifier(n_estimators = 500)\n",
    "model_rf = rf.fit(np.array(x_train), y_train)\n",
    "pred_rf = model_rf.predict(np.array(x_test))\n",
    "\n",
    "nn = MLPClassifier()\n",
    "model_nn = nn.fit(np.array(x_train), y_train)\n",
    "pred_nn = model_nn.predict(np.array(x_test))\n",
    "\n",
    "lgbm = LGBMClassifier(n_estimators = 5, verbose=0, max_depth = 2)\n",
    "model_lgbm = lgbm.fit(np.array(x_train), y_train)\n",
    "pred_lgbm = model_lgbm.predict(np.array(x_test))\n",
    "\n",
    "f1_rf = f1_score(y_test, pred_rf, average = 'micro')\n",
    "f1_nn = f1_score(y_test, pred_nn, average = 'micro')\n",
    "f1_lgbm = f1_score(y_test, pred_lgbm, average = 'micro')\n",
    "\n",
    "print('f1_score 평가 결과 \\n랜덤포레스트 : {:.3f}\\n뉴럴네트워트: {:.3f}\\nlightgbm : {:.3f}'.format(f1_rf, f1_nn, f1_lgbm))\n"
   ]
  },
  {
   "cell_type": "markdown",
   "id": "0f4a2e0e",
   "metadata": {},
   "source": [
    "#### [답안]\n",
    "- 1-2에서 pca를 적용한 데이터로 랜덤포레스트와 뉴럴네트워크, lightgbm 세 모델을 적용하고 f1 score로 비교하였다. 그 결과 랜덤포레스트 0.702 > 뉴럴네트워크 0.487 > lightgbm 0.32의 결과가 나왔다. "
   ]
  },
  {
   "cell_type": "markdown",
   "id": "f588269b",
   "metadata": {},
   "source": [
    "## 2-2. hard voting, soft voting에 대한 장단점을 설명하고 2-1의 3가지 모델로 구현하라. 두 방식의 f1-score를 비교하라 (10점)"
   ]
  },
  {
   "cell_type": "code",
   "execution_count": 73,
   "id": "63e83f7f",
   "metadata": {},
   "outputs": [
    {
     "name": "stdout",
     "output_type": "stream",
     "text": [
      "[LightGBM] [Warning] No further splits with positive gain, best gain: -inf\n",
      "[LightGBM] [Warning] No further splits with positive gain, best gain: -inf\n",
      "[LightGBM] [Warning] No further splits with positive gain, best gain: -inf\n",
      "[LightGBM] [Warning] No further splits with positive gain, best gain: -inf\n",
      "[LightGBM] [Warning] No further splits with positive gain, best gain: -inf\n",
      "[LightGBM] [Warning] No further splits with positive gain, best gain: -inf\n",
      "[LightGBM] [Warning] No further splits with positive gain, best gain: -inf\n",
      "[LightGBM] [Warning] No further splits with positive gain, best gain: -inf\n",
      "f1_score 평가 결과 \n",
      "hard voting : 0.549\n",
      "soft voting: 0.604\n"
     ]
    }
   ],
   "source": [
    "# VotingClassifier를 사용하여 하드 보팅 구현\n",
    "hard_voting = VotingClassifier(estimators=[('rf', model_rf), ('nn', model_nn), ('lgbm', model_lgbm)], voting='hard')\n",
    "hard_voting.fit(x_train, y_train)\n",
    "pred_hard = hard_voting.predict(x_test)\n",
    "\n",
    "# VotingClassifier를 사용하여 소프트 보팅 구현\n",
    "soft_voting = VotingClassifier(estimators=[('rf', model_rf), ('nn', model_nn), ('lgbm', model_lgbm)], voting='soft')\n",
    "soft_voting.fit(x_train, y_train)\n",
    "pred_soft = soft_voting.predict(x_test)\n",
    "\n",
    "# 평가\n",
    "f1_hard = f1_score(y_test, pred_hard, average = 'micro')\n",
    "f1_soft = f1_score(y_test, pred_soft, average = 'micro')\n",
    "\n",
    "print('f1_score 평가 결과 \\nhard voting : {:.3f}\\nsoft voting: {:.3f}'.format(f1_hard, f1_soft))\n"
   ]
  },
  {
   "cell_type": "markdown",
   "id": "9fe22dc2",
   "metadata": {},
   "source": [
    "#### [답안]\n",
    "- hard voting은 각 모델의 예측값을 바탕으로 다수결 투표하는 방식으로 모든 개별 모델이 동일한 중요도를 갖고 있을때 효과적인 장점이 있으나 성능이 뛰어난 모델과 약한 모델의 가중치를 구분하지 못하다는 단점이 있다.\n",
    "- soft voting은 예측값들의 평균 및 가중치 합을 사용하는 방식으로 불확실성을 더 잘 다룰 수 있지만 모든 모델의 예측 확률을 독립적으로 계산할 수 없는 경우 사용하기 어렵다는 단점이 있다.\n",
    "- 두 voting을 적용한 결과 soft voting(0.604) > hard voting(0.549)로 soft_voting이 더 좋은 결과를 얻었다.\n"
   ]
  },
  {
   "cell_type": "markdown",
   "id": "36af4dad",
   "metadata": {},
   "source": [
    "## 2-3. 총 5개 모델(RF, NN, LGBM, 하드보팅, 소프트보팅) 중 실시간 온라인 시스템에 가장 적합한 모델과 선정이유를 객관적으로 제시하라 (5점)"
   ]
  },
  {
   "cell_type": "markdown",
   "id": "e5d6156f",
   "metadata": {},
   "source": [
    "#### [답안]\n",
    "- 5개의 모델에서 실시간 온라인 시스템에 가장 적합한 모델은 랜덤포레스트이다. 다른 모델과 성능차가 많이 나는데다가 성능이 가장 좋기 때문이다. nn, lgbm의 경우 랜덤포레스트에 비해 성능이 너무 떨어지기 때문에 하드보팅이나 소프트보팅으로 그 예측값을 넣는 것은 좋지 않다. 성능차가 크게 없었더라면  소프트 보팅을 선택했을 것이다."
   ]
  },
  {
   "cell_type": "markdown",
   "id": "23b50753",
   "metadata": {},
   "source": [
    "## 3-1. 적정 모델과 선정 및 모델링 과정에서 추가적으로 고려해볼 만한 사항은? (5점)"
   ]
  },
  {
   "cell_type": "markdown",
   "id": "4b32ab9e",
   "metadata": {},
   "source": [
    "#### [답안]\n",
    "- grid search를 통해 하이퍼파라미터를 선택하는 과정을 추가하여 각 모델의 성능을 끌어올리면 좋을 것 같다."
   ]
  },
  {
   "cell_type": "markdown",
   "id": "755df3dd",
   "metadata": {},
   "source": [
    "## 3-2. 모델을 학교 시스템에 적용하여 활용하려한다. 모델 적용 및 운영과정에서 고려해볼 만한 사항? (5점)"
   ]
  },
  {
   "cell_type": "markdown",
   "id": "9f0159dd",
   "metadata": {},
   "source": [
    "#### [답안] (1시간 20분)\n",
    "- 모델을 실제 업무에 적용할 때 성능도 중요하지만 데이터 수집과 비용, 시간이 중요하다. 데이터 수집단계에서 담당자의 업무로드가 클 수 있기 때문에 최대한 자동화하는 것이 좋고 또, 데이터수집부터 분류 결과까지의 시간이 어느정도 걸리는지 체크해서 효율적으로 계산비용이 적게 코드를 작성하는 것이 좋다."
   ]
  },
  {
   "cell_type": "markdown",
   "id": "a64d1511",
   "metadata": {},
   "source": [
    "# 통계 (50점)"
   ]
  },
  {
   "cell_type": "markdown",
   "id": "c3e2f17b",
   "metadata": {},
   "source": [
    "# 4번 데이터\n",
    "- 데이터 url : https://raw.githubusercontent.com/Datamanim/datarepo/main/adp/28/p4_.csv\n",
    "- status : 생존 여부 (death: 죽음 / event lost: 생존)\n",
    "- company : 회사구분"
   ]
  },
  {
   "cell_type": "code",
   "execution_count": 286,
   "id": "58f8f845",
   "metadata": {
    "scrolled": true
   },
   "outputs": [
    {
     "data": {
      "text/html": [
       "<div>\n",
       "<style scoped>\n",
       "    .dataframe tbody tr th:only-of-type {\n",
       "        vertical-align: middle;\n",
       "    }\n",
       "\n",
       "    .dataframe tbody tr th {\n",
       "        vertical-align: top;\n",
       "    }\n",
       "\n",
       "    .dataframe thead th {\n",
       "        text-align: right;\n",
       "    }\n",
       "</style>\n",
       "<table border=\"1\" class=\"dataframe\">\n",
       "  <thead>\n",
       "    <tr style=\"text-align: right;\">\n",
       "      <th></th>\n",
       "      <th>time(month)</th>\n",
       "      <th>status</th>\n",
       "      <th>company</th>\n",
       "    </tr>\n",
       "  </thead>\n",
       "  <tbody>\n",
       "    <tr>\n",
       "      <th>0</th>\n",
       "      <td>1</td>\n",
       "      <td>event lost</td>\n",
       "      <td>X</td>\n",
       "    </tr>\n",
       "    <tr>\n",
       "      <th>1</th>\n",
       "      <td>2</td>\n",
       "      <td>event lost</td>\n",
       "      <td>X</td>\n",
       "    </tr>\n",
       "    <tr>\n",
       "      <th>2</th>\n",
       "      <td>3</td>\n",
       "      <td>event lost</td>\n",
       "      <td>X</td>\n",
       "    </tr>\n",
       "    <tr>\n",
       "      <th>3</th>\n",
       "      <td>4</td>\n",
       "      <td>event lost</td>\n",
       "      <td>X</td>\n",
       "    </tr>\n",
       "    <tr>\n",
       "      <th>4</th>\n",
       "      <td>5</td>\n",
       "      <td>event lost</td>\n",
       "      <td>X</td>\n",
       "    </tr>\n",
       "  </tbody>\n",
       "</table>\n",
       "</div>"
      ],
      "text/plain": [
       "   time(month)      status company\n",
       "0            1  event lost       X\n",
       "1            2  event lost       X\n",
       "2            3  event lost       X\n",
       "3            4  event lost       X\n",
       "4            5  event lost       X"
      ]
     },
     "execution_count": 286,
     "metadata": {},
     "output_type": "execute_result"
    }
   ],
   "source": [
    "import pandas as pd \n",
    "df = pd.read_csv('https://raw.githubusercontent.com/Datamanim/datarepo/main/adp/28/p4_.csv')\n",
    "df.head()"
   ]
  },
  {
   "cell_type": "markdown",
   "id": "b9f1a4d2",
   "metadata": {},
   "source": [
    "## 4-1 Kaplan Meier 방법 사용 생존분석 수행. 회사부품별 25, 35, 45 개월에서의 생존 확률 (소숫점 3자리 ,5점)"
   ]
  },
  {
   "cell_type": "code",
   "execution_count": null,
   "id": "7234d9b5",
   "metadata": {},
   "outputs": [],
   "source": []
  },
  {
   "cell_type": "markdown",
   "id": "6e57b63b",
   "metadata": {},
   "source": [
    "## 4-2 두 회사간 생존시간 차이를 log-rank 방식으로 검정하시오. 가설설정, 통계량, 귀무가설 기각여부 판단(10점)"
   ]
  },
  {
   "cell_type": "code",
   "execution_count": null,
   "id": "a333d019",
   "metadata": {},
   "outputs": [],
   "source": []
  },
  {
   "cell_type": "markdown",
   "id": "f78eb591",
   "metadata": {},
   "source": [
    "# 5번 데이터\n",
    "- 데이터 url: https://raw.githubusercontent.com/Datamanim/datarepo/main/adp/28/p5_.csv \n",
    "- data형식\n",
    "    - 한 유저가 시식 전 물건 구매의사 유,무와 시식 후 구매의사 유,무에 대한 응답을 나타낸 데이터\n",
    "    - {시식전} _ {구매의사 유 or 무} __ {시식후} _ {구매의사 유 or 무}\n"
   ]
  },
  {
   "cell_type": "code",
   "execution_count": 1,
   "id": "9cea5ad7",
   "metadata": {},
   "outputs": [
    {
     "data": {
      "text/html": [
       "<div>\n",
       "<style scoped>\n",
       "    .dataframe tbody tr th:only-of-type {\n",
       "        vertical-align: middle;\n",
       "    }\n",
       "\n",
       "    .dataframe tbody tr th {\n",
       "        vertical-align: top;\n",
       "    }\n",
       "\n",
       "    .dataframe thead th {\n",
       "        text-align: right;\n",
       "    }\n",
       "</style>\n",
       "<table border=\"1\" class=\"dataframe\">\n",
       "  <thead>\n",
       "    <tr style=\"text-align: right;\">\n",
       "      <th></th>\n",
       "      <th>data</th>\n",
       "      <th>userId</th>\n",
       "    </tr>\n",
       "  </thead>\n",
       "  <tbody>\n",
       "    <tr>\n",
       "      <th>0</th>\n",
       "      <td>시식전_유__시식후_유</td>\n",
       "      <td>user_1</td>\n",
       "    </tr>\n",
       "    <tr>\n",
       "      <th>1</th>\n",
       "      <td>시식전_유__시식후_유</td>\n",
       "      <td>user_2</td>\n",
       "    </tr>\n",
       "    <tr>\n",
       "      <th>2</th>\n",
       "      <td>시식전_유__시식후_유</td>\n",
       "      <td>user_3</td>\n",
       "    </tr>\n",
       "    <tr>\n",
       "      <th>3</th>\n",
       "      <td>시식전_유__시식후_유</td>\n",
       "      <td>user_4</td>\n",
       "    </tr>\n",
       "    <tr>\n",
       "      <th>4</th>\n",
       "      <td>시식전_유__시식후_유</td>\n",
       "      <td>user_5</td>\n",
       "    </tr>\n",
       "  </tbody>\n",
       "</table>\n",
       "</div>"
      ],
      "text/plain": [
       "           data  userId\n",
       "0  시식전_유__시식후_유  user_1\n",
       "1  시식전_유__시식후_유  user_2\n",
       "2  시식전_유__시식후_유  user_3\n",
       "3  시식전_유__시식후_유  user_4\n",
       "4  시식전_유__시식후_유  user_5"
      ]
     },
     "execution_count": 1,
     "metadata": {},
     "output_type": "execute_result"
    }
   ],
   "source": [
    "import pandas as pd \n",
    "df = pd.read_csv('https://raw.githubusercontent.com/Datamanim/datarepo/main/adp/28/p5_.csv')\n",
    "df.head()"
   ]
  },
  {
   "cell_type": "markdown",
   "id": "3291017d",
   "metadata": {},
   "source": [
    "## 5-1 시식여부가 구매의사에 영향을 주는지 가설을 설정하시오(5점)"
   ]
  },
  {
   "cell_type": "code",
   "execution_count": null,
   "id": "524807a6",
   "metadata": {},
   "outputs": [],
   "source": []
  },
  {
   "cell_type": "markdown",
   "id": "76bf890e",
   "metadata": {},
   "source": [
    "## 5-2 검정하고 결과를 분석하시오(5점)"
   ]
  },
  {
   "cell_type": "code",
   "execution_count": null,
   "id": "9db689b8",
   "metadata": {},
   "outputs": [],
   "source": []
  },
  {
   "cell_type": "markdown",
   "id": "dd2d663e",
   "metadata": {},
   "source": [
    "# 6번 데이터\n",
    "- 데이터 url: https://raw.githubusercontent.com/Datamanim/datarepo/main/adp/28/p6.csv "
   ]
  },
  {
   "cell_type": "markdown",
   "id": "c9f96c6f",
   "metadata": {},
   "source": [
    "## 6-1 A,B 지역 학생의 점수에 차이가 있는지 가설을 설정하고 정하시오 (10점)"
   ]
  },
  {
   "cell_type": "code",
   "execution_count": 12,
   "id": "636aa10c",
   "metadata": {
    "scrolled": false
   },
   "outputs": [
    {
     "data": {
      "text/html": [
       "<div>\n",
       "<style scoped>\n",
       "    .dataframe tbody tr th:only-of-type {\n",
       "        vertical-align: middle;\n",
       "    }\n",
       "\n",
       "    .dataframe tbody tr th {\n",
       "        vertical-align: top;\n",
       "    }\n",
       "\n",
       "    .dataframe thead th {\n",
       "        text-align: right;\n",
       "    }\n",
       "</style>\n",
       "<table border=\"1\" class=\"dataframe\">\n",
       "  <thead>\n",
       "    <tr style=\"text-align: right;\">\n",
       "      <th></th>\n",
       "      <th>score</th>\n",
       "      <th>school_name</th>\n",
       "      <th>ID</th>\n",
       "    </tr>\n",
       "  </thead>\n",
       "  <tbody>\n",
       "    <tr>\n",
       "      <th>0</th>\n",
       "      <td>91.0</td>\n",
       "      <td>A</td>\n",
       "      <td>1</td>\n",
       "    </tr>\n",
       "    <tr>\n",
       "      <th>1</th>\n",
       "      <td>NaN</td>\n",
       "      <td>A</td>\n",
       "      <td>2</td>\n",
       "    </tr>\n",
       "    <tr>\n",
       "      <th>2</th>\n",
       "      <td>NaN</td>\n",
       "      <td>A</td>\n",
       "      <td>3</td>\n",
       "    </tr>\n",
       "  </tbody>\n",
       "</table>\n",
       "</div>"
      ],
      "text/plain": [
       "   score school_name  ID\n",
       "0   91.0           A   1\n",
       "1    NaN           A   2\n",
       "2    NaN           A   3"
      ]
     },
     "metadata": {},
     "output_type": "display_data"
    },
    {
     "name": "stdout",
     "output_type": "stream",
     "text": [
      "BartlettResult(statistic=5.632798481244901, pvalue=0.01762746829155786)\n",
      "TtestResult(statistic=-2.0511995199124358, pvalue=0.0635266327411075, df=11.604337033322173)\n"
     ]
    }
   ],
   "source": [
    "import pandas as pd \n",
    "df = pd.read_csv('https://raw.githubusercontent.com/Datamanim/datarepo/main/adp/28/p6.csv')\n",
    "display(df.head(3))\n",
    "# 결측 제거\n",
    "df2 = df.dropna()\n",
    "a = df2.loc[df2.school_name == 'A', 'score']\n",
    "b = df2.loc[df2.school_name == 'B', 'score']\n",
    "\n",
    "\n",
    "print(stats.bartlett(a, b))\n",
    "print(stats.ttest_ind(a, b, equal_var=False))\n"
   ]
  },
  {
   "cell_type": "markdown",
   "id": "b2869688",
   "metadata": {},
   "source": [
    "#### [답안]\n",
    "- 귀무가설(H0): A, B지역 학생의 점수에 차이가 없다.\n",
    "- 연구가설(H1): A, B지역 학생의 점수에 차이가 있다.\n",
    "- 귀무가설(H0): A, B지역 학생의 점수가 등분산이다.\n",
    "- 연구가설(H1): A, B지역 학생의 점수가 등분산이 아니다.\n",
    "- 먼저 가설검정을 하기 전 데이터의 결측을 제거한 후 분산 검정을 수행했다. 그 결과 유의확률이 0.017로 유의수준이 0.05보다 작으므로 귀무가설을 기각한다. 즉 등분산이 아니다. \n",
    "- 그런 후 독립표본 t검정을 실시한 결과 유의확률이 0.063으로 유의수준이 0.05보다 크므로 귀무가설을 기각하지 못한다. 즉 두 지역 학생의 점수차는 없다.\n"
   ]
  },
  {
   "cell_type": "markdown",
   "id": "64240938",
   "metadata": {},
   "source": [
    "# 7번 데이터\n",
    "- 데이터 출처 : https://www.kaggle.com/datasets/hangawqadir/erbil-heart-disease-dataset\n",
    "- 데이터 url : https://raw.githubusercontent.com/Datamanim/datarepo/main/adp/28/p7.csv\n",
    "- 연령, 몸무게,콜레스테롤 수치 데이터"
   ]
  },
  {
   "cell_type": "code",
   "execution_count": 13,
   "id": "0ef5d6c0",
   "metadata": {
    "scrolled": false
   },
   "outputs": [
    {
     "data": {
      "text/html": [
       "<div>\n",
       "<style scoped>\n",
       "    .dataframe tbody tr th:only-of-type {\n",
       "        vertical-align: middle;\n",
       "    }\n",
       "\n",
       "    .dataframe tbody tr th {\n",
       "        vertical-align: top;\n",
       "    }\n",
       "\n",
       "    .dataframe thead th {\n",
       "        text-align: right;\n",
       "    }\n",
       "</style>\n",
       "<table border=\"1\" class=\"dataframe\">\n",
       "  <thead>\n",
       "    <tr style=\"text-align: right;\">\n",
       "      <th></th>\n",
       "      <th>age</th>\n",
       "      <th>Cholesterol</th>\n",
       "      <th>weight</th>\n",
       "    </tr>\n",
       "  </thead>\n",
       "  <tbody>\n",
       "    <tr>\n",
       "      <th>0</th>\n",
       "      <td>65</td>\n",
       "      <td>69.0</td>\n",
       "      <td>111.0</td>\n",
       "    </tr>\n",
       "    <tr>\n",
       "      <th>1</th>\n",
       "      <td>54</td>\n",
       "      <td>117.0</td>\n",
       "      <td>81.0</td>\n",
       "    </tr>\n",
       "    <tr>\n",
       "      <th>2</th>\n",
       "      <td>61</td>\n",
       "      <td>86.2</td>\n",
       "      <td>72.0</td>\n",
       "    </tr>\n",
       "    <tr>\n",
       "      <th>3</th>\n",
       "      <td>57</td>\n",
       "      <td>76.0</td>\n",
       "      <td>78.0</td>\n",
       "    </tr>\n",
       "    <tr>\n",
       "      <th>4</th>\n",
       "      <td>62</td>\n",
       "      <td>160.0</td>\n",
       "      <td>61.0</td>\n",
       "    </tr>\n",
       "  </tbody>\n",
       "</table>\n",
       "</div>"
      ],
      "text/plain": [
       "   age  Cholesterol  weight\n",
       "0   65         69.0   111.0\n",
       "1   54        117.0    81.0\n",
       "2   61         86.2    72.0\n",
       "3   57         76.0    78.0\n",
       "4   62        160.0    61.0"
      ]
     },
     "execution_count": 13,
     "metadata": {},
     "output_type": "execute_result"
    }
   ],
   "source": [
    "import pandas as pd \n",
    "df = pd.read_csv('https://raw.githubusercontent.com/Datamanim/datarepo/main/adp/28/p7.csv')\n",
    "df.head()"
   ]
  },
  {
   "cell_type": "markdown",
   "id": "81c5bb7c",
   "metadata": {},
   "source": [
    "## 7-1 몸무게를 제어한다고 생각하고,  나이와 콜레스테롤 상관계수 및 유의확률 구하라(10점)"
   ]
  },
  {
   "cell_type": "code",
   "execution_count": 17,
   "id": "6945eb14",
   "metadata": {},
   "outputs": [
    {
     "name": "stdout",
     "output_type": "stream",
     "text": [
      "                            OLS Regression Results                            \n",
      "==============================================================================\n",
      "Dep. Variable:                 weight   R-squared:                       0.044\n",
      "Model:                            OLS   Adj. R-squared:                  0.038\n",
      "Method:                 Least Squares   F-statistic:                     7.574\n",
      "Date:                Thu, 26 Oct 2023   Prob (F-statistic):           0.000608\n",
      "Time:                        23:10:39   Log-Likelihood:                -1374.9\n",
      "No. Observations:                 333   AIC:                             2756.\n",
      "Df Residuals:                     330   BIC:                             2767.\n",
      "Df Model:                           2                                         \n",
      "Covariance Type:            nonrobust                                         \n",
      "===============================================================================\n",
      "                  coef    std err          t      P>|t|      [0.025      0.975]\n",
      "-------------------------------------------------------------------------------\n",
      "const          74.8953      4.455     16.813      0.000      66.132      83.658\n",
      "age            -0.0361      0.059     -0.611      0.542      -0.152       0.080\n",
      "Cholesterol     0.0819      0.022      3.716      0.000       0.039       0.125\n",
      "==============================================================================\n",
      "Omnibus:                       15.848   Durbin-Watson:                   2.033\n",
      "Prob(Omnibus):                  0.000   Jarque-Bera (JB):               17.569\n",
      "Skew:                           0.471   Prob(JB):                     0.000153\n",
      "Kurtosis:                       3.617   Cond. No.                         701.\n",
      "==============================================================================\n",
      "\n",
      "Notes:\n",
      "[1] Standard Errors assume that the covariance matrix of the errors is correctly specified.\n",
      "0.20976176963403032\n"
     ]
    }
   ],
   "source": [
    "import pandas as pd\n",
    "import statsmodels.api as sm\n",
    "\n",
    "# 독립 변수 (나이, 콜레스테롤)에 상수항(intercept)을 추가함\n",
    "X = sm.add_constant(df[['age', 'Cholesterol']])\n",
    "\n",
    "# 다중 선형 회귀 모델\n",
    "model = sm.OLS(df['weight'], X).fit()\n",
    "\n",
    "print(model.summary())\n",
    "print(np.sqrt(0.044))"
   ]
  },
  {
   "cell_type": "markdown",
   "id": "92222a3c",
   "metadata": {},
   "source": [
    "- 나이와 콜레스테롤 상관계수는 결정계수의 제곱근인 0.209이고 유의확률은 0.000608이다."
   ]
  },
  {
   "cell_type": "markdown",
   "id": "bfa0ad3d",
   "metadata": {},
   "source": [
    "## 7-2 상관계수를 유의수준 0.05하에서 검정하라 (5점)"
   ]
  },
  {
   "cell_type": "code",
   "execution_count": null,
   "id": "188f9290",
   "metadata": {},
   "outputs": [],
   "source": []
  }
 ],
 "metadata": {
  "kernelspec": {
   "display_name": "Python 3 (ipykernel)",
   "language": "python",
   "name": "python3"
  },
  "language_info": {
   "codemirror_mode": {
    "name": "ipython",
    "version": 3
   },
   "file_extension": ".py",
   "mimetype": "text/x-python",
   "name": "python",
   "nbconvert_exporter": "python",
   "pygments_lexer": "ipython3",
   "version": "3.11.5"
  }
 },
 "nbformat": 4,
 "nbformat_minor": 5
}
