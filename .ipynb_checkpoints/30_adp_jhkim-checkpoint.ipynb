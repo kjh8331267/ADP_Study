{
 "cells": [
  {
   "cell_type": "markdown",
   "id": "1e530f30",
   "metadata": {},
   "source": [
    "# ADP 30회 실기 문제\n",
    "- 23.10.09 5시간 17분"
   ]
  },
  {
   "cell_type": "markdown",
   "id": "d0c9251b",
   "metadata": {},
   "source": [
    "# 기계학습 (60점)"
   ]
  },
  {
   "cell_type": "code",
   "execution_count": 10,
   "id": "387bb42c",
   "metadata": {},
   "outputs": [],
   "source": [
    "import pandas as pd\n",
    "import numpy as np\n",
    "import scipy as stats\n",
    "import matplotlib.pyplot as plt\n",
    "\n",
    "from sklearn.preprocessing import StandardScaler\n",
    "from sklearn.model_selection import train_test_split\n",
    "from sklearn.decomposition import PCA\n",
    "from statsmodels.formula.api import ols\n",
    "\n",
    "from statsmodels.stats.stattools import jarque_bera, durbin_watson\n",
    "from scipy.stats import probplot\n",
    "\n",
    "from sklearn.ensemble import RandomForestRegressor\n",
    "from xgboost import XGBRegressor\n",
    "from lightgbm import LGBMRegressor\n",
    "\n",
    "from statsmodels.tools.eval_measures import rmse\n",
    "\n",
    "from sklearn.model_selection import GridSearchCV, KFold\n",
    "import seaborn as sns\n",
    "\n",
    "from scipy import stats\n",
    "from collections import Counter\n",
    "from imblearn.over_sampling import SMOTE\n",
    "\n",
    "from xgboost import XGBClassifier\n",
    "from sklearn.linear_model import LogisticRegression\n",
    "from sklearn.metrics import accuracy_score\n",
    "from scipy.stats import binom\n",
    "\n",
    "from pulp import LpProblem, LpMinimize, LpVariable\n",
    "\n",
    "import warnings\n",
    "warnings.filterwarnings('ignore')\n"
   ]
  },
  {
   "cell_type": "markdown",
   "id": "435ce658",
   "metadata": {},
   "source": [
    "## 데이터 설명\n",
    "- 데이터 출처 : 캐글어딘가.. 후처리\n",
    "- 데이터 링크 : https://raw.githubusercontent.com/Datamanim/datarepo/main/adp/30/p1.csv\n",
    "- 데이터 설명 : 혈압 데이터 DBP"
   ]
  },
  {
   "cell_type": "code",
   "execution_count": 11,
   "id": "3ad5d3bb",
   "metadata": {
    "scrolled": true
   },
   "outputs": [
    {
     "data": {
      "text/html": [
       "<div>\n",
       "<style scoped>\n",
       "    .dataframe tbody tr th:only-of-type {\n",
       "        vertical-align: middle;\n",
       "    }\n",
       "\n",
       "    .dataframe tbody tr th {\n",
       "        vertical-align: top;\n",
       "    }\n",
       "\n",
       "    .dataframe thead th {\n",
       "        text-align: right;\n",
       "    }\n",
       "</style>\n",
       "<table border=\"1\" class=\"dataframe\">\n",
       "  <thead>\n",
       "    <tr style=\"text-align: right;\">\n",
       "      <th></th>\n",
       "      <th>Age</th>\n",
       "      <th>Gender</th>\n",
       "      <th>BMI</th>\n",
       "      <th>DBP</th>\n",
       "      <th>FPG</th>\n",
       "      <th>Chol</th>\n",
       "      <th>Tri</th>\n",
       "      <th>HDL</th>\n",
       "      <th>LDL</th>\n",
       "      <th>ALT</th>\n",
       "      <th>CCR</th>\n",
       "      <th>FFPG</th>\n",
       "    </tr>\n",
       "  </thead>\n",
       "  <tbody>\n",
       "    <tr>\n",
       "      <th>0</th>\n",
       "      <td>26</td>\n",
       "      <td>1</td>\n",
       "      <td>20.1</td>\n",
       "      <td>81</td>\n",
       "      <td>5.80</td>\n",
       "      <td>4.36</td>\n",
       "      <td>0.86</td>\n",
       "      <td>0.90</td>\n",
       "      <td>2.43</td>\n",
       "      <td>12.0</td>\n",
       "      <td>63.8</td>\n",
       "      <td>5.40</td>\n",
       "    </tr>\n",
       "    <tr>\n",
       "      <th>1</th>\n",
       "      <td>40</td>\n",
       "      <td>1</td>\n",
       "      <td>17.7</td>\n",
       "      <td>54</td>\n",
       "      <td>4.60</td>\n",
       "      <td>3.70</td>\n",
       "      <td>1.02</td>\n",
       "      <td>1.50</td>\n",
       "      <td>2.04</td>\n",
       "      <td>9.2</td>\n",
       "      <td>70.3</td>\n",
       "      <td>4.10</td>\n",
       "    </tr>\n",
       "    <tr>\n",
       "      <th>2</th>\n",
       "      <td>40</td>\n",
       "      <td>2</td>\n",
       "      <td>19.7</td>\n",
       "      <td>53</td>\n",
       "      <td>5.30</td>\n",
       "      <td>5.87</td>\n",
       "      <td>1.29</td>\n",
       "      <td>1.75</td>\n",
       "      <td>3.37</td>\n",
       "      <td>10.1</td>\n",
       "      <td>61.1</td>\n",
       "      <td>4.85</td>\n",
       "    </tr>\n",
       "    <tr>\n",
       "      <th>3</th>\n",
       "      <td>43</td>\n",
       "      <td>1</td>\n",
       "      <td>23.1</td>\n",
       "      <td>71</td>\n",
       "      <td>4.50</td>\n",
       "      <td>4.05</td>\n",
       "      <td>0.74</td>\n",
       "      <td>1.27</td>\n",
       "      <td>2.60</td>\n",
       "      <td>36.5</td>\n",
       "      <td>73.4</td>\n",
       "      <td>5.30</td>\n",
       "    </tr>\n",
       "    <tr>\n",
       "      <th>4</th>\n",
       "      <td>36</td>\n",
       "      <td>1</td>\n",
       "      <td>26.5</td>\n",
       "      <td>82</td>\n",
       "      <td>5.54</td>\n",
       "      <td>6.69</td>\n",
       "      <td>3.49</td>\n",
       "      <td>0.91</td>\n",
       "      <td>3.64</td>\n",
       "      <td>69.3</td>\n",
       "      <td>67.5</td>\n",
       "      <td>5.53</td>\n",
       "    </tr>\n",
       "  </tbody>\n",
       "</table>\n",
       "</div>"
      ],
      "text/plain": [
       "   Age  Gender   BMI  DBP   FPG  Chol   Tri   HDL   LDL   ALT   CCR  FFPG\n",
       "0   26       1  20.1   81  5.80  4.36  0.86  0.90  2.43  12.0  63.8  5.40\n",
       "1   40       1  17.7   54  4.60  3.70  1.02  1.50  2.04   9.2  70.3  4.10\n",
       "2   40       2  19.7   53  5.30  5.87  1.29  1.75  3.37  10.1  61.1  4.85\n",
       "3   43       1  23.1   71  4.50  4.05  0.74  1.27  2.60  36.5  73.4  5.30\n",
       "4   36       1  26.5   82  5.54  6.69  3.49  0.91  3.64  69.3  67.5  5.53"
      ]
     },
     "execution_count": 11,
     "metadata": {},
     "output_type": "execute_result"
    }
   ],
   "source": [
    "#encoding = ['utf-8','cp949','utf-8-sig','euc-kr','latin']\n",
    "df =pd.read_csv('https://raw.githubusercontent.com/Datamanim/datarepo/main/adp/30/p1.csv',encoding= 'cp949')\n",
    "df.head()"
   ]
  },
  {
   "cell_type": "markdown",
   "id": "c9373a22",
   "metadata": {},
   "source": [
    "## 1-1  EDA를 시행하라 "
   ]
  },
  {
   "cell_type": "code",
   "execution_count": 12,
   "id": "e7df5beb",
   "metadata": {
    "scrolled": false
   },
   "outputs": [
    {
     "name": "stdout",
     "output_type": "stream",
     "text": [
      "- 데이터 샘플 확인\n"
     ]
    },
    {
     "data": {
      "text/html": [
       "<div>\n",
       "<style scoped>\n",
       "    .dataframe tbody tr th:only-of-type {\n",
       "        vertical-align: middle;\n",
       "    }\n",
       "\n",
       "    .dataframe tbody tr th {\n",
       "        vertical-align: top;\n",
       "    }\n",
       "\n",
       "    .dataframe thead th {\n",
       "        text-align: right;\n",
       "    }\n",
       "</style>\n",
       "<table border=\"1\" class=\"dataframe\">\n",
       "  <thead>\n",
       "    <tr style=\"text-align: right;\">\n",
       "      <th></th>\n",
       "      <th>Age</th>\n",
       "      <th>Gender</th>\n",
       "      <th>BMI</th>\n",
       "      <th>DBP</th>\n",
       "      <th>FPG</th>\n",
       "      <th>Chol</th>\n",
       "      <th>Tri</th>\n",
       "      <th>HDL</th>\n",
       "      <th>LDL</th>\n",
       "      <th>ALT</th>\n",
       "      <th>CCR</th>\n",
       "      <th>FFPG</th>\n",
       "    </tr>\n",
       "  </thead>\n",
       "  <tbody>\n",
       "    <tr>\n",
       "      <th>0</th>\n",
       "      <td>26</td>\n",
       "      <td>1</td>\n",
       "      <td>20.1</td>\n",
       "      <td>81</td>\n",
       "      <td>5.8</td>\n",
       "      <td>4.36</td>\n",
       "      <td>0.86</td>\n",
       "      <td>0.90</td>\n",
       "      <td>2.43</td>\n",
       "      <td>12.0</td>\n",
       "      <td>63.8</td>\n",
       "      <td>5.40</td>\n",
       "    </tr>\n",
       "    <tr>\n",
       "      <th>1</th>\n",
       "      <td>40</td>\n",
       "      <td>1</td>\n",
       "      <td>17.7</td>\n",
       "      <td>54</td>\n",
       "      <td>4.6</td>\n",
       "      <td>3.70</td>\n",
       "      <td>1.02</td>\n",
       "      <td>1.50</td>\n",
       "      <td>2.04</td>\n",
       "      <td>9.2</td>\n",
       "      <td>70.3</td>\n",
       "      <td>4.10</td>\n",
       "    </tr>\n",
       "    <tr>\n",
       "      <th>2</th>\n",
       "      <td>40</td>\n",
       "      <td>2</td>\n",
       "      <td>19.7</td>\n",
       "      <td>53</td>\n",
       "      <td>5.3</td>\n",
       "      <td>5.87</td>\n",
       "      <td>1.29</td>\n",
       "      <td>1.75</td>\n",
       "      <td>3.37</td>\n",
       "      <td>10.1</td>\n",
       "      <td>61.1</td>\n",
       "      <td>4.85</td>\n",
       "    </tr>\n",
       "  </tbody>\n",
       "</table>\n",
       "</div>"
      ],
      "text/plain": [
       "   Age  Gender   BMI  DBP  FPG  Chol   Tri   HDL   LDL   ALT   CCR  FFPG\n",
       "0   26       1  20.1   81  5.8  4.36  0.86  0.90  2.43  12.0  63.8  5.40\n",
       "1   40       1  17.7   54  4.6  3.70  1.02  1.50  2.04   9.2  70.3  4.10\n",
       "2   40       2  19.7   53  5.3  5.87  1.29  1.75  3.37  10.1  61.1  4.85"
      ]
     },
     "metadata": {},
     "output_type": "display_data"
    },
    {
     "name": "stdout",
     "output_type": "stream",
     "text": [
      "- 데이터 유형 확인\n",
      "<class 'pandas.core.frame.DataFrame'>\n",
      "RangeIndex: 4303 entries, 0 to 4302\n",
      "Data columns (total 12 columns):\n",
      " #   Column  Non-Null Count  Dtype  \n",
      "---  ------  --------------  -----  \n",
      " 0   Age     4303 non-null   int64  \n",
      " 1   Gender  4303 non-null   int64  \n",
      " 2   BMI     4303 non-null   float64\n",
      " 3   DBP     4303 non-null   int64  \n",
      " 4   FPG     4303 non-null   float64\n",
      " 5   Chol    4302 non-null   float64\n",
      " 6   Tri     4303 non-null   float64\n",
      " 7   HDL     4303 non-null   float64\n",
      " 8   LDL     4303 non-null   float64\n",
      " 9   ALT     4303 non-null   float64\n",
      " 10  CCR     4303 non-null   float64\n",
      " 11  FFPG    4303 non-null   float64\n",
      "dtypes: float64(9), int64(3)\n",
      "memory usage: 403.5 KB\n"
     ]
    },
    {
     "data": {
      "text/plain": [
       "None"
      ]
     },
     "metadata": {},
     "output_type": "display_data"
    },
    {
     "name": "stdout",
     "output_type": "stream",
     "text": [
      "- 데이터 기초통계량 확인\n"
     ]
    },
    {
     "data": {
      "text/html": [
       "<div>\n",
       "<style scoped>\n",
       "    .dataframe tbody tr th:only-of-type {\n",
       "        vertical-align: middle;\n",
       "    }\n",
       "\n",
       "    .dataframe tbody tr th {\n",
       "        vertical-align: top;\n",
       "    }\n",
       "\n",
       "    .dataframe thead th {\n",
       "        text-align: right;\n",
       "    }\n",
       "</style>\n",
       "<table border=\"1\" class=\"dataframe\">\n",
       "  <thead>\n",
       "    <tr style=\"text-align: right;\">\n",
       "      <th></th>\n",
       "      <th>Age</th>\n",
       "      <th>Gender</th>\n",
       "      <th>BMI</th>\n",
       "      <th>DBP</th>\n",
       "      <th>FPG</th>\n",
       "      <th>Chol</th>\n",
       "      <th>Tri</th>\n",
       "      <th>HDL</th>\n",
       "      <th>LDL</th>\n",
       "      <th>ALT</th>\n",
       "      <th>CCR</th>\n",
       "      <th>FFPG</th>\n",
       "    </tr>\n",
       "  </thead>\n",
       "  <tbody>\n",
       "    <tr>\n",
       "      <th>count</th>\n",
       "      <td>4303.000000</td>\n",
       "      <td>4303.000000</td>\n",
       "      <td>4303.000000</td>\n",
       "      <td>4303.000000</td>\n",
       "      <td>4303.000000</td>\n",
       "      <td>4302.000000</td>\n",
       "      <td>4303.000000</td>\n",
       "      <td>4303.000000</td>\n",
       "      <td>4303.000000</td>\n",
       "      <td>4303.000000</td>\n",
       "      <td>4303.000000</td>\n",
       "      <td>4303.000000</td>\n",
       "    </tr>\n",
       "    <tr>\n",
       "      <th>mean</th>\n",
       "      <td>48.085057</td>\n",
       "      <td>1.351615</td>\n",
       "      <td>24.123923</td>\n",
       "      <td>76.360446</td>\n",
       "      <td>5.226368</td>\n",
       "      <td>4.860732</td>\n",
       "      <td>1.588476</td>\n",
       "      <td>1.666765</td>\n",
       "      <td>2.976220</td>\n",
       "      <td>26.754810</td>\n",
       "      <td>71.557080</td>\n",
       "      <td>5.729084</td>\n",
       "    </tr>\n",
       "    <tr>\n",
       "      <th>std</th>\n",
       "      <td>14.686155</td>\n",
       "      <td>0.477530</td>\n",
       "      <td>3.397294</td>\n",
       "      <td>11.004056</td>\n",
       "      <td>0.781089</td>\n",
       "      <td>0.925484</td>\n",
       "      <td>1.260003</td>\n",
       "      <td>1.079377</td>\n",
       "      <td>0.892196</td>\n",
       "      <td>22.279922</td>\n",
       "      <td>16.937394</td>\n",
       "      <td>1.424568</td>\n",
       "    </tr>\n",
       "    <tr>\n",
       "      <th>min</th>\n",
       "      <td>22.000000</td>\n",
       "      <td>1.000000</td>\n",
       "      <td>15.600000</td>\n",
       "      <td>45.000000</td>\n",
       "      <td>1.780000</td>\n",
       "      <td>1.650000</td>\n",
       "      <td>0.000000</td>\n",
       "      <td>0.000000</td>\n",
       "      <td>0.540000</td>\n",
       "      <td>4.500000</td>\n",
       "      <td>4.860753</td>\n",
       "      <td>3.200000</td>\n",
       "    </tr>\n",
       "    <tr>\n",
       "      <th>25%</th>\n",
       "      <td>35.000000</td>\n",
       "      <td>1.000000</td>\n",
       "      <td>21.700000</td>\n",
       "      <td>69.000000</td>\n",
       "      <td>4.700000</td>\n",
       "      <td>4.200000</td>\n",
       "      <td>0.860000</td>\n",
       "      <td>1.130000</td>\n",
       "      <td>2.350000</td>\n",
       "      <td>14.300000</td>\n",
       "      <td>60.000000</td>\n",
       "      <td>4.900000</td>\n",
       "    </tr>\n",
       "    <tr>\n",
       "      <th>50%</th>\n",
       "      <td>46.000000</td>\n",
       "      <td>1.000000</td>\n",
       "      <td>24.000000</td>\n",
       "      <td>76.000000</td>\n",
       "      <td>5.140000</td>\n",
       "      <td>4.790000</td>\n",
       "      <td>1.280000</td>\n",
       "      <td>1.340000</td>\n",
       "      <td>2.820000</td>\n",
       "      <td>20.500000</td>\n",
       "      <td>72.000000</td>\n",
       "      <td>5.300000</td>\n",
       "    </tr>\n",
       "    <tr>\n",
       "      <th>75%</th>\n",
       "      <td>59.000000</td>\n",
       "      <td>2.000000</td>\n",
       "      <td>26.300000</td>\n",
       "      <td>83.000000</td>\n",
       "      <td>5.700000</td>\n",
       "      <td>5.430000</td>\n",
       "      <td>1.940000</td>\n",
       "      <td>1.610000</td>\n",
       "      <td>3.420000</td>\n",
       "      <td>31.050000</td>\n",
       "      <td>82.300000</td>\n",
       "      <td>6.020000</td>\n",
       "    </tr>\n",
       "    <tr>\n",
       "      <th>max</th>\n",
       "      <td>93.000000</td>\n",
       "      <td>2.000000</td>\n",
       "      <td>45.800000</td>\n",
       "      <td>134.000000</td>\n",
       "      <td>6.990000</td>\n",
       "      <td>11.650000</td>\n",
       "      <td>32.640000</td>\n",
       "      <td>4.860753</td>\n",
       "      <td>6.270000</td>\n",
       "      <td>436.200000</td>\n",
       "      <td>307.000000</td>\n",
       "      <td>29.700000</td>\n",
       "    </tr>\n",
       "  </tbody>\n",
       "</table>\n",
       "</div>"
      ],
      "text/plain": [
       "               Age       Gender          BMI          DBP          FPG  \\\n",
       "count  4303.000000  4303.000000  4303.000000  4303.000000  4303.000000   \n",
       "mean     48.085057     1.351615    24.123923    76.360446     5.226368   \n",
       "std      14.686155     0.477530     3.397294    11.004056     0.781089   \n",
       "min      22.000000     1.000000    15.600000    45.000000     1.780000   \n",
       "25%      35.000000     1.000000    21.700000    69.000000     4.700000   \n",
       "50%      46.000000     1.000000    24.000000    76.000000     5.140000   \n",
       "75%      59.000000     2.000000    26.300000    83.000000     5.700000   \n",
       "max      93.000000     2.000000    45.800000   134.000000     6.990000   \n",
       "\n",
       "              Chol          Tri          HDL          LDL          ALT  \\\n",
       "count  4302.000000  4303.000000  4303.000000  4303.000000  4303.000000   \n",
       "mean      4.860732     1.588476     1.666765     2.976220    26.754810   \n",
       "std       0.925484     1.260003     1.079377     0.892196    22.279922   \n",
       "min       1.650000     0.000000     0.000000     0.540000     4.500000   \n",
       "25%       4.200000     0.860000     1.130000     2.350000    14.300000   \n",
       "50%       4.790000     1.280000     1.340000     2.820000    20.500000   \n",
       "75%       5.430000     1.940000     1.610000     3.420000    31.050000   \n",
       "max      11.650000    32.640000     4.860753     6.270000   436.200000   \n",
       "\n",
       "               CCR         FFPG  \n",
       "count  4303.000000  4303.000000  \n",
       "mean     71.557080     5.729084  \n",
       "std      16.937394     1.424568  \n",
       "min       4.860753     3.200000  \n",
       "25%      60.000000     4.900000  \n",
       "50%      72.000000     5.300000  \n",
       "75%      82.300000     6.020000  \n",
       "max     307.000000    29.700000  "
      ]
     },
     "metadata": {},
     "output_type": "display_data"
    },
    {
     "name": "stdout",
     "output_type": "stream",
     "text": [
      "- 데이터 결측 확인\n"
     ]
    },
    {
     "data": {
      "text/plain": [
       "Chol    1\n",
       "dtype: int64"
      ]
     },
     "metadata": {},
     "output_type": "display_data"
    },
    {
     "name": "stdout",
     "output_type": "stream",
     "text": [
      "- 데이터 분포 시각화\n"
     ]
    },
    {
     "data": {
      "image/png": "[encoded data removed]",
      "text/plain": [
       "<Figure size 1200x600 with 12 Axes>"
      ]
     },
     "metadata": {},
     "output_type": "display_data"
    },
    {
     "name": "stdout",
     "output_type": "stream",
     "text": [
      "- 상관관계 확인\n"
     ]
    },
    {
     "data": {
      "image/png": "[encoded data removed]",
      "text/plain": [
       "<Figure size 640x480 with 2 Axes>"
      ]
     },
     "metadata": {},
     "output_type": "display_data"
    }
   ],
   "source": [
    "print('- 데이터 샘플 확인')\n",
    "display(df.head(3))\n",
    "\n",
    "print('- 데이터 유형 확인')\n",
    "display(df.info())\n",
    "\n",
    "print('- 데이터 기초통계량 확인')\n",
    "display(df.describe())\n",
    "\n",
    "print('- 데이터 결측 확인')\n",
    "display(df.isna().sum()[df.isna().sum()>0])\n",
    "\n",
    "print('- 데이터 분포 시각화')\n",
    "n_row = 3\n",
    "n_col = 4\n",
    "fig, axs = plt.subplots(n_row, n_col, figsize = (n_col*3, n_row*2))\n",
    "\n",
    "for r in range(0, n_row):\n",
    "    for c in range(0, n_col):\n",
    "        i = r*n_col+c\n",
    "        if i < len(df.columns):\n",
    "            sns.boxplot(y = list(df.columns)[i], data = df, ax = axs[r][c])\n",
    "plt.tight_layout()\n",
    "plt.show()\n",
    "\n",
    "print('- 상관관계 확인')\n",
    "df_cor = df.corr(method = 'pearson')\n",
    "sns.heatmap(df_cor,\n",
    "           xticklabels = df_cor.columns,\n",
    "           yticklabels = df_cor.columns,\n",
    "           cmap = 'RdBu_r',\n",
    "           annot = True,\n",
    "           linewidth = 3)\n",
    "plt.show()"
   ]
  },
  {
   "cell_type": "markdown",
   "id": "29ba998e",
   "metadata": {},
   "source": [
    " #### [답안] (32분 소요)\n",
    " - 데이터 샘플과 데이터 유형을 살펴보았을때 Gender를 제외한 변수 모두 연속형이다. \n",
    " - 데이터 기초통계량을 보면 변수별 스케일에 차이가 있다. 모델을 만들기 전 스케일링 할 필요성이 보인다.\n",
    " - 데이터 결측의 경우 Chol변수에서 1개의 결측치가 확인된다.\n",
    " - 이상치를 확인해본 결과 Tri, ALT, CCR의 경우 박스에서 크게 벗어난 점들이 있다. 이상치 처리가 필요해 보인다.\n",
    " - LDL과 Chol, HDL이 0.65이상으로 약간 높은 상관성이 보인다.\n"
   ]
  },
  {
   "cell_type": "markdown",
   "id": "4bd74ff9",
   "metadata": {},
   "source": [
    "## 1-2 데이터 전처리가 필요하다면 수행하고 이유를 작성하라"
   ]
  },
  {
   "cell_type": "code",
   "execution_count": 4,
   "id": "3d0deaa4",
   "metadata": {},
   "outputs": [
    {
     "name": "stdout",
     "output_type": "stream",
     "text": [
      "- 컬럼 형변환 수행\n",
      "- 결측치 처리\n",
      "- 이상치 처리\n",
      "- 스케일링 수행\n"
     ]
    },
    {
     "data": {
      "text/html": [
       "<div>\n",
       "<style scoped>\n",
       "    .dataframe tbody tr th:only-of-type {\n",
       "        vertical-align: middle;\n",
       "    }\n",
       "\n",
       "    .dataframe tbody tr th {\n",
       "        vertical-align: top;\n",
       "    }\n",
       "\n",
       "    .dataframe thead th {\n",
       "        text-align: right;\n",
       "    }\n",
       "</style>\n",
       "<table border=\"1\" class=\"dataframe\">\n",
       "  <thead>\n",
       "    <tr style=\"text-align: right;\">\n",
       "      <th></th>\n",
       "      <th>Age</th>\n",
       "      <th>BMI</th>\n",
       "      <th>DBP</th>\n",
       "      <th>FPG</th>\n",
       "      <th>Chol</th>\n",
       "      <th>Tri</th>\n",
       "      <th>HDL</th>\n",
       "      <th>LDL</th>\n",
       "      <th>ALT</th>\n",
       "      <th>CCR</th>\n",
       "      <th>FFPG</th>\n",
       "      <th>Gender</th>\n",
       "    </tr>\n",
       "  </thead>\n",
       "  <tbody>\n",
       "    <tr>\n",
       "      <th>0</th>\n",
       "      <td>-1.503978</td>\n",
       "      <td>-1.184401</td>\n",
       "      <td>0.421773</td>\n",
       "      <td>0.734796</td>\n",
       "      <td>-0.542806</td>\n",
       "      <td>-0.624672</td>\n",
       "      <td>-0.710128</td>\n",
       "      <td>-0.612531</td>\n",
       "      <td>-0.685464</td>\n",
       "      <td>-0.467341</td>\n",
       "      <td>-0.234381</td>\n",
       "      <td>1</td>\n",
       "    </tr>\n",
       "    <tr>\n",
       "      <th>1</th>\n",
       "      <td>-0.550159</td>\n",
       "      <td>-1.890931</td>\n",
       "      <td>-2.032968</td>\n",
       "      <td>-0.801932</td>\n",
       "      <td>-1.263017</td>\n",
       "      <td>-0.485569</td>\n",
       "      <td>-0.154491</td>\n",
       "      <td>-1.049744</td>\n",
       "      <td>-0.816363</td>\n",
       "      <td>-0.071332</td>\n",
       "      <td>-1.179158</td>\n",
       "      <td>1</td>\n",
       "    </tr>\n",
       "    <tr>\n",
       "      <th>2</th>\n",
       "      <td>-0.550159</td>\n",
       "      <td>-1.302156</td>\n",
       "      <td>-2.123884</td>\n",
       "      <td>0.094493</td>\n",
       "      <td>1.104948</td>\n",
       "      <td>-0.250832</td>\n",
       "      <td>0.077024</td>\n",
       "      <td>0.441265</td>\n",
       "      <td>-0.774289</td>\n",
       "      <td>-0.631836</td>\n",
       "      <td>-0.634094</td>\n",
       "      <td>2</td>\n",
       "    </tr>\n",
       "  </tbody>\n",
       "</table>\n",
       "</div>"
      ],
      "text/plain": [
       "        Age       BMI       DBP       FPG      Chol       Tri       HDL  \\\n",
       "0 -1.503978 -1.184401  0.421773  0.734796 -0.542806 -0.624672 -0.710128   \n",
       "1 -0.550159 -1.890931 -2.032968 -0.801932 -1.263017 -0.485569 -0.154491   \n",
       "2 -0.550159 -1.302156 -2.123884  0.094493  1.104948 -0.250832  0.077024   \n",
       "\n",
       "        LDL       ALT       CCR      FFPG Gender  \n",
       "0 -0.612531 -0.685464 -0.467341 -0.234381      1  \n",
       "1 -1.049744 -0.816363 -0.071332 -1.179158      1  \n",
       "2  0.441265 -0.774289 -0.631836 -0.634094      2  "
      ]
     },
     "metadata": {},
     "output_type": "display_data"
    }
   ],
   "source": [
    "print('- 컬럼 형변환 수행')\n",
    "df['Gender'] = df['Gender'].astype('object')\n",
    "\n",
    "print('- 결측치 처리')\n",
    "df['Chol'] = df['Chol'].fillna(df['Chol'].mean())\n",
    "\n",
    "print('- 이상치 처리')\n",
    "del_idx = []\n",
    "del_idx.extend(list(df[df.Tri > 30].index))\n",
    "del_idx.extend(list(df[df.ALT > 400].index))\n",
    "del_idx.extend(list(df[df.CCR > 200].index))\n",
    "del_idx.extend(list(df[df.FFPG > 25].index))\n",
    "df = df.drop(del_idx, axis = 0)\n",
    "\n",
    "\n",
    "print('- 스케일링 수행')\n",
    "df_scale_raw = df.select_dtypes(exclude = 'object')\n",
    "scale = StandardScaler().fit(df_scale_raw)\n",
    "df_scale = scale.transform(df_scale_raw)\n",
    "df_scale = pd.DataFrame(df_scale,columns = df_scale_raw.columns).reset_index(drop = True)\n",
    "\n",
    "df2 = pd.concat([df_scale, df.select_dtypes('object').reset_index(drop = True)], axis = 1)\n",
    "\n",
    "display(df2.head(3))"
   ]
  },
  {
   "cell_type": "markdown",
   "id": "7bec2466",
   "metadata": {},
   "source": [
    "#### [답안] (21분 소요)\n",
    " - Gender의 경우 범주형 변수인데 연속형으로 되어있어 형변환을 시킨다.\n",
    " - 그리고 Chol변수에서 나타난 1개의 결측치는 평균으로 대체한다.\n",
    " - 이상치 처리는 시각화 결과를 확인하여 값이 크게 벗어난 데이터에 대해서만 이상치 수행한다.\n",
    " - 연속형 변수들이 스케일의 차이를 보였으므로 스케일링을 수행하였다."
   ]
  },
  {
   "cell_type": "markdown",
   "id": "0265da78",
   "metadata": {},
   "source": [
    "## 1-3 train test set을 DBP컬럼 기준으로 7:3 비율로 나누고 잘 나뉘었는지 통계적으로 나타내라"
   ]
  },
  {
   "cell_type": "code",
   "execution_count": 5,
   "id": "0ed346dc",
   "metadata": {},
   "outputs": [
    {
     "name": "stdout",
     "output_type": "stream",
     "text": [
      "데이터 분할\n",
      "DBP컬럼 기준으로 분포 확인\n"
     ]
    },
    {
     "data": {
      "image/png": "[encoded data removed]",
      "text/plain": [
       "<Figure size 640x480 with 1 Axes>"
      ]
     },
     "metadata": {},
     "output_type": "display_data"
    }
   ],
   "source": [
    "print('데이터 분할')\n",
    "x = df2.drop('DBP', axis = 1)\n",
    "y = df2.DBP\n",
    "x_train, x_test, y_train, y_test = train_test_split(x, y, random_state = 123, test_size = 0.3)\n",
    "\n",
    "print('DBP컬럼 기준으로 분포 확인')\n",
    "y_train_tmp = pd.DataFrame(y_train).copy()\n",
    "y_test_tmp = pd.DataFrame(y_test).copy()\n",
    "y_train_tmp['cat'] = 'train'\n",
    "y_test_tmp['cat'] = 'test'\n",
    "tmp = pd.concat([y_train_tmp, y_test_tmp], axis = 0)\n",
    "\n",
    "sns.boxplot(x = tmp.cat, y = tmp.DBP, data = tmp)\n",
    "plt.show()"
   ]
  },
  {
   "cell_type": "markdown",
   "id": "eb0a3da6",
   "metadata": {},
   "source": [
    "#### [답안] (32분)\n",
    "- 데이터 분할 후 DBP 컬럼 기준으로 상자그림으로 분포 확인 결과 train(70%)과 test(30%) 모두 비슷한 분포를 가지는 것으로 확인했다."
   ]
  },
  {
   "cell_type": "markdown",
   "id": "36befdb1",
   "metadata": {},
   "source": [
    "## 2-1 독립변수의 차원축소의 필요성을 논하고, 필요에 따라 차원을 축소하고 불필요하다면 그 근거를 논하시오"
   ]
  },
  {
   "cell_type": "code",
   "execution_count": 6,
   "id": "ffe98774",
   "metadata": {},
   "outputs": [
    {
     "data": {
      "image/png": "[encoded data removed]",
      "text/plain": [
       "<Figure size 640x480 with 1 Axes>"
      ]
     },
     "metadata": {},
     "output_type": "display_data"
    },
    {
     "name": "stdout",
     "output_type": "stream",
     "text": [
      "분산 설명력 :  [0.28780373 0.1586764  0.12326863 0.09180635 0.0876496  0.06432782\n",
      " 0.0636093  0.05179552 0.04843041 0.01275612]\n",
      "0.56974876\n"
     ]
    },
    {
     "data": {
      "text/html": [
       "<div>\n",
       "<style scoped>\n",
       "    .dataframe tbody tr th:only-of-type {\n",
       "        vertical-align: middle;\n",
       "    }\n",
       "\n",
       "    .dataframe tbody tr th {\n",
       "        vertical-align: top;\n",
       "    }\n",
       "\n",
       "    .dataframe thead th {\n",
       "        text-align: right;\n",
       "    }\n",
       "</style>\n",
       "<table border=\"1\" class=\"dataframe\">\n",
       "  <thead>\n",
       "    <tr style=\"text-align: right;\">\n",
       "      <th></th>\n",
       "      <th>pc1</th>\n",
       "      <th>pc2</th>\n",
       "      <th>pc3</th>\n",
       "      <th>DBP</th>\n",
       "    </tr>\n",
       "  </thead>\n",
       "  <tbody>\n",
       "    <tr>\n",
       "      <th>0</th>\n",
       "      <td>-1.690845</td>\n",
       "      <td>-0.356689</td>\n",
       "      <td>-0.519992</td>\n",
       "      <td>0.421773</td>\n",
       "    </tr>\n",
       "    <tr>\n",
       "      <th>1</th>\n",
       "      <td>-2.724822</td>\n",
       "      <td>-0.665665</td>\n",
       "      <td>-0.212187</td>\n",
       "      <td>-2.032968</td>\n",
       "    </tr>\n",
       "    <tr>\n",
       "      <th>2</th>\n",
       "      <td>-0.449482</td>\n",
       "      <td>-1.582505</td>\n",
       "      <td>0.853058</td>\n",
       "      <td>-2.123884</td>\n",
       "    </tr>\n",
       "  </tbody>\n",
       "</table>\n",
       "</div>"
      ],
      "text/plain": [
       "        pc1       pc2       pc3       DBP\n",
       "0 -1.690845 -0.356689 -0.519992  0.421773\n",
       "1 -2.724822 -0.665665 -0.212187 -2.032968\n",
       "2 -0.449482 -1.582505  0.853058 -2.123884"
      ]
     },
     "metadata": {},
     "output_type": "display_data"
    }
   ],
   "source": [
    "df2_x = df2.drop('DBP', axis = 1)\n",
    "pca = PCA(n_components= 10)\n",
    "pca_fit = pca.fit(df2_x)\n",
    "\n",
    "plt.title('Scree Plot')\n",
    "plt.xlabel('Number of Components')\n",
    "plt.xlabel('Cumulative Explained Variance')\n",
    "plt.plot(pca.explained_variance_ratio_, 'o-')\n",
    "plt.show()\n",
    "\n",
    "print('분산 설명력 : ', pca.explained_variance_ratio_)\n",
    "print(0.28780373+0.1586764+0.12326863)\n",
    "n = 3\n",
    "pca = PCA(n_components= n)\n",
    "pca_3 = pca.fit_transform(df2_x)\n",
    "df2_x_pca = pd.DataFrame(data = pca_3, columns = ['pc1', 'pc2', 'pc3'])\n",
    "df2_pca = pd.concat([df2_x_pca, df2['DBP']], axis = 1)\n",
    "display(df2_pca.head(3))"
   ]
  },
  {
   "cell_type": "markdown",
   "id": "39f7feb7",
   "metadata": {},
   "source": [
    "#### [답안] (24분)\n",
    "- 앞서 독립변수별 상관관계를 살펴보았을때 0.6이상의 상관성이 있는 변수들이 두 쌍 정도가 있었다. 차원축소가 필수적으로 보이지는 않지만 상관관계가 있을때 다중공선성의 문제가 발생할 수 있으므로 차원축소를 해도 괜찮아 보인다.\n",
    "- 스케일링까지 수행한 데이터를 대상으로 PCA를 수행한다. Scree plot을 통해 주성분의 개수를 정하는데 기울기가 완만해지는 지점인 3개로 정한다. 그랬을때 설명력은 0.569로 높진 않다. "
   ]
  },
  {
   "cell_type": "markdown",
   "id": "0b465a8e",
   "metadata": {},
   "source": [
    "## 2-2 2-1 작업 후 데이터가 회귀분석의 기본가정 따르는지 설명"
   ]
  },
  {
   "cell_type": "code",
   "execution_count": 7,
   "id": "d34e4123",
   "metadata": {},
   "outputs": [
    {
     "name": "stdout",
     "output_type": "stream",
     "text": [
      "- 데이터 상관계수 확인\n"
     ]
    },
    {
     "data": {
      "text/html": [
       "<div>\n",
       "<style scoped>\n",
       "    .dataframe tbody tr th:only-of-type {\n",
       "        vertical-align: middle;\n",
       "    }\n",
       "\n",
       "    .dataframe tbody tr th {\n",
       "        vertical-align: top;\n",
       "    }\n",
       "\n",
       "    .dataframe thead th {\n",
       "        text-align: right;\n",
       "    }\n",
       "</style>\n",
       "<table border=\"1\" class=\"dataframe\">\n",
       "  <thead>\n",
       "    <tr style=\"text-align: right;\">\n",
       "      <th></th>\n",
       "      <th>pc1</th>\n",
       "      <th>pc2</th>\n",
       "      <th>pc3</th>\n",
       "      <th>DBP</th>\n",
       "    </tr>\n",
       "  </thead>\n",
       "  <tbody>\n",
       "    <tr>\n",
       "      <th>pc1</th>\n",
       "      <td>1.000000e+00</td>\n",
       "      <td>2.596233e-16</td>\n",
       "      <td>3.096311e-16</td>\n",
       "      <td>0.310531</td>\n",
       "    </tr>\n",
       "    <tr>\n",
       "      <th>pc2</th>\n",
       "      <td>2.596233e-16</td>\n",
       "      <td>1.000000e+00</td>\n",
       "      <td>-2.779522e-16</td>\n",
       "      <td>0.184189</td>\n",
       "    </tr>\n",
       "    <tr>\n",
       "      <th>pc3</th>\n",
       "      <td>3.096311e-16</td>\n",
       "      <td>-2.779522e-16</td>\n",
       "      <td>1.000000e+00</td>\n",
       "      <td>-0.028289</td>\n",
       "    </tr>\n",
       "    <tr>\n",
       "      <th>DBP</th>\n",
       "      <td>3.105306e-01</td>\n",
       "      <td>1.841889e-01</td>\n",
       "      <td>-2.828861e-02</td>\n",
       "      <td>1.000000</td>\n",
       "    </tr>\n",
       "  </tbody>\n",
       "</table>\n",
       "</div>"
      ],
      "text/plain": [
       "              pc1           pc2           pc3       DBP\n",
       "pc1  1.000000e+00  2.596233e-16  3.096311e-16  0.310531\n",
       "pc2  2.596233e-16  1.000000e+00 -2.779522e-16  0.184189\n",
       "pc3  3.096311e-16 -2.779522e-16  1.000000e+00 -0.028289\n",
       "DBP  3.105306e-01  1.841889e-01 -2.828861e-02  1.000000"
      ]
     },
     "metadata": {},
     "output_type": "display_data"
    },
    {
     "name": "stdout",
     "output_type": "stream",
     "text": [
      "- 회귀모델 요약\n"
     ]
    },
    {
     "data": {
      "text/html": [
       "<table class=\"simpletable\">\n",
       "<caption>OLS Regression Results</caption>\n",
       "<tr>\n",
       "  <th>Dep. Variable:</th>           <td>DBP</td>       <th>  R-squared:         </th> <td>   0.131</td> \n",
       "</tr>\n",
       "<tr>\n",
       "  <th>Model:</th>                   <td>OLS</td>       <th>  Adj. R-squared:    </th> <td>   0.131</td> \n",
       "</tr>\n",
       "<tr>\n",
       "  <th>Method:</th>             <td>Least Squares</td>  <th>  F-statistic:       </th> <td>   216.1</td> \n",
       "</tr>\n",
       "<tr>\n",
       "  <th>Date:</th>             <td>Mon, 09 Oct 2023</td> <th>  Prob (F-statistic):</th> <td>1.54e-130</td>\n",
       "</tr>\n",
       "<tr>\n",
       "  <th>Time:</th>                 <td>12:50:01</td>     <th>  Log-Likelihood:    </th> <td> -5796.5</td> \n",
       "</tr>\n",
       "<tr>\n",
       "  <th>No. Observations:</th>      <td>  4298</td>      <th>  AIC:               </th> <td>1.160e+04</td>\n",
       "</tr>\n",
       "<tr>\n",
       "  <th>Df Residuals:</th>          <td>  4294</td>      <th>  BIC:               </th> <td>1.163e+04</td>\n",
       "</tr>\n",
       "<tr>\n",
       "  <th>Df Model:</th>              <td>     3</td>      <th>                     </th>     <td> </td>    \n",
       "</tr>\n",
       "<tr>\n",
       "  <th>Covariance Type:</th>      <td>nonrobust</td>    <th>                     </th>     <td> </td>    \n",
       "</tr>\n",
       "</table>\n",
       "<table class=\"simpletable\">\n",
       "<tr>\n",
       "      <td></td>         <th>coef</th>     <th>std err</th>      <th>t</th>      <th>P>|t|</th>  <th>[0.025</th>    <th>0.975]</th>  \n",
       "</tr>\n",
       "<tr>\n",
       "  <th>Intercept</th> <td> 5.308e-16</td> <td>    0.014</td> <td> 3.73e-14</td> <td> 1.000</td> <td>   -0.028</td> <td>    0.028</td>\n",
       "</tr>\n",
       "<tr>\n",
       "  <th>pc1</th>       <td>    0.1810</td> <td>    0.008</td> <td>   21.831</td> <td> 0.000</td> <td>    0.165</td> <td>    0.197</td>\n",
       "</tr>\n",
       "<tr>\n",
       "  <th>pc2</th>       <td>    0.1446</td> <td>    0.011</td> <td>   12.949</td> <td> 0.000</td> <td>    0.123</td> <td>    0.166</td>\n",
       "</tr>\n",
       "<tr>\n",
       "  <th>pc3</th>       <td>   -0.0252</td> <td>    0.013</td> <td>   -1.989</td> <td> 0.047</td> <td>   -0.050</td> <td>   -0.000</td>\n",
       "</tr>\n",
       "</table>\n",
       "<table class=\"simpletable\">\n",
       "<tr>\n",
       "  <th>Omnibus:</th>       <td>142.389</td> <th>  Durbin-Watson:     </th> <td>   1.990</td>\n",
       "</tr>\n",
       "<tr>\n",
       "  <th>Prob(Omnibus):</th> <td> 0.000</td>  <th>  Jarque-Bera (JB):  </th> <td> 174.907</td>\n",
       "</tr>\n",
       "<tr>\n",
       "  <th>Skew:</th>          <td> 0.389</td>  <th>  Prob(JB):          </th> <td>1.05e-38</td>\n",
       "</tr>\n",
       "<tr>\n",
       "  <th>Kurtosis:</th>      <td> 3.608</td>  <th>  Cond. No.          </th> <td>    1.72</td>\n",
       "</tr>\n",
       "</table><br/><br/>Notes:<br/>[1] Standard Errors assume that the covariance matrix of the errors is correctly specified."
      ],
      "text/latex": [
       "\\begin{center}\n",
       "\\begin{tabular}{lclc}\n",
       "\\toprule\n",
       "\\textbf{Dep. Variable:}    &       DBP        & \\textbf{  R-squared:         } &     0.131   \\\\\n",
       "\\textbf{Model:}            &       OLS        & \\textbf{  Adj. R-squared:    } &     0.131   \\\\\n",
       "\\textbf{Method:}           &  Least Squares   & \\textbf{  F-statistic:       } &     216.1   \\\\\n",
       "\\textbf{Date:}             & Mon, 09 Oct 2023 & \\textbf{  Prob (F-statistic):} & 1.54e-130   \\\\\n",
       "\\textbf{Time:}             &     12:50:01     & \\textbf{  Log-Likelihood:    } &   -5796.5   \\\\\n",
       "\\textbf{No. Observations:} &        4298      & \\textbf{  AIC:               } & 1.160e+04   \\\\\n",
       "\\textbf{Df Residuals:}     &        4294      & \\textbf{  BIC:               } & 1.163e+04   \\\\\n",
       "\\textbf{Df Model:}         &           3      & \\textbf{                     } &             \\\\\n",
       "\\textbf{Covariance Type:}  &    nonrobust     & \\textbf{                     } &             \\\\\n",
       "\\bottomrule\n",
       "\\end{tabular}\n",
       "\\begin{tabular}{lcccccc}\n",
       "                   & \\textbf{coef} & \\textbf{std err} & \\textbf{t} & \\textbf{P$> |$t$|$} & \\textbf{[0.025} & \\textbf{0.975]}  \\\\\n",
       "\\midrule\n",
       "\\textbf{Intercept} &    5.308e-16  &        0.014     &  3.73e-14  &         1.000        &       -0.028    &        0.028     \\\\\n",
       "\\textbf{pc1}       &       0.1810  &        0.008     &    21.831  &         0.000        &        0.165    &        0.197     \\\\\n",
       "\\textbf{pc2}       &       0.1446  &        0.011     &    12.949  &         0.000        &        0.123    &        0.166     \\\\\n",
       "\\textbf{pc3}       &      -0.0252  &        0.013     &    -1.989  &         0.047        &       -0.050    &       -0.000     \\\\\n",
       "\\bottomrule\n",
       "\\end{tabular}\n",
       "\\begin{tabular}{lclc}\n",
       "\\textbf{Omnibus:}       & 142.389 & \\textbf{  Durbin-Watson:     } &    1.990  \\\\\n",
       "\\textbf{Prob(Omnibus):} &   0.000 & \\textbf{  Jarque-Bera (JB):  } &  174.907  \\\\\n",
       "\\textbf{Skew:}          &   0.389 & \\textbf{  Prob(JB):          } & 1.05e-38  \\\\\n",
       "\\textbf{Kurtosis:}      &   3.608 & \\textbf{  Cond. No.          } &     1.72  \\\\\n",
       "\\bottomrule\n",
       "\\end{tabular}\n",
       "%\\caption{OLS Regression Results}\n",
       "\\end{center}\n",
       "\n",
       "Notes: \\newline\n",
       " [1] Standard Errors assume that the covariance matrix of the errors is correctly specified."
      ],
      "text/plain": [
       "<class 'statsmodels.iolib.summary.Summary'>\n",
       "\"\"\"\n",
       "                            OLS Regression Results                            \n",
       "==============================================================================\n",
       "Dep. Variable:                    DBP   R-squared:                       0.131\n",
       "Model:                            OLS   Adj. R-squared:                  0.131\n",
       "Method:                 Least Squares   F-statistic:                     216.1\n",
       "Date:                Mon, 09 Oct 2023   Prob (F-statistic):          1.54e-130\n",
       "Time:                        12:50:01   Log-Likelihood:                -5796.5\n",
       "No. Observations:                4298   AIC:                         1.160e+04\n",
       "Df Residuals:                    4294   BIC:                         1.163e+04\n",
       "Df Model:                           3                                         \n",
       "Covariance Type:            nonrobust                                         \n",
       "==============================================================================\n",
       "                 coef    std err          t      P>|t|      [0.025      0.975]\n",
       "------------------------------------------------------------------------------\n",
       "Intercept   5.308e-16      0.014   3.73e-14      1.000      -0.028       0.028\n",
       "pc1            0.1810      0.008     21.831      0.000       0.165       0.197\n",
       "pc2            0.1446      0.011     12.949      0.000       0.123       0.166\n",
       "pc3           -0.0252      0.013     -1.989      0.047      -0.050      -0.000\n",
       "==============================================================================\n",
       "Omnibus:                      142.389   Durbin-Watson:                   1.990\n",
       "Prob(Omnibus):                  0.000   Jarque-Bera (JB):              174.907\n",
       "Skew:                           0.389   Prob(JB):                     1.05e-38\n",
       "Kurtosis:                       3.608   Cond. No.                         1.72\n",
       "==============================================================================\n",
       "\n",
       "Notes:\n",
       "[1] Standard Errors assume that the covariance matrix of the errors is correctly specified.\n",
       "\"\"\""
      ]
     },
     "metadata": {},
     "output_type": "display_data"
    },
    {
     "name": "stdout",
     "output_type": "stream",
     "text": [
      "- 잔차 분석\n",
      "- 1. 정규성 확인\n",
      "Jarque-bera: stats 174.907, p-value 0.000\n"
     ]
    },
    {
     "data": {
      "image/png": "[encoded data removed]",
      "text/plain": [
       "<Figure size 1000x500 with 2 Axes>"
      ]
     },
     "metadata": {},
     "output_type": "display_data"
    },
    {
     "name": "stdout",
     "output_type": "stream",
     "text": [
      "- 2. 등분산성 가정 확인\n"
     ]
    },
    {
     "data": {
      "image/png": "[encoded data removed]",
      "text/plain": [
       "<Figure size 1200x300 with 3 Axes>"
      ]
     },
     "metadata": {},
     "output_type": "display_data"
    },
    {
     "name": "stdout",
     "output_type": "stream",
     "text": [
      "- 3.독립성 가정 확인\n",
      " Durbin-watson  통계량 :  1.9897690654379403\n"
     ]
    }
   ],
   "source": [
    "print('- 데이터 상관계수 확인')\n",
    "display(df2_pca.corr())\n",
    "lr = ols('DBP~pc1+pc2+pc3', data = df2_pca).fit()\n",
    "print('- 회귀모델 요약')\n",
    "display(lr.summary())\n",
    "\n",
    "print('- 잔차 분석')\n",
    "resid = lr.resid #잔차\n",
    "\n",
    "print('- 1. 정규성 확인')\n",
    "stats, p, skew, kurt = jarque_bera(resid)\n",
    "print('Jarque-bera: stats {:.3f}, p-value {:.3f}'.format(stats, p))\n",
    "fig, ax = plt.subplots(1, 2, figsize = (10, 5))\n",
    "ax[0].hist(resid)\n",
    "probplot(resid, plot = ax[1])\n",
    "plt.show()\n",
    "\n",
    "print('- 2. 등분산성 가정 확인')\n",
    "fig, ax = plt.subplots(1, 3, figsize = (12, 3))\n",
    "for feature, ax in zip(['pc1', 'pc2', 'pc3'], ax.ravel()):\n",
    "    sns.regplot(x = df2_pca[feature], y = resid, line_kws = {'color':'C1'}, ax = ax)\n",
    "plt.show()\n",
    "\n",
    "print('- 3.독립성 가정 확인')\n",
    "dw = durbin_watson(resid)\n",
    "print(' Durbin-watson  통계량 : ', dw)"
   ]
  },
  {
   "cell_type": "markdown",
   "id": "c5380d1a",
   "metadata": {},
   "source": [
    "#### [답안] (34분)\n",
    "- DBP를 종속변수, pca로 차원축소한 3개의 변수를 독립변수로 단순 선형회귀분석을 시행했다. 회귀모형은 통계적으로 유의하며 각 변수들도 통계적으로 유의한 것을 볼 수 있다. 그러나 모델의 설명력이 13.1%의 낮은 설명력을 가지고 있다.\n",
    "- 그 후 잔차가 회귀의 가정을 따르는지 살펴본 결과 \n",
    "    1. jaque bera 검정에 의해 유의수준 0.05 기준으로 유의확률이 0.00으로 낮으므로 정규분포를 따른다는 귀무가설를 기각하여 정규분포를 따르지 않는다. \n",
    "    2. 각 변수별로 잔차와 등분산성을 살펴본 결과 분산이 일정한 것으로 보인다.\n",
    "    3. 독립성 가정 확인해본 결과 dw값이 2에 가까우므로 잔차 간 독립이다."
   ]
  },
  {
   "cell_type": "markdown",
   "id": "a50e03d7",
   "metadata": {},
   "source": [
    "## 3-1 회귀분석 알고리즘 3개를 선택하고 선정이유와 장단점 비교"
   ]
  },
  {
   "cell_type": "markdown",
   "id": "380a7340",
   "metadata": {},
   "source": [
    "#### [답안] (13분)\n",
    "- 트리기반의 모델 랜덤포레스트와 부스팅 모델 xgboost, lightgbm을 선정했다. \n",
    "\t1. 랜덤포레스트는 트리들이 서로 최대한 달라지도록 무작위로 트리를 생성하는 방법이다. 병렬로 실행이 가능하다는 장점이 있고 효율적이다. 그러나 단일 트리보다 정확한 예측성능을 보이지만 직관적인 해석은 불가능하다.\n",
    "\t2. 부스팅모델에서 xboost를 선택한 이유는 정확도 측면에서 뛰어나는 장점을 가지고 있기때문에 선택하였다. 단점은 이 모델 또한 직관적 해석은 불가능하다.\n",
    "\t3. lightgbm을 선택한 이유는 정확도가 높으면서 속도가 빠르다는 장점때문이다. 단점은 이 모델도 직관적 해석 불가하다."
   ]
  },
  {
   "cell_type": "markdown",
   "id": "7c145d8f",
   "metadata": {},
   "source": [
    "## 3-2. 1-3에서 구분한 데이터를 기준으로 3개의 회귀 분석 모델링을 진행하고 평가지표 rmse로 가장 최적화된 알고리즘 선정"
   ]
  },
  {
   "cell_type": "code",
   "execution_count": 9,
   "id": "3e7d3799",
   "metadata": {
    "scrolled": true
   },
   "outputs": [
    {
     "name": "stdout",
     "output_type": "stream",
     "text": [
      "[LightGBM] [Warning] Accuracy may be bad since you didn't explicitly set num_leaves OR 2^max_depth > num_leaves. (num_leaves=31).\n",
      "[LightGBM] [Warning] Accuracy may be bad since you didn't explicitly set num_leaves OR 2^max_depth > num_leaves. (num_leaves=31).\n",
      "[LightGBM] [Info] Total Bins 2168\n",
      "[LightGBM] [Info] Number of data points in the train set: 3008, number of used features: 11\n",
      "[LightGBM] [Info] Start training from score 0.001013\n",
      "[LightGBM] [Warning] No further splits with positive gain, best gain: -inf\n",
      "[LightGBM] [Warning] No further splits with positive gain, best gain: -inf\n",
      "[LightGBM] [Warning] No further splits with positive gain, best gain: -inf\n",
      "[LightGBM] [Warning] No further splits with positive gain, best gain: -inf\n",
      "[LightGBM] [Warning] No further splits with positive gain, best gain: -inf\n",
      "[LightGBM] [Warning] No further splits with positive gain, best gain: -inf\n",
      "[LightGBM] [Warning] No further splits with positive gain, best gain: -inf\n",
      "[LightGBM] [Warning] No further splits with positive gain, best gain: -inf\n",
      "[LightGBM] [Warning] Accuracy may be bad since you didn't explicitly set num_leaves OR 2^max_depth > num_leaves. (num_leaves=31).\n",
      "RMSE 평가 결과 1. rf : 0.936, 2. xgboost : 1.054, 3. lightgbm : 0.945\n"
     ]
    }
   ],
   "source": [
    "x_train_ar = np.array(x_train)\n",
    "x_test_ar = np.array(x_test)\n",
    "\n",
    "rf = RandomForestRegressor(n_estimators = 500, max_depth = 3)\n",
    "model_rf = rf.fit(x_train_ar, y_train)\n",
    "\n",
    "xgb = XGBRegressor(max_depth = 5, n_estimators = 500)\n",
    "model_xgb = xgb.fit(x_train_ar, y_train)\n",
    "\n",
    "lgb = LGBMRegressor(max_depth = 5, n_estimators = 10, force_col_wise=True)\n",
    "model_lgb =  lgb.fit(x_train_ar, y_train)\n",
    "\n",
    "pred_rf = model_rf.predict(x_test_ar)\n",
    "pred_xgb = model_xgb.predict(x_test_ar)\n",
    "pred_lgb = model_lgb.predict(x_test_ar)\n",
    "\n",
    "rmse_rf = rmse(y_test, pred_rf)\n",
    "rmse_xgb = rmse(y_test, pred_xgb)\n",
    "rmse_lgb = rmse(y_test, pred_lgb)\n",
    "\n",
    "print('RMSE 평가 결과 1. rf : {:.3f}, 2. xgboost : {:.3f}, 3. lightgbm : {:.3f}'.format(rmse_rf, rmse_xgb, rmse_lgb))"
   ]
  },
  {
   "cell_type": "markdown",
   "id": "59d7eba9",
   "metadata": {},
   "source": [
    "#### [답안]\n",
    "- 세가지 모델을 실행해본 결과 RMSE는 랜덤포레스트 0.936, XGBOOST 1.054, LightGBM 1.002의 평가가 나왔고 랜덤포레스트가 평가지표의 값이 가장 낮아 이 데이터에서는 세 모델 중 가장 최적화된 알고리즘으로 선정한다. "
   ]
  },
  {
   "cell_type": "markdown",
   "id": "2a9ae2c6",
   "metadata": {},
   "source": [
    "## 3-3 3-2에서 가장 성능 좋은 알고리즘을 이용하여 K-Fold 교차검증을 수행하시오."
   ]
  },
  {
   "cell_type": "code",
   "execution_count": 71,
   "id": "21a57913",
   "metadata": {},
   "outputs": [
    {
     "name": "stdout",
     "output_type": "stream",
     "text": [
      "최상의 교차 검증 점수  0.15682354476874324\n",
      "최적의 매개변수  {'max_depth': 5, 'n_estimators': 400}\n",
      "RMSE 평가 결과 - 단순모델 rf : 0.936, kfold 후 : 0.933\n"
     ]
    }
   ],
   "source": [
    "kfold = KFold(n_splits = 4)\n",
    "\n",
    "param_grid = {'n_estimators':[200, 300, 400, 500], 'max_depth':[3, 4, 5]}\n",
    "grid = GridSearchCV(RandomForestRegressor(), param_grid, cv = kfold)\n",
    "\n",
    "grid.fit(x_train_ar, y_train)\n",
    "print('최상의 교차 검증 점수 ',grid.best_score_)\n",
    "print('최적의 매개변수 ', grid.best_params_)\n",
    "\n",
    "pred_rf2 = grid.predict(x_test_ar)\n",
    "rmse_rf2 = rmse(y_test, pred_rf2)\n",
    "\n",
    "print('RMSE 평가 결과 - 단순모델 rf : {:.3f}, kfold 후 : {:.3f}'.format(rmse_rf, rmse_rf2))"
   ]
  },
  {
   "cell_type": "markdown",
   "id": "8a1880dd",
   "metadata": {},
   "source": [
    "#### [답안] (28분)\n",
    "- 랜덤포레스트에 대해 k가 4인 kfold를 수행했다. kfold를 수행하며 매개변수의 값도 조정하는 grid search방법을 적용하였는데 최적의 매개변수는 {'max_depth': 4, 'n_estimators': 200}와 같이 나왔다.\n",
    "- kfold 적용 전 후의 rmse값을 비교한 결과 단순 모델의 값은 0.936, kfold 적용 후의 값은 0.934로 0.002 정도 모델이 개선되었다."
   ]
  },
  {
   "cell_type": "markdown",
   "id": "c684b36a",
   "metadata": {},
   "source": [
    "## 데이터 설명\n",
    "- 데이터 출처 : https://taas.koroad.or.kr/api/selectOpenApi.do 후처리\n",
    "- 데이터 링크 : https://raw.githubusercontent.com/Datamanim/datarepo/main/adp/30/p2.csv\n",
    "- 데이터 설명 : 자전거사고 다발지역 개별사고 정보\n",
    "1) 대상사고 : 해당 1년간 발생한 가해 또는 피해차종이 자전거인 교통사고\n",
    "2) 다발지역 선정조건 : 반경 300m 내 대상사고 4건이상 발생지역"
   ]
  },
  {
   "cell_type": "code",
   "execution_count": 3,
   "id": "798f65dd",
   "metadata": {
    "scrolled": false
   },
   "outputs": [
    {
     "data": {
      "text/html": [
       "<div>\n",
       "<style scoped>\n",
       "    .dataframe tbody tr th:only-of-type {\n",
       "        vertical-align: middle;\n",
       "    }\n",
       "\n",
       "    .dataframe tbody tr th {\n",
       "        vertical-align: top;\n",
       "    }\n",
       "\n",
       "    .dataframe thead th {\n",
       "        text-align: right;\n",
       "    }\n",
       "</style>\n",
       "<table border=\"1\" class=\"dataframe\">\n",
       "  <thead>\n",
       "    <tr style=\"text-align: right;\">\n",
       "      <th></th>\n",
       "      <th>사고내용</th>\n",
       "      <th>가해자성별</th>\n",
       "      <th>가해자연령</th>\n",
       "      <th>가해자차종</th>\n",
       "      <th>피해자신체상해정도</th>\n",
       "      <th>사고유형</th>\n",
       "      <th>기상상태</th>\n",
       "      <th>사망자수</th>\n",
       "      <th>발생시각</th>\n",
       "    </tr>\n",
       "  </thead>\n",
       "  <tbody>\n",
       "    <tr>\n",
       "      <th>0</th>\n",
       "      <td>경상</td>\n",
       "      <td>여</td>\n",
       "      <td>75세</td>\n",
       "      <td>자전거</td>\n",
       "      <td>경상</td>\n",
       "      <td>차대차 - 기타</td>\n",
       "      <td>맑음</td>\n",
       "      <td>0</td>\n",
       "      <td>2018-04-03 15시</td>\n",
       "    </tr>\n",
       "    <tr>\n",
       "      <th>1</th>\n",
       "      <td>중상</td>\n",
       "      <td>여</td>\n",
       "      <td>26세</td>\n",
       "      <td>자전거</td>\n",
       "      <td>중상</td>\n",
       "      <td>차대차 - 측면충돌</td>\n",
       "      <td>맑음</td>\n",
       "      <td>0</td>\n",
       "      <td>2018-04-21 13시</td>\n",
       "    </tr>\n",
       "    <tr>\n",
       "      <th>2</th>\n",
       "      <td>중상</td>\n",
       "      <td>남</td>\n",
       "      <td>34세</td>\n",
       "      <td>자전거</td>\n",
       "      <td>중상</td>\n",
       "      <td>차대차 - 기타</td>\n",
       "      <td>맑음</td>\n",
       "      <td>0</td>\n",
       "      <td>2018-05-01 08시</td>\n",
       "    </tr>\n",
       "    <tr>\n",
       "      <th>3</th>\n",
       "      <td>경상</td>\n",
       "      <td>남</td>\n",
       "      <td>45세</td>\n",
       "      <td>자전거</td>\n",
       "      <td>경상</td>\n",
       "      <td>차대차 - 기타</td>\n",
       "      <td>맑음</td>\n",
       "      <td>0</td>\n",
       "      <td>2018-06-03 18시</td>\n",
       "    </tr>\n",
       "    <tr>\n",
       "      <th>4</th>\n",
       "      <td>중상</td>\n",
       "      <td>남</td>\n",
       "      <td>20세</td>\n",
       "      <td>자전거</td>\n",
       "      <td>중상</td>\n",
       "      <td>차대차 - 측면충돌</td>\n",
       "      <td>맑음</td>\n",
       "      <td>0</td>\n",
       "      <td>2018-06-28 16시</td>\n",
       "    </tr>\n",
       "  </tbody>\n",
       "</table>\n",
       "</div>"
      ],
      "text/plain": [
       "  사고내용 가해자성별 가해자연령 가해자차종 피해자신체상해정도        사고유형 기상상태  사망자수            발생시각\n",
       "0   경상     여   75세   자전거        경상    차대차 - 기타   맑음     0  2018-04-03 15시\n",
       "1   중상     여   26세   자전거        중상  차대차 - 측면충돌   맑음     0  2018-04-21 13시\n",
       "2   중상     남   34세   자전거        중상    차대차 - 기타   맑음     0  2018-05-01 08시\n",
       "3   경상     남   45세   자전거        경상    차대차 - 기타   맑음     0  2018-06-03 18시\n",
       "4   중상     남   20세   자전거        중상  차대차 - 측면충돌   맑음     0  2018-06-28 16시"
      ]
     },
     "execution_count": 3,
     "metadata": {},
     "output_type": "execute_result"
    }
   ],
   "source": [
    "df = pd.read_csv('https://raw.githubusercontent.com/Datamanim/datarepo/main/adp/30/p2.csv',encoding='cp949')\n",
    "df.head()"
   ]
  },
  {
   "cell_type": "markdown",
   "id": "1bc6f69c",
   "metadata": {},
   "source": [
    "## 4-1 발생시각을 통해 평일인지 주말인지를 구분하는  '주말여부'  범주형 변수 추가하고 데이터 분포를 확인하라. (월 ~ 금은 평일, 토요일과 일요일을 주말)"
   ]
  },
  {
   "cell_type": "code",
   "execution_count": 4,
   "id": "5bcbe31a",
   "metadata": {},
   "outputs": [
    {
     "name": "stdout",
     "output_type": "stream",
     "text": [
      "주말여부\n",
      "0    1815\n",
      "1     595\n",
      "Name: count, dtype: int64\n"
     ]
    }
   ],
   "source": [
    "import datetime as dt\n",
    "import time\n",
    "\n",
    "발생날짜 = pd.Series([dt.datetime.strptime(t, '%Y-%m-%d %H시').strftime('%Y-%m-%d') for t in df['발생시각']])\n",
    "요일 = 발생날짜.astype('datetime64[ns]').dt.day_name()\n",
    "\n",
    "df['주말여부'] = list(map(lambda x: 1 if (x =='Sunday')|(x == 'Saturday') else 0, 요일))\n",
    "\n",
    "print(df['주말여부'].value_counts())\n"
   ]
  },
  {
   "cell_type": "markdown",
   "id": "fadb5cce",
   "metadata": {},
   "source": [
    "#### [답안] 20분\n",
    "- 발생시각을 날짜로 바꾸고 요일을 추출하여 주말여부 변수를 만들었다. 그 결과 주말(1)은 595건, 평일(0)은 1815건이다."
   ]
  },
  {
   "cell_type": "markdown",
   "id": "d95f4e52",
   "metadata": {},
   "source": [
    "## 4-2 사고내용에 따라 각 독립변수들(가해자성별,가해자연령,가해자차종,사고유형,기상상태,주말여부 등)이 유의한지 통계적 검정하라."
   ]
  },
  {
   "cell_type": "code",
   "execution_count": 6,
   "id": "1960dc6b",
   "metadata": {},
   "outputs": [
    {
     "name": "stdout",
     "output_type": "stream",
     "text": [
      "가해자성별\n",
      "  H0 : 사고내용과 가해자성별는 독립이다.\n",
      "  H1 : 사고내용과 가해자성별는 독립이 아니다.\n",
      "  -> 통계량 : 0.422, p-value : 0.516 으로 유의수준 0.05보다 크므로 귀무가설을 채택한다. 사고내용과 가해자성별는 독립이다.\n",
      "가해자연령\n",
      "  H0 : 사고내용과 가해자연령는 독립이다.\n",
      "  H1 : 사고내용과 가해자연령는 독립이 아니다.\n",
      "  -> 통계량 : 69.225, p-value : 0.776 으로 유의수준 0.05보다 크므로 귀무가설을 채택한다. 사고내용과 가해자연령는 독립이다.\n",
      "가해자차종\n",
      "  H0 : 사고내용과 가해자차종는 독립이다.\n",
      "  H1 : 사고내용과 가해자차종는 독립이 아니다.\n",
      "  -> 통계량 : 0.787, p-value : 0.675 으로 유의수준 0.05보다 크므로 귀무가설을 채택한다. 사고내용과 가해자차종는 독립이다.\n",
      "피해자신체상해정도\n",
      "  H0 : 사고내용과 피해자신체상해정도는 독립이다.\n",
      "  H1 : 사고내용과 피해자신체상해정도는 독립이 아니다.\n",
      "  -> 통계량 : 2316.185, p-value : 0.000 으로 유의수준 0.05보다 작으므로 귀무가설을 기각한다. 사고내용과 ★피해자신체상해정도는 관련이 있다.\n",
      "사고유형\n",
      "  H0 : 사고내용과 사고유형는 독립이다.\n",
      "  H1 : 사고내용과 사고유형는 독립이 아니다.\n",
      "  -> 통계량 : 10.957, p-value : 0.012 으로 유의수준 0.05보다 작으므로 귀무가설을 기각한다. 사고내용과 ★사고유형는 관련이 있다.\n",
      "기상상태\n",
      "  H0 : 사고내용과 기상상태는 독립이다.\n",
      "  H1 : 사고내용과 기상상태는 독립이 아니다.\n",
      "  -> 통계량 : 4.132, p-value : 0.127 으로 유의수준 0.05보다 크므로 귀무가설을 채택한다. 사고내용과 기상상태는 독립이다.\n",
      "주말여부\n",
      "  H0 : 사고내용과 주말여부는 독립이다.\n",
      "  H1 : 사고내용과 주말여부는 독립이 아니다.\n",
      "  -> 통계량 : 4.496, p-value : 0.034 으로 유의수준 0.05보다 작으므로 귀무가설을 기각한다. 사고내용과 ★주말여부는 관련이 있다.\n",
      "사망자수\n",
      "  H0 : 사고내용별 사망자수의 모평균의 차이는 없다.\n",
      "  H1 : 사고내용별 사망자수의 모평균 차이가 있다.\n",
      "  -> 통계량 : -0.622, p-value : 0.534 으로 유의수준 0.05보다 크므로 귀무가설을 채택한다. 사고내용별 사망자수는 관련이 없다.\n"
     ]
    }
   ],
   "source": [
    "d1 = df['사고내용']\n",
    "# 범주형 변수 검정\n",
    "for i in [ '가해자성별', '가해자연령', '가해자차종', '피해자신체상해정도', '사고유형', '기상상태','주말여부']:\n",
    "    print(i)\n",
    "    \n",
    "    d2 = df[i]\n",
    "    print('  H0 : 사고내용과 {}는 독립이다.'.format(i))\n",
    "    print('  H1 : 사고내용과 {}는 독립이 아니다.'.format(i))\n",
    "    table = pd.crosstab(d1, d2)\n",
    "    statistic, p, df_, expect = stats.chi2_contingency(table)\n",
    "    if p >= 0.05:\n",
    "        print('  -> 통계량 : {:.3f}, p-value : {:.3f} 으로 유의수준 0.05보다 크므로 귀무가설을 채택한다. 사고내용과 {}는 독립이다.'.format(statistic, p, i))\n",
    "    else:\n",
    "        print('  -> 통계량 : {:.3f}, p-value : {:.3f} 으로 유의수준 0.05보다 작으므로 귀무가설을 기각한다. 사고내용과 ★{}는 관련이 있다.'.format(statistic, p, i))\n",
    "\n",
    "        \n",
    "# 연속형 변수 검정\n",
    "print('사망자수')\n",
    "print('  H0 : 사고내용별 사망자수의 모평균의 차이는 없다.')\n",
    "print('  H1 : 사고내용별 사망자수의 모평균 차이가 있다.')\n",
    "\n",
    "statistic, p = stats.ttest_ind(df.loc[df['사고내용']=='경상', '사망자수'], df.loc[df['사고내용']=='중상', '사망자수'])\n",
    "if p >= 0.05:\n",
    "    print('  -> 통계량 : {:.3f}, p-value : {:.3f} 으로 유의수준 0.05보다 크므로 귀무가설을 채택한다. 사고내용별 {}는 관련이 없다.'.format(statistic, p, '사망자수'))\n",
    "else:\n",
    "    print('  -> 통계량 : {:.3f}, p-value : {:.3f} 으로 유의수준 0.05보다 작으므로 귀무가설을 기각한다. 사고내용과 {}는 관련이 있다.'.format(statistic, p, '사망자수'))\n"
   ]
  },
  {
   "cell_type": "markdown",
   "id": "56a145d6",
   "metadata": {},
   "source": [
    "#### [답안] (27분 소요)\n",
    "- 사고내용과 독립변수들(가해자성별,가해자연령,가해자차종,사고유형,기상상태,주말여부)간의 검정을 수행한 결과 사고 내용은 피해자신체상해정도, 사고유형, 주말여부와 관련이 있다는 결과가 나온다."
   ]
  },
  {
   "cell_type": "markdown",
   "id": "ced79c7b",
   "metadata": {},
   "source": [
    "## 4-3 4-2 에서 유의한 변수들만 가지고 SMOTE 오버샘플링을 수행하고 범주형변수는 변수별 빈도를 나타내고 연속형이면 평균을 나타내시오"
   ]
  },
  {
   "cell_type": "code",
   "execution_count": 12,
   "id": "f1f736af",
   "metadata": {},
   "outputs": [
    {
     "name": "stdout",
     "output_type": "stream",
     "text": [
      "오버샘플링 전 사고내용 건수 :  Counter({'경상': 1428, '중상': 982})\n",
      "오버샘플링 후 사고내용 건수 :  Counter({0: 1428, 1: 1428})\n",
      "    피해자신체상해정도 건수 :  Counter({0: 1465, 1: 1391})\n",
      "              사고유형 건수 :  Counter({0: 1589, 1: 996, 2: 148, 3: 123})\n",
      "              주말여부 건수 :  Counter({0: 2140, 1: 716})\n"
     ]
    }
   ],
   "source": [
    "df2 = df[['사고내용', '피해자신체상해정도', '사고유형', '주말여부']].copy()\n",
    "print('오버샘플링 전 사고내용 건수 : ', Counter(df2['사고내용']))\n",
    "# 범주형 인코딩\n",
    "df2['사고내용'] = df2['사고내용'].map({'경상':0, '중상':1})\n",
    "df2['피해자신체상해정도'] = df2['피해자신체상해정도'].map({'경상':0, '중상':1})\n",
    "df2['사고유형'] = df2['사고유형'].map({'차대차 - 측면충돌':0, '차대차 - 기타':1, '차대사람 - 기타':2, '차대차 - 추돌':3})\n",
    "\n",
    "# 오버샘플링\n",
    "smote_sample = SMOTE(sampling_strategy= 'minority')\n",
    "x, y = smote_sample.fit_resample(X = df2[['피해자신체상해정도', '사고유형', '주말여부']], y = df2['사고내용'])\n",
    "print('오버샘플링 후 사고내용 건수 : ', Counter(y))\n",
    "\n",
    "print('    피해자신체상해정도 건수 : ', Counter(x['피해자신체상해정도']))\n",
    "print('              사고유형 건수 : ', Counter(x['사고유형']))\n",
    "print('              주말여부 건수 : ', Counter(x['주말여부']))"
   ]
  },
  {
   "cell_type": "markdown",
   "id": "ed9f093f",
   "metadata": {},
   "source": [
    "#### [답안] (18분)\n",
    "- 이전의 검정 결과를 통해 유의한 변수를 추출하여 범주형 변수를 숫자로 인코딩하였다. 그리고 SMOTE로 오버샘플링을 수행하였다. 사고 내용 건수를 보면 중상이 982건 -> 1428건으로 증가한 것을 볼 수 있다. 그리고 다른 변수들에 대해서도 빈도를 확인하였다."
   ]
  },
  {
   "cell_type": "markdown",
   "id": "0b20a303",
   "metadata": {},
   "source": [
    "## 4-4 4-3 데이터를 가지고 사고내용을 종속변수로 하여 로지스틱회귀분석, XGB 분류 분류 모델을 만들고 성능 비교를 하고 영향력 있는 변수를 확인하라"
   ]
  },
  {
   "cell_type": "code",
   "execution_count": 38,
   "id": "a3149032",
   "metadata": {},
   "outputs": [
    {
     "name": "stdout",
     "output_type": "stream",
     "text": [
      "정확도 평가 결과 1. xgboost : 0.9848, 2. 로지스틱회귀 : 0.9848\n"
     ]
    },
    {
     "data": {
      "text/html": [
       "<div>\n",
       "<style scoped>\n",
       "    .dataframe tbody tr th:only-of-type {\n",
       "        vertical-align: middle;\n",
       "    }\n",
       "\n",
       "    .dataframe tbody tr th {\n",
       "        vertical-align: top;\n",
       "    }\n",
       "\n",
       "    .dataframe thead th {\n",
       "        text-align: right;\n",
       "    }\n",
       "</style>\n",
       "<table border=\"1\" class=\"dataframe\">\n",
       "  <thead>\n",
       "    <tr style=\"text-align: right;\">\n",
       "      <th></th>\n",
       "      <th>변수명</th>\n",
       "      <th>영향도</th>\n",
       "    </tr>\n",
       "  </thead>\n",
       "  <tbody>\n",
       "    <tr>\n",
       "      <th>0</th>\n",
       "      <td>피해자신체상해정도</td>\n",
       "      <td>0.999736</td>\n",
       "    </tr>\n",
       "    <tr>\n",
       "      <th>1</th>\n",
       "      <td>사고유형</td>\n",
       "      <td>0.000159</td>\n",
       "    </tr>\n",
       "    <tr>\n",
       "      <th>2</th>\n",
       "      <td>주말여부</td>\n",
       "      <td>0.000105</td>\n",
       "    </tr>\n",
       "  </tbody>\n",
       "</table>\n",
       "</div>"
      ],
      "text/plain": [
       "         변수명       영향도\n",
       "0  피해자신체상해정도  0.999736\n",
       "1       사고유형  0.000159\n",
       "2       주말여부  0.000105"
      ]
     },
     "metadata": {},
     "output_type": "display_data"
    }
   ],
   "source": [
    "x_train, x_test, y_train, y_test = train_test_split(x, y, random_state = 123, test_size = 0.3)\n",
    "\n",
    "x_train_ar = np.array(x_train)\n",
    "x_test_ar = np.array(x_test)\n",
    "\n",
    "xgb = XGBClassifier(n_estimators = 200)\n",
    "model_xgb = xgb.fit(x_train_ar, y_train)\n",
    "\n",
    "log = LogisticRegression()\n",
    "model_log =  log.fit(x_train_ar, y_train)\n",
    "\n",
    "pred_xgb = model_xgb.predict(x_test_ar)\n",
    "pred_log = model_log.predict(x_test_ar)\n",
    "\n",
    "acc_xgb = accuracy_score(pred_xgb, y_test)\n",
    "acc_log = accuracy_score(pred_log, y_test)\n",
    "\n",
    "print('정확도 평가 결과 1. xgboost : {:.4f}, 2. 로지스틱회귀 : {:.4f}'.format(acc_xgb, acc_log))\n",
    "\n",
    "feat_imp = pd.concat([pd.DataFrame(x_train.columns),\n",
    "                     pd.DataFrame(xgb.feature_importances_)], axis = 1)\n",
    "\n",
    "feat_imp.columns= ['변수명', '영향도']\n",
    "display(feat_imp)"
   ]
  },
  {
   "cell_type": "markdown",
   "id": "cd6ae3d1",
   "metadata": {},
   "source": [
    "#### [답안] (24분)\n",
    "- 사고내용(종속변수)과 피해자신체상해정도, 사고유형, 주말여부(독립변수)를 가지고 xgboost와 로지스틱 회귀 모델을 만들었다. 정확도는 모두 98.48%이다. 변수의 영향도를 보면 피해자신체상해정도가 가장 영향력이 높은 변수이다."
   ]
  },
  {
   "cell_type": "markdown",
   "id": "526e7015",
   "metadata": {},
   "source": [
    "# 통계 (40점)"
   ]
  },
  {
   "cell_type": "markdown",
   "id": "862751b7",
   "metadata": {},
   "source": [
    "## 5. \n",
    "3개의 공장에서 생산한 제품을 3지역으로 가능한 조건에 맞게 최대로 배송한다.    \n",
    "각 공장과 각 지역 사이의 1개 제품 배송 비용이 아래와 같을 때, 최소 배송 비용은 얼마인가?    \n",
    "![img](https://raw.githubusercontent.com/Datamanim/datarepo/main/adp/30/p5.png)"
   ]
  },
  {
   "cell_type": "code",
   "execution_count": 48,
   "id": "7dac3e8a",
   "metadata": {},
   "outputs": [
    {
     "name": "stdout",
     "output_type": "stream",
     "text": [
      "(A,1) = 25.0\n",
      "(A,2) = 50.0\n",
      "(A,3) = 0.0\n",
      "(B,1) = 0.0\n",
      "(B,2) = 0.0\n",
      "(B,3) = 55.0\n",
      "(C,1) = 55.0\n",
      "(C,2) = 0.0\n",
      "(C,3) = 5.0\n",
      "Total cost =  2100.0\n"
     ]
    }
   ],
   "source": [
    "# LpProblem  객체 생성\n",
    "problem = LpProblem(\"Min_Cost_Problem\", LpMinimize)\n",
    "\n",
    "# 변수 정의\n",
    "a1 = LpVariable('(A,1)', 0)\n",
    "a2 = LpVariable('(A,2)', 0)\n",
    "a3 = LpVariable('(A,3)', 0)\n",
    "b1 = LpVariable('(B,1)', 0)\n",
    "b2 = LpVariable('(B,2)', 0)\n",
    "b3 = LpVariable('(B,3)', 0)\n",
    "c1 = LpVariable('(C,1)', 0)\n",
    "c2 = LpVariable('(C,2)', 0)\n",
    "c3 = LpVariable('(C,3)', 0)\n",
    "\n",
    "# 목적 함수 정의(비용 최소화)\n",
    "problem += 20*a1 + 5*a2 + 35*a3 + 15*b1 + 2*b2 + 20*b3 + 3*c1 + 14*c2 + 17*c3, 'cost'\n",
    "\n",
    "# 제약조건 추가\n",
    "problem += a1 + a2 + a3 == 75, '공장 A'\n",
    "problem += b1 + b2 + b3 == 55, '공장 B'\n",
    "problem += c1 + c2 + c3 == 60, '공장 C'\n",
    "\n",
    "problem += a1 + b1 + c1 == 80, '지역 1'\n",
    "problem += a2 + b2 + c2 == 50, '지역 2'\n",
    "problem += a3 + b3 + c3 == 60, '지역 3'\n",
    "\n",
    "# 선형 프로그래밍 문제 해결\n",
    "problem.solve()\n",
    "\n",
    "# 결과 출력\n",
    "# 변수값 / 목적값 출력\n",
    "for v in problem.variables():\n",
    "    print(v.name, '=', v.varValue)\n",
    "\n",
    "print('Total cost = ', problem.objective.value())"
   ]
  },
  {
   "cell_type": "markdown",
   "id": "9b6d697d",
   "metadata": {},
   "source": [
    "#### [답안] (17분)\n",
    "- 문제의 조건으로 최소 배송 비용은 2100이다."
   ]
  },
  {
   "cell_type": "markdown",
   "id": "d6ad5e43",
   "metadata": {},
   "source": [
    "## 데이터 설명\n",
    "- 데이터 링크 : https://raw.githubusercontent.com/Datamanim/datarepo/main/adp/30/p6.csv\n",
    "- 데이터 설명 : 3개 연령층 (청년 장년 노년)의 A 헤드셋의 선호도 (1,2,3) 설문조사"
   ]
  },
  {
   "cell_type": "code",
   "execution_count": 39,
   "id": "9496f004",
   "metadata": {},
   "outputs": [
    {
     "data": {
      "text/html": [
       "<div>\n",
       "<style scoped>\n",
       "    .dataframe tbody tr th:only-of-type {\n",
       "        vertical-align: middle;\n",
       "    }\n",
       "\n",
       "    .dataframe tbody tr th {\n",
       "        vertical-align: top;\n",
       "    }\n",
       "\n",
       "    .dataframe thead th {\n",
       "        text-align: right;\n",
       "    }\n",
       "</style>\n",
       "<table border=\"1\" class=\"dataframe\">\n",
       "  <thead>\n",
       "    <tr style=\"text-align: right;\">\n",
       "      <th></th>\n",
       "      <th>나이</th>\n",
       "      <th>선호도</th>\n",
       "    </tr>\n",
       "  </thead>\n",
       "  <tbody>\n",
       "    <tr>\n",
       "      <th>0</th>\n",
       "      <td>청년</td>\n",
       "      <td>2</td>\n",
       "    </tr>\n",
       "    <tr>\n",
       "      <th>1</th>\n",
       "      <td>장년</td>\n",
       "      <td>2</td>\n",
       "    </tr>\n",
       "    <tr>\n",
       "      <th>2</th>\n",
       "      <td>청년</td>\n",
       "      <td>2</td>\n",
       "    </tr>\n",
       "    <tr>\n",
       "      <th>3</th>\n",
       "      <td>청년</td>\n",
       "      <td>1</td>\n",
       "    </tr>\n",
       "    <tr>\n",
       "      <th>4</th>\n",
       "      <td>장년</td>\n",
       "      <td>1</td>\n",
       "    </tr>\n",
       "  </tbody>\n",
       "</table>\n",
       "</div>"
      ],
      "text/plain": [
       "   나이  선호도\n",
       "0  청년    2\n",
       "1  장년    2\n",
       "2  청년    2\n",
       "3  청년    1\n",
       "4  장년    1"
      ]
     },
     "execution_count": 39,
     "metadata": {},
     "output_type": "execute_result"
    }
   ],
   "source": [
    "df = pd.read_csv('https://raw.githubusercontent.com/Datamanim/datarepo/main/adp/30/p6.csv')\n",
    "df.head()"
   ]
  },
  {
   "cell_type": "markdown",
   "id": "884a2cee",
   "metadata": {},
   "source": [
    "## 6.1 연령대별로 헤드셋 선호도에 차이가 있는지를 검정하기 위한 귀무가설과 연구가설을 설정해라."
   ]
  },
  {
   "cell_type": "markdown",
   "id": "fc2868e0",
   "metadata": {},
   "source": [
    "#### [답안]  (3분)\n",
    "- 귀무가설(H0) : 연령대별로 헤드셋 선호도의 차이가 없다.\n",
    "- 연구가설(H1) : 연령대별로 헤드셋 선호도의 차이가 있다."
   ]
  },
  {
   "cell_type": "markdown",
   "id": "e0c2c676",
   "metadata": {},
   "source": [
    "## 6.2 유의수준 하에서 통계 검정해라"
   ]
  },
  {
   "cell_type": "code",
   "execution_count": 44,
   "id": "368fbe05",
   "metadata": {},
   "outputs": [
    {
     "name": "stdout",
     "output_type": "stream",
     "text": [
      "통계량 : 0.265, p-value : 0.992\n"
     ]
    }
   ],
   "source": [
    "tab = pd.crosstab(df.나이, df.선호도)\n",
    "statistic, p, df_, expect = stats.chi2_contingency(tab)\n",
    "print('통계량 : {:.3f}, p-value : {:.3f}'.format(statistic, p))"
   ]
  },
  {
   "cell_type": "markdown",
   "id": "f06ede9a",
   "metadata": {},
   "source": [
    "#### [답안] (4분)\n",
    "- 카이제곱 통계량은 0.265, 유의확률(p-value)은 0.992로 유의수준 0.05보다 크므로 귀무가설을 채택한다. 유의수준 5%하에 연령대별로 헤드셋 선호도의 차이가 없다고 볼 수 있다."
   ]
  },
  {
   "cell_type": "markdown",
   "id": "9d388095",
   "metadata": {},
   "source": [
    "## 데이터 설명\n",
    "아이를 6명 가진 가정이 5 가족이고, 아들/딸을 출생할 확률은 0.5이다."
   ]
  },
  {
   "cell_type": "markdown",
   "id": "0afcc3ae",
   "metadata": {},
   "source": [
    "## 7.1 딸이 4명 이상인 가구가 3 가족 이상일 확률을 구하라."
   ]
  },
  {
   "cell_type": "code",
   "execution_count": 25,
   "id": "0f18b8b4",
   "metadata": {},
   "outputs": [
    {
     "data": {
      "text/plain": [
       "0.34375"
      ]
     },
     "execution_count": 25,
     "metadata": {},
     "output_type": "execute_result"
    }
   ],
   "source": [
    "binom.pmf(4, 6, 0.5)+binom.pmf(5, 6, 0.5)+binom.pmf(6, 6, 0.5)"
   ]
  },
  {
   "cell_type": "code",
   "execution_count": 34,
   "id": "bdd21cb2",
   "metadata": {},
   "outputs": [
    {
     "data": {
      "text/plain": [
       "0.2255459427833557"
      ]
     },
     "execution_count": 34,
     "metadata": {},
     "output_type": "execute_result"
    }
   ],
   "source": [
    "n = 5 # 전체 가족 수 \n",
    "p = binom.pmf(4, 6, 0.5)+binom.pmf(5, 6, 0.5)+binom.pmf(6, 6, 0.5) # 자식수 6명 중 딸이 4명 이상일 확률\n",
    "\n",
    "from scipy.stats import binom\n",
    "binom.pmf(3, n, p) + binom.pmf(4, n, p) + binom.pmf(5, n, p)"
   ]
  },
  {
   "cell_type": "markdown",
   "id": "89783461",
   "metadata": {},
   "source": [
    "#### [답안]\n",
    "- 딸이 4명 이상인 가구가 3 가족 이상일 확률은 0.2255이다."
   ]
  },
  {
   "cell_type": "markdown",
   "id": "f9a3736a",
   "metadata": {},
   "source": [
    "## 7.2 5가족 중 몇 가족이 4명 이상 딸을 가질 것으로 기대할 수 있는가? "
   ]
  },
  {
   "cell_type": "code",
   "execution_count": 40,
   "id": "6520e997",
   "metadata": {},
   "outputs": [
    {
     "name": "stdout",
     "output_type": "stream",
     "text": [
      "1.71875\n"
     ]
    }
   ],
   "source": [
    "p = binom.pmf(4, 6, 0.5)+binom.pmf(5, 6, 0.5)+binom.pmf(6, 6, 0.5) # 자식수 6명 중 딸이 4명 이상일 확률\n",
    "\n",
    "f0 = binom.pmf(0, n, p)\n",
    "f1 = binom.pmf(1, n, p)\n",
    "f2 = binom.pmf(2, n, p)\n",
    "f3 = binom.pmf(3, n, p)\n",
    "f4 = binom.pmf(4, n, p)\n",
    "f5 = binom.pmf(5, n, p)\n",
    "print(f0*0 + f1*1 + f2*2 + f3*3 +f4*4 + f5*5)"
   ]
  },
  {
   "cell_type": "markdown",
   "id": "ba66722e",
   "metadata": {},
   "source": [
    "#### [답안] (32분)\n",
    "- 5 가족 중 1.7 가족이 4명 이상 딸을 가질 것으로 기대함"
   ]
  },
  {
   "cell_type": "markdown",
   "id": "3d6834a0",
   "metadata": {},
   "source": [
    "created by datamanim [web-link](https://www.datamanim.com)"
   ]
  }
 ],
 "metadata": {
  "kernelspec": {
   "display_name": "Python 3 (ipykernel)",
   "language": "python",
   "name": "python3"
  },
  "language_info": {
   "codemirror_mode": {
    "name": "ipython",
    "version": 3
   },
   "file_extension": ".py",
   "mimetype": "text/x-python",
   "name": "python",
   "nbconvert_exporter": "python",
   "pygments_lexer": "ipython3",
   "version": "3.11.5"
  }
 },
 "nbformat": 4,
 "nbformat_minor": 5
}
