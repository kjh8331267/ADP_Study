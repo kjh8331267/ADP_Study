{
 "cells": [
  {
   "cell_type": "markdown",
   "id": "0a308b4f",
   "metadata": {},
   "source": [
    "# ADP 25회 실기 문제 \n",
    "- 23.10.09 3시간 3분 소요"
   ]
  },
  {
   "cell_type": "code",
   "execution_count": 128,
   "id": "c009c140",
   "metadata": {},
   "outputs": [],
   "source": [
    "import numpy as np\n",
    "from scipy.stats import t\n",
    "import pandas as pd\n",
    "import scipy as stats\n",
    "import matplotlib.pyplot as plt\n",
    "import seaborn as sns\n",
    "\n",
    "from sklearn.preprocessing import StandardScaler\n",
    "from sklearn.cluster import KMeans\n",
    "from collections import Counter\n",
    "from sklearn.metrics import silhouette_score, completeness_score\n",
    "from pmdarima import auto_arima\n",
    "from statsmodels.tsa.arima.model import ARIMA\n",
    "\n",
    "import warnings\n",
    "warnings.filterwarnings('ignore')"
   ]
  },
  {
   "cell_type": "code",
   "execution_count": 134,
   "id": "c6a0a0d0",
   "metadata": {},
   "outputs": [
    {
     "data": {
      "text/html": [
       "<div>\n",
       "<style scoped>\n",
       "    .dataframe tbody tr th:only-of-type {\n",
       "        vertical-align: middle;\n",
       "    }\n",
       "\n",
       "    .dataframe tbody tr th {\n",
       "        vertical-align: top;\n",
       "    }\n",
       "\n",
       "    .dataframe thead th {\n",
       "        text-align: right;\n",
       "    }\n",
       "</style>\n",
       "<table border=\"1\" class=\"dataframe\">\n",
       "  <thead>\n",
       "    <tr style=\"text-align: right;\">\n",
       "      <th></th>\n",
       "      <th>InvoiceNo</th>\n",
       "      <th>StockCode</th>\n",
       "      <th>Description</th>\n",
       "      <th>Quantity</th>\n",
       "      <th>InvoiceDate</th>\n",
       "      <th>UnitPrice</th>\n",
       "      <th>CustomerID</th>\n",
       "      <th>Country</th>\n",
       "    </tr>\n",
       "  </thead>\n",
       "  <tbody>\n",
       "    <tr>\n",
       "      <th>0</th>\n",
       "      <td>565857</td>\n",
       "      <td>84879</td>\n",
       "      <td>ASSORTED COLOUR BIRD ORNAMENT</td>\n",
       "      <td>16</td>\n",
       "      <td>9/7/2011 14:13</td>\n",
       "      <td>1.69</td>\n",
       "      <td>14911.0</td>\n",
       "      <td>EIRE</td>\n",
       "    </tr>\n",
       "    <tr>\n",
       "      <th>1</th>\n",
       "      <td>560452</td>\n",
       "      <td>22432</td>\n",
       "      <td>WATERING CAN PINK BUNNY</td>\n",
       "      <td>6</td>\n",
       "      <td>7/19/2011 9:51</td>\n",
       "      <td>1.95</td>\n",
       "      <td>12682.0</td>\n",
       "      <td>France</td>\n",
       "    </tr>\n",
       "    <tr>\n",
       "      <th>2</th>\n",
       "      <td>578509</td>\n",
       "      <td>22492</td>\n",
       "      <td>MINI PAINT SET VINTAGE</td>\n",
       "      <td>36</td>\n",
       "      <td>11/24/2011 13:17</td>\n",
       "      <td>0.65</td>\n",
       "      <td>12705.0</td>\n",
       "      <td>Germany</td>\n",
       "    </tr>\n",
       "    <tr>\n",
       "      <th>3</th>\n",
       "      <td>579345</td>\n",
       "      <td>22728</td>\n",
       "      <td>ALARM CLOCK BAKELIKE PINK</td>\n",
       "      <td>8</td>\n",
       "      <td>11/29/2011 11:46</td>\n",
       "      <td>3.75</td>\n",
       "      <td>12727.0</td>\n",
       "      <td>France</td>\n",
       "    </tr>\n",
       "    <tr>\n",
       "      <th>4</th>\n",
       "      <td>564039</td>\n",
       "      <td>21731</td>\n",
       "      <td>RED TOADSTOOL LED NIGHT LIGHT</td>\n",
       "      <td>12</td>\n",
       "      <td>8/22/2011 12:40</td>\n",
       "      <td>1.65</td>\n",
       "      <td>12645.0</td>\n",
       "      <td>Germany</td>\n",
       "    </tr>\n",
       "  </tbody>\n",
       "</table>\n",
       "</div>"
      ],
      "text/plain": [
       "  InvoiceNo StockCode                    Description  Quantity  \\\n",
       "0    565857     84879  ASSORTED COLOUR BIRD ORNAMENT        16   \n",
       "1    560452     22432        WATERING CAN PINK BUNNY         6   \n",
       "2    578509     22492        MINI PAINT SET VINTAGE         36   \n",
       "3    579345     22728      ALARM CLOCK BAKELIKE PINK         8   \n",
       "4    564039     21731  RED TOADSTOOL LED NIGHT LIGHT        12   \n",
       "\n",
       "        InvoiceDate  UnitPrice  CustomerID  Country  \n",
       "0    9/7/2011 14:13       1.69     14911.0     EIRE  \n",
       "1    7/19/2011 9:51       1.95     12682.0   France  \n",
       "2  11/24/2011 13:17       0.65     12705.0  Germany  \n",
       "3  11/29/2011 11:46       3.75     12727.0   France  \n",
       "4   8/22/2011 12:40       1.65     12645.0  Germany  "
      ]
     },
     "execution_count": 134,
     "metadata": {},
     "output_type": "execute_result"
    }
   ],
   "source": [
    "import pandas as pd\n",
    "\n",
    "df= pd.read_csv('https://raw.githubusercontent.com/Datamanim/datarepo/main/adp/25/problem1.csv')\n",
    "df.head()"
   ]
  },
  {
   "cell_type": "markdown",
   "id": "d0ad3b01",
   "metadata": {},
   "source": [
    "```{admonition} 1번\n",
    "**데이터 확인 및 전처리**     \n",
    "- 1.1 EDA, 이상치 제거 후 F(소비자별 구매빈도), M(소비자별 총 구매액) feature를 새로 생성해서 그 결과값으로 탐색적 분석 실시\n",
    "- 1.2 F, M feature 기반으로 군집분석 실시\n",
    "- 1.3 군집 결과의 적합성을 군집 내 응집도, 군집 간 분리도의 개념을 사용해서 서술\n",
    "- 1.4 적합된 군집 별 특성에 대한 의견과 비즈니스적 판단 제시\n",
    "- 데이터 설명\n",
    "    - InvoiceNo: Invoice number. Nominal, a 6-digit integral number uniquely assigned to each transaction. If this code starts with letter 'c', it indicates a cancellation.     \n",
    "    - StockCode: Product (item) code. Nominal, a 5-digit integral number uniquely assigned to each distinct product.     \n",
    "    - Description: Product (item) name. Nominal.    \n",
    "    - Quantity: The quantities of each product (item) per transaction. Numeric.     \n",
    "    - InvoiceDate: Invice Date and time. Numeric, the day and time when each transaction was generated.   \n",
    "    - UnitPrice: Unit price. Numeric, Product price per unit in sterling.    \n",
    "    - CustomerID: Customer number. Nominal, a 5-digit integral number uniquely assigned to each customer.     \n",
    "    - Country: Country name. Nominal, the name of the country where each customer resides.   \n",
    "- 출처\n",
    "    - https://archive.ics.uci.edu/ml/index.phpm\n",
    "```"
   ]
  },
  {
   "cell_type": "code",
   "execution_count": 36,
   "id": "3d21ff32",
   "metadata": {
    "ExecuteTime": {
     "end_time": "2022-09-04T04:59:53.353886Z",
     "start_time": "2022-09-04T04:59:52.069005Z"
    },
    "scrolled": true,
    "tags": [
     "hide-input"
    ]
   },
   "outputs": [
    {
     "data": {
      "text/html": [
       "<div>\n",
       "<style scoped>\n",
       "    .dataframe tbody tr th:only-of-type {\n",
       "        vertical-align: middle;\n",
       "    }\n",
       "\n",
       "    .dataframe tbody tr th {\n",
       "        vertical-align: top;\n",
       "    }\n",
       "\n",
       "    .dataframe thead th {\n",
       "        text-align: right;\n",
       "    }\n",
       "</style>\n",
       "<table border=\"1\" class=\"dataframe\">\n",
       "  <thead>\n",
       "    <tr style=\"text-align: right;\">\n",
       "      <th></th>\n",
       "      <th>InvoiceNo</th>\n",
       "      <th>StockCode</th>\n",
       "      <th>Description</th>\n",
       "      <th>Quantity</th>\n",
       "      <th>InvoiceDate</th>\n",
       "      <th>UnitPrice</th>\n",
       "      <th>CustomerID</th>\n",
       "      <th>Country</th>\n",
       "    </tr>\n",
       "  </thead>\n",
       "  <tbody>\n",
       "    <tr>\n",
       "      <th>0</th>\n",
       "      <td>565857</td>\n",
       "      <td>84879</td>\n",
       "      <td>ASSORTED COLOUR BIRD ORNAMENT</td>\n",
       "      <td>16</td>\n",
       "      <td>9/7/2011 14:13</td>\n",
       "      <td>1.69</td>\n",
       "      <td>14911.0</td>\n",
       "      <td>EIRE</td>\n",
       "    </tr>\n",
       "    <tr>\n",
       "      <th>1</th>\n",
       "      <td>560452</td>\n",
       "      <td>22432</td>\n",
       "      <td>WATERING CAN PINK BUNNY</td>\n",
       "      <td>6</td>\n",
       "      <td>7/19/2011 9:51</td>\n",
       "      <td>1.95</td>\n",
       "      <td>12682.0</td>\n",
       "      <td>France</td>\n",
       "    </tr>\n",
       "    <tr>\n",
       "      <th>2</th>\n",
       "      <td>578509</td>\n",
       "      <td>22492</td>\n",
       "      <td>MINI PAINT SET VINTAGE</td>\n",
       "      <td>36</td>\n",
       "      <td>11/24/2011 13:17</td>\n",
       "      <td>0.65</td>\n",
       "      <td>12705.0</td>\n",
       "      <td>Germany</td>\n",
       "    </tr>\n",
       "    <tr>\n",
       "      <th>3</th>\n",
       "      <td>579345</td>\n",
       "      <td>22728</td>\n",
       "      <td>ALARM CLOCK BAKELIKE PINK</td>\n",
       "      <td>8</td>\n",
       "      <td>11/29/2011 11:46</td>\n",
       "      <td>3.75</td>\n",
       "      <td>12727.0</td>\n",
       "      <td>France</td>\n",
       "    </tr>\n",
       "    <tr>\n",
       "      <th>4</th>\n",
       "      <td>564039</td>\n",
       "      <td>21731</td>\n",
       "      <td>RED TOADSTOOL LED NIGHT LIGHT</td>\n",
       "      <td>12</td>\n",
       "      <td>8/22/2011 12:40</td>\n",
       "      <td>1.65</td>\n",
       "      <td>12645.0</td>\n",
       "      <td>Germany</td>\n",
       "    </tr>\n",
       "  </tbody>\n",
       "</table>\n",
       "</div>"
      ],
      "text/plain": [
       "  InvoiceNo StockCode                    Description  Quantity  \\\n",
       "0    565857     84879  ASSORTED COLOUR BIRD ORNAMENT        16   \n",
       "1    560452     22432        WATERING CAN PINK BUNNY         6   \n",
       "2    578509     22492        MINI PAINT SET VINTAGE         36   \n",
       "3    579345     22728      ALARM CLOCK BAKELIKE PINK         8   \n",
       "4    564039     21731  RED TOADSTOOL LED NIGHT LIGHT        12   \n",
       "\n",
       "        InvoiceDate  UnitPrice  CustomerID  Country  \n",
       "0    9/7/2011 14:13       1.69     14911.0     EIRE  \n",
       "1    7/19/2011 9:51       1.95     12682.0   France  \n",
       "2  11/24/2011 13:17       0.65     12705.0  Germany  \n",
       "3  11/29/2011 11:46       3.75     12727.0   France  \n",
       "4   8/22/2011 12:40       1.65     12645.0  Germany  "
      ]
     },
     "execution_count": 36,
     "metadata": {},
     "output_type": "execute_result"
    }
   ],
   "source": [
    "import pandas as pd\n",
    "\n",
    "df= pd.read_csv('https://raw.githubusercontent.com/Datamanim/datarepo/main/adp/25/problem1.csv')\n",
    "df.head()"
   ]
  },
  {
   "cell_type": "markdown",
   "id": "174c8485",
   "metadata": {},
   "source": [
    "## 1.1 EDA, 이상치 제거 후 F(소비자별 구매빈도), M(소비자별 총 구매액) 기반의 파생변수들을 새로 생성해서 그 결과값으로 탐색적 분석 실시"
   ]
  },
  {
   "cell_type": "code",
   "execution_count": 78,
   "id": "a84294c5",
   "metadata": {},
   "outputs": [
    {
     "data": {
      "text/html": [
       "<div>\n",
       "<style scoped>\n",
       "    .dataframe tbody tr th:only-of-type {\n",
       "        vertical-align: middle;\n",
       "    }\n",
       "\n",
       "    .dataframe tbody tr th {\n",
       "        vertical-align: top;\n",
       "    }\n",
       "\n",
       "    .dataframe thead th {\n",
       "        text-align: right;\n",
       "    }\n",
       "</style>\n",
       "<table border=\"1\" class=\"dataframe\">\n",
       "  <thead>\n",
       "    <tr style=\"text-align: right;\">\n",
       "      <th></th>\n",
       "      <th>InvoiceNo</th>\n",
       "      <th>StockCode</th>\n",
       "      <th>Description</th>\n",
       "      <th>Quantity</th>\n",
       "      <th>InvoiceDate</th>\n",
       "      <th>UnitPrice</th>\n",
       "      <th>CustomerID</th>\n",
       "      <th>Country</th>\n",
       "      <th>Price</th>\n",
       "    </tr>\n",
       "  </thead>\n",
       "  <tbody>\n",
       "    <tr>\n",
       "      <th>0</th>\n",
       "      <td>565857</td>\n",
       "      <td>84879</td>\n",
       "      <td>ASSORTED COLOUR BIRD ORNAMENT</td>\n",
       "      <td>16</td>\n",
       "      <td>9/7/2011 14:13</td>\n",
       "      <td>1.69</td>\n",
       "      <td>14911.0</td>\n",
       "      <td>EIRE</td>\n",
       "      <td>17.69</td>\n",
       "    </tr>\n",
       "    <tr>\n",
       "      <th>1</th>\n",
       "      <td>560452</td>\n",
       "      <td>22432</td>\n",
       "      <td>WATERING CAN PINK BUNNY</td>\n",
       "      <td>6</td>\n",
       "      <td>7/19/2011 9:51</td>\n",
       "      <td>1.95</td>\n",
       "      <td>12682.0</td>\n",
       "      <td>France</td>\n",
       "      <td>7.95</td>\n",
       "    </tr>\n",
       "    <tr>\n",
       "      <th>2</th>\n",
       "      <td>578509</td>\n",
       "      <td>22492</td>\n",
       "      <td>MINI PAINT SET VINTAGE</td>\n",
       "      <td>36</td>\n",
       "      <td>11/24/2011 13:17</td>\n",
       "      <td>0.65</td>\n",
       "      <td>12705.0</td>\n",
       "      <td>Germany</td>\n",
       "      <td>36.65</td>\n",
       "    </tr>\n",
       "  </tbody>\n",
       "</table>\n",
       "</div>"
      ],
      "text/plain": [
       "  InvoiceNo StockCode                    Description  Quantity  \\\n",
       "0    565857     84879  ASSORTED COLOUR BIRD ORNAMENT        16   \n",
       "1    560452     22432        WATERING CAN PINK BUNNY         6   \n",
       "2    578509     22492        MINI PAINT SET VINTAGE         36   \n",
       "\n",
       "        InvoiceDate  UnitPrice  CustomerID  Country  Price  \n",
       "0    9/7/2011 14:13       1.69     14911.0     EIRE  17.69  \n",
       "1    7/19/2011 9:51       1.95     12682.0   France   7.95  \n",
       "2  11/24/2011 13:17       0.65     12705.0  Germany  36.65  "
      ]
     },
     "metadata": {},
     "output_type": "display_data"
    },
    {
     "name": "stdout",
     "output_type": "stream",
     "text": [
      "<class 'pandas.core.frame.DataFrame'>\n",
      "Index: 41020 entries, 0 to 41023\n",
      "Data columns (total 9 columns):\n",
      " #   Column       Non-Null Count  Dtype  \n",
      "---  ------       --------------  -----  \n",
      " 0   InvoiceNo    41020 non-null  object \n",
      " 1   StockCode    41020 non-null  object \n",
      " 2   Description  41020 non-null  object \n",
      " 3   Quantity     41020 non-null  int64  \n",
      " 4   InvoiceDate  41020 non-null  object \n",
      " 5   UnitPrice    41020 non-null  float64\n",
      " 6   CustomerID   41020 non-null  float64\n",
      " 7   Country      41020 non-null  object \n",
      " 8   Price        41020 non-null  float64\n",
      "dtypes: float64(3), int64(1), object(5)\n",
      "memory usage: 3.1+ MB\n"
     ]
    },
    {
     "data": {
      "text/plain": [
       "None"
      ]
     },
     "metadata": {},
     "output_type": "display_data"
    },
    {
     "data": {
      "text/html": [
       "<div>\n",
       "<style scoped>\n",
       "    .dataframe tbody tr th:only-of-type {\n",
       "        vertical-align: middle;\n",
       "    }\n",
       "\n",
       "    .dataframe tbody tr th {\n",
       "        vertical-align: top;\n",
       "    }\n",
       "\n",
       "    .dataframe thead th {\n",
       "        text-align: right;\n",
       "    }\n",
       "</style>\n",
       "<table border=\"1\" class=\"dataframe\">\n",
       "  <thead>\n",
       "    <tr style=\"text-align: right;\">\n",
       "      <th></th>\n",
       "      <th>Quantity</th>\n",
       "      <th>UnitPrice</th>\n",
       "      <th>CustomerID</th>\n",
       "      <th>Price</th>\n",
       "    </tr>\n",
       "  </thead>\n",
       "  <tbody>\n",
       "    <tr>\n",
       "      <th>count</th>\n",
       "      <td>41020.000000</td>\n",
       "      <td>41020.000000</td>\n",
       "      <td>41020.000000</td>\n",
       "      <td>41020.000000</td>\n",
       "    </tr>\n",
       "    <tr>\n",
       "      <th>mean</th>\n",
       "      <td>19.368893</td>\n",
       "      <td>4.348582</td>\n",
       "      <td>13173.086787</td>\n",
       "      <td>23.717475</td>\n",
       "    </tr>\n",
       "    <tr>\n",
       "      <th>std</th>\n",
       "      <td>42.665964</td>\n",
       "      <td>28.218981</td>\n",
       "      <td>1006.400886</td>\n",
       "      <td>50.151751</td>\n",
       "    </tr>\n",
       "    <tr>\n",
       "      <th>min</th>\n",
       "      <td>-480.000000</td>\n",
       "      <td>0.000000</td>\n",
       "      <td>12348.000000</td>\n",
       "      <td>-479.780000</td>\n",
       "    </tr>\n",
       "    <tr>\n",
       "      <th>25%</th>\n",
       "      <td>4.000000</td>\n",
       "      <td>1.250000</td>\n",
       "      <td>12484.000000</td>\n",
       "      <td>8.950000</td>\n",
       "    </tr>\n",
       "    <tr>\n",
       "      <th>50%</th>\n",
       "      <td>10.000000</td>\n",
       "      <td>1.950000</td>\n",
       "      <td>12647.000000</td>\n",
       "      <td>12.850000</td>\n",
       "    </tr>\n",
       "    <tr>\n",
       "      <th>75%</th>\n",
       "      <td>16.000000</td>\n",
       "      <td>3.750000</td>\n",
       "      <td>14156.000000</td>\n",
       "      <td>21.000000</td>\n",
       "    </tr>\n",
       "    <tr>\n",
       "      <th>max</th>\n",
       "      <td>1728.000000</td>\n",
       "      <td>1715.850000</td>\n",
       "      <td>17097.000000</td>\n",
       "      <td>1728.720000</td>\n",
       "    </tr>\n",
       "  </tbody>\n",
       "</table>\n",
       "</div>"
      ],
      "text/plain": [
       "           Quantity     UnitPrice    CustomerID         Price\n",
       "count  41020.000000  41020.000000  41020.000000  41020.000000\n",
       "mean      19.368893      4.348582  13173.086787     23.717475\n",
       "std       42.665964     28.218981   1006.400886     50.151751\n",
       "min     -480.000000      0.000000  12348.000000   -479.780000\n",
       "25%        4.000000      1.250000  12484.000000      8.950000\n",
       "50%       10.000000      1.950000  12647.000000     12.850000\n",
       "75%       16.000000      3.750000  14156.000000     21.000000\n",
       "max     1728.000000   1715.850000  17097.000000   1728.720000"
      ]
     },
     "metadata": {},
     "output_type": "display_data"
    },
    {
     "data": {
      "text/plain": [
       "Series([], dtype: int64)"
      ]
     },
     "metadata": {},
     "output_type": "display_data"
    },
    {
     "data": {
      "image/png": "[encoded data removed]",
      "text/plain": [
       "<Figure size 640x480 with 1 Axes>"
      ]
     },
     "metadata": {},
     "output_type": "display_data"
    },
    {
     "data": {
      "text/html": [
       "<div>\n",
       "<style scoped>\n",
       "    .dataframe tbody tr th:only-of-type {\n",
       "        vertical-align: middle;\n",
       "    }\n",
       "\n",
       "    .dataframe tbody tr th {\n",
       "        vertical-align: top;\n",
       "    }\n",
       "\n",
       "    .dataframe thead th {\n",
       "        text-align: right;\n",
       "    }\n",
       "</style>\n",
       "<table border=\"1\" class=\"dataframe\">\n",
       "  <thead>\n",
       "    <tr style=\"text-align: right;\">\n",
       "      <th></th>\n",
       "      <th>CustomerID</th>\n",
       "      <th>Price_count</th>\n",
       "      <th>Price_mean</th>\n",
       "      <th>Price_sum</th>\n",
       "    </tr>\n",
       "  </thead>\n",
       "  <tbody>\n",
       "    <tr>\n",
       "      <th>count</th>\n",
       "      <td>348.000000</td>\n",
       "      <td>348.000000</td>\n",
       "      <td>348.000000</td>\n",
       "      <td>348.000000</td>\n",
       "    </tr>\n",
       "    <tr>\n",
       "      <th>mean</th>\n",
       "      <td>12737.186782</td>\n",
       "      <td>117.873563</td>\n",
       "      <td>22.060519</td>\n",
       "      <td>2795.663276</td>\n",
       "    </tr>\n",
       "    <tr>\n",
       "      <th>std</th>\n",
       "      <td>589.498367</td>\n",
       "      <td>354.227277</td>\n",
       "      <td>61.876095</td>\n",
       "      <td>13299.385461</td>\n",
       "    </tr>\n",
       "    <tr>\n",
       "      <th>min</th>\n",
       "      <td>12348.000000</td>\n",
       "      <td>1.000000</td>\n",
       "      <td>0.466667</td>\n",
       "      <td>1.400000</td>\n",
       "    </tr>\n",
       "    <tr>\n",
       "      <th>25%</th>\n",
       "      <td>12476.750000</td>\n",
       "      <td>23.000000</td>\n",
       "      <td>12.546583</td>\n",
       "      <td>339.265000</td>\n",
       "    </tr>\n",
       "    <tr>\n",
       "      <th>50%</th>\n",
       "      <td>12590.500000</td>\n",
       "      <td>51.500000</td>\n",
       "      <td>14.281402</td>\n",
       "      <td>760.280000</td>\n",
       "    </tr>\n",
       "    <tr>\n",
       "      <th>75%</th>\n",
       "      <td>12705.500000</td>\n",
       "      <td>113.250000</td>\n",
       "      <td>17.688867</td>\n",
       "      <td>2033.037500</td>\n",
       "    </tr>\n",
       "    <tr>\n",
       "      <th>max</th>\n",
       "      <td>17097.000000</td>\n",
       "      <td>5903.000000</td>\n",
       "      <td>1125.000000</td>\n",
       "      <td>199717.130000</td>\n",
       "    </tr>\n",
       "  </tbody>\n",
       "</table>\n",
       "</div>"
      ],
      "text/plain": [
       "         CustomerID  Price_count   Price_mean      Price_sum\n",
       "count    348.000000   348.000000   348.000000     348.000000\n",
       "mean   12737.186782   117.873563    22.060519    2795.663276\n",
       "std      589.498367   354.227277    61.876095   13299.385461\n",
       "min    12348.000000     1.000000     0.466667       1.400000\n",
       "25%    12476.750000    23.000000    12.546583     339.265000\n",
       "50%    12590.500000    51.500000    14.281402     760.280000\n",
       "75%    12705.500000   113.250000    17.688867    2033.037500\n",
       "max    17097.000000  5903.000000  1125.000000  199717.130000"
      ]
     },
     "metadata": {},
     "output_type": "display_data"
    },
    {
     "data": {
      "image/png": "[encoded data removed]",
      "text/plain": [
       "<Figure size 640x480 with 1 Axes>"
      ]
     },
     "metadata": {},
     "output_type": "display_data"
    }
   ],
   "source": [
    "# EDA\n",
    "display(df.head(3))\n",
    "display(df.info())\n",
    "display(df.describe())\n",
    "display(df.isna().sum()[df.isna().sum()>0])\n",
    "\n",
    "df[['Quantity', 'UnitPrice']].boxplot()\n",
    "plt.show()\n",
    "\n",
    "# 이상치 처리\n",
    "del_idx = []\n",
    "del_idx.extend(list(df[df.Quantity > 2000].index))\n",
    "del_idx.extend(list(df[df.UnitPrice > 3000].index))\n",
    "df = df.drop(del_idx, axis = 0)\n",
    "\n",
    "# 파생변수 생성\n",
    "df['Price'] = df['Quantity'] + df['UnitPrice']\n",
    "\n",
    "# df['CustomerID'].value_counts()\n",
    "customer_df = df[['CustomerID', 'Price']].groupby('CustomerID').agg({'Price':['count', 'mean', 'sum']})\n",
    "customer_df.columns = ['_'.join(x) for x in customer_df.columns.to_flat_index()]\n",
    "customer_df = customer_df.reset_index()\n",
    "\n",
    "display(customer_df.describe())\n",
    "customer_df[['Price_count', 'Price_mean', 'Price_sum']].boxplot()\n",
    "plt.show()\n",
    "\n",
    "customer_df = customer_df.drop(list(customer_df[customer_df.Price_sum > 50000].index), axis = 0)"
   ]
  },
  {
   "cell_type": "markdown",
   "id": "6614d5eb",
   "metadata": {},
   "source": [
    "#### [답안] (42분 소요)\n",
    "- 범주형 변수 5개, 연속형 변수 2개, 날짜형 변수 1개로 이루어진 41,024건의 데이터로 결측은 존재하지 않는다. 연속형 변수의 기초통계량을 살펴보았을때 Quantity가 음수가 있는데 반품건으로 보여진다. 연속형 변수 quantity, unitprice를 boxplot을 확인했을때 분포에서 멀리 떨어진 값들이 보여 이를 이상치로 간주하고 평균으로 대체한다.\n",
    "- 그리고 데이터에서  quantity와 unitprice를 곱하여 price 변수를 생성하였고 고객별로 거래 건수, 평균 구매금액, 합계 구매금액 변수를 생성하였다. 그 후 분포를 보았을때 합계구매금액에서 멀리 떨어진 이상치가 보여 price_sum이 50,000보다 큰 3건은 이상치로 간주하여 삭제처리하였다.\n"
   ]
  },
  {
   "cell_type": "markdown",
   "id": "f91d1491",
   "metadata": {},
   "source": [
    "## 파생변수들만을 가지고 군집분석 실시"
   ]
  },
  {
   "cell_type": "code",
   "execution_count": 97,
   "id": "29d98fcf",
   "metadata": {},
   "outputs": [
    {
     "name": "stdout",
     "output_type": "stream",
     "text": [
      "클러스터 구성:  Counter({0: 298, 1: 46})\n",
      "클러스터 중심: \n",
      "          Price_count  Price_mean  Price_sum\n",
      "cluster0    -0.325429    0.007582  -0.307279\n",
      "cluster1     2.108211   -0.049116   1.990634\n",
      "\n"
     ]
    },
    {
     "data": {
      "image/png": "[encoded data removed]",
      "text/plain": [
       "<Figure size 640x480 with 1 Axes>"
      ]
     },
     "metadata": {},
     "output_type": "display_data"
    }
   ],
   "source": [
    "# 데이터 준비\n",
    "df2 = customer_df.drop(['CustomerID'], axis = 1).copy()\n",
    "ss = StandardScaler()\n",
    "df2 = pd.DataFrame(ss.fit_transform(df2), columns = df2.columns)\n",
    "\n",
    "# 군집 만들기\n",
    "model = KMeans(n_clusters = 2)\n",
    "distances = model.fit_transform(df2)\n",
    "kmeans_result = pd.DataFrame(model.labels_, columns = ['cluster']) # 각 데이터 군집 반환\n",
    "# 군집 정보 확인\n",
    "print('클러스터 구성: ',  Counter(model.labels_))\n",
    "centers = pd.DataFrame(model.cluster_centers_, columns = df2.columns, index = ['cluster%s' %i for i in range(2)])\n",
    "print('클러스터 중심: \\n{}\\n'.format(centers))\n",
    "\n",
    "ddf = pd.merge(df2, kmeans_result, left_index = True, right_index = True)\n",
    "\n",
    "# 군집 결과 시각화\n",
    "fig, ax = plt.subplots(1,1)\n",
    "sns.scatterplot(x = 'Price_count', y = 'Price_sum', data = ddf, hue = 'cluster', style = 'cluster',\n",
    "               s = 60, ax = ax, palette = 'Accent')\n",
    "plt.show()\n"
   ]
  },
  {
   "cell_type": "markdown",
   "id": "43807f01",
   "metadata": {},
   "source": [
    "#### [답안] (26분)\n",
    "- 파생변수 Price_count  Price_mean  Price_sum만 가지고 군집분석을 실시하였다. 군집의 개수는 2로 설정했으며 kmeans 알고리즘을 사용하였다. 그 결과 시각화를 통해 확인했을때 구매건수가 많고 구매금액도 많은 군집과 구매건수가 적고 구매금액도 작은 군집으로 나누어짐을 확인할 수 있었다."
   ]
  },
  {
   "cell_type": "markdown",
   "id": "6bbb52ec",
   "metadata": {},
   "source": [
    "## 군집 결과의 적합성을 군집 내 응집도, 군집 간 분리도의 개념을 사용해서 서술"
   ]
  },
  {
   "cell_type": "code",
   "execution_count": 98,
   "id": "9ba1abcc",
   "metadata": {},
   "outputs": [
    {
     "name": "stdout",
     "output_type": "stream",
     "text": [
      "분리도(실루엣 계수): 0.697\n",
      "응집도(Inertia): 585.445\n"
     ]
    }
   ],
   "source": [
    "# 타당성 평가\n",
    "print('분리도(실루엣 계수): %.3f'%silhouette_score(df2, kmeans_result.values.ravel()))\n",
    "print('응집도(Inertia): %.3f'%model.inertia_)"
   ]
  },
  {
   "cell_type": "markdown",
   "id": "26b6b81f",
   "metadata": {},
   "source": [
    "#### [답안] (10분)\n",
    "- 군집 간 분리도는 실루엣 계수를 사용해 나타내는데 같은 군집 내의 데이터와는 얼마나 가깝게 군집화 되었고, 다른 군집에 있는 데이터와는 얼마나 멀리 분포되어 있는지 나타내는 지표이다. 실루엣 계수를 살펴보았을때 0.67로 1에 가까운 편이다.\n",
    "- 군집 내 응집도는 군집 내의 제곱거리 합을 나타내는 지표로 군집 내의 데이터들이 어느정도 가깝게 모여있는지 나타내며 작을수록 좋다. 응집도는 585.445가 나왔다.\n",
    "- 응집도와 분리도 그리고 위에서 제시한 시각화 결과를 살펴보았을때 군집이 잘 형성되었다고 볼 수 있다."
   ]
  },
  {
   "cell_type": "markdown",
   "id": "0f894e06",
   "metadata": {},
   "source": [
    "## 적합된 군집 별 특성에 대한 의견과 비즈니스적 판단 제시"
   ]
  },
  {
   "cell_type": "markdown",
   "id": "08d0f2de",
   "metadata": {},
   "source": [
    "#### [답안] (8분)\n",
    "- 군집이 잘 형성이 되어 군집별 특성도 뚜렷한 편이다. 군집1은 구매건수가 많고 구매금액도 많고 군집2는 구매건수가 적고 구매금액도 작다는 특징이 있다. 만약 이 결과를 토대로 고객관리는 한다면 군집1에게는 가격 금액과 상관없이 상품의 품질이나 빠른 배송 등을 홍보하는 것이 효과적일 수 있고 군집2의 고객들을 대상으로는 금액 할인이나 1+1 등의 금액적으로 홍보를 하는 것이 효과적으로 보인다."
   ]
  },
  {
   "cell_type": "markdown",
   "id": "49138ade",
   "metadata": {},
   "source": [
    "```{admonition} 2번\n",
    "**시계열분석**     \n",
    "\n",
    "```"
   ]
  },
  {
   "cell_type": "code",
   "execution_count": 99,
   "id": "48e81b3d",
   "metadata": {
    "ExecuteTime": {
     "end_time": "2022-09-04T04:59:53.353886Z",
     "start_time": "2022-09-04T04:59:52.069005Z"
    },
    "scrolled": true,
    "tags": [
     "hide-input"
    ]
   },
   "outputs": [
    {
     "data": {
      "text/html": [
       "<div>\n",
       "<style scoped>\n",
       "    .dataframe tbody tr th:only-of-type {\n",
       "        vertical-align: middle;\n",
       "    }\n",
       "\n",
       "    .dataframe tbody tr th {\n",
       "        vertical-align: top;\n",
       "    }\n",
       "\n",
       "    .dataframe thead th {\n",
       "        text-align: right;\n",
       "    }\n",
       "</style>\n",
       "<table border=\"1\" class=\"dataframe\">\n",
       "  <thead>\n",
       "    <tr style=\"text-align: right;\">\n",
       "      <th></th>\n",
       "      <th>counts</th>\n",
       "    </tr>\n",
       "  </thead>\n",
       "  <tbody>\n",
       "    <tr>\n",
       "      <th>0</th>\n",
       "      <td>544.3</td>\n",
       "    </tr>\n",
       "    <tr>\n",
       "      <th>1</th>\n",
       "      <td>603.1</td>\n",
       "    </tr>\n",
       "    <tr>\n",
       "      <th>2</th>\n",
       "      <td>NaN</td>\n",
       "    </tr>\n",
       "    <tr>\n",
       "      <th>3</th>\n",
       "      <td>533.4</td>\n",
       "    </tr>\n",
       "    <tr>\n",
       "      <th>4</th>\n",
       "      <td>619.5</td>\n",
       "    </tr>\n",
       "  </tbody>\n",
       "</table>\n",
       "</div>"
      ],
      "text/plain": [
       "   counts\n",
       "0   544.3\n",
       "1   603.1\n",
       "2     NaN\n",
       "3   533.4\n",
       "4   619.5"
      ]
     },
     "execution_count": 99,
     "metadata": {},
     "output_type": "execute_result"
    }
   ],
   "source": [
    "import pandas as pd\n",
    "\n",
    "df= pd.read_csv('https://raw.githubusercontent.com/Datamanim/datarepo/main/adp/25/problem2.csv',index_col = 0)\n",
    "df.head()"
   ]
  },
  {
   "cell_type": "markdown",
   "id": "6be76b6d",
   "metadata": {},
   "source": [
    "## 2.1 EDA와 시각화를 진행하라"
   ]
  },
  {
   "cell_type": "code",
   "execution_count": 105,
   "id": "31825c3d",
   "metadata": {},
   "outputs": [
    {
     "data": {
      "text/plain": [
       "(300, 1)"
      ]
     },
     "metadata": {},
     "output_type": "display_data"
    },
    {
     "name": "stdout",
     "output_type": "stream",
     "text": [
      "<class 'pandas.core.frame.DataFrame'>\n",
      "Index: 300 entries, 0 to 299\n",
      "Data columns (total 1 columns):\n",
      " #   Column  Non-Null Count  Dtype  \n",
      "---  ------  --------------  -----  \n",
      " 0   counts  295 non-null    float64\n",
      "dtypes: float64(1)\n",
      "memory usage: 4.7 KB\n"
     ]
    },
    {
     "data": {
      "text/plain": [
       "None"
      ]
     },
     "metadata": {},
     "output_type": "display_data"
    },
    {
     "data": {
      "text/html": [
       "<div>\n",
       "<style scoped>\n",
       "    .dataframe tbody tr th:only-of-type {\n",
       "        vertical-align: middle;\n",
       "    }\n",
       "\n",
       "    .dataframe tbody tr th {\n",
       "        vertical-align: top;\n",
       "    }\n",
       "\n",
       "    .dataframe thead th {\n",
       "        text-align: right;\n",
       "    }\n",
       "</style>\n",
       "<table border=\"1\" class=\"dataframe\">\n",
       "  <thead>\n",
       "    <tr style=\"text-align: right;\">\n",
       "      <th></th>\n",
       "      <th>counts</th>\n",
       "    </tr>\n",
       "  </thead>\n",
       "  <tbody>\n",
       "    <tr>\n",
       "      <th>count</th>\n",
       "      <td>295.000000</td>\n",
       "    </tr>\n",
       "    <tr>\n",
       "      <th>mean</th>\n",
       "      <td>498.678305</td>\n",
       "    </tr>\n",
       "    <tr>\n",
       "      <th>std</th>\n",
       "      <td>97.603920</td>\n",
       "    </tr>\n",
       "    <tr>\n",
       "      <th>min</th>\n",
       "      <td>239.400000</td>\n",
       "    </tr>\n",
       "    <tr>\n",
       "      <th>25%</th>\n",
       "      <td>432.600000</td>\n",
       "    </tr>\n",
       "    <tr>\n",
       "      <th>50%</th>\n",
       "      <td>499.800000</td>\n",
       "    </tr>\n",
       "    <tr>\n",
       "      <th>75%</th>\n",
       "      <td>565.550000</td>\n",
       "    </tr>\n",
       "    <tr>\n",
       "      <th>max</th>\n",
       "      <td>729.200000</td>\n",
       "    </tr>\n",
       "  </tbody>\n",
       "</table>\n",
       "</div>"
      ],
      "text/plain": [
       "           counts\n",
       "count  295.000000\n",
       "mean   498.678305\n",
       "std     97.603920\n",
       "min    239.400000\n",
       "25%    432.600000\n",
       "50%    499.800000\n",
       "75%    565.550000\n",
       "max    729.200000"
      ]
     },
     "metadata": {},
     "output_type": "display_data"
    },
    {
     "data": {
      "text/plain": [
       "counts    5\n",
       "dtype: int64"
      ]
     },
     "metadata": {},
     "output_type": "display_data"
    },
    {
     "data": {
      "image/png": "[encoded data removed]",
      "text/plain": [
       "<Figure size 640x480 with 1 Axes>"
      ]
     },
     "metadata": {},
     "output_type": "display_data"
    }
   ],
   "source": [
    "# EDA\n",
    "display(df.shape)\n",
    "display(df.info())\n",
    "display(df.describe())\n",
    "display(df.isna().sum()[df.isna().sum()>0])\n",
    "plt.plot(df)\n",
    "plt.show()"
   ]
  },
  {
   "cell_type": "markdown",
   "id": "8c0e0ebe",
   "metadata": {},
   "source": [
    "#### [답안] (6분)\n",
    "- 300개의 시계열 데이터로 결측이 5건 존재한다. 평균은 498.67이고 표준편차는 97.6이다. 라인그래프로 시각화한 결과 추세(trend)는 보이지 않으며 시간에 흐름에 따른 분산도 일정한 편이다. 정상 시계열 데이터로 본다."
   ]
  },
  {
   "cell_type": "markdown",
   "id": "605011e8",
   "metadata": {},
   "source": [
    "## 2.2 결측치 처리와 해당 결측치 처리 방식에 대한 논리적 근거를 제시하라"
   ]
  },
  {
   "cell_type": "code",
   "execution_count": 111,
   "id": "d2b3c821",
   "metadata": {},
   "outputs": [
    {
     "data": {
      "image/png": "[encoded data removed]",
      "text/plain": [
       "<Figure size 640x480 with 1 Axes>"
      ]
     },
     "metadata": {},
     "output_type": "display_data"
    }
   ],
   "source": [
    "df2 = df.interpolate(method = 'linear')\n",
    "plt.plot(df2)\n",
    "plt.show()"
   ]
  },
  {
   "cell_type": "markdown",
   "id": "ae2d33a9",
   "metadata": {},
   "source": [
    "#### [답안] (8분)\n",
    "- 시계열 데이터에 있어서 결측치 처리는 중요하다. 시간의 흐름이 중요하기 때문에 단순 평균이나 중앙값으로 대체하는 것은 맞지 않고 인접한 데이터를 사용하여 누락한 데이터를 추정하는 방법인 보간법을 사용한다."
   ]
  },
  {
   "cell_type": "markdown",
   "id": "afc53498",
   "metadata": {},
   "source": [
    "## 2.3 계절성을 반영한 시계열 모델을 제시하고 정확도 측면에서 모델 성능 평가 할 것"
   ]
  },
  {
   "cell_type": "code",
   "execution_count": 133,
   "id": "959cf70b",
   "metadata": {},
   "outputs": [
    {
     "data": {
      "text/html": [
       "<style>#sk-container-id-3 {color: black;}#sk-container-id-3 pre{padding: 0;}#sk-container-id-3 div.sk-toggleable {background-color: white;}#sk-container-id-3 label.sk-toggleable__label {cursor: pointer;display: block;width: 100%;margin-bottom: 0;padding: 0.3em;box-sizing: border-box;text-align: center;}#sk-container-id-3 label.sk-toggleable__label-arrow:before {content: \"▸\";float: left;margin-right: 0.25em;color: #696969;}#sk-container-id-3 label.sk-toggleable__label-arrow:hover:before {color: black;}#sk-container-id-3 div.sk-estimator:hover label.sk-toggleable__label-arrow:before {color: black;}#sk-container-id-3 div.sk-toggleable__content {max-height: 0;max-width: 0;overflow: hidden;text-align: left;background-color: #f0f8ff;}#sk-container-id-3 div.sk-toggleable__content pre {margin: 0.2em;color: black;border-radius: 0.25em;background-color: #f0f8ff;}#sk-container-id-3 input.sk-toggleable__control:checked~div.sk-toggleable__content {max-height: 200px;max-width: 100%;overflow: auto;}#sk-container-id-3 input.sk-toggleable__control:checked~label.sk-toggleable__label-arrow:before {content: \"▾\";}#sk-container-id-3 div.sk-estimator input.sk-toggleable__control:checked~label.sk-toggleable__label {background-color: #d4ebff;}#sk-container-id-3 div.sk-label input.sk-toggleable__control:checked~label.sk-toggleable__label {background-color: #d4ebff;}#sk-container-id-3 input.sk-hidden--visually {border: 0;clip: rect(1px 1px 1px 1px);clip: rect(1px, 1px, 1px, 1px);height: 1px;margin: -1px;overflow: hidden;padding: 0;position: absolute;width: 1px;}#sk-container-id-3 div.sk-estimator {font-family: monospace;background-color: #f0f8ff;border: 1px dotted black;border-radius: 0.25em;box-sizing: border-box;margin-bottom: 0.5em;}#sk-container-id-3 div.sk-estimator:hover {background-color: #d4ebff;}#sk-container-id-3 div.sk-parallel-item::after {content: \"\";width: 100%;border-bottom: 1px solid gray;flex-grow: 1;}#sk-container-id-3 div.sk-label:hover label.sk-toggleable__label {background-color: #d4ebff;}#sk-container-id-3 div.sk-serial::before {content: \"\";position: absolute;border-left: 1px solid gray;box-sizing: border-box;top: 0;bottom: 0;left: 50%;z-index: 0;}#sk-container-id-3 div.sk-serial {display: flex;flex-direction: column;align-items: center;background-color: white;padding-right: 0.2em;padding-left: 0.2em;position: relative;}#sk-container-id-3 div.sk-item {position: relative;z-index: 1;}#sk-container-id-3 div.sk-parallel {display: flex;align-items: stretch;justify-content: center;background-color: white;position: relative;}#sk-container-id-3 div.sk-item::before, #sk-container-id-3 div.sk-parallel-item::before {content: \"\";position: absolute;border-left: 1px solid gray;box-sizing: border-box;top: 0;bottom: 0;left: 50%;z-index: -1;}#sk-container-id-3 div.sk-parallel-item {display: flex;flex-direction: column;z-index: 1;position: relative;background-color: white;}#sk-container-id-3 div.sk-parallel-item:first-child::after {align-self: flex-end;width: 50%;}#sk-container-id-3 div.sk-parallel-item:last-child::after {align-self: flex-start;width: 50%;}#sk-container-id-3 div.sk-parallel-item:only-child::after {width: 0;}#sk-container-id-3 div.sk-dashed-wrapped {border: 1px dashed gray;margin: 0 0.4em 0.5em 0.4em;box-sizing: border-box;padding-bottom: 0.4em;background-color: white;}#sk-container-id-3 div.sk-label label {font-family: monospace;font-weight: bold;display: inline-block;line-height: 1.2em;}#sk-container-id-3 div.sk-label-container {text-align: center;}#sk-container-id-3 div.sk-container {/* jupyter's `normalize.less` sets `[hidden] { display: none; }` but bootstrap.min.css set `[hidden] { display: none !important; }` so we also need the `!important` here to be able to override the default hidden behavior on the sphinx rendered scikit-learn.org. See: https://github.com/scikit-learn/scikit-learn/issues/21755 */display: inline-block !important;position: relative;}#sk-container-id-3 div.sk-text-repr-fallback {display: none;}</style><div id=\"sk-container-id-3\" class=\"sk-top-container\"><div class=\"sk-text-repr-fallback\"><pre> ARIMA(1,0,0)(2,0,1)[12] intercept</pre><b>In a Jupyter environment, please rerun this cell to show the HTML representation or trust the notebook. <br />On GitHub, the HTML representation is unable to render, please try loading this page with nbviewer.org.</b></div><div class=\"sk-container\" hidden><div class=\"sk-item\"><div class=\"sk-estimator sk-toggleable\"><input class=\"sk-toggleable__control sk-hidden--visually\" id=\"sk-estimator-id-3\" type=\"checkbox\" checked><label for=\"sk-estimator-id-3\" class=\"sk-toggleable__label sk-toggleable__label-arrow\">ARIMA</label><div class=\"sk-toggleable__content\"><pre> ARIMA(1,0,0)(2,0,1)[12] intercept</pre></div></div></div></div></div>"
      ],
      "text/plain": [
       "ARIMA(order=(1, 0, 0), scoring_args={}, seasonal_order=(2, 0, 1, 12),\n",
       "      suppress_warnings=True)"
      ]
     },
     "metadata": {},
     "output_type": "display_data"
    },
    {
     "data": {
      "text/html": [
       "<table class=\"simpletable\">\n",
       "<caption>SARIMAX Results</caption>\n",
       "<tr>\n",
       "  <th>Dep. Variable:</th>               <td>counts</td>             <th>  No. Observations:  </th>    <td>290</td>   \n",
       "</tr>\n",
       "<tr>\n",
       "  <th>Model:</th>           <td>ARIMA(1, 0, 0)x(2, 0, [1], 12)</td> <th>  Log Likelihood     </th> <td>-1637.914</td>\n",
       "</tr>\n",
       "<tr>\n",
       "  <th>Date:</th>                   <td>Mon, 09 Oct 2023</td>        <th>  AIC                </th> <td>3287.827</td> \n",
       "</tr>\n",
       "<tr>\n",
       "  <th>Time:</th>                       <td>22:41:57</td>            <th>  BIC                </th> <td>3309.847</td> \n",
       "</tr>\n",
       "<tr>\n",
       "  <th>Sample:</th>                         <td>0</td>               <th>  HQIC               </th> <td>3296.649</td> \n",
       "</tr>\n",
       "<tr>\n",
       "  <th></th>                             <td> - 290</td>             <th>                     </th>     <td> </td>    \n",
       "</tr>\n",
       "<tr>\n",
       "  <th>Covariance Type:</th>               <td>opg</td>              <th>                     </th>     <td> </td>    \n",
       "</tr>\n",
       "</table>\n",
       "<table class=\"simpletable\">\n",
       "<tr>\n",
       "      <td></td>        <th>coef</th>     <th>std err</th>      <th>z</th>      <th>P>|z|</th>  <th>[0.025</th>    <th>0.975]</th>  \n",
       "</tr>\n",
       "<tr>\n",
       "  <th>const</th>    <td>  499.0941</td> <td>   25.081</td> <td>   19.899</td> <td> 0.000</td> <td>  449.936</td> <td>  548.253</td>\n",
       "</tr>\n",
       "<tr>\n",
       "  <th>ar.L1</th>    <td>    0.2085</td> <td>    0.055</td> <td>    3.767</td> <td> 0.000</td> <td>    0.100</td> <td>    0.317</td>\n",
       "</tr>\n",
       "<tr>\n",
       "  <th>ar.S.L12</th> <td>    0.8500</td> <td>    0.073</td> <td>   11.606</td> <td> 0.000</td> <td>    0.706</td> <td>    0.994</td>\n",
       "</tr>\n",
       "<tr>\n",
       "  <th>ar.S.L24</th> <td>    0.1447</td> <td>    0.071</td> <td>    2.041</td> <td> 0.041</td> <td>    0.006</td> <td>    0.284</td>\n",
       "</tr>\n",
       "<tr>\n",
       "  <th>ma.S.L12</th> <td>   -0.8976</td> <td>    0.062</td> <td>  -14.377</td> <td> 0.000</td> <td>   -1.020</td> <td>   -0.775</td>\n",
       "</tr>\n",
       "<tr>\n",
       "  <th>sigma2</th>   <td> 4366.3036</td> <td>  404.120</td> <td>   10.804</td> <td> 0.000</td> <td> 3574.242</td> <td> 5158.365</td>\n",
       "</tr>\n",
       "</table>\n",
       "<table class=\"simpletable\">\n",
       "<tr>\n",
       "  <th>Ljung-Box (L1) (Q):</th>     <td>0.15</td> <th>  Jarque-Bera (JB):  </th> <td>0.29</td> \n",
       "</tr>\n",
       "<tr>\n",
       "  <th>Prob(Q):</th>                <td>0.70</td> <th>  Prob(JB):          </th> <td>0.87</td> \n",
       "</tr>\n",
       "<tr>\n",
       "  <th>Heteroskedasticity (H):</th> <td>1.08</td> <th>  Skew:              </th> <td>-0.03</td>\n",
       "</tr>\n",
       "<tr>\n",
       "  <th>Prob(H) (two-sided):</th>    <td>0.72</td> <th>  Kurtosis:          </th> <td>2.86</td> \n",
       "</tr>\n",
       "</table><br/><br/>Warnings:<br/>[1] Covariance matrix calculated using the outer product of gradients (complex-step)."
      ],
      "text/latex": [
       "\\begin{center}\n",
       "\\begin{tabular}{lclc}\n",
       "\\toprule\n",
       "\\textbf{Dep. Variable:}          &             counts             & \\textbf{  No. Observations:  } &    290      \\\\\n",
       "\\textbf{Model:}                  & ARIMA(1, 0, 0)x(2, 0, [1], 12) & \\textbf{  Log Likelihood     } & -1637.914   \\\\\n",
       "\\textbf{Date:}                   &        Mon, 09 Oct 2023        & \\textbf{  AIC                } &  3287.827   \\\\\n",
       "\\textbf{Time:}                   &            22:41:57            & \\textbf{  BIC                } &  3309.847   \\\\\n",
       "\\textbf{Sample:}                 &               0                & \\textbf{  HQIC               } &  3296.649   \\\\\n",
       "\\textbf{}                        &              - 290             & \\textbf{                     } &             \\\\\n",
       "\\textbf{Covariance Type:}        &              opg               & \\textbf{                     } &             \\\\\n",
       "\\bottomrule\n",
       "\\end{tabular}\n",
       "\\begin{tabular}{lcccccc}\n",
       "                  & \\textbf{coef} & \\textbf{std err} & \\textbf{z} & \\textbf{P$> |$z$|$} & \\textbf{[0.025} & \\textbf{0.975]}  \\\\\n",
       "\\midrule\n",
       "\\textbf{const}    &     499.0941  &       25.081     &    19.899  &         0.000        &      449.936    &      548.253     \\\\\n",
       "\\textbf{ar.L1}    &       0.2085  &        0.055     &     3.767  &         0.000        &        0.100    &        0.317     \\\\\n",
       "\\textbf{ar.S.L12} &       0.8500  &        0.073     &    11.606  &         0.000        &        0.706    &        0.994     \\\\\n",
       "\\textbf{ar.S.L24} &       0.1447  &        0.071     &     2.041  &         0.041        &        0.006    &        0.284     \\\\\n",
       "\\textbf{ma.S.L12} &      -0.8976  &        0.062     &   -14.377  &         0.000        &       -1.020    &       -0.775     \\\\\n",
       "\\textbf{sigma2}   &    4366.3036  &      404.120     &    10.804  &         0.000        &     3574.242    &     5158.365     \\\\\n",
       "\\bottomrule\n",
       "\\end{tabular}\n",
       "\\begin{tabular}{lclc}\n",
       "\\textbf{Ljung-Box (L1) (Q):}     & 0.15 & \\textbf{  Jarque-Bera (JB):  } &  0.29  \\\\\n",
       "\\textbf{Prob(Q):}                & 0.70 & \\textbf{  Prob(JB):          } &  0.87  \\\\\n",
       "\\textbf{Heteroskedasticity (H):} & 1.08 & \\textbf{  Skew:              } & -0.03  \\\\\n",
       "\\textbf{Prob(H) (two-sided):}    & 0.72 & \\textbf{  Kurtosis:          } &  2.86  \\\\\n",
       "\\bottomrule\n",
       "\\end{tabular}\n",
       "%\\caption{SARIMAX Results}\n",
       "\\end{center}\n",
       "\n",
       "Warnings: \\newline\n",
       " [1] Covariance matrix calculated using the outer product of gradients (complex-step)."
      ],
      "text/plain": [
       "<class 'statsmodels.iolib.summary.Summary'>\n",
       "\"\"\"\n",
       "                                     SARIMAX Results                                      \n",
       "==========================================================================================\n",
       "Dep. Variable:                             counts   No. Observations:                  290\n",
       "Model:             ARIMA(1, 0, 0)x(2, 0, [1], 12)   Log Likelihood               -1637.914\n",
       "Date:                            Mon, 09 Oct 2023   AIC                           3287.827\n",
       "Time:                                    22:41:57   BIC                           3309.847\n",
       "Sample:                                         0   HQIC                          3296.649\n",
       "                                            - 290                                         \n",
       "Covariance Type:                              opg                                         \n",
       "==============================================================================\n",
       "                 coef    std err          z      P>|z|      [0.025      0.975]\n",
       "------------------------------------------------------------------------------\n",
       "const        499.0941     25.081     19.899      0.000     449.936     548.253\n",
       "ar.L1          0.2085      0.055      3.767      0.000       0.100       0.317\n",
       "ar.S.L12       0.8500      0.073     11.606      0.000       0.706       0.994\n",
       "ar.S.L24       0.1447      0.071      2.041      0.041       0.006       0.284\n",
       "ma.S.L12      -0.8976      0.062    -14.377      0.000      -1.020      -0.775\n",
       "sigma2      4366.3036    404.120     10.804      0.000    3574.242    5158.365\n",
       "===================================================================================\n",
       "Ljung-Box (L1) (Q):                   0.15   Jarque-Bera (JB):                 0.29\n",
       "Prob(Q):                              0.70   Prob(JB):                         0.87\n",
       "Heteroskedasticity (H):               1.08   Skew:                            -0.03\n",
       "Prob(H) (two-sided):                  0.72   Kurtosis:                         2.86\n",
       "===================================================================================\n",
       "\n",
       "Warnings:\n",
       "[1] Covariance matrix calculated using the outer product of gradients (complex-step).\n",
       "\"\"\""
      ]
     },
     "metadata": {},
     "output_type": "display_data"
    },
    {
     "name": "stdout",
     "output_type": "stream",
     "text": [
      "MAPE :  13.74779245511419\n"
     ]
    }
   ],
   "source": [
    "# 데이터 준비\n",
    "train = df2[:290]\n",
    "test = df2[290:]\n",
    "\n",
    "# 자동 차수 선택\n",
    "display(auto_arima(train, start_p=1, start_q=1, max_p=5, max_q=5, start_P=0, start_Q=0, max_Q=5, m=12, seasonal=True,\n",
    "          trace=False, error_action = 'warn', suppress_warnings = True))\n",
    "\n",
    "# 모델 만들기\n",
    "model = ARIMA(train, order = (1,0,0), seasonal_order = (2, 0, 1, 12))\n",
    "fitted = model.fit()\n",
    "resid = fitted.resid\n",
    "display(fitted.summary())\n",
    "\n",
    "# 성능평가\n",
    "pred = fitted.forecast(10)\n",
    "def MAPE(y_true, y_pred):\n",
    "    mape = np.mean(np.abs((y_true-y_pred)/y_true))*100\n",
    "    return mape\n",
    "\n",
    "MAPE = MAPE(pred, test.counts)\n",
    "print('MAPE : ', MAPE)"
   ]
  },
  {
   "cell_type": "markdown",
   "id": "05262c3e",
   "metadata": {},
   "source": [
    "#### [답안] (34분)\n",
    "- 300개의 데이터를 앞의 290개를 학습하고 뒤의 10개를 테스트용으로 분리하여 진행했다. 차수 선택을 위해 auto arima를 사용하였고 그 결과 ar차수 1, ma차수 0 그리고 계절성 부분에서는 P = 2, Q  = 1, 계절성 단위는 12로 나왔다. 이렇게 나온 차수를 적용하여 sarimax모델을 만들었고 10개를 예측하여 앞서 테스트용으로 분리한 데이터와 비교하였다. 그 결과 성능평가 지표는 MAPE를 적용하였고 13.75의 결과가 나왔다. \n",
    "- 모델 결과 요약에서 잔차에 대한 부분을 보면 먼저 잔차의 자기상관을 검정하는 Ljung-Box에서는 p-value값은 0.7로 잔차의 자기상관이 없다는 귀무가설을 채택한다. 그리고 잔차의 정규성을 검정하는 Jarque-Bera에서는 pvalue의 값이 0.87로 정규성을 갖는다는 귀무가설을 채택한다. 그리고 등분산성을 나타내는 Heteroskedasticity를 보면 1.08이 1에 가까우므로 등분산성을 만족한다고 판단한다. 따라서 모델이 데이터를 적절하게 설명하고 있다고 할 수 있다."
   ]
  },
  {
   "cell_type": "markdown",
   "id": "b1b995c6",
   "metadata": {},
   "source": [
    "## 2.4 분석 결과 활용 가능 여부에 대한 분석 전문가로서의 제안"
   ]
  },
  {
   "cell_type": "markdown",
   "id": "b0a45697",
   "metadata": {},
   "source": [
    "- 해당 모델 결과를 살펴보았을때 데이터를 적절하게 설명하고 있는 결과로 보여진다. 현업에서 시계열 모델로 사용하려면 좀더 예측 정확도를 높일 수 있는 방안을 마련해야 할 것이다. 그리고 만약 이 모델을 적용한다고 한다면 모델을 주기적으로 업데이트하는 부분을 고려해야할 것이다."
   ]
  },
  {
   "cell_type": "markdown",
   "id": "8ae7aed4",
   "metadata": {},
   "source": [
    "## 3-1\n",
    "서울에서 영동까지 100km/h로 가고 영동에서 서울까지 80km/로 돌아왔을 때, 평균 속도는?\n"
   ]
  },
  {
   "cell_type": "code",
   "execution_count": 4,
   "id": "13887a0d",
   "metadata": {},
   "outputs": [
    {
     "data": {
      "text/plain": [
       "88.88888888888889"
      ]
     },
     "execution_count": 4,
     "metadata": {},
     "output_type": "execute_result"
    }
   ],
   "source": [
    "x = 100\n",
    "2*x / (x/100+x/80)"
   ]
  },
  {
   "cell_type": "markdown",
   "id": "8b5e7688",
   "metadata": {},
   "source": [
    "#### [답안]\n",
    "- 속도는 거리 / 시간인데 서울에서 영동까지의 거리가 100km 라면 평균속도는 88.88km이다."
   ]
  },
  {
   "cell_type": "markdown",
   "id": "a4511a7a",
   "metadata": {},
   "source": [
    "## 3-2\n",
    "3년동안 연매출이 3000, 4000, 5000이었다면 연평균성장률을 구하시오\n"
   ]
  },
  {
   "cell_type": "code",
   "execution_count": 10,
   "id": "c1d5a46b",
   "metadata": {},
   "outputs": [
    {
     "data": {
      "text/plain": [
       "0.1856311014966876"
      ]
     },
     "execution_count": 10,
     "metadata": {},
     "output_type": "execute_result"
    }
   ],
   "source": [
    "# 연평균 성장률(年平均成長率, compound annual growth rate, CAGR)\n",
    "# 연평균 성장률 = ((최종연매출/최초연매출)**(1/년수))-1\n",
    "((5000/3000)**(1/3))-1\n"
   ]
  },
  {
   "cell_type": "markdown",
   "id": "61581081",
   "metadata": {},
   "source": [
    "#### [답안] \n",
    "- 연평균 성장률은 0.1856이다."
   ]
  },
  {
   "cell_type": "markdown",
   "id": "44c7c905",
   "metadata": {},
   "source": [
    "## 3-3\n",
    "어느 마라톤 대회에 참가한 50명의 동호회 회원 중 마라톤에서 완주한 회원 수와 기권한 회원 수가 다음과 같다\n",
    "|구분|남성|여성|\n",
    "|:---|:---:|:---:|\n",
    "|완주한 회원 수|27|9|\n",
    "|기권한 회원 수|8|6|\n",
    "\n",
    "참가한 회원 중에서 임의로 선택한 한명의 회원이 여성이었을 때, 이 회원이 마라톤에서 완주하였을 확률은?"
   ]
  },
  {
   "cell_type": "code",
   "execution_count": 15,
   "id": "63cc7921",
   "metadata": {},
   "outputs": [
    {
     "name": "stdout",
     "output_type": "stream",
     "text": [
      "0.3\n",
      "0.72\n",
      "0.18\n",
      "0.6\n"
     ]
    }
   ],
   "source": [
    "# 뽑힌 사람이 여자일 확률\n",
    "a = (9+6)/(27+8+9+6)\n",
    "print(a)\n",
    "# 뽑힌 사람이 완주할 확률\n",
    "b = (27+9)/(27+8+9+6)\n",
    "print(b)\n",
    "# 뽑힌 사람이 여성이면서 완주할 확률\n",
    "a_b = 9 / (27+8+9+6)\n",
    "print(a_b)\n",
    "print(a_b/a)"
   ]
  },
  {
   "cell_type": "markdown",
   "id": "336fa95c",
   "metadata": {},
   "source": [
    "#### [답안]\n",
    "- 뽑힌 사람이 여자일 확률은 0.3이며 뽑힌 사람이 여성이면서 완주할 확률은 0.18이다. 따라서 참가한 회원 중에서 임의로 선택한 한명의 회원이 여성이었을 때, 이 회원이 마라톤에서 완주하였을 확률은 0.6이다."
   ]
  },
  {
   "cell_type": "markdown",
   "id": "cdda7488",
   "metadata": {},
   "source": [
    "## 3-4\n",
    "표본 10개의 분산이 90일 때 신뢰도 95%로 모분산의 신뢰구간을 추정\n"
   ]
  },
  {
   "cell_type": "code",
   "execution_count": 17,
   "id": "6985afa0",
   "metadata": {},
   "outputs": [
    {
     "name": "stdout",
     "output_type": "stream",
     "text": [
      "점추정량 :  90\n",
      "구간추정량 :  42.58055444790953  ~  299.95672846672363\n"
     ]
    }
   ],
   "source": [
    "# 모평균을 모르는 경우 카이제곱 분포\n",
    "n = 10\n",
    "v = 90\n",
    "df = n-1\n",
    "conf_a = 0.05\n",
    "\n",
    "from scipy.stats import chi2\n",
    "conf_c1 = chi2.ppf(1-conf_a/2, df)\n",
    "conf_c2 = chi2.ppf(conf_a/2, df)\n",
    "\n",
    "CR1 = df * v/ conf_c1\n",
    "CR2= df * v/ conf_c2\n",
    "print('점추정량 : ', v)\n",
    "print('구간추정량 : ', CR1, ' ~ ', CR2)"
   ]
  },
  {
   "cell_type": "markdown",
   "id": "d97fca68",
   "metadata": {},
   "source": [
    "#### [답안]\n",
    "- 표본 10개의 분산이 90일 때 신뢰도 95%로 모분산의 신뢰구간은 42.85~299.956으로 추정할 수 있다."
   ]
  },
  {
   "cell_type": "markdown",
   "id": "bdbbb3ab",
   "metadata": {},
   "source": [
    "## 4\n",
    "정규모집단으로부터 크기가 9인 표본을 추출하여 평균과 표준편차를 계산하였더니 각각 $\\bar x$=8.3과 s=1.2였다고한다. 모평균 $\\mu$에 대한 95% 신뢰구간을 구하고, 유의수준 5%로 가설 $H0$: $\\mu$=8.5 대 $H1$ : $\\mu$ $\\ne$ 8.5를검정하라.\n"
   ]
  },
  {
   "cell_type": "code",
   "execution_count": 21,
   "id": "7f0e7543",
   "metadata": {},
   "outputs": [
    {
     "name": "stdout",
     "output_type": "stream",
     "text": [
      "검정\n",
      "임계값: +/-2.262, 검정통계량: -0.500\n",
      "유의수준: 0.050, 유의확률: 0.629\n",
      "신뢰구간: 7.395~9.205, 검정하고자 하는 값 8.5\n"
     ]
    }
   ],
   "source": [
    "# 모표준편차를 모르는 경우 모평균의 추정\n",
    "n = 9 # 표본 크기\n",
    "x = 8.3 # 표본평균\n",
    "s = 1.2 # 표본표준편차\n",
    "\n",
    "\n",
    "mu0 = 8.5\n",
    "test_a = 0.05 # 유의수준\n",
    "SE = s / np.sqrt(n) # standard error\n",
    "tstat = (x - mu0)/SE # 검정통계량\n",
    "conf_t = t.ppf(1-conf_a/2, df) # 신뢰구간을 구하기 위한 Z값\n",
    "ME = conf_t * SE #오차의 한계\n",
    "# 양측검정\n",
    "sp = (1-t.cdf(np.abs(tstat), df))*2\n",
    "cv = t.ppf(1-test_a/2, df)\n",
    "cv = '+/-{:.3f}'.format(cv)\n",
    "print('검정')\n",
    "print('임계값: {}, 검정통계량: {:.3f}'.format(cv, tstat))\n",
    "print('유의수준: {:.3f}, 유의확률: {:.3f}'.format(test_a, sp))\n",
    "print('신뢰구간: {:.3f}~{:.3f}, 검정하고자 하는 값 {}'.format(x-ME, x+ME, mu0))\n",
    "        "
   ]
  },
  {
   "cell_type": "markdown",
   "id": "d1e77707",
   "metadata": {},
   "source": [
    "#### [답안]\n",
    "- 유의확률(p-value)은 0.629로 유의수준 0.05보다 크므로 귀무가설을 기각하지 못한다. 따라서 유의수준 5%하에 평균이 8.5라고 할 수 있다."
   ]
  },
  {
   "cell_type": "markdown",
   "id": "a0709249",
   "metadata": {},
   "source": [
    "## 5\n",
    "공장 X,Y,Z의 평균 출하 소요시간을 여러 일자에 거쳐 측정한 데이터이다. 각 공장의 중위수의 차이가 존재하는지 확인하려 한다  \n",
    "- 5.1 귀무가설과 연구가설을 제시하시오\n",
    "- 5.2 검정 후 귀무가설 기각 여부 제시\n"
   ]
  },
  {
   "cell_type": "code",
   "execution_count": 23,
   "id": "865e967d",
   "metadata": {
    "ExecuteTime": {
     "end_time": "2022-09-04T04:59:53.353886Z",
     "start_time": "2022-09-04T04:59:52.069005Z"
    },
    "scrolled": true,
    "tags": [
     "hide-input"
    ]
   },
   "outputs": [
    {
     "data": {
      "text/html": [
       "<div>\n",
       "<style scoped>\n",
       "    .dataframe tbody tr th:only-of-type {\n",
       "        vertical-align: middle;\n",
       "    }\n",
       "\n",
       "    .dataframe tbody tr th {\n",
       "        vertical-align: top;\n",
       "    }\n",
       "\n",
       "    .dataframe thead th {\n",
       "        text-align: right;\n",
       "    }\n",
       "</style>\n",
       "<table border=\"1\" class=\"dataframe\">\n",
       "  <thead>\n",
       "    <tr style=\"text-align: right;\">\n",
       "      <th></th>\n",
       "      <th>출하 소요시간</th>\n",
       "      <th>공장명</th>\n",
       "      <th>공장별 출하 소요시간 순위</th>\n",
       "    </tr>\n",
       "  </thead>\n",
       "  <tbody>\n",
       "    <tr>\n",
       "      <th>0</th>\n",
       "      <td>71</td>\n",
       "      <td>Z</td>\n",
       "      <td>11</td>\n",
       "    </tr>\n",
       "    <tr>\n",
       "      <th>1</th>\n",
       "      <td>75</td>\n",
       "      <td>X</td>\n",
       "      <td>14</td>\n",
       "    </tr>\n",
       "    <tr>\n",
       "      <th>2</th>\n",
       "      <td>71</td>\n",
       "      <td>X</td>\n",
       "      <td>12</td>\n",
       "    </tr>\n",
       "    <tr>\n",
       "      <th>3</th>\n",
       "      <td>53</td>\n",
       "      <td>Z</td>\n",
       "      <td>1</td>\n",
       "    </tr>\n",
       "    <tr>\n",
       "      <th>4</th>\n",
       "      <td>50</td>\n",
       "      <td>X</td>\n",
       "      <td>1</td>\n",
       "    </tr>\n",
       "  </tbody>\n",
       "</table>\n",
       "</div>"
      ],
      "text/plain": [
       "   출하 소요시간 공장명  공장별 출하 소요시간 순위\n",
       "0       71   Z              11\n",
       "1       75   X              14\n",
       "2       71   X              12\n",
       "3       53   Z               1\n",
       "4       50   X               1"
      ]
     },
     "execution_count": 23,
     "metadata": {},
     "output_type": "execute_result"
    }
   ],
   "source": [
    "import pandas as pd\n",
    "df= pd.read_csv('https://raw.githubusercontent.com/Datamanim/datarepo/main/adp/25/problem5.csv',encoding='cp949')\n",
    "df.head()"
   ]
  },
  {
   "cell_type": "code",
   "execution_count": 33,
   "id": "bc651103",
   "metadata": {},
   "outputs": [
    {
     "name": "stdout",
     "output_type": "stream",
     "text": [
      "데이터의 건수 :  44\n",
      "KruskalResult(statistic=0.7217886080379153, pvalue=0.6970526702392181)\n"
     ]
    }
   ],
   "source": [
    "from scipy import stats\n",
    "\n",
    "print('데이터의 건수 : ', df.shape[0])\n",
    "x = df.loc[df['공장명'] == 'X', '출하 소요시간']\n",
    "y = df.loc[df['공장명'] == 'Y', '출하 소요시간']\n",
    "z = df.loc[df['공장명'] == 'Z', '출하 소요시간']\n",
    "print(stats.kruskal(x, y, z))"
   ]
  },
  {
   "cell_type": "markdown",
   "id": "a784b64a",
   "metadata": {},
   "source": [
    "#### [답안] (통계분석 1시간 4분)\n",
    "- 5-1. 가설 제시\n",
    "H0 : 각 공장의 중위수의 차이가 존재하지 않는다.\n",
    "H1 : 각 공장의 중위수의 차이가 존재한다.\n",
    "- 5-2. 검정\n",
    "공장별로 출하 소요시간의 중위수의 차이를 확인하기 위해 크루스컬 월리스 검정을 수행한 결과\n",
    "유의확률(p-value)이 0.697로 유의수준 0.05보다 크므로 귀무가설을 기각하지 못한다.\n",
    "즉, 각 공장의 중위수의 차이가 존재하지 않는다."
   ]
  },
  {
   "cell_type": "markdown",
   "id": "652bca2f",
   "metadata": {},
   "source": [
    "## 6\n",
    "아래는 A사의 투자안별 투자금과 순현재가치 (NPV) 이다. 투자금을 1개차 50억원, 2개차 60억원, 3개차 70억원으로 결정했다면, 최대의 NPV는 얼마이고 최적의 투자안은 어떤 것인지 선정하시오.\n",
    "\n",
    "\n",
    "|투자안|1년차 투자금 (억원)|2년차 투자금 (억원)|3년차 투자금 (억원)|NPV(억원)|\n",
    "|:---|:---:|:---:|:---:|:---:|\n",
    "|1안|23|23|15|30|\n",
    "|2안|15|15|12|20|\n",
    "|3안|17|25|12|31|\n",
    "|4안|16|12|13|42|\n",
    "|5안|24|23|17|44|\n",
    "\n"
   ]
  },
  {
   "cell_type": "markdown",
   "id": "c671759d",
   "metadata": {},
   "source": [
    "# 끝. 8페이지"
   ]
  }
 ],
 "metadata": {
  "celltoolbar": "Edit Metadata",
  "kernelspec": {
   "display_name": "Python 3",
   "language": "python",
   "name": "python3"
  },
  "language_info": {
   "codemirror_mode": {
    "name": "ipython",
    "version": 3
   },
   "file_extension": ".py",
   "mimetype": "text/x-python",
   "name": "python",
   "nbconvert_exporter": "python",
   "pygments_lexer": "ipython3",
   "version": "3.8.8"
  }
 },
 "nbformat": 4,
 "nbformat_minor": 5
}
