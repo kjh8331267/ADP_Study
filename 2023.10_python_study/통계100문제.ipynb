{
 "cells": [
  {
   "cell_type": "markdown",
   "id": "94a12198",
   "metadata": {},
   "source": [
    "## ch5.확률"
   ]
  },
  {
   "cell_type": "markdown",
   "id": "4ea3bf07",
   "metadata": {},
   "source": [
    "예제 5.11    \n",
    "한 학생이 날씨가 좋은 휴일 아침에 공부를 하러 학교에 갈 것인가(S) 아니면 영화를 보러 갈 것인가 (M) 동전을 던져 결정하고, 공부하게 되면 A B, C 과목 중 하나를 임의로 선택하여 공부하고, 영화 는 D, E 프로 중 하나를 임의로 선택하여 보기로 하였다. 이 학생이 결국 학교에 가서 C 과목을 공부 할 확률을 구하라."
   ]
  },
  {
   "cell_type": "code",
   "execution_count": 8,
   "id": "b8b56328",
   "metadata": {},
   "outputs": [
    {
     "name": "stdout",
     "output_type": "stream",
     "text": [
      "학교에 가서 C 과목을 공부 할 확률은 0.167이다.\n"
     ]
    }
   ],
   "source": [
    "# 곱사건\n",
    "# P(학교) = 1/2\n",
    "# P(C과목) = 1/3\n",
    "# P(학교∩C과목) = P(학교)*P(C과목) = 1/2 * 1/3\n",
    "\n",
    "print('[답안]')\n",
    "print('학교에 가서 C 과목을 공부 할 확률은 {:.3f}이다.'.format(1/2 * 1/3))"
   ]
  },
  {
   "cell_type": "markdown",
   "id": "c0a26a8d",
   "metadata": {},
   "source": [
    "예제 5.15   \n",
    "어느 컴퓨터 회사의 주기판(motherboard) 중 30%는 A1 공장에서 만들어지고 50%는 A2공장에서 만들어지고 나머지 20%는 A3공장에서 만들어진다고 하자.     \n",
    "각 공장에서 만들어지는 주기판의 불량 률을 각각 2%, 1 %, 5%라고 하면, 회사에서 불량 주기판이 발견되었을 때 이것이 A1 공장에서 만들어졌을 확률을 구하라."
   ]
  },
  {
   "cell_type": "code",
   "execution_count": 14,
   "id": "901fba50",
   "metadata": {},
   "outputs": [
    {
     "name": "stdout",
     "output_type": "stream",
     "text": [
      "[답안]\n",
      "불량 주기판이 발견되었을 때 이것이 A1공장에서 만들어졌을 확률 P(A1|불량)은 0.286이다.\n"
     ]
    }
   ],
   "source": [
    "# 베이즈 정리\n",
    "\n",
    "# P(A1|불량) = P(A1∩불량) / P(불량)\n",
    "\n",
    "# P(A1) = 0.3\n",
    "# P(A2) = 0.5\n",
    "# P(A3) = 0.2\n",
    "\n",
    "# P(불량|A1) = 0.02\n",
    "# P(불량|A2) = 0.01\n",
    "# P(불량|A3) = 0.05\n",
    "#       P(A1∩불량)는 'A1 공장에서 만들어진 주기판이면서 불량인 주기판의 확률'\n",
    "#       P(불량|A1)는 'A1 공장에서 만든 주기판 중 불량일 확률'\n",
    "\n",
    "# P(불량) = P(A1∩불량)      + P(A2∩불량)      + P(A3∩불량) \n",
    "#         = P(불량|A1)*P(A1) + P(불량|A2)*P(A2) + P(불량|A3)*P(A3)\n",
    "\n",
    "A1_불량 = 0.3*0.02 # P(A1∩불량) = P(불량|A1)*P(A1)\n",
    "불량 = 0.3*0.02 + 0.5*0.01 + 0.2*0.05 # P(불량)\n",
    "\n",
    "print('[답안]')\n",
    "print('불량 주기판이 발견되었을 때 이것이 A1공장에서 만들어졌을 확률 P(A1|불량)은 {:.3f}이다.'.format(A1_불량/불량))"
   ]
  },
  {
   "cell_type": "markdown",
   "id": "c9b66b5d",
   "metadata": {},
   "source": [
    "종합문제 5.6.14     \n",
    "늦은 저녁에 어떤 사람이 연인에게 선물하기 위해, 한 꽃가게에 전화를 걸어 꽃 한 송이를 사려고 한다. 그런데 이 가게에는 4송이의 장미와 6송이의 튤립만이 남아 있다. 이 중 3송이의 장미와 2송 이의 튤립만이 내일까지 꽃이 활짝 핀다고 한다. 가게 주인이 임의로 꽃을 하나 선택한다고 할 때, 그 꽃이 내일까지 활짝 피어 있지 않을 확률은 얼마인가?"
   ]
  },
  {
   "cell_type": "code",
   "execution_count": 15,
   "id": "5b8fd9f4",
   "metadata": {},
   "outputs": [
    {
     "name": "stdout",
     "output_type": "stream",
     "text": [
      "[답안]\n",
      "꽃을 하나 선택한다고 할 때, 그 꽃이 내일까지 활짝 피어 있지 않을 확률 1-P(활짝)은 0.500이다.\n"
     ]
    }
   ],
   "source": [
    "# 베이즈 정리\n",
    "\n",
    "# P(장미) = 4/10\n",
    "# P(튤립) = 6/10\n",
    "\n",
    "# P(활짝|장미) = 3/4\n",
    "# P(활짝|튤립) = 2/6\n",
    "\n",
    "# P(활짝X) = 1-P(활짝)\n",
    "# P(활짝) = P(장미∩활짝)        + P(튤립∩활짝)\n",
    "#         = P(활짝|장미)*P(장미) + P(활짝|튤립)*P(튤립)\n",
    "\n",
    "활짝 = (3/4 * 4/10) + (6/10 * 2/6)\n",
    "\n",
    "print('[답안]')\n",
    "print('꽃을 하나 선택한다고 할 때, 그 꽃이 내일까지 활짝 피어 있지 않을 확률 1-P(활짝)은 {:.3f}이다.'.format(1-활짝))"
   ]
  },
  {
   "cell_type": "markdown",
   "id": "e3c63ca8",
   "metadata": {},
   "source": [
    "종합문제 5.6.32     \n",
    "3개의 생산 라인을 가지고 있는 공장에서 1번 라인은 전체 생산량 중 20%를 차지하며 불량률은 15%이고, 2번 라인은 전체 생산량 중 50%의 생산량을 차지하고 불량률은 5%이고, 3번 라인은 전체 생산량 중 30%의 생산량을 차지하고 불량률이 6%라고 한다.\n",
    "(1) 전체 불량률은 얼마인가?    \n",
    "(2) 생산품 중 하나를 임의로 선택하였을 때. 그것이 불량품이라면 1번 라인에서 생산된 것일 확률 은 얼마인가?"
   ]
  },
  {
   "cell_type": "code",
   "execution_count": 33,
   "id": "156f4caa",
   "metadata": {},
   "outputs": [
    {
     "name": "stdout",
     "output_type": "stream",
     "text": [
      "[1번 답안]\n",
      " 전체 불량률은 0.073이다.\n",
      "[2번 답안]\n",
      " 임의로 선택하였을 때. 그것이 불량품이라면 1번 라인에서 생산된 것일 확률 P(라인1|불량)은 0.411이다.\n"
     ]
    }
   ],
   "source": [
    "# P(라인1) = 0.2\n",
    "# P(라인2) = 0.5\n",
    "# P(라인3) = 0.3\n",
    "\n",
    "# P(불량|라인1) = 0.15\n",
    "# P(불량|라인2) = 0.05\n",
    "# P(불량|라인3) = 0.06\n",
    "\n",
    "print('[1번 답안]')\n",
    "# P(불량) = P(라인1∩불량)         + P(라인2∩불량)         + P(라인3∩불량) \n",
    "#         = P(불량|라인1)*P(라인1) + P(불량|라인2)*P(라인2) + P(불량|라인3)*P(라인3)\n",
    "print(' 전체 불량률은 {:.3f}이다.'.format(0.2*0.15 + 0.5*0.05 + 0.3*0.06))\n",
    "불량 = 0.2*0.15 + 0.5*0.05 + 0.3*0.06\n",
    "print('[2번 답안]')\n",
    "# P(라인1|불량) = P(라인1∩불량)          /P(불량)  \n",
    "#               = {P(불량|라인1)*P(라인1)}/P(불량)\n",
    "print(' 임의로 선택하였을 때. 그것이 불량품이라면 1번 라인에서 생산된 것일 확률 P(라인1|불량)은 {:.3f}이다.'.format((0.2*0.15)/불량))\n"
   ]
  },
  {
   "cell_type": "markdown",
   "id": "5f7c6914",
   "metadata": {},
   "source": [
    "종합문제 5.6.40    \n",
    "3교대로 운영되는 공장이 있다. 어떤 날 제품의 불량률을 조별로 나누어 보니 첫 번째 조에서는 1%, 두 번째 조에서는 2%, 세 번째 조에서는 5%의 불량이 나왔다고 한다. 만일 각 조별로 생산 량이 동일하다면 그날 하루 전체의 불량률은 얼마인가? 만일 하나의 불량품이 나왔다면 이것이 세 번째 조에서 만들어진 제품일 확률은 얼마인가?"
   ]
  },
  {
   "cell_type": "code",
   "execution_count": 34,
   "id": "49d32135",
   "metadata": {},
   "outputs": [
    {
     "name": "stdout",
     "output_type": "stream",
     "text": [
      "[답안]\n",
      " 하루 전체 불량률은 0.027이다.\n",
      " 만일 하나의 불량품이 나왔다면 이것이 세 번째 조에서 만들어진 제품일 확률은 0.62500이다.\n"
     ]
    }
   ],
   "source": [
    "# P(1조) = 1/3 # 조별 생산량이 동일하므로 1/n한 것\n",
    "# P(2조) = 1/3\n",
    "# P(3조) = 1/3\n",
    "\n",
    "# P(불량|1조) = 0.01\n",
    "# P(불량|2조) = 0.02\n",
    "# P(불량|3조) = 0.05\n",
    "\n",
    "print('[답안]')\n",
    "# P(불량) = P(1조∩불량)       + P(2조∩불량)       + P(3조∩불량) \n",
    "#         = P(불량|1조)*P(1조) + P(불량|2조)*P(2조) + P(불량|3조)*P(3조)\n",
    "print(' 하루 전체 불량률은 {:.3f}이다.'.format(1/3*0.01 + 1/3*0.02 + 1/3*0.05))\n",
    "불량 = 1/3*0.01 + 1/3*0.02 + 1/3*0.05\n",
    "# P(3조|불량) = P(3조∩불량)      /P(불량)  \n",
    "#             = P(불량|3조)*P(3조)/P(불량)\n",
    "print(' 만일 하나의 불량품이 나왔다면 이것이 세 번째 조에서 만들어진 제품일 확률은 {:.5f}이다.'.format(((1/3)*0.05)/불량))\n"
   ]
  },
  {
   "cell_type": "markdown",
   "id": "a62f650d",
   "metadata": {},
   "source": [
    "## ch6.확률분포"
   ]
  },
  {
   "cell_type": "markdown",
   "id": "8b6401be",
   "metadata": {},
   "source": [
    "연습 6.8.12    \n",
    "두 선수 A와 B의 탁구 시합에서 승자는 5천만 원의 상금을 받고, 패자는 2천만 원의 상금을 받는 다. 다음 각 경우에 A 선수의 기대상금을 구하라.     \n",
    "(1) 두 선수가 똑같은 승률을 가질때     \n",
    "(2) A 선수가 이길 확률이 0.9일때"
   ]
  },
  {
   "cell_type": "code",
   "execution_count": 35,
   "id": "e3913508",
   "metadata": {},
   "outputs": [
    {
     "name": "stdout",
     "output_type": "stream",
     "text": [
      "(1) 두 선수가 똑같은 승률 가질때 :  3500.0\n",
      "(2) A 선수가 이길 확률이 0.9일때 :  4700.0\n"
     ]
    }
   ],
   "source": [
    "# 확률변수 X = A선수가 얻을 수 있는 상금\n",
    "#   - 가능한 값: A선수가 승리할 경우 5천만원, 패배할 경우 2천만원\n",
    "\n",
    "# 기대값 E(X) = sigma(xi*f(Xi)) = sigma(확률변수 값*그 값이 나타날 확률)\n",
    "#             = 승리상금*p(승리) + 패배상금*p(패배)\n",
    "\n",
    "# (1) 두 선수가 똑같은 승률 가질때\n",
    "# p(A승리) = 0.5+\n",
    "# p(A실패) = 0.5\n",
    "print('(1) 두 선수가 똑같은 승률 가질때 : ', 5000*0.5 + 2000*0.5)\n",
    "\n",
    "# (2) A 선수가 이길 확률이 0.9일때\n",
    "# p(A승리) = 0.9\n",
    "# p(A실패) = 0.1\n",
    "print('(2) A 선수가 이길 확률이 0.9일때 : ', 5000*0.9 + 2000*0.1)"
   ]
  },
  {
   "cell_type": "markdown",
   "id": "70a601f1",
   "metadata": {},
   "source": [
    "연습 6.8.14    \n",
    "한 난방회사의 응답서비스로 걸려온 야간 응급전화의 수 X가 0, 1, 2, 3, 4, 5일 확률이 각각 0.05, 0.1, 0.15, 0.35, 0.20, 0.15라고 한다.    \n",
    "걸려온 전화가 3통 미만일 확률을 구하라."
   ]
  },
  {
   "cell_type": "code",
   "execution_count": 36,
   "id": "2cd01999",
   "metadata": {},
   "outputs": [
    {
     "name": "stdout",
     "output_type": "stream",
     "text": [
      "걸려온 전화가 3통 미만일 확률 P(X>3)은  0.30000000000000004\n"
     ]
    }
   ],
   "source": [
    "# P(X<3) = P(X=0)+P(X=1)+P(X=2)\n",
    "print('걸려온 전화가 3통 미만일 확률 P(X>3)은 ', 0.05+0.1+0.15)"
   ]
  },
  {
   "cell_type": "markdown",
   "id": "b26337e6",
   "metadata": {},
   "source": [
    "## ch7. 이항분포와 그에 관련된 분포들"
   ]
  },
  {
   "cell_type": "markdown",
   "id": "f29c86a6",
   "metadata": {},
   "source": [
    "연습 7.2.12    \n",
    "어느 운전학원을 이수한 사람이 각 시험에서 운전면허를 취득할 확률이 0.8이라고 하고, 각각의 시 험이 서로 독립이라고 할 때     \n",
    "(1) 두 번의 시험 안에 운전면허를 취득할 확률은?     \n",
    "(2) 세 번의 시험 후에도 운전면허를 취득하지 못할 확률은?"
   ]
  },
  {
   "cell_type": "code",
   "execution_count": 1,
   "id": "6959b486",
   "metadata": {},
   "outputs": [
    {
     "name": "stdout",
     "output_type": "stream",
     "text": [
      "(1) 두 번의 시험 안에 운전면허를 취득할 확률: 0.960\n",
      "(2) 세 번의 시험 후에도 운전면허를 취득하지 못할 확률: 0.008\n"
     ]
    }
   ],
   "source": [
    "# 이항분포\n",
    "# X = n번의 시험에서 운전면허를 취득한 횟수\n",
    "# P(X = x) = nCx * p^x * q^(n-x)\n",
    "\n",
    "from scipy.stats import binom\n",
    "# (1) 두 번의 시험 안에 운전면허를 취득할 확률\n",
    "# 첫번째 합격 + 첫번째 불합격, 두번재 시험 합격(1-p) X p\n",
    "# 0.8         + 0.2*0.8\n",
    "\n",
    "print('(1) 두 번의 시험 안에 운전면허를 취득할 확률: {:.3f}'.format(binom.pmf(1, 1, 0.8) + binom.pmf(1, 2, 0.8)/2))\n",
    "\n",
    "# (2) 세 번의 시험 후에도 운전면허를 취득하지 못할 확률\n",
    "# 불합격, 불합격, 불합격\n",
    "\n",
    "print('(2) 세 번의 시험 후에도 운전면허를 취득하지 못할 확률: {:.3f}'.format(binom.pmf(3, 3, 0.2)))"
   ]
  },
  {
   "cell_type": "markdown",
   "id": "7c52a4bb",
   "metadata": {},
   "source": [
    "연습 7.2.14    \n",
    "다음은 어느 지역에 살고 있는 사람들을 대상으로 특정한 알레르기가 있는지의 여부를 성별로 분류하여 백분율로 나타낸 표이다. 한 사람을 선택하는 것을 시행이라고 하고 알레르기에 양성 반응을 성공으로 간주하자.    \n",
    "|알레르기|양성|음성|    \n",
    "|:---|---:|:---:|    \n",
    "|남자|16|36|    \n",
    "|여자|9|39|\n",
    "\n",
    "(1) 네 명의 사람을 임의로 선택하였을 때, 알레르기에 양성 반응인 사람이 없을 확률은?    \n",
    "(2) 네 명의 남자를 임의로 선택하였을 때, 알레르기에 양성 반응인 사람이 없을 확률은?    \n",
    "(3) 2명의 남자, 2명의 여자가 임의로 선택되었을 때, 알레르기에 양성 반응인 사람이 없을 확률은?    "
   ]
  },
  {
   "cell_type": "code",
   "execution_count": 6,
   "id": "e674d15e",
   "metadata": {},
   "outputs": [
    {
     "name": "stdout",
     "output_type": "stream",
     "text": [
      "(1) 네 명의 사람을 임의로 선택하였을 때, 알레르기에 양성 반응인 사람이 없을 확률: 0.3164\n",
      "(2) 네 명의 남자를 임의로 선택하였을 때, 알레르기에 양성 반응인 사람이 없을 확률: 0.2297\n",
      "(3) 2명의 남자, 2명의 여자가 임의로 선택되었을 때, 알레르기에 양성 반응인 사람이 없을 확률: 0.3164\n"
     ]
    }
   ],
   "source": [
    "print('(1) 네 명의 사람을 임의로 선택하였을 때, 알레르기에 양성 반응인 사람이 없을 확률: {:.4f}'\n",
    "      .format(binom.pmf(0, 4, 0.16+0.09)))\n",
    "print('(2) 네 명의 남자를 임의로 선택하였을 때, 알레르기에 양성 반응인 사람이 없을 확률: {:.4f}'\n",
    "      .format(binom.pmf(0, 4, 0.16/(0.16+0.36))))\n",
    "print('(3) 2명의 남자, 2명의 여자가 임의로 선택되었을 때, 알레르기에 양성 반응인 사람이 없을 확률: {:.4f}'\n",
    "      .format(binom.pmf(0, 2, 0.16/(0.16+0.36)) * binom.pmf(0, 2, 0.09/(0.09+0.39) )))"
   ]
  },
  {
   "cell_type": "markdown",
   "id": "5bc8529e",
   "metadata": {},
   "source": [
    "예제 7.3     \n",
    "멘델의 법칙에 의하면 빨간색과 흰색이 섞여 있는 꽃나무를 자가수정시켜 얻은 꽃나무의 25%는 빨간 꽃을 피우게 된다고 한다.      \n",
    "만약 5그루의 혼합 색의 꽃나무를 자가수정시켜 5그루의 꽃나무를 얻었 을 때 다음의 확률을 구하라.    \n",
    "(1) 빨간색 꽃나무가 하나도 없다. (2) 빨간색 꽃나무가 4개 이상이다."
   ]
  },
  {
   "cell_type": "code",
   "execution_count": 7,
   "id": "99bb2d06",
   "metadata": {},
   "outputs": [
    {
     "name": "stdout",
     "output_type": "stream",
     "text": [
      "(1) 빨간색 꽃나무가 하나도 없을 확률: 0.2373\n",
      "(2) 빨간색 꽃나무가 4개 이상일 확률: 0.0156\n"
     ]
    }
   ],
   "source": [
    "print('(1) 빨간색 꽃나무가 하나도 없을 확률: {:.4f}'.format(binom.pmf(0, 5, 0.25)))\n",
    "print('(2) 빨간색 꽃나무가 4개 이상일 확률: {:.4f}'.format(binom.pmf(4, 5, 0.25)+binom.pmf(5, 5, 0.25)))"
   ]
  },
  {
   "cell_type": "markdown",
   "id": "61aaf89b",
   "metadata": {},
   "source": [
    "연습 7.3.10     \n",
    "미국의 백인 중 85%가 Rh十의 혈액형을 가지고 있다고 한다. 이 중에서 7명을 임의로 선택하였을 때 다음의 확률을 구하라.     \n",
    "(1) 적어도 5명이 Rh +의 혈액형을 가지고 있다.    \n",
    "(2) 많아야 3명이 Rh—(Rh+가 없는 것)의 혈액형을 가지고 있다.     "
   ]
  },
  {
   "cell_type": "code",
   "execution_count": 58,
   "id": "0df03eb8",
   "metadata": {
    "scrolled": true
   },
   "outputs": [
    {
     "name": "stdout",
     "output_type": "stream",
     "text": [
      "(1) 적어도 5명이 Rh +의 혈액형을 가지고 있을 확률: 0.9262\n",
      "(2) 많아야 3명이 Rh—(Rh+가 없는 것)의 혈액형을 가지고 있을 확률: 0.9879\n"
     ]
    }
   ],
   "source": [
    "print('(1) 적어도 5명이 Rh +의 혈액형을 가지고 있을 확률: {:.4f}'\n",
    "      .format(binom.pmf(5, 7, 0.85)+binom.pmf(6, 7, 0.85)+binom.pmf(7, 7, 0.85)))\n",
    "print('(2) 많아야 3명이 Rh—(Rh+가 없는 것)의 혈액형을 가지고 있을 확률: {:.4f}'\n",
    "      .format(binom.pmf(0, 7, 1-0.85)+binom.pmf(1, 7, 1-0.85)+binom.pmf(2, 7, 1-0.85)+binom.pmf(3, 7, 1-0.85)))"
   ]
  },
  {
   "cell_type": "markdown",
   "id": "968997f3",
   "metadata": {},
   "source": [
    "연습 7.3.22    \n",
    "유전법칙에 따르면 완두콩의 우성교배를 통한 자손은 네 가지 형태이고 각각의 비율이 둥글고 노 란 것, 쭈그러지고 노란 것. 둥글고 녹색인 것, 쭈그러지고 녹색인 것이 9 : 3 : 3 : 1이라고 한다.     \n",
    "(1) 확률변수 X를 130개의 우성교배 자손에서 둥글고 노란 것의 개수라고 할 때, X의 평균과 표준편차를 구하라.    \n",
    "(2) 확률변수 으를 85개의 우성교배 자손에서 쭈그러지고 녹색인 것의 개수라고 할 때, F의 평균과 표준편차를 구하라."
   ]
  },
  {
   "cell_type": "code",
   "execution_count": 6,
   "id": "828579d2",
   "metadata": {},
   "outputs": [
    {
     "name": "stdout",
     "output_type": "stream",
     "text": [
      "(1) X의 평균: 73.1250, 표준편차: 5.6562\n",
      "(2) F의 평균: 5.3125, 표준편차: 2.2317\n"
     ]
    }
   ],
   "source": [
    "import numpy as np\n",
    "from scipy import stats\n",
    "\n",
    "print('(1) X의 평균: {:.4f}, 표준편차: {:.4f}'.format(130*(9/16), np.sqrt(130*(9/16)*(7/16))))\n",
    "print('(2) F의 평균: {:.4f}, 표준편차: {:.4f}'.format(85*(1/16), np.sqrt(85*(1/16)*(15/16))))"
   ]
  },
  {
   "cell_type": "markdown",
   "id": "754f2535",
   "metadata": {},
   "source": [
    "예제 7.5     \n",
    "어느 자동차 회사의 본사에서 여러 지방 영업소에 내려보낸 48대의 새 차 중 12대에 불량 오디오가 설치되었다고 한다. 어느 영업소가 8대를 인수하였는데 이 중에서 오디오가 불량인 차가 적어도 1 대 이상이 될 확률을 구하라."
   ]
  },
  {
   "cell_type": "code",
   "execution_count": 16,
   "id": "c1eafbf2",
   "metadata": {},
   "outputs": [
    {
     "data": {
      "text/plain": [
       "0.9198080808981831"
      ]
     },
     "execution_count": 16,
     "metadata": {},
     "output_type": "execute_result"
    }
   ],
   "source": [
    "# 초기하분포 stats.hypergeom(x, N, D, n)\n",
    "# 표본 n 중 불량이 0~8대인 확률 - 표본 n에서는 불량이 없는 확률\n",
    "stats.hypergeom.cdf(8, 48, 12, 8)-stats.hypergeom.cdf(0, 48, 12, 8)"
   ]
  },
  {
   "cell_type": "markdown",
   "id": "3c2d3765",
   "metadata": {},
   "source": [
    "연습 7.4.2    \n",
    "어느 회사에서 사원을 8명 모집하기 위해 신문에 광고를 내었더니 15명의 남자와 8명의 여자가 지원하였다.      \n",
    "임의로 8명을 선택한다고 한다면 8명 중 여자가 3명 이상일 확률을 구하라. 예상되는 여자 신입사원은 몇 명이 되겠는가?"
   ]
  },
  {
   "cell_type": "code",
   "execution_count": 11,
   "id": "bd121c76",
   "metadata": {},
   "outputs": [
    {
     "name": "stdout",
     "output_type": "stream",
     "text": [
      "8명 중 여자가 3명 이상일 확률을 0.5961 \n",
      "예상되는 여자 신입사원은 2.7826 \n"
     ]
    }
   ],
   "source": [
    "# 초기화분포 stats.hypergeom(x, N, D, n)\n",
    "import scipy.stats as stats\n",
    "p = 0\n",
    "for x in [3, 4, 5, 6, 7, 8]:\n",
    "    p += stats.hypergeom.pmf(x, 23, 8, 8)\n",
    "print('8명 중 여자가 3명 이상일 확률을 {:.4f} '.format(p))\n",
    "print('예상되는 여자 신입사원은 {:.4f} '.format(8*(8/23))) #  stats.hypergeom.stats(23, 8, 8)"
   ]
  },
  {
   "cell_type": "markdown",
   "id": "13ffd103",
   "metadata": {},
   "source": [
    "예제 7.6    \n",
    "기초통계학 강의시간(50분)에 평균적으로 3번 정도 휴대전화가 울린다고 하자. 어느 날 한 선생 님이 수업 중에 한 번이라도 휴대전화가 울리면 퀴즈를 보고 한 번도 울리지 않으면 퀴즈를 보지 않기로 마음 먹었다면 이 날 학생들이 결국 퀴즈를 보게 될 확률은?"
   ]
  },
  {
   "cell_type": "code",
   "execution_count": 12,
   "id": "b7b71ff4",
   "metadata": {},
   "outputs": [
    {
     "data": {
      "text/plain": [
       "0.950212931632136"
      ]
     },
     "execution_count": 12,
     "metadata": {},
     "output_type": "execute_result"
    }
   ],
   "source": [
    "# 포아송분포\n",
    "1- stats.poisson.pmf(0, 3)"
   ]
  },
  {
   "cell_type": "markdown",
   "id": "495fce0a",
   "metadata": {},
   "source": [
    "예제 7.7    \n",
    "어떤 초등학교에서 지난 10년간 조사결과 평균적으로 4%의 학생이 색맹인 것으로 나타났다고 하자. 올해에도 색맹인 학생의 비율이 예년과 같다고 가정할 때 임의로 추출된 200명의 학생 중 색맹인 학 생이 10명 이하일 확률은 얼마인가?"
   ]
  },
  {
   "cell_type": "code",
   "execution_count": 32,
   "id": "ed35b8a1",
   "metadata": {},
   "outputs": [
    {
     "data": {
      "text/plain": [
       "0.816"
      ]
     },
     "execution_count": 32,
     "metadata": {},
     "output_type": "execute_result"
    }
   ],
   "source": [
    "# 포아송분포\n",
    "lambda_value = 200*0.04\n",
    "round(stats.poisson.cdf(10, lambda_value), 3)"
   ]
  },
  {
   "cell_type": "markdown",
   "id": "9585007f",
   "metadata": {},
   "source": [
    "연습 7.5.6    \n",
    "경부고속도로상의 어느 휴게소의 주유소는 평균적으로 5분에 6대 꼴로 차들이 기름을 넣으러 온다고 하자 이때 어느 특정한 1분 동안 다음의 확률을 구하라     \n",
    "(1)2대 이하가 기름을 넣으러 온다.    \n",
    "(2) 2대 혹은 3대가 기름을 넣으러 온다."
   ]
  },
  {
   "cell_type": "code",
   "execution_count": 37,
   "id": "baeaf001",
   "metadata": {},
   "outputs": [
    {
     "name": "stdout",
     "output_type": "stream",
     "text": [
      "(1) 2대 이하가 기름을 넣으러 올 확률 0.8795\n",
      "(2) 2대 혹은 3대가 기름을 넣으러 올 확률 0.3036\n"
     ]
    }
   ],
   "source": [
    "# 포아송분포\n",
    "lambda_value = 6/5\n",
    "q1 = stats.poisson.cdf(2, lambda_value)\n",
    "q2 = stats.poisson.pmf(2, lambda_value)+stats.poisson.pmf(3, lambda_value)\n",
    "print('(1) 2대 이하가 기름을 넣으러 올 확률 {:.4f}'.format(q1))\n",
    "print('(2) 2대 혹은 3대가 기름을 넣으러 올 확률 {:.4f}'.format(q2))"
   ]
  },
  {
   "cell_type": "markdown",
   "id": "6aabfd1a",
   "metadata": {},
   "source": [
    "연습 7.5.8     \n",
    "대학생의 94%가 휴대폰을 소유하고 있다고 한다. 대학생 100명에게 휴대폰이 있는지 없는지 알아 본다고 할 때 그 중 휴대폰이 있는 사람이 90명 이하일 확률을 근사적으로 구하라"
   ]
  },
  {
   "cell_type": "code",
   "execution_count": 47,
   "id": "7354e9c8",
   "metadata": {},
   "outputs": [
    {
     "data": {
      "text/plain": [
       "0.084"
      ]
     },
     "execution_count": 47,
     "metadata": {},
     "output_type": "execute_result"
    }
   ],
   "source": [
    "# 포아송\n",
    "# 1. N  이 매우 큰 경우 / 2. p 가 매우 작은 경우 => 포아송 근사 유도\n",
    "# 6%가 휴대폰 소유X, 100명에서 9명 이하가 휴대폰이 없을 확률로 유도\n",
    "\n",
    "round(1-stats.poisson.cdf(9, 6), 3)"
   ]
  },
  {
   "cell_type": "markdown",
   "id": "e91f814a",
   "metadata": {},
   "source": [
    "종합 7.6.12    \n",
    "공정한 주사위를 4번 던질 때, 6의 눈이 2번 이하 나올 확률은 얼마인가?"
   ]
  },
  {
   "cell_type": "code",
   "execution_count": 49,
   "id": "6e4eca5f",
   "metadata": {},
   "outputs": [
    {
     "data": {
      "text/plain": [
       "0.9838"
      ]
     },
     "execution_count": 49,
     "metadata": {},
     "output_type": "execute_result"
    }
   ],
   "source": [
    "# 이항분포\n",
    "n = 4\n",
    "p = 1/6\n",
    "round(stats.binom.cdf(2, n, p), 4)"
   ]
  },
  {
   "cell_type": "markdown",
   "id": "7195d57a",
   "metadata": {},
   "source": [
    "종합 7.6.20     \n",
    "사회과학자가 주장하기를 대학교에 입학할 능력이 있는 실업계 고등학생 중 50%만이 대학에 진학 한다고 한다. 만약 사회과학자의 주장이 맞다면 17명의 대학교에 입학할 능력이 있는 실업계 학생 중 10명이 대학교에 진학할 확률은 얼마인가? 또한 17명 중 대학교에 진학할 학생수의 기댓값은 얼마인가?"
   ]
  },
  {
   "cell_type": "code",
   "execution_count": 53,
   "id": "4f5d90a3",
   "metadata": {},
   "outputs": [
    {
     "name": "stdout",
     "output_type": "stream",
     "text": [
      "10명이 대학교에 진학할 확률은 0.1484\n",
      "17명 중 대학교에 진학할 학생수의 기댓값 8.5\n"
     ]
    }
   ],
   "source": [
    "# 이항분포\n",
    "n = 17\n",
    "p = 0.5\n",
    "print('10명이 대학교에 진학할 확률은 {:.4f}'.format(stats.binom.pmf(10, n, p)))\n",
    "print('17명 중 대학교에 진학할 학생수의 기댓값 {}'.format(stats.binom.stats(n, p)[0]))"
   ]
  },
  {
   "cell_type": "markdown",
   "id": "8c1d4fd4",
   "metadata": {},
   "source": [
    "종합 7.6.22     \n",
    "길동이는 자신이 초능력을 가지고 있다고 주장하고 있다. 이 주장을 혹서인하기 위해 5가지의 다른 그림이 그려진 카드를 준비하고 길동이의 눈을 가리고 5장의 카드 중 하나를 선택한 다음 5가지의 카드 중 어느 카드가 선택되었는지에 대해 물어보는 작업을 16회 실시하였다. 사실은 길동이는 초 능력이 없고, 임의로 대답하였다고 하자.    \n",
    "(1) 카드가 무엇인지 맞추는 횟수가 3회 이하일 확률은 얼마인가?    \n",
    "(2) 카드가 무엇인지를 못 맞추는 횟수가 10회 이상일 확률은 얼마인가?     "
   ]
  },
  {
   "cell_type": "code",
   "execution_count": 56,
   "id": "fc3308ea",
   "metadata": {},
   "outputs": [
    {
     "name": "stdout",
     "output_type": "stream",
     "text": [
      "카드가 무엇인지 맞추는 횟수가 3회 이하일 확률 0.5981\n",
      "카드가 무엇인지를 못 맞추는 횟수가 10회 이상일 확률 0.9733\n"
     ]
    }
   ],
   "source": [
    "# 이항분포\n",
    "n = 16\n",
    "p = 1/5\n",
    "q1 = stats.binom.cdf(3, n, p)\n",
    "q2 = stats.binom.cdf(6, n, p) # 16회 중 10회 실패 = 6회 성공 -> 누적확률분포로 계산\n",
    "\n",
    "print('(1) 카드가 무엇인지 맞추는 횟수가 3회 이하일 확률 {:.4f}'.format(q1))\n",
    "print('(2) 카드가 무엇인지를 못 맞추는 횟수가 10회 이상일 확률 {:.4f}'.format(q2))"
   ]
  },
  {
   "cell_type": "markdown",
   "id": "6d8ced1b",
   "metadata": {},
   "source": [
    "종합 7.6.28     \n",
    "어느 자동차 보험회사의 경우 매일 평균적으로 5건의 배상을 해야 하는 사고가 발생한다. 다음의 확률을 계산하라.    \n",
    "(1) 어느 날 1건의 사고도 발생하지 않을 확률      \n",
    "(2) 5건 이상의 사고가 발생할 확률     "
   ]
  },
  {
   "cell_type": "code",
   "execution_count": 58,
   "id": "88161b43",
   "metadata": {},
   "outputs": [
    {
     "name": "stdout",
     "output_type": "stream",
     "text": [
      "(1) 어느 날 1건의 사고도 발생하지 않을 확률 0.007\n",
      "(2) 5건 이상의 사고가 발생할 확률 0.560\n"
     ]
    }
   ],
   "source": [
    "# 포아송분포\n",
    "lam = 5\n",
    "q1 = stats.poisson.pmf(0, 5)\n",
    "q2 = 1-stats.poisson.cdf(4, 5)\n",
    "print('(1) 어느 날 1건의 사고도 발생하지 않을 확률 {:.3f}'.format(q1))\n",
    "print('(2) 5건 이상의 사고가 발생할 확률 {:.3f}'.format(q2))"
   ]
  },
  {
   "cell_type": "markdown",
   "id": "43f6d9cb",
   "metadata": {},
   "source": [
    "종합 7.6.32    \n",
    "어떤 축구선수는 국가 간 A매치 경기에서 게임당 평균 0.12개의 골을 성공시키고 매 경기에서 같 은 컨디션을 유지해서 k번 경기에서는 평균적으로 0.12(k)번 골을 성공시킨다고 한다.     \n",
    "(1) 이 선수가 출전하는 A매치 경기를 5번 관람한다고 할 때, 그 선수가 골 넣는 장면을 보게 될 확률은 얼마인가?     \n",
    "(2) 이 선수가 골 넣는 장면을 보게 될 확률이 90%를 넘으려면 최소한 몇 번의 A매치 경기를 관람 해야 하겠는가?     "
   ]
  },
  {
   "cell_type": "code",
   "execution_count": 16,
   "id": "779e23cc",
   "metadata": {},
   "outputs": [
    {
     "name": "stdout",
     "output_type": "stream",
     "text": [
      "(1) 0.451\n",
      "(2) 20.000\n"
     ]
    }
   ],
   "source": [
    "lambda_per_game = 0.12\n",
    "lambda_5_games = 5 * lambda_per_game\n",
    "\n",
    "print('(1) {:.3f}'.format(1 - stats.poisson.pmf(0, lambda_5_games)))\n",
    "game_count = 1\n",
    "while True:\n",
    "    prob = 1 - stats.poisson.pmf(0, game_count * lambda_per_game)\n",
    "    if prob > 0.9:\n",
    "        break\n",
    "    game_count += 1\n",
    "print('(2) {:.3f}'.format(game_count))"
   ]
  },
  {
   "cell_type": "markdown",
   "id": "4f97bcc3",
   "metadata": {},
   "source": [
    "## ch8.정규분포"
   ]
  },
  {
   "cell_type": "markdown",
   "id": "bcad19f7",
   "metadata": {},
   "source": [
    "예제 8.3     \n",
    "확률 P[Z< 1.37]와 P[Z> 1.37]을 계산하라."
   ]
  },
  {
   "cell_type": "code",
   "execution_count": 66,
   "id": "ed506f52",
   "metadata": {},
   "outputs": [
    {
     "name": "stdout",
     "output_type": "stream",
     "text": [
      "P[Z< 1.37] = 0.9147, P[Z> 1.37] = 0.0853\n"
     ]
    }
   ],
   "source": [
    "\n",
    "print('P[Z< 1.37] = {:.4f}, P[Z> 1.37] = {:.4f}'.format(stats.norm.cdf(1.37), 1-stats.norm.cdf(1.37)))\n"
   ]
  },
  {
   "cell_type": "markdown",
   "id": "d9e06309",
   "metadata": {},
   "source": [
    "예제 8.5     \n",
    "P[-z <= Z <= z]=0.90을 만족시키는 양의 실수 z를 구하라."
   ]
  },
  {
   "cell_type": "code",
   "execution_count": 83,
   "id": "15d6832f",
   "metadata": {},
   "outputs": [
    {
     "name": "stdout",
     "output_type": "stream",
     "text": [
      "0.049984905539121376\n",
      "z는 1.645이다.\n"
     ]
    }
   ],
   "source": [
    "print(stats.norm.cdf(-1.645))\n",
    "print('z는 1.645이다.')"
   ]
  },
  {
   "cell_type": "markdown",
   "id": "6fa5cebb",
   "metadata": {},
   "source": [
    "예제 8.6     \n",
    "확률변수 X가 N(60, 16)을 따른다고 하였을 때 P[55<X<63]을 계산하라."
   ]
  },
  {
   "cell_type": "code",
   "execution_count": 84,
   "id": "acac4b8e",
   "metadata": {},
   "outputs": [
    {
     "data": {
      "text/plain": [
       "0.6677228739562764"
      ]
     },
     "execution_count": 84,
     "metadata": {},
     "output_type": "execute_result"
    }
   ],
   "source": [
    "mu = 60\n",
    "S = np.sqrt(16)\n",
    "stats.norm.cdf((63-mu)/S) - stats.norm.cdf((55-mu)/S)"
   ]
  },
  {
   "cell_type": "markdown",
   "id": "e32e3e99",
   "metadata": {},
   "source": [
    "연습 8.3.2     \n",
    "어느 해 미국의 통계청 자료를 보면 18세에서 24세의 남자의 평균키는 178 cm이고 표준편차는 7.1 cm이며 여자의 경우는 평균이 165 cm, 표준편차가 6.1 cm라고 한다.    \n",
    "(1) 남자 키의 표준화 변수 Z는 무엇인가?    \n",
    "(2) 여자 키의 표준화 변수 Z는 무엇인가?     \n",
    "(3) 키가 168 cm인 남자의 표준화 값은 얼마인가?      "
   ]
  },
  {
   "cell_type": "code",
   "execution_count": 85,
   "id": "bf1456b1",
   "metadata": {},
   "outputs": [
    {
     "data": {
      "text/plain": [
       "-1.4084507042253522"
      ]
     },
     "execution_count": 85,
     "metadata": {},
     "output_type": "execute_result"
    }
   ],
   "source": [
    "(168-178)/7.1"
   ]
  },
  {
   "cell_type": "markdown",
   "id": "fadee8c2",
   "metadata": {},
   "source": [
    "연습 8.3.12    \n",
    "어느 회사에 입사를 희망한 지원자의 영어점수는 평균이 700이고 표준편차가 100인 정규분포를 따른다고 한다. 한 지원자의 점수가 다음과 같을 확률을 구하라    \n",
    "(1) 850점 이상의 점수를 받는다.    \n",
    "(2) 450점 이하의 점수를 받는다.    \n",
    "(3) 525점에서 875점 사이의 점수를 받는다.     "
   ]
  },
  {
   "cell_type": "code",
   "execution_count": 3,
   "id": "ac582d3e",
   "metadata": {},
   "outputs": [
    {
     "name": "stdout",
     "output_type": "stream",
     "text": [
      "(1 0.0668\n",
      "(2) 0.0062\n",
      "(3) 0.9199\n"
     ]
    }
   ],
   "source": [
    "from scipy import stats\n",
    "print('(1 {:.4f}'.format(1-stats.norm.cdf((850-700)/100)))\n",
    "print('(2) {:.4f}'.format(stats.norm.cdf((450-700)/100)))\n",
    "print('(3) {:.4f}'.format(stats.norm.cdf((875-700)/100)-stats.norm.cdf((525-700)/100)))"
   ]
  },
  {
   "cell_type": "markdown",
   "id": "749b2ad7",
   "metadata": {},
   "source": [
    "연습 8.3.14     \n",
    "의사들이 참고로 사용하는 어린이 성장표에 따르면 생후 2년 된 남아의 키는 평균이 88 cm이고 표준편차가 3.3 cm인 정규분포를 따른다고 한다. 만약 임의로 생후 2년 된 한 남아를 선택하였을 때, 키가 85.3 cm에서 93.2 cm 사이일 확률은 얼마인가?"
   ]
  },
  {
   "cell_type": "code",
   "execution_count": 28,
   "id": "efa92cbc",
   "metadata": {},
   "outputs": [
    {
     "name": "stdout",
     "output_type": "stream",
     "text": [
      "키가 85.3 cm에서 93.2 cm 사이일 확률은  0.7358324708035097\n"
     ]
    }
   ],
   "source": [
    "from scipy.stats import norm\n",
    "E = 88\n",
    "S = 3.3\n",
    "x1 = 85.3\n",
    "x2 = 93.2\n",
    "zstats1 = (x1-E)/S\n",
    "zstats2 = (x2-E)/S\n",
    "cdf = norm.cdf(zstats2) - norm.cdf(zstats1)\n",
    "print('키가 85.3 cm에서 93.2 cm 사이일 확률은 ',cdf)"
   ]
  },
  {
   "cell_type": "markdown",
   "id": "c1ffd0b7",
   "metadata": {},
   "source": [
    "연습 8.3.18    \n",
    "정부의 보고서에 따르면 성인 남자의 키는 평균이 175.3 cm이고 표준편차가 7.1 cm인 정규분포 를 따른다고 한다. 한 의류회사에서는 남자들의 키 가운데 80%를 목표로 하여 제품을 생산하려고 한다. 이들이 목표로 세우려는 키의 범위를 구하라."
   ]
  },
  {
   "cell_type": "code",
   "execution_count": 24,
   "id": "ff5a8616",
   "metadata": {},
   "outputs": [
    {
     "name": "stdout",
     "output_type": "stream",
     "text": [
      "키의 범위는 166.20 ~ 184.40\n"
     ]
    }
   ],
   "source": [
    "conf_z = stats.norm.ppf(0.9)\n",
    "x2 = conf_z*7.1 + 175.3\n",
    "x1 = -conf_z*7.1 + 175.3\n",
    "print('키의 범위는 {:.2f} ~ {:.2f}'.format(x1, x2))"
   ]
  },
  {
   "cell_type": "markdown",
   "id": "2face622",
   "metadata": {},
   "source": [
    "예제 8.9    \n",
    "어느 도시에서 지난 5년 간의 조사결과 성인 전체의 30%가 정기적으로 술을 마시는 것으로 나타났 다고 하자. 만약 현재도 이와 비슷한 비율이 유지된다면 1,000명의 성인표본에서 술을 마시는 사람의 수가     \n",
    "(1) 280명보다 작을 확률은 얼마인가?      \n",
    "(2) (1)에서 연속분포로의 근사를 위한 연속성 수정, 즉 1/2의 가감 없이 계산하면 근사확률은 어떻게 되겠는가?"
   ]
  },
  {
   "cell_type": "code",
   "execution_count": 42,
   "id": "067f5837",
   "metadata": {},
   "outputs": [
    {
     "name": "stdout",
     "output_type": "stream",
     "text": [
      "(1) 정답 : 0.0793\n",
      "(2) 정답 : 0.0735\n"
     ]
    }
   ],
   "source": [
    "m = 1000 * 0.3\n",
    "s = (1000 * 0.3 * 0.7) **0.5\n",
    "\n",
    "z1 = ((280-1/2) - m) / s\n",
    "p1 = stats.norm.cdf(round(z1,2))\n",
    "print(f'(1) 정답 : {round(p1,4)}')\n",
    "\n",
    "z2 = ((280-1) - m) / s\n",
    "p2 = stats.norm.cdf(round(z2,2))\n",
    "print(f'(2) 정답 : {round(p2,4)}')"
   ]
  },
  {
   "cell_type": "markdown",
   "id": "8a2c5751",
   "metadata": {},
   "source": [
    "연습 8.4.16     \n",
    "어떤 사람의 전화 통화시간은 평균이 80초이고 표준편차가 15초인 정규분포를 따른다고 한다. 이 사람이 100번 통화했을 때, 100번 통화 중 통화시간이 92초 이상인 횟수가 25번 이상일 확률을 구 하라."
   ]
  },
  {
   "cell_type": "code",
   "execution_count": 43,
   "id": "742a4ad9",
   "metadata": {},
   "outputs": [
    {
     "name": "stdout",
     "output_type": "stream",
     "text": [
      "통화시간이 92초 이상일 확률: 0.212\n",
      "100번 통화 중 통화시간이 92초 이상인 횟수가 25번 이상일 확률 0.1763\n"
     ]
    }
   ],
   "source": [
    "mean = 80  # 평균\n",
    "std_dev = 15  # 표준편차\n",
    "x = 92\n",
    "\n",
    "# z-점수 계산\n",
    "z = (x - mean) / std_dev\n",
    "\n",
    "# 누적 확률 계산\n",
    "p = 1 - stats.norm.cdf(z)\n",
    "p = round(p,3)\n",
    "n=100\n",
    "print(\"통화시간이 92초 이상일 확률:\", p)\n",
    "# b~(100,0.212)\n",
    "sigma =np.sqrt(n*p*(1-p))\n",
    "mean = n*p\n",
    "prob = stats.norm.cdf(25, mean, sigma)\n",
    "print('100번 통화 중 통화시간이 92초 이상인 횟수가 25번 이상일 확률',round(1-prob,4))"
   ]
  },
  {
   "cell_type": "markdown",
   "id": "1ad60f7f",
   "metadata": {},
   "source": [
    "종합 8.6.12     \n",
    "어떤 순간접착제의 접착력은 평균이 50 kg이고 표준편차가 4 kg인 정규분포를 따른다고 한다. 이 순간접착제를 49 kg의 힘으로 실험할 때, 떨어질 확률은 얼마인가?"
   ]
  },
  {
   "cell_type": "code",
   "execution_count": 60,
   "id": "784c8216",
   "metadata": {},
   "outputs": [
    {
     "data": {
      "text/plain": [
       "0.4012936743170763"
      ]
     },
     "execution_count": 60,
     "metadata": {},
     "output_type": "execute_result"
    }
   ],
   "source": [
    "norm.cdf((49-50)/4)"
   ]
  },
  {
   "cell_type": "markdown",
   "id": "80f7d84f",
   "metadata": {},
   "source": [
    "종합 8.6.18     \n",
    "세금 청구서에 대해 9%가 연체된다고 한다. 2만 개의 청구서가 발행되었을 때, 다음의 확률을 구하라     \n",
    "(1) 1750개 미만의 청구서가 연체된다. (2) 2000개 이상의 청구서가 연체된다."
   ]
  },
  {
   "cell_type": "code",
   "execution_count": 47,
   "id": "b1098cc8",
   "metadata": {},
   "outputs": [
    {
     "name": "stdout",
     "output_type": "stream",
     "text": [
      "(1)  0.10833794837101868\n",
      "(1)  3.8729686013816433e-07\n"
     ]
    }
   ],
   "source": [
    "p = 0.09\n",
    "n = 20000\n",
    "m = n * p\n",
    "sd = np.sqrt(n*p*(1-p))\n",
    "\n",
    "zstats = (1750-m)/sd\n",
    "print('(1) ',stats.norm.cdf(zstats))\n",
    "\n",
    "zstats = (2000-m)/sd\n",
    "print('(1) ',1-stats.norm.cdf(zstats))\n"
   ]
  },
  {
   "cell_type": "markdown",
   "id": "266bb8a7",
   "metadata": {},
   "source": [
    "## ch9.표집분포"
   ]
  },
  {
   "cell_type": "markdown",
   "id": "8317a82f",
   "metadata": {},
   "source": [
    "예제 9.3    \n",
    "평균이 82이고 분산이 144인 모집단에서 임의추출한 표본에 대하여 생각해 보자.     \n",
    "(1) 표본의 크기가 64일 때 표본평균이 구간 (80.8, 83.2)에 있을 확률은?     \n",
    "(2) 표본의 크기가 100일 때 표본평균이 구간 (80.8, 83.2)에 있을 확률은?     "
   ]
  },
  {
   "cell_type": "code",
   "execution_count": 66,
   "id": "d1ca527b",
   "metadata": {},
   "outputs": [
    {
     "name": "stdout",
     "output_type": "stream",
     "text": [
      "(1) 0.5762892028332078\n",
      "(2) 0.6826894921370872\n"
     ]
    }
   ],
   "source": [
    "mu = 82\n",
    "sd = np.sqrt(144/64)\n",
    "print('(1)', norm.cdf((83.2-mu)/sd) - norm.cdf((80.8-mu)/sd))\n",
    "\n",
    "sd = np.sqrt(144/100)\n",
    "print('(2)', norm.cdf((83.2-mu)/sd) - norm.cdf((80.8-mu)/sd))"
   ]
  },
  {
   "cell_type": "markdown",
   "id": "061680cd",
   "metadata": {},
   "source": [
    "연습 9.3.6    \n",
    "한 제과회사에서는 소유하고 있는 포장기계에서 나오는 과자의 무게는 평균이 정해진 무게이고 표준편차는 3.459g인 정규분포를 따른다고 한다. 회사는 소비자 단체와의 마찰을 피하기 위해 450g이라고 표시된 과자를 포장하는 과정에 기계를 455g 포장하도록 맞추어 놓았다.     \n",
    "(1) 9개의 과자를 표본으로 선택하였을 때, 표본평균이 450g 보다 작을 확률은 얼마인가?     \n",
    "(2) 오랜 시간 동안 이 기계를 사용하였을 때. 몇 %의 과자 무게가 450g 보다 적겠는가?     "
   ]
  },
  {
   "cell_type": "code",
   "execution_count": 49,
   "id": "c6c937cb",
   "metadata": {},
   "outputs": [
    {
     "name": "stdout",
     "output_type": "stream",
     "text": [
      "(1) 0.0000\n",
      "(2) 7.4158\n"
     ]
    }
   ],
   "source": [
    "mu = 455\n",
    "sd = 3.459/np.sqrt(9)\n",
    "print('(1) {:.4f}'.format(norm.cdf((450-mu)/sd)))\n",
    "sigma = 3.459\n",
    "print('(2) {:.4f}'.format(norm.cdf((450-mu)/sigma)*100))"
   ]
  },
  {
   "cell_type": "markdown",
   "id": "a572a28c",
   "metadata": {},
   "source": [
    "연습 9.3.8     \n",
    "어느 포장기계를 이용하여 생산한 제품의 무게는 평균은 기계를 세팅한 값이며, 표준편차는 4 g인 정규분포를 따른다고 한다. 다음 물음에 답하라.     \n",
    "(1) 기계를 120 g으로 세팅했을 때, 25개 표본의 평균 무게가 119 g 이상일 확률을 구하라.     \n",
    "(2) 25개 표본의 평균 무게가 118 g 이상일 확률이 0.95가 되기 위해서는 이 기계를 몇 g으로 세팅하여야 하는가?"
   ]
  },
  {
   "cell_type": "code",
   "execution_count": 81,
   "id": "cbcab367",
   "metadata": {},
   "outputs": [
    {
     "name": "stdout",
     "output_type": "stream",
     "text": [
      "(1) 0.8944\n",
      "(2) 119.316\n"
     ]
    }
   ],
   "source": [
    "mu = 120\n",
    "sd = 4/np.sqrt(25)\n",
    "print('(1) {:.4f}'.format(1-norm.cdf((119-mu)/sd)))\n",
    "mu = 118\n",
    "print('(2)', (1.645*sd)+mu)"
   ]
  },
  {
   "cell_type": "markdown",
   "id": "05bbf7bc",
   "metadata": {},
   "source": [
    "연습 9.3.14    \n",
    "만 2세가 된 유아의 키는 평균이 87.6 cm이고 표준편차가 3.3 cm인 정규분포를 따른다고 한다. 만약 6명의 2세 된 유아의 키를 조사하였을 경우 표본평균이 86.6 cm에서 89.4 cm 사이일 확률은 얼마인가?"
   ]
  },
  {
   "cell_type": "code",
   "execution_count": 83,
   "id": "1670a479",
   "metadata": {},
   "outputs": [
    {
     "name": "stdout",
     "output_type": "stream",
     "text": [
      "(1) 0.6802773076561102\n"
     ]
    }
   ],
   "source": [
    "mu = 87.6\n",
    "sd = 3.3/np.sqrt(6)\n",
    "print('(1)', norm.cdf((89.4-mu)/sd) - norm.cdf((86.6-mu)/sd))"
   ]
  },
  {
   "cell_type": "markdown",
   "id": "8a806b72",
   "metadata": {},
   "source": [
    "종합 9.4.6     \n",
    "어떤 과수원에 있는 배의 무게는 평균이 445 g이고 표준편차가 36.2 g인 정규분포를 따른다고 한다.      \n",
    "(1) 만약 하나의 배를 임의로 선택하여 무게를 재었을 때, 무게가 426.9 g에서 454.05 g 사이일 확률은 얼마인가?    \n",
    "(2) 4개의 배를 임의로 선택하여 무게의 평균을 J 라고 할 때, 그 값이 426.9 g에서 454.05 g 사이일 확률은 얼마인가?      "
   ]
  },
  {
   "cell_type": "code",
   "execution_count": 85,
   "id": "e3f809d3",
   "metadata": {},
   "outputs": [
    {
     "name": "stdout",
     "output_type": "stream",
     "text": [
      "(1) 0.29016878695693715\n",
      "(2) 0.5328072073425565\n"
     ]
    }
   ],
   "source": [
    "mu = 445\n",
    "sigma = 36.2\n",
    "print('(1)', norm.cdf((454.05-mu)/sigma) - norm.cdf((426.9-mu)/sigma))\n",
    "sd = sigma/np.sqrt(4)\n",
    "print('(2)', norm.cdf((454.05-mu)/sd) - norm.cdf((426.9-mu)/sd))"
   ]
  },
  {
   "cell_type": "markdown",
   "id": "505e7ca7",
   "metadata": {},
   "source": [
    "## ch10.통계적 추론"
   ]
  },
  {
   "cell_type": "markdown",
   "id": "64cb9a71",
   "metadata": {},
   "source": [
    "예제 10.3    \n",
    "어느 전기부품공장에서 자사의 제품 중 전기퓨즈의 평균수명($\\mu$)을 알아보기 위해 40개의 표본을 추출하고 그 수명($xi$)을 조사하여 다음과 같은 결과를 얻었다.    \n",
    "$\\Sigma xi$ =88, $\\Sigma xi^2$ =212    \n",
    "평균 수명을 추정하고 그 추정량의 표준 오차를 구하여라"
   ]
  },
  {
   "cell_type": "code",
   "execution_count": 101,
   "id": "6d94a83c",
   "metadata": {},
   "outputs": [
    {
     "name": "stdout",
     "output_type": "stream",
     "text": [
      "평균 수명 2.2, 추정량의 표준 오차 0.10860419786947362\n"
     ]
    }
   ],
   "source": [
    "n = 40\n",
    "m = 88/40\n",
    "s = np.sqrt((212-n*m**2)/(n-1))\n",
    "se = s/np.sqrt(n)\n",
    "print('평균 수명 {}, 추정량의 표준 오차 {}'.format(m, se))"
   ]
  },
  {
   "cell_type": "markdown",
   "id": "387bb87b",
   "metadata": {},
   "source": [
    "예제 10.4     \n",
    "평균이 $\\mu$이고 표준편차가 $\\sigma$=8인 정규분포를 따르는 모집단에서 크기가 25인 표본을 추출하여 평균을 계산하였더니 $\\bar x$=42.7이었다. 이때 $\\mu$에 대한 95%신뢰구간을 구하라.\n"
   ]
  },
  {
   "cell_type": "code",
   "execution_count": 103,
   "id": "3eb29a59",
   "metadata": {},
   "outputs": [
    {
     "name": "stdout",
     "output_type": "stream",
     "text": [
      " 95% 신뢰구간은 39.564~45.836\n"
     ]
    }
   ],
   "source": [
    "x_bar = 42.7\n",
    "n= 25\n",
    "sigma = 8\n",
    "conf_a = 0.05\n",
    "start = x_bar-(1.96*sigma/np.sqrt(n))\n",
    "end = x_bar+(1.96*sigma/np.sqrt(n))\n",
    "print(' 95% 신뢰구간은 {:.3f}~{:.3f}'.format(start, end))"
   ]
  },
  {
   "cell_type": "markdown",
   "id": "f0290ba6",
   "metadata": {},
   "source": [
    "예제 10.5     \n",
    "어느 사과농장에서 올해 수확한 사과의 평균무게 $\\mu$에 대해 알아보기 위하여 36개의 사과를 추출하여 무게를 측정하였더니 $\\bar x$=342g, s=20g이 나왔다고한다.     \n",
    "이때 $\\mu$의 95%와 99% 신뢰구간을 구하고 이를 비교하라."
   ]
  },
  {
   "cell_type": "code",
   "execution_count": 112,
   "id": "c86b5e6e",
   "metadata": {},
   "outputs": [
    {
     "name": "stdout",
     "output_type": "stream",
     "text": [
      " 95% 신뢰구간은 335.467~348.533\n",
      " 99% 신뢰구간은 333.400~350.600\n"
     ]
    }
   ],
   "source": [
    "x_bar = 342\n",
    "n= 36\n",
    "sd = 20\n",
    "start = x_bar-(1.96*sd/np.sqrt(n))\n",
    "end = x_bar+(1.96*sd/np.sqrt(n))\n",
    "print(' 95% 신뢰구간은 {:.3f}~{:.3f}'.format(start, end))\n",
    "start = x_bar-(2.58*sd/np.sqrt(n))\n",
    "end = x_bar+(2.58*sd/np.sqrt(n))\n",
    "print(' 99% 신뢰구간은 {:.3f}~{:.3f}'.format(start, end))"
   ]
  },
  {
   "cell_type": "markdown",
   "id": "349653d6",
   "metadata": {},
   "source": [
    "예제 10.6    \n",
    "호수의 성분을 연구하는 한 학자가 호수 성분의 하나인 인산염의 무게 분포에 관심이 있다고 한다.      \n",
    "그 학자가 단위부피당 평균무게(μ)를 추정하고자 하는데, 이제까지의 자료에 의하면 단위부피당 인산염의 무게의 σ=4를 갖는다고 한다. 평균무게 μ에 대한오차가 0.75 이하가 될 확률이 최소한 90%가 되기 위해서는 어느 정도 크기의 표본을 조사하여야 하겠는가?"
   ]
  },
  {
   "cell_type": "code",
   "execution_count": 109,
   "id": "50ca45a4",
   "metadata": {},
   "outputs": [
    {
     "data": {
      "text/plain": [
       "77"
      ]
     },
     "execution_count": 109,
     "metadata": {},
     "output_type": "execute_result"
    }
   ],
   "source": [
    "d = 0.75\n",
    "sigma = 4\n",
    "round((1.645*sigma/d)**2)"
   ]
  },
  {
   "cell_type": "markdown",
   "id": "e502173c",
   "metadata": {},
   "source": [
    "연습 10.2.4    \n",
    "한 연구자가 모평균의 90% 신뢰구간을 구한다고 하자.        \n",
    "그러한 작업을 200번 하였다고 하면 몇 개 의 신뢰구간이 실제의 평균을 포함하고 있겠는가? 그 이유를 설명하라"
   ]
  },
  {
   "cell_type": "code",
   "execution_count": 3,
   "id": "19f39ad4",
   "metadata": {},
   "outputs": [
    {
     "name": "stdout",
     "output_type": "stream",
     "text": [
      "180.0 개의 신뢰구간이 실제의 평균을 포함한다. 모평균의 90% 신뢰구간을 구한다는 것은 모평균을 포함할 확률이 90%라는 의미이다. 이를 통계적으로 200번 작업할 경우 180번의 신뢰구간이 모평균을 포함할 것으로 확률적으로 기대한다.\n"
     ]
    }
   ],
   "source": [
    "n = 200\n",
    "print(200*0.9, '개의 신뢰구간이 실제의 평균을 포함한다. 모평균의 90% 신뢰구간을 구한다는 것은 모평균을 포함할 확률이 90%라는 의미이다. 이를 통계적으로 200번 작업할 경우 180번의 신뢰구간이 모평균을 포함할 것으로 확률적으로 기대한다.')"
   ]
  },
  {
   "cell_type": "markdown",
   "id": "49c28928",
   "metadata": {},
   "source": [
    "연습 10.2.6     \n",
    "한 자동차 공장에서 38명의 새로운 직원들이 2주동안의 연수를 마친 후,특정한 작업을 얼마나 빠른 시간안에 해내는지를 측정하였다.       \n",
    "그 작업을 끝내는데 걸리는 시간의 평균과 표준편차가 각각 68초와 12초였다.      \n",
    "모든 직원들이 2주의 교육을 마쳤을 때 그 작업을 마치는 데 걸리는 시간의 평균값의 95% 신뢰구간을 구하라     "
   ]
  },
  {
   "cell_type": "code",
   "execution_count": 50,
   "id": "83b8f275",
   "metadata": {},
   "outputs": [
    {
     "data": {
      "text/plain": [
       "(64.1846222847536, 71.8153777152464)"
      ]
     },
     "execution_count": 50,
     "metadata": {},
     "output_type": "execute_result"
    }
   ],
   "source": [
    "m = 68\n",
    "se = 12/np.sqrt(38)\n",
    "\n",
    "stats.norm.interval(0.95, m, se)"
   ]
  },
  {
   "cell_type": "markdown",
   "id": "42f2eadd",
   "metadata": {},
   "source": [
    "연습 10.2.12     \n",
    "어느 회사에서 생산된 전자레인지 65개를 임의로 뽑아 전자파의 양을 측정하여 $\\bar x $=0.11, s = 0.06\n",
    "을 얻었다. 모집단의 평균 전자파량의 95% 신뢰구간을 구하라."
   ]
  },
  {
   "cell_type": "code",
   "execution_count": 114,
   "id": "496afdee",
   "metadata": {},
   "outputs": [
    {
     "name": "stdout",
     "output_type": "stream",
     "text": [
      " 95% 신뢰구간은 0.095~0.125\n"
     ]
    }
   ],
   "source": [
    "n = 65\n",
    "x_bar = 0.11\n",
    "sd = 0.06\n",
    "\n",
    "start = x_bar-(1.96*sd/np.sqrt(n))\n",
    "end = x_bar+(1.96*sd/np.sqrt(n))\n",
    "print(' 95% 신뢰구간은 {:.3f}~{:.3f}'.format(start, end))"
   ]
  },
  {
   "cell_type": "markdown",
   "id": "8f1a5397",
   "metadata": {},
   "source": [
    "연습 10.2.16    \n",
    "어떤 화학실험에서 구리 침전물량의 표준편차가 4.5g이라고 하자.       \n",
    "이때 모평균에 대한 표본평균의 오차가 1.86g 이하가 될 확률이 최소한 99%가 되도록 한다면 몇 번의 실험을 반복해야 하는가?     "
   ]
  },
  {
   "cell_type": "code",
   "execution_count": 117,
   "id": "3f1890fd",
   "metadata": {},
   "outputs": [
    {
     "data": {
      "text/plain": [
       "39"
      ]
     },
     "execution_count": 117,
     "metadata": {},
     "output_type": "execute_result"
    }
   ],
   "source": [
    "sigma = 4.5\n",
    "# ME = conf_z * (sigma / np.sqrt(n)) = 1.86\n",
    "round((2.58*4.5/1.86)**2)"
   ]
  },
  {
   "cell_type": "markdown",
   "id": "dfbce25c",
   "metadata": {},
   "source": [
    "예제 10.7    \n",
    "어느 다이어트 방법을 소개하는 책자에서 주장하기를 그 다이어트 방법을 이용하면 5주 동안 10 kg 넘게 체중을 줄일 수 있다고 한다. 56명을 대상으로 해당 다이어트 방법을 이용하여 5주 동안의 체중 감소량을 조사하였더니 평균이 10.5 kg, 표준편차가 4.5 kg이었다고 한다. 이 자료에 근거해서 그 책자의 주장이 옳다고 할 수 있는지 유의수준 5%로 검정하라."
   ]
  },
  {
   "cell_type": "code",
   "execution_count": 140,
   "id": "4729d609",
   "metadata": {},
   "outputs": [
    {
     "name": "stdout",
     "output_type": "stream",
     "text": [
      "H0: 5주 동안의 체중 감소량의 평균은 10kg이다.\n",
      "H1: 5주 동안의 체중 감소량의 평균은 10kg이 넘는다.\n",
      "검정통계량은 0.8315 유의확률은 0.2029로 유의수준 0.05보다 크므로 귀무가설을 기각하지 못한다. 따라서 책의 주장은 옳다고 할 수 없다.\n"
     ]
    }
   ],
   "source": [
    "# 단측검정 mu > 10\n",
    "mu0 = 10\n",
    "x_bar = 10.5\n",
    "sd = 4.5\n",
    "n = 56\n",
    "SE = sd/np.sqrt(n) # 표준오차 (=표본 분포의 표준 편차)\n",
    "zstat = (x_bar - mu0)/SE # 검정통계량\n",
    "ME = 1.645*SE # 오차의 한계\n",
    "\n",
    "sp = 1-norm.cdf(zstat)\n",
    "\n",
    "print('H0: 5주 동안의 체중 감소량의 평균은 10kg이다.')\n",
    "print('H1: 5주 동안의 체중 감소량의 평균은 10kg이 넘는다.')\n",
    "print('검정통계량은 {:.4f} 유의확률은 {:.4f}로 유의수준 0.05보다 크므로 귀무가설을 기각하지 못한다. 따라서 책의 주장은 옳다고 할 수 없다.'.\n",
    "     format(zstat, sp))"
   ]
  },
  {
   "cell_type": "markdown",
   "id": "aa78a84f",
   "metadata": {},
   "source": [
    "연습 10.3.8    \n",
    "한 대학서점으로부터 임의로 추출한 40개의 영수증을 조사한 결과 표본평균 $\\overline {x}$= 5만 원 표본 표준편차 s=9천원이라고 한다.     \n",
    "이 값들을 이용해서 한 번에 판매한 평균액수가 4.6만원 인지에 대해 유의수준 0.05에서 검정하라."
   ]
  },
  {
   "cell_type": "code",
   "execution_count": 136,
   "id": "5b1e41dd",
   "metadata": {},
   "outputs": [
    {
     "name": "stdout",
     "output_type": "stream",
     "text": [
      "H0: 한 번에 판매한 평균액수가 4.6만원이다.\n",
      "H1: 한 번에 판매한 평균액수가 4.6만원이 아니다.\n",
      "검정통계량은 2.8109 유의확률은 0.0049로 유의수준 0.05보다 작으므로 귀무가설을 기각한다. 따라서 한 번에 판매한 평균액수가 4.6만원이 아니다.\n"
     ]
    }
   ],
   "source": [
    "# 양측검정\n",
    "mu0 = 4.6\n",
    "x_bar = 5\n",
    "sd = 0.9\n",
    "n = 40\n",
    "SE = sd/np.sqrt(n) # 표준오차 (=표본 분포의 표준 편차)\n",
    "zstat = (x_bar - mu0)/SE # 검정통계량\n",
    "ME = 1.96*SE # 오차의 한계\n",
    "\n",
    "sp = (1-norm.cdf(np.abs(zstat)))*2\n",
    "\n",
    "print('H0: 한 번에 판매한 평균액수가 4.6만원이다.')\n",
    "print('H1: 한 번에 판매한 평균액수가 4.6만원이 아니다.')\n",
    "print('검정통계량은 {:.4f} 유의확률은 {:.4f}로 유의수준 0.05보다 작으므로 귀무가설을 기각한다. 따라서 한 번에 판매한 평균액수가 4.6만원이 아니다.'.\n",
    "     format(zstat, sp))"
   ]
  },
  {
   "cell_type": "markdown",
   "id": "34d2b709",
   "metadata": {},
   "source": [
    "연습 10.3.12     \n",
    "새로운 치료법이 말기 암환자의 생명 연장에 기존의 치료보다 더 효과적이라는 주장이 있다. 기존 의 치료는 오랫동안 사용되어 왔으며 의학잡지의 기록에 의하여 평균 생존기간이 4.2년으로 알려 지고 있다. 새로운 치료법을 80명의 환자들에게 시행하여 그들의 생존기간을 기록한 결과 표본평 균과 표본표준편차는 각각 4.5년과 1.1년으로 밝혀졌다. 위의 주장은 이들 결과에 의해 뒷받침될 수 있는가? 유의수준 =0.05에서 검정하라 또한 p—value값도 계산하라."
   ]
  },
  {
   "cell_type": "code",
   "execution_count": 142,
   "id": "f2683811",
   "metadata": {},
   "outputs": [
    {
     "name": "stdout",
     "output_type": "stream",
     "text": [
      "H0: 평균 생존기간은 4.2년이다.\n",
      "H1: 평균 생존기간은 4.2년보다 길다.\n",
      "검정통계량은 2.4393 유의확률은 0.0074로 유의수준 0.05보다 작으므로 귀무가설을 기각한다. 따라서 평균 생존기간은 4.2년보다 길다\n"
     ]
    }
   ],
   "source": [
    "# 단측검정 mu > 4.2\n",
    "mu0 = 4.2\n",
    "x_bar = 4.5\n",
    "sd = 1.1\n",
    "n = 80\n",
    "SE = sd/np.sqrt(n) # 표준오차 (=표본 분포의 표준 편차)\n",
    "zstat = (x_bar - mu0)/SE # 검정통계량\n",
    "ME = 1.645*SE # 오차의 한계\n",
    "\n",
    "sp = 1-norm.cdf(zstat)\n",
    "\n",
    "print('H0: 평균 생존기간은 4.2년이다.')\n",
    "print('H1: 평균 생존기간은 4.2년보다 길다.')\n",
    "print('검정통계량은 {:.4f} 유의확률은 {:.4f}로 유의수준 0.05보다 작으므로 귀무가설을 기각한다. 따라서 평균 생존기간은 4.2년보다 길다'.\n",
    "     format(zstat, sp))"
   ]
  },
  {
   "cell_type": "markdown",
   "id": "7e1d3be0",
   "metadata": {},
   "source": [
    "연습 10.3.16     \n",
    "한 회사에서는 땅콩, 호두, 마카다미아 등을 혼합하여 캔으로 판매하고 있는데 내용물의 25%가 값 비싼 마카다미아라는 표지를 붙이고 있다고 한다. 이 표지가 과대선전일지도 모른다고 생각한 검사\n",
    "자가 35개의 캔을 임의로 추출하여 마카다미아의 혼합비율을 측정하였다. 이들 측정치들의 평균과 표준편차는 각각 23.5과 3.1로 밝혀졌다. 이들 결과들은 검사자의 신념을 지지할 수 있는 강한 증 거를 제시하는가?"
   ]
  },
  {
   "cell_type": "code",
   "execution_count": 53,
   "id": "46b4a66f",
   "metadata": {},
   "outputs": [
    {
     "name": "stdout",
     "output_type": "stream",
     "text": [
      "H0: 내용물의 25%는 값 비싼 마카다미아이다.\n",
      "H1: 내용물의 25%는 값 비싼 마카다미아가 아니다.\n",
      "검정통계량은 -2.8626 유의확률은 0.0021로 유의수준 0.05보다 작으므로 귀무가설을 기각한다. 따라서 내용물의 25%는 값 비싼 마카다미아가 아니다.\n"
     ]
    }
   ],
   "source": [
    "# 양측검정\n",
    "mu0 = 25\n",
    "x_bar = 23.5\n",
    "sd = 3.1\n",
    "n = 35\n",
    "SE = sd/np.sqrt(n) # 표준오차 (=표본 분포의 표준 편차)\n",
    "zstat = (x_bar - mu0)/SE # 검정통계량\n",
    "ME = 1.96*SE # 오차의 한계\n",
    "\n",
    "sp = 1-norm.cdf(np.abs(zstat))\n",
    "\n",
    "print('H0: 내용물의 25%는 값 비싼 마카다미아이다.')\n",
    "print('H1: 내용물의 25%는 값 비싼 마카다미아가 아니다.')\n",
    "print('검정통계량은 {:.4f} 유의확률은 {:.4f}로 유의수준 0.05보다 작으므로 귀무가설을 기각한다. 따라서 내용물의 25%는 값 비싼 마카다미아가 아니다.'.\n",
    "     format(zstat, sp))"
   ]
  },
  {
   "cell_type": "markdown",
   "id": "063b8891",
   "metadata": {},
   "source": [
    "예제 10.9    \n",
    "어느 통신판매회사에서는 하나의 새로운 상품을 그 달의 특별상품으로 판매하고자 한다.       \n",
    "그 회사에서 관리하는 만 명의 고객명단에서 임의로 250명을 추출하여 안내책자를 발송한 결과 그 중 70명이 구입을 희망 하였다고 한다.      \n",
    "이 표본자료에 근거해서 전체 고객 중 그 상품에 대한 구입을 원하는 모비율(p)을 추정하고, 그 추정량의 표준오차를 구하라."
   ]
  },
  {
   "cell_type": "code",
   "execution_count": 145,
   "id": "46b09fba",
   "metadata": {},
   "outputs": [
    {
     "name": "stdout",
     "output_type": "stream",
     "text": [
      "모비율 0.28, 추정량의 표준오차 0.028397182958878157\n"
     ]
    }
   ],
   "source": [
    "n = 250\n",
    "p = 70/250\n",
    "SE = np.sqrt(p*(1-p)/n)\n",
    "print('모비율 {}, 추정량의 표준오차 {}'.format(p, SE))"
   ]
  },
  {
   "cell_type": "markdown",
   "id": "1b71d220",
   "metadata": {},
   "source": [
    "예제 10.10    \n",
    "한 도시의 노동인구 500명 중 41 명이 실업자로 나타났다고 하였다. 이 자료로부터 그 도시의 실업률 p에 대한 95% 신뢰구간을 구하라."
   ]
  },
  {
   "cell_type": "code",
   "execution_count": 146,
   "id": "951515ab",
   "metadata": {},
   "outputs": [
    {
     "name": "stdout",
     "output_type": "stream",
     "text": [
      " 95% 신뢰구간은 0.058~0.106\n"
     ]
    }
   ],
   "source": [
    "n = 500\n",
    "p = 41/500\n",
    "SE = np.sqrt(p*(1-p)/n)\n",
    "ME = 1.96*SE\n",
    "start = p-ME\n",
    "end = p+ME\n",
    "print(' 95% 신뢰구간은 {:.3f}~{:.3f}'.format(start, end))"
   ]
  },
  {
   "cell_type": "markdown",
   "id": "e034a203",
   "metadata": {},
   "source": [
    "예제 10.11    \n",
    "공중보건에 관한 조사에서 시각장애인의 비율(山을 추정하고자 한다. 만약 이 조사에서 얻어지는 p에 대한 추정량의 오차가 0.05 이하가 될 확률이 최소한 98%가 되기를 원하다면 몇 명을 대상으로 시 력장애 여부를 조사하여야 하겠는가?"
   ]
  },
  {
   "cell_type": "code",
   "execution_count": 192,
   "id": "9542720d",
   "metadata": {},
   "outputs": [
    {
     "data": {
      "text/plain": [
       "542.0"
      ]
     },
     "execution_count": 192,
     "metadata": {},
     "output_type": "execute_result"
    }
   ],
   "source": [
    "p = 1/2 # p가 주어지지 않았을때 p(1-p)가 가장 클 것으로 생각하는 값 넣기\n",
    "ME2 = 0.05\n",
    "conf_a2 = 1-0.98 # 확률\n",
    "conf_z2 = norm.ppf(1-conf_a2/2) # ppf(확률) = 통계량\n",
    "ssize = (conf_z2/ME2)**2*p*(1-p)\n",
    "np.ceil(ssize)"
   ]
  },
  {
   "cell_type": "markdown",
   "id": "62a992c9",
   "metadata": {},
   "source": [
    "예제 10.12     \n",
    "어떤 특정한 암의 경우에 수술을 시행한 후 완치되는 비율(5년 이상 생존비율)이 30%라고 한다. 이 암에 걸린 60명의 환자를 대상으로 수술뿐 아니라 수술 전후에 일정기간 방사선치료를 병행하였더니 60명 중 27명이 완치되었다고 한다. 이 자료로부터 수술만 하는 것보다 방사선치료를 병행하는 것이 암의 완치율(p)을 높이는 데 효과가 있다고 할 수 있는지 검정하라."
   ]
  },
  {
   "cell_type": "code",
   "execution_count": 193,
   "id": "a54ccd36",
   "metadata": {},
   "outputs": [
    {
     "name": "stdout",
     "output_type": "stream",
     "text": [
      "H0: 방사선치료를 병행하는 것이 암의 완치율(p)을 높이는 데 효과가 없다.\n",
      "H1: 방사선치료를 병행하는 것이 암의 완치율(p)이 더 높다.\n",
      "유의확률은 0.0056로 0.05보다 작으므로 귀무가설을 기각한다. 즉  방사선치료를 병행하는 것이 암의 완치율(p)이 더 높다.\n"
     ]
    }
   ],
   "source": [
    "p0 = 0.3 # 기준\n",
    "n = 60\n",
    "p_hat = 27/60 # 표본비율\n",
    "print('H0: 방사선치료를 병행하는 것이 암의 완치율(p)을 높이는 데 효과가 없다.')\n",
    "print('H1: 방사선치료를 병행하는 것이 암의 완치율(p)이 더 높다.')\n",
    "\n",
    "SE2 = np.sqrt(p0*(1-p0)/n)\n",
    "zstat = (p_hat-p0)/SE2\n",
    "\n",
    "print('유의확률은 {:.4f}로 0.05보다 작으므로 귀무가설을 기각한다. 즉  방사선치료를 병행하는 것이 암의 완치율(p)이 더 높다.'.format(\n",
    "1-norm.cdf(zstat)))"
   ]
  },
  {
   "cell_type": "markdown",
   "id": "5a295123",
   "metadata": {},
   "source": [
    "연습 10.4.6     \n",
    "3년동안 한 산업단지 내의 잣나무 중 90%가 죽은것으로 밝혀졌다.공해에 저항력이 강한 새로운 종이 현재 연구 중에 있는데,      \n",
    "첫 실험의 반응을 관찰한 결과, 같은 지역에서 3년 동안 새로운 종 45개체의 묘목 중에 28개체가 죽었다고 한다.       \n",
    "새로운 종의 3년간의 고사율을 추정하고 90% 신뢰구간을 구하라."
   ]
  },
  {
   "cell_type": "code",
   "execution_count": 181,
   "id": "3f11260c",
   "metadata": {},
   "outputs": [
    {
     "name": "stdout",
     "output_type": "stream",
     "text": [
      " 90% 신뢰구간은 0.504~0.741\n"
     ]
    }
   ],
   "source": [
    "n = 45\n",
    "p_hat = 28/45 # 표본비율\n",
    "\n",
    "SE = np.sqrt(p_hat*(1-p_hat)/n)\n",
    "ME = 1.64*SE\n",
    "\n",
    "print(' 90% 신뢰구간은 {:.3f}~{:.3f}'.format(p_hat-ME, p_hat+ME))"
   ]
  },
  {
   "cell_type": "markdown",
   "id": "4cf56c6e",
   "metadata": {},
   "source": [
    "연습 10.4.10     \n",
    "한 심리학 실험에서 각 개인은 어떤 자극에 대하여 A와 B의 두 가지 중 한 가지의 반응만 할 수 있도록 허용되었다. 실험자는 A 반응을 보이는 사람의 비율 $\\rho$를 구하려고 한다. 만약 실험자가 추 정치의 오차가 0.04보다 작을 확률이 최소한 90%가 되게 하려면 최소한 몇 명의 사람들이 그 실 험에 필요하겠는가?"
   ]
  },
  {
   "cell_type": "code",
   "execution_count": 184,
   "id": "f0234a9e",
   "metadata": {},
   "outputs": [
    {
     "data": {
      "text/plain": [
       "423"
      ]
     },
     "execution_count": 184,
     "metadata": {},
     "output_type": "execute_result"
    }
   ],
   "source": [
    "ME2 = 0.04\n",
    "conf_a2 = 1-0.90\n",
    "conf_z2 = norm.ppf(1-conf_a2/2)\n",
    "p = 1/2\n",
    "ssize = (conf_z2/ME2)**2 * p *(1-p)\n",
    "np.ceil(ssize)"
   ]
  },
  {
   "cell_type": "markdown",
   "id": "bf90f1ff",
   "metadata": {},
   "source": [
    "연습 10.4.12    \n",
    "3년동안 한 산업단지 내의 잣나무 중 90%가 죽은 것으로 밝혀졌다.공해에 저항력이 강한 새로운 종이 현재 연구 중에 있는데, 첫 실험의 반응을 관찰한 결과, 같은 지역에서 3년 동안 새로운 종 45개체의 묘목 중에 28개체가 죽었다고 한다. 95% 신뢰를 가지고 추정의 오차가 0.08 안에 들게 하려면 3년 동안 재배되고 관찰될 새로운 나무의 수는 최소한 얼마가 되어야 하는가?"
   ]
  },
  {
   "cell_type": "code",
   "execution_count": 190,
   "id": "f13a9846",
   "metadata": {},
   "outputs": [
    {
     "data": {
      "text/plain": [
       "142.0"
      ]
     },
     "execution_count": 190,
     "metadata": {},
     "output_type": "execute_result"
    }
   ],
   "source": [
    "ME2 = 0.08\n",
    "conf_a2 = 1-0.95\n",
    "conf_z2 = norm.ppf(1-conf_a2/2)\n",
    "p = 28/45\n",
    "ssize = (conf_z2/ME2)**2 * p *(1-p)\n",
    "np.ceil(ssize)"
   ]
  },
  {
   "cell_type": "markdown",
   "id": "8f8c3c75",
   "metadata": {},
   "source": [
    "연습 10.4.22     \n",
    "전화 인터뷰를 통한 설문조사에서 980명의 성인 중 78%가 공해방지를 위한 새로운 법률 제정을 지지하는 것으로 나타났다. 이 결과가 75%보다 많은 성인 인구가 새로운 공해방지 법안을 지지한 다고 하는 추측을 잘 실증하고 있는가? (P - 값을 계산하여 설명하라.)"
   ]
  },
  {
   "cell_type": "code",
   "execution_count": 29,
   "id": "61e941ac",
   "metadata": {},
   "outputs": [
    {
     "name": "stdout",
     "output_type": "stream",
     "text": [
      "H0: 새로운 공해방지 법안을 지지하는 성인 인구는 75%이다.\n",
      "H1: 새로운 공해방지 법안을 지지하는 성인 인구는 75%보다 많다.\n",
      "유의확률이 0.0150로 유의수준 0.05보다 작으므로 귀무가설을 기각한다. 75%보다 많은 성인 인구가 새로운 공해방지 법안을 지지한 다고 하는 추측을 잘 실증하고 있다.\n"
     ]
    }
   ],
   "source": [
    "from scipy.stats import norm\n",
    "p0 = 0.75\n",
    "p_hat = 0.78\n",
    "n = 980\n",
    "\n",
    "print('H0: 새로운 공해방지 법안을 지지하는 성인 인구는 75%이다.')\n",
    "print('H1: 새로운 공해방지 법안을 지지하는 성인 인구는 75%보다 많다.')\n",
    "\n",
    "SE2 = np.sqrt(p0*(1-p0)/n)\n",
    "zstat = (p_hat-p0)/SE2\n",
    "sp = 1-norm.cdf(zstat)\n",
    "print('유의확률이 {:.4f}로 유의수준 0.05보다 작으므로 귀무가설을 기각한다. 75%보다 많은 성인 인구가 새로운 공해방지 법안을 지지한 다고 하는 추측을 잘 실증하고 있다.'.format(sp))"
   ]
  },
  {
   "cell_type": "markdown",
   "id": "a0174eca",
   "metadata": {},
   "source": [
    "종합 10.5.6    \n",
    "어떤 연구자가 모평균을 추정하고자 하는데, 오차가 2.5 이하일 확률이 최소한 95%가 되도록 표본의 크기를 정하려고 한다.      \n",
    "만약 σ= 18로 주어져 있다면 표본의 크기는 얼마로 해야 하겠는가?\n"
   ]
  },
  {
   "cell_type": "code",
   "execution_count": 57,
   "id": "ab936048",
   "metadata": {},
   "outputs": [
    {
     "data": {
      "text/plain": [
       "200.0"
      ]
     },
     "execution_count": 57,
     "metadata": {},
     "output_type": "execute_result"
    }
   ],
   "source": [
    "ME2 = 2.5\n",
    "conf_a2 = 1-0.95\n",
    "conf_z2 = norm.ppf(1-conf_a2/2)\n",
    "ssize = (conf_z2*18/ME2)**2\n",
    "np.ceil(ssize)"
   ]
  },
  {
   "cell_type": "markdown",
   "id": "e43148d4",
   "metadata": {},
   "source": [
    "종합 10.5.26     \n",
    "어느 도시의 교육청에서는 올해부터 실시한 수돗물의 불소화 시행이 그 지역 초등학생 중 충치가 있는 비율에 어떤 변화를 주었는지 관심이 있다고 한다 올해 초등학생의 충치비율을 라고 하자 초등학생의 충치비율이 60%는 넘지 않는다고 알려져 있을 때, 에 대한 추정량의 95% 오차범위 가 0.03을 넘지 않으려면 몇 명의 학생을 검사해야 하겠는가?\n"
   ]
  },
  {
   "cell_type": "code",
   "execution_count": 67,
   "id": "2314ea89",
   "metadata": {},
   "outputs": [
    {
     "data": {
      "text/plain": [
       "1068.0"
      ]
     },
     "execution_count": 67,
     "metadata": {},
     "output_type": "execute_result"
    }
   ],
   "source": [
    "ME2 = 0.03\n",
    "conf_a2 = 1-0.95\n",
    "conf_z2 = norm.ppf(1-conf_a2/2)\n",
    "p = 0.5\n",
    "ssize1 = (conf_z2/ME2)**2 * p *(1-p)\n",
    "np.ceil(ssize1)"
   ]
  },
  {
   "cell_type": "markdown",
   "id": "57b811f4",
   "metadata": {},
   "source": [
    "## ch11. 정규 모집단에서의 추론 - 표본의 크기가 작을 때"
   ]
  },
  {
   "cell_type": "markdown",
   "id": "bda274d8",
   "metadata": {},
   "source": [
    "예제 11.2    \n",
    "자유도가 9인 t 분포를 갖는 통계량 t에 대하여 P(- b <=t <= b)=0.9를 만족시키는 b를 찾아라."
   ]
  },
  {
   "cell_type": "code",
   "execution_count": 9,
   "id": "b6136196",
   "metadata": {},
   "outputs": [
    {
     "name": "stdout",
     "output_type": "stream",
     "text": [
      "-1.833112932653634\n",
      "0.050000232916286844\n",
      "b는 1.8331\n"
     ]
    }
   ],
   "source": [
    "from scipy.stats import t\n",
    "print(t.ppf((1-0.9)/2, df = 9)) # ppf(확률) = 통계량\n",
    "print(t.cdf(-1.83311, df= 9)) # cdf(통계량) = 확률\n",
    "print('b는 1.8331')"
   ]
  },
  {
   "cell_type": "markdown",
   "id": "76cc4794",
   "metadata": {},
   "source": [
    "예제 11.3    \n",
    "우주선 제작에 쓰기 위해서 새롭게 개발된 합금의 평균 장력 μ를 추정하고자 한다. \n",
    "15개의 새 합금 조각으로부터 장력을 측정한 결과 평균이 39.3, 표준편차가 2.6으로 나타났다.    \n",
    "(1) 새롭게 개발된 합금의 평균장력 μ에 대한 90% 신뢰구간을 구하라.    \n",
    "(2) 모평균 μ가 (1)에서 구한 신뢰구간에 포함되겠는가?         "
   ]
  },
  {
   "cell_type": "code",
   "execution_count": 19,
   "id": "67c2b081",
   "metadata": {},
   "outputs": [
    {
     "name": "stdout",
     "output_type": "stream",
     "text": [
      "(1) 95% 신뢰구간은 38.118~40.482\n",
      "(2) 크키가 15인 표본을 여러 번 추출하여 이와 같은 신뢰구간을 계속 계산하면 그 중 90%정도의 신뢰구간이 모평균을 포함할 것으로 예상\n"
     ]
    }
   ],
   "source": [
    "import numpy as np\n",
    "n = 15\n",
    "x_bar = 39.3\n",
    "sd = 2.6\n",
    "SE = sd/np.sqrt(n)\n",
    "df = n-1\n",
    "ME = t.ppf(0.95, df) * SE\n",
    "\n",
    "start = x_bar-ME\n",
    "end = x_bar+ME\n",
    "print('(1) 95% 신뢰구간은 {:.3f}~{:.3f}'.format(start, end))\n",
    "print('(2) 크키가 15인 표본을 여러 번 추출하여 이와 같은 신뢰구간을 계속 계산하면 그 중 90%정도의 신뢰구간이 모평균을 포함할 것으로 예상')"
   ]
  },
  {
   "cell_type": "markdown",
   "id": "b4a8376c",
   "metadata": {},
   "source": [
    "예제 11.4    \n",
    "어느 도시의 보건복지과에서는 그 도시의 상수원인 어느 호수의 수질에 관심이 있다고 한다. 수질을 나타내는 하나의 수치로 단위부피당 평균 세균수가 있는데, 그 수가 200 이상이면 상수원으로 적합 하지 않다고 한다. 호수의 열 군데에서 물을 떠서 조사한 결과 단위부피당 세균수가 다음과 같이 나타 났다.\n",
    "175 190 215 198 184 207 210 193 196 180\n",
    "이 자료로부터 호수의 단위부피당 평균 세균수(μ)가 200보다 적다고 주장할 수 있겠는가?"
   ]
  },
  {
   "cell_type": "code",
   "execution_count": 81,
   "id": "97e5721a",
   "metadata": {
    "scrolled": true
   },
   "outputs": [
    {
     "name": "stdout",
     "output_type": "stream",
     "text": [
      "H0:  평균 세균수(μ)가 200 이상이다.\n",
      "H1:  평균 세균수(μ)가 200보다 적다\n",
      "유의확률이 0.1098로 유의수준 0.05보다 크므로 귀무가설을 기각하지 못한다. 평균 세균수(μ)가 200 이상이다.\n"
     ]
    }
   ],
   "source": [
    "from scipy.stats import t\n",
    "mu0 = 200\n",
    "data = [175, 190, 215, 198, 184, 207, 210, 193, 196, 180]\n",
    "x_bar = np.mean(data)\n",
    "sd = np.sqrt(np.var(data))\n",
    "n = len(data)\n",
    "df = n-1\n",
    "print('H0:  평균 세균수(μ)가 200 이상이다.')\n",
    "print('H1:  평균 세균수(μ)가 200보다 적다')\n",
    "\n",
    "SE = sd/np.sqrt(n)\n",
    "tstat = (x_bar-mu0)/SE\n",
    "sp = t.cdf(tstat, df)\n",
    "print('유의확률이 {:.4f}로 유의수준 0.05보다 크므로 귀무가설을 기각하지 못한다. 평균 세균수(μ)가 200 이상이다.'\n",
    "     .format(sp))"
   ]
  },
  {
   "cell_type": "markdown",
   "id": "ae7e03e1",
   "metadata": {},
   "source": [
    "연습 11.3.6    \n",
    "호수오염을 조사하기 위해서 호수 바닥의 침전물층의 상단 25곳에서 각각 1000 cm3의 표본을 채 취하여 납의 농도를 측정하였다. 이들 측정치들의 표본평균과 표준편차는 각각 0.38과 0.06으로\n",
    "나타났다. 호수바닥에서 침전물 1000 cm3 당 납의 평균 농도에 대한 99% 신뢰구간을 구하라.\n"
   ]
  },
  {
   "cell_type": "code",
   "execution_count": 54,
   "id": "ba2a277d",
   "metadata": {},
   "outputs": [
    {
     "name": "stdout",
     "output_type": "stream",
     "text": [
      " 99% 신뢰구간은 0.346~0.414\n"
     ]
    }
   ],
   "source": [
    "n = 25\n",
    "x_bar = 0.38\n",
    "sd = 0.06\n",
    "df = n-1\n",
    "\n",
    "SE = sd / np.sqrt(n)\n",
    "conf_a = 0.01\n",
    "conf_t = t.ppf(1-conf_a/2, df)\n",
    "ME = conf_t * SE\n",
    "start = x_bar-ME\n",
    "end = x_bar+ME\n",
    "print(' 99% 신뢰구간은 {:.3f}~{:.3f}'.format(start, end))"
   ]
  },
  {
   "cell_type": "markdown",
   "id": "ac054323",
   "metadata": {},
   "source": [
    "연습 11.3.8    \n",
    "정규모집단으로부터 크기가 18인 표본을 이용하여 모평균 乃에 대한 90% 신뢰구간을 계산하여 (122, 146)의 결과를 얻었다.      \n",
    "이 결과를 사용하여 아래의 문제에 대하여 답하라.     \n",
    "(1) 모평균 μ의 추정값과 추정량의 90% 오차범위를 구하라.    \n",
    "(2) 모평균 μ에 대한 95% 신뢰구간을 구하라.    "
   ]
  },
  {
   "cell_type": "code",
   "execution_count": 65,
   "id": "b2c4761c",
   "metadata": {},
   "outputs": [
    {
     "name": "stdout",
     "output_type": "stream",
     "text": [
      "(1) 모평균 μ의 추정값 134.0, 추정량의 90% 오차범위 12.0000\n",
      "(2) 모평균 μ에 대한 95% 신뢰구간 119.4463~148.5537\n"
     ]
    }
   ],
   "source": [
    "n = 18\n",
    "df = n-1\n",
    "conf_t = t.ppf(0.95, df)\n",
    "# 122 = x_bar - conf_t*(sd / np.sqrt(n))\n",
    "# 146 = x_bar + conf_t*(sd / np.sqrt(n))\n",
    "ME = (146-122)/2\n",
    "# ME = conf_t*(sd / np.sqrt(n))\n",
    "SE = ME/conf_t\n",
    "sd = SE*np.sqrt(n)\n",
    "x_bar = 122+ME\n",
    "print('(1) 모평균 μ의 추정값 {}, 추정량의 90% 오차범위 {:.4f}'.format(x_bar, (146-122)/2))\n",
    "print('(2) 모평균 μ에 대한 95% 신뢰구간 {:.4f}~{:.4f}'.format(x_bar-t.ppf(0.975, df)*SE, x_bar+t.ppf(0.975, df)*SE)) \n",
    "\n"
   ]
  },
  {
   "cell_type": "markdown",
   "id": "e240b48c",
   "metadata": {},
   "source": [
    "연습 11.3.16     \n",
    "어느 지방법원의 기록에 과실치사 사고를 낸 19명의 피고인들에 대한 선고형량이 적혀 있다고 한 다. 이 선고형량의 평균과 표준편차는 각각 72.7개월과 10.2개월로 나타났다. 이 범죄에 대한 선고 형량의 평균에 대한 95% 신뢰구간을 구하라."
   ]
  },
  {
   "cell_type": "code",
   "execution_count": 66,
   "id": "a3fe07d6",
   "metadata": {},
   "outputs": [
    {
     "name": "stdout",
     "output_type": "stream",
     "text": [
      "95% 신뢰구간 67.7838~77.6162\n"
     ]
    }
   ],
   "source": [
    "n = 19\n",
    "df = n-1\n",
    "x_bar = 72.7\n",
    "sd = 10.2\n",
    "conf_t = t.ppf(0.975, df)\n",
    "SE = sd/np.sqrt(n)\n",
    "ME = conf_t*SE\n",
    "start = x_bar - ME\n",
    "end = x_bar + ME\n",
    "print('95% 신뢰구간 {:.4f}~{:.4f}'.format(start, end)) \n"
   ]
  },
  {
   "cell_type": "markdown",
   "id": "0aa479ea",
   "metadata": {},
   "source": [
    "예제 11.5     \n",
    "정규모집단으로부터 크기가 9인 표본을 추출하여 평균과 표준편차를 계산하였더니 각각 $\\bar x$=8.3과 s=1.2였다고한다. 모평균 $\\mu$에 대한 95% 신뢰구간을 구하고, 유의수준 5%로 가설 $H0$: $\\mu$=8.5 대 $H1$ : $\\mu$ $\\ne$ 8.5를검정하라."
   ]
  },
  {
   "cell_type": "code",
   "execution_count": 71,
   "id": "4ad7f7cf",
   "metadata": {},
   "outputs": [
    {
     "name": "stdout",
     "output_type": "stream",
     "text": [
      "검정통계량 -0.0750, 유의확률 0.4710으로 유의수준 0.05보다 크므로 귀무가설을 기각하지 못한다. 따라서 유의수준 5%하에 모평균은 8.5가 아님\n"
     ]
    }
   ],
   "source": [
    "n = 9\n",
    "x_bar = 8.3\n",
    "sd = 1.2\n",
    "df = n-1\n",
    "SE = df/np.sqrt(n)\n",
    "# conf_t = t.ppf(0.975, df)\n",
    "\n",
    "mu0 = 8.5\n",
    "tstat = (x_bar - mu0)/SE\n",
    "sp = t.cdf(tstat,df)\n",
    "\n",
    "print('검정통계량 {:.4f}, 유의확률 {:.4f}으로 유의수준 0.05보다 크므로 귀무가설을 기각하지 못한다. 따라서 유의수준 5%하에 모평균은 8.5가 아님'.format(tstat, sp))"
   ]
  },
  {
   "cell_type": "markdown",
   "id": "9a7cc334",
   "metadata": {},
   "source": [
    "연습 10.4.2    \n",
    "합금의 평균장력 L 의 90% 신뢰구간이 (28.12, 40.48)로 얻어졌다.     \n",
    "(1) 유의수준 a=0.10일 때, $H0$: $\\mu$=39 대 $H1$ : $\\mu$ $\\ne$ 39 에 대한 가설을 검정하라.      \n",
    "(2) 귀무가설 Ho : $\\mu$ = 42에 대하여 (1)에서와 같은 검정을 하라."
   ]
  },
  {
   "cell_type": "code",
   "execution_count": 73,
   "id": "a590e0af",
   "metadata": {},
   "outputs": [],
   "source": [
    "conf_t = t.ppf(0.95, 24)\n",
    "ME = (40.48-28.12)/2\n",
    "SE = ME/conf_t\n",
    "x_bar = 28.12+ME\n",
    "\n",
    "tstat = (x_bar - 39)/SE\n",
    "sp = t.cdf(tstat, 24) ##-> n 설정??"
   ]
  },
  {
   "cell_type": "markdown",
   "id": "264c2d2b",
   "metadata": {},
   "source": [
    "연습 11.4.4     \n",
    "8명의 환자에 대하여 3주 동안 체지방이 감소하는 양을 기록하였다.    \n",
    "1.8 10.6 -1.2 12.9 15.1 -2.0 6.25 10.8     \n",
    "(1) 3주 동안의 체지방 감소량의 모평균 M에 대한 95% 신뢰구간을 구하라.    \n",
    "(2) \"평균이 6.5이다\"에 대하여 유의수준 =0.05로 검정하고 (1)의 결과와 비교하라.    "
   ]
  },
  {
   "cell_type": "code",
   "execution_count": 69,
   "id": "549c196d",
   "metadata": {},
   "outputs": [
    {
     "name": "stdout",
     "output_type": "stream",
     "text": [
      "(1) 95% 신뢰구간 1.2784~12.2841\n",
      "(2) 유의확률이 0.2268로 유의수준 0.05보다 크므로 귀무가설을 기각하지 못한다. 평균이 6.5이다.\n"
     ]
    }
   ],
   "source": [
    "from scipy.stats import t, chi\n",
    "data = [1.8, 10.6, -1.2, 12.9, 15.1, -2, 6.25, 10.8]\n",
    "x_bar = np.mean(data)\n",
    "sd = np.std(data, ddof = 1)\n",
    "n = len(data)\n",
    "df = n-1\n",
    "SE = sd/np.sqrt(n)\n",
    "ME = t.ppf(0.975, df)*SE\n",
    "start = x_bar - ME\n",
    "end = x_bar + ME\n",
    "\n",
    "print('(1) 95% 신뢰구간 {:.4f}~{:.4f}'.format(start, end))\n",
    "mu0 = 6.5\n",
    "tstat = (x_bar - mu0) / SE\n",
    "sp = (1-t.cdf(tstat, df))/2\n",
    "print('(2) 유의확률이 {:.4f}로 유의수준 0.05보다 크므로 귀무가설을 기각하지 못한다. 평균이 6.5이다.'\n",
    "     .format(sp))"
   ]
  },
  {
   "cell_type": "markdown",
   "id": "23dc635d",
   "metadata": {},
   "source": [
    "예제 11.7\n",
    "볼트와 너트를 생산하는 한 공장에서는 제품의 품질이 얼마나 균일하게 유지되는지를 검사하려고 10 개의 볼트를 추출하여 지름을 측정하고 그 표준편차를 구하였더니 0.4였다. 그 공장에서 생산되는 볼트의 지름이 정규분포를 따른다는 가정하에      \n",
    "(1) σ의 90% 신뢰구간을 구하라.     \n",
    "(2) σ가 0.2보다 크다고 할 수 있는지 유의수준 0.05로 검정하라."
   ]
  },
  {
   "cell_type": "code",
   "execution_count": 70,
   "id": "898e8095",
   "metadata": {},
   "outputs": [
    {
     "name": "stdout",
     "output_type": "stream",
     "text": [
      "(1) 90% 신뢰구간 0.2917~0.6581\n",
      "(2) 유의확률이 0.0000로 유의수준 0.05보다 작으로 귀무가설을 기각한다. 모분산이 0.2보다 크다.\n"
     ]
    }
   ],
   "source": [
    "n = 10\n",
    "df = 9\n",
    "sd = 0.4\n",
    "from scipy.stats import chi2\n",
    "conf_a = 0.1\n",
    "conf_c1 = chi2.ppf(1-conf_a/2, df)\n",
    "conf_c2 = chi2.ppf(conf_a/2, df)\n",
    "start = sd*np.sqrt(df / conf_c1 )\n",
    "end = sd*np.sqrt(df / conf_c2)\n",
    "print('(1) 90% 신뢰구간 {:.4f}~{:.4f}'.format(start, end))\n",
    "\n",
    "sd0 = 0.2\n",
    "test_a = 0.05\n",
    "conf_c1 = chi2.ppf(1-test_a/2, df)\n",
    "conf_c2 = chi2.ppf(test_a/2, df)\n",
    "cstat = df*sd**2/sd0**2\n",
    "sp = 1-chi2.cdf(cstat, df)\n",
    "print('(2) 유의확률이 {:.4f}로 유의수준 0.05보다 작으로 귀무가설을 기각한다. 모분산이 0.2보다 크다.'\n",
    "     .format(sp))"
   ]
  },
  {
   "cell_type": "markdown",
   "id": "9f86b78d",
   "metadata": {},
   "source": [
    "연습 11.5.14    \n",
    "오수침전물이 비료로 쓰였던 6개의 대표적인 정원에서 양상추잎을 대상으로 중금속인 카드뮴 (Cd)과 아연(Zn)의 농도를 측정하여 아래와 같은 값을 얻었다.     \n",
    "\n",
    "카드뮴 21 38 12 15 14 8    \n",
    "아연 140 190 130 150 160 140\n",
    "\n",
    "\n",
    "(1) 카드뮴 농도의 모표준편차에 대하여 90% 신뢰구간을 구하라     \n",
    "(2) 아연 농도의 모표준편차가 30 미만이라는 강력한 증거가 있는가? (유의수준 0.10로 검정하라.)"
   ]
  },
  {
   "cell_type": "code",
   "execution_count": 101,
   "id": "96e20efb",
   "metadata": {
    "scrolled": true
   },
   "outputs": [
    {
     "name": "stdout",
     "output_type": "stream",
     "text": [
      "(1) 90% 신뢰구간 6.5503~20.3636\n",
      "(2) 유의확률이 0.1669로 유의수준 0.05보다 작으로 귀무가설을 기각하지 못한다. 모분산이 0.2보다 크다.\n"
     ]
    }
   ],
   "source": [
    "# 카드뮴\n",
    "x = [21, 38, 12, 15, 14, 8]\n",
    "x_bar = np.mean(x)\n",
    "sd = np.std(x)\n",
    "n = len(x)\n",
    "df = n-1\n",
    "\n",
    "conf_a = 0.1\n",
    "conf_c1 = chi2.ppf(1-conf_a/2, df)\n",
    "conf_c2 = chi2.ppf(conf_a/2, df)\n",
    "start = sd*np.sqrt(df / conf_c1 )\n",
    "end = sd*np.sqrt(df / conf_c2)\n",
    "print('(1) 90% 신뢰구간 {:.4f}~{:.4f}'.format(start, end))\n",
    "\n",
    "# 아연\n",
    "x = [140, 190, 130, 150, 160, 140]\n",
    "x_bar = np.mean(x)\n",
    "sd = np.std(x)\n",
    "n = len(x)\n",
    "df = n-1\n",
    "\n",
    "sd0 = 30\n",
    "test_a = 0.1\n",
    "conf_c1 = chi2.ppf(1-test_a/2, df)\n",
    "conf_c2 = chi2.ppf(test_a/2, df)\n",
    "cstat = df*sd**2/sd0**2\n",
    "sp = chi2.cdf(cstat, df)\n",
    "print('(2) 유의확률이 {:.4f}로 유의수준 0.1보다 크므로 귀무가설을 기각하지 못한다. 아연 농도의 모표준편차가 30 이상이다.'\n",
    "     .format(sp))"
   ]
  },
  {
   "cell_type": "markdown",
   "id": "a7a8f2f2",
   "metadata": {},
   "source": [
    "예제 10.10    \n",
    "다음에 주어진 자료를 파이썬을 이용하여 분석하고자 한다.     \n",
    "31 35 37 38 38 38 39 40 40 41 42 43 44 44 46 48     \n",
    "모평균이나 모표준편차에 대한 추론을 위해서는 모집단의 정규분포 가정이 필요하다. 우선 정규확률 그림을 그리고 정규성 가정에 대한 적합성을 밝히고, 모평균에 대한 95% 신뢰구간을 구하라. 모평균 이 38보다 크다고 할 수 있는지 유의수준 5%로 검정하라."
   ]
  },
  {
   "cell_type": "code",
   "execution_count": 126,
   "id": "9f03e9ef",
   "metadata": {},
   "outputs": [
    {
     "data": {
      "image/png": "[encoded data removed]",
      "text/plain": [
       "<Figure size 720x360 with 2 Axes>"
      ]
     },
     "metadata": {
      "needs_background": "light"
     },
     "output_type": "display_data"
    },
    {
     "name": "stdout",
     "output_type": "stream",
     "text": [
      "- 히스토그램을 보면 정규분포의 형태를 띄며 qqplot에서도 빨간 직선에서 벗어나지 않아 정규성을 띄는 것으로 확인된다.\n",
      "- 평균에 대한 95% 신뢰구간 38.2260~42.2740\n",
      "- 유의확률이 0.0147로 유의수준 0.05보다 작으므로 귀무가설을 기각한다. 모평균이 38보다 크다.\n"
     ]
    }
   ],
   "source": [
    "from matplotlib import pyplot as plt\n",
    "from scipy.stats import probplot, zscore\n",
    "x = [31, 35, 37, 38, 38, 38, 39, 40, 40, 41, 42, 43, 44, 44, 46, 48]\n",
    "fig, ax = plt.subplots(1, 2, figsize = (10, 5))\n",
    "ax[0].hist(x)\n",
    "probplot(x, plot=ax[1])\n",
    "plt.show()\n",
    "print('- 히스토그램을 보면 정규분포의 형태를 띄며 qqplot에서도 빨간 직선에서 벗어나지 않아 정규성을 띄는 것으로 확인된다.')\n",
    "x_bar = np.mean(x)\n",
    "sd = np.std(x)\n",
    "n = len(x)\n",
    "SE = sd/np.sqrt(n)\n",
    "ME = norm.ppf(0.975)*SE\n",
    "start = x_bar - ME\n",
    "end = x_bar + ME\n",
    "print('- 평균에 대한 95% 신뢰구간 {:.4f}~{:.4f}'.format(start, end))\n",
    "mu0 = 38\n",
    "zstat = (x_bar - mu0)/SE\n",
    "sp = 1-norm.cdf(zstat)\n",
    "print('- 유의확률이 {:.4f}로 유의수준 0.05보다 작으므로 귀무가설을 기각한다. 모평균이 38보다 크다.'\n",
    "     .format(sp))"
   ]
  },
  {
   "cell_type": "markdown",
   "id": "0f1b3e74",
   "metadata": {},
   "source": [
    "종합 11.6.6    \n",
    "21그루의 식물이 꽃을 피우는 데 걸리는 기간의 평균이 39일이고 표준편차가 5.1일이었다 꽃이\n",
    "피는 데 걸리는 평균 기간에 대한 95% 신뢰구간을 구하라"
   ]
  },
  {
   "cell_type": "code",
   "execution_count": 102,
   "id": "294ac59a",
   "metadata": {},
   "outputs": [
    {
     "name": "stdout",
     "output_type": "stream",
     "text": [
      "95% 신뢰구간 36.6785~41.3215\n"
     ]
    }
   ],
   "source": [
    "n = 21\n",
    "x_bar = 39\n",
    "sd = 5.1\n",
    "df = n-1\n",
    "conf_t = t.ppf(0.975, df)\n",
    "SE = sd/np.sqrt(n)\n",
    "ME = conf_t*SE\n",
    "start = x_bar-ME\n",
    "end = x_bar+ME\n",
    "print('95% 신뢰구간 {:.4f}~{:.4f}'.format(start, end))"
   ]
  },
  {
   "cell_type": "markdown",
   "id": "e62e17b9",
   "metadata": {},
   "source": [
    "종합 11.6.14   \n",
    "한 체중감량프로그램은 ‘4개월에 12 kg 감량’이라는 광고를 하였다.    \n",
    "25명의 고객을 대상으로 체중 감량을 조사한 결과 σ=15 kg, s = 5 kg을 얻었다.     \n",
    "가설 H0 : σ= 12 대 H1 : σ> 12에 대하여 유의수준 α= 0.05에서 검정하라"
   ]
  },
  {
   "cell_type": "code",
   "execution_count": 71,
   "id": "8fc3267b",
   "metadata": {},
   "outputs": [
    {
     "name": "stdout",
     "output_type": "stream",
     "text": [
      " 유의확률이 0.0000로 유의수준 0.05보다 작으므로 귀무가설을 기각한다. 체중감량은 12kg 이상이다.\n"
     ]
    }
   ],
   "source": [
    "n = 25\n",
    "df = n-1\n",
    "sd = 5\n",
    "sigma = 15\n",
    "s0 = 12\n",
    "cstat = df*sd**2 / s0**2\n",
    "sp = chi2.cdf(cstat, df)\n",
    "print(' 유의확률이 {:.4f}로 유의수준 0.05보다 작으므로 귀무가설을 기각한다. 체중감량은 12kg 이상이다.'\n",
    "     .format(sp))"
   ]
  },
  {
   "cell_type": "markdown",
   "id": "51ebab3f",
   "metadata": {},
   "source": [
    "## ch12. 두 모집단의 비교"
   ]
  },
  {
   "cell_type": "markdown",
   "id": "9842c0e4",
   "metadata": {},
   "source": [
    "예제 12.3     \n",
    "봉지에 과자를 담는 두 대의 기계 A와 B가 있다. 이 두 기계가 담는 과자의 평균무게의 차에 대한 추 론을 하기 위해서 A기계로부터 나온 과자 50봉지, B기계로부터 100봉지의 무게를 조사한 결과 평균이 각각 453g 과 401g 이고 표준편차가 각각 80g과 60g으로 나왔다.이 두기계의 모평균을 각각 $\\mu a$와 $\\mu b$라고 할 때, $\\mu a$ - $\\mu b$의 95% 신뢰구간을 구하라."
   ]
  },
  {
   "cell_type": "code",
   "execution_count": 5,
   "id": "18b84029",
   "metadata": {},
   "outputs": [
    {
     "name": "stdout",
     "output_type": "stream",
     "text": [
      "95% 신뢰구간 26.9002~77.0998\n"
     ]
    }
   ],
   "source": [
    "from scipy.stats import norm\n",
    "import numpy as np\n",
    "x_bar = 453\n",
    "y_bar = 401\n",
    "s1 = 80\n",
    "s2 = 60\n",
    "n1 = 50\n",
    "n2 = 100\n",
    "ME = norm.ppf(0.975)*np.sqrt((s1**2/n1)+(s2**2/n2))\n",
    "start = (x_bar-y_bar)-ME\n",
    "end = (x_bar-y_bar)+ME\n",
    "print('95% 신뢰구간 {:.4f}~{:.4f}'.format(start, end))"
   ]
  },
  {
   "cell_type": "markdown",
   "id": "d98f0b72",
   "metadata": {},
   "source": [
    "예제 12.8    \n",
    "지방의 한 도시에서 작은 개천을 사이에 두고 남북으로 나뉘어 있는 두 지역의 집값을 비교하고자 최근에 매매가 이루어진 집을 대상으로      \n",
    "남쪽에서 13가구, 북쪽에서 11 가구의 집값을 조사하였더니 다음과 같았다.    \n",
    "남쪽: 표본수=13, 표본평균=2.4억원, 표본표준편차=0.72억원      \n",
    "북쪽: 표본수=11, 표본평균=2.15억원. 표본표준편차=0.35억원    \n",
    "유의수준 5%로 두 지역의 집값에 차가 있다고 할 수 있는지 검정하라.    "
   ]
  },
  {
   "cell_type": "code",
   "execution_count": 19,
   "id": "497d00bf",
   "metadata": {},
   "outputs": [
    {
     "name": "stdout",
     "output_type": "stream",
     "text": [
      "유의확률 0.2943로 유의수준 0.05보다 크므로 귀무가설을 기각하지 못한다. 두 지역 집값에 차이는 없다.\n"
     ]
    }
   ],
   "source": [
    "from scipy.stats import t\n",
    "x_bar = 2.4\n",
    "y_bar = 2.15\n",
    "s1 = 0.72\n",
    "s2 = 0.35\n",
    "n1 = 13\n",
    "n2 = 11\n",
    "conf_t = t.ppf(0.975, 10) # 자유도는 둘 중 작은 값으로\n",
    "SE = np.sqrt((s1**2/n1) + (s2**2/n2))\n",
    "tstat = (x_bar - y_bar)/SE\n",
    "sp = (1-t.cdf(np.abs(tstat), 10))*2\n",
    "print('유의확률 {:.4f}로 유의수준 0.05보다 크므로 귀무가설을 기각하지 못한다. 두 지역 집값에 차이는 없다.'.format(sp))"
   ]
  },
  {
   "cell_type": "markdown",
   "id": "32a5bab8",
   "metadata": {},
   "source": [
    "연습 12.2.6     \n",
    "집단 A과 집단 B로부터 각각 66명, 38명의 어린이를 임의로 뽑아서 그들의 언어능력를 점수로 계산 한 통계량이 다음과 같다.     \n",
    "dataurl : https://raw.githubusercontent.com/Datamanim/datarepo/main/stats/stats1.csv      \n",
    "(1) 두 집단 간 언어능력의 차이가 있는가? (유의수준 a = 0.01로 검정하라.)     \n",
    "(2) 두 어린이 집단의 모평균 점수차에 대한 98% 신뢰구간을 계산하라.     "
   ]
  },
  {
   "cell_type": "code",
   "execution_count": 75,
   "id": "531b549f",
   "metadata": {},
   "outputs": [
    {
     "name": "stdout",
     "output_type": "stream",
     "text": [
      "(1) 유의확률 0.5981로 유의수준 0.05보다 크므로 귀무가설을 기각하지 못한다. 두 집단 간 언어능력의 차이는 없다.\n",
      "(2) 98% 신뢰구간 -22.1300~13.9538\n"
     ]
    }
   ],
   "source": [
    "import pandas as pd\n",
    "import numpy as np\n",
    "data = pd.read_csv('https://raw.githubusercontent.com/Datamanim/datarepo/main/stats/stats1.csv')\n",
    "data[['ab', 'no']] = data.ID.str.split('_', expand=True)\n",
    "x = data.loc[data.ab=='A', 'data']\n",
    "y = data.loc[data.ab=='B', 'data']\n",
    "\n",
    "x_bar = np.mean(x)\n",
    "y_bar = np.mean(y)\n",
    "s1 = np.std(x, ddof=1)\n",
    "s2 = np.std(y, ddof=1)\n",
    "n1 = len(x)\n",
    "n2 = len(y)\n",
    "\n",
    "conf_z = norm.ppf(0.995)\n",
    "SE = np.sqrt((s1**2/n1) + (s2**2/n2))\n",
    "zstat = (x_bar - y_bar)/SE\n",
    "sp = (1-norm.cdf(np.abs(zstat)))*2\n",
    "print('(1) 유의확률 {:.4f}로 유의수준 0.05보다 크므로 귀무가설을 기각하지 못한다. 두 집단 간 언어능력의 차이는 없다.'.format(sp))\n",
    "\n",
    "ME = norm.ppf(0.99)*SE\n",
    "start = (x_bar-y_bar)-ME\n",
    "end = (x_bar-y_bar)+ME\n",
    "print('(2) 98% 신뢰구간 {:.4f}~{:.4f}'.format(start, end))"
   ]
  },
  {
   "cell_type": "markdown",
   "id": "463868c8",
   "metadata": {},
   "source": [
    "연습 12.2.10.    \n",
    "아래 데이터에서 여성보다 남성이 작업하는데 시간이 오래 걸린다고 할 수 있는지 검정하라.     \n",
    "dataurl : https://raw.githubusercontent.com/Datamanim/datarepo/main/stats/stats2.csv"
   ]
  },
  {
   "cell_type": "code",
   "execution_count": 27,
   "id": "15134d0f",
   "metadata": {},
   "outputs": [
    {
     "name": "stdout",
     "output_type": "stream",
     "text": [
      "(1) 유의확률 0.0012로 유의수준 0.05보다 작으므로 귀무가설을 기각한다. 유의수준 95% 하에 여성보다 남성이 작업하는데 시간이 오래 걸린다.\n"
     ]
    }
   ],
   "source": [
    "data = pd.read_csv('https://raw.githubusercontent.com/Datamanim/datarepo/main/stats/stats2.csv')\n",
    "data[['mf', 'no']] = data.ID.str.split('_', expand=True)\n",
    "x = data.loc[data.mf=='MALE', 'data']\n",
    "y = data.loc[data.mf=='FEMALE', 'data']\n",
    "\n",
    "x_bar = np.mean(x)\n",
    "y_bar = np.mean(y)\n",
    "s1 = np.std(x)\n",
    "s2 = np.std(y)\n",
    "n1 = len(x)\n",
    "n2 = len(y)\n",
    "\n",
    "conf_z = norm.ppf(0.975)\n",
    "SE = np.sqrt((s1**2/n1) + (s2**2/n2))\n",
    "zstat = (x_bar - y_bar)/SE\n",
    "sp = (1-norm.cdf(np.abs(zstat)))*2\n",
    "# 귀무가설 남-여 = 0\n",
    "# 대립가설 남-여 > 0\n",
    "print('(1) 유의확률 {:.4f}로 유의수준 0.05보다 작으므로 귀무가설을 기각한다. 유의수준 95% 하에 여성보다 남성이 작업하는데 시간이 오래 걸린다.'.format(sp))\n"
   ]
  },
  {
   "cell_type": "markdown",
   "id": "0e1ca8bf",
   "metadata": {},
   "source": [
    "예제 12.9     \n",
    "어떤 약의 부작용으로 혈압강하의 효과가 있는지 알아보기 위해서 15명의 환자를 대상으로 약의 복용 전후의 이완기 혈압을 측정하였더니 그 결과가 다음과 같았다.           \n",
    "dataurl : https://raw.githubusercontent.com/Datamanim/datarepo/main/stats/stats3.csv     \n",
    "(1) 평균혈압 전 후 차이값에 대한95% 신뢰구간을 구하라.    \n",
    "(2) 이 자료로부터 약이 혈압을 내린다는 주장을 할 수 있겠는가? 유의수준 1 % 로 검정하라."
   ]
  },
  {
   "cell_type": "code",
   "execution_count": 46,
   "id": "792030dc",
   "metadata": {},
   "outputs": [
    {
     "name": "stdout",
     "output_type": "stream",
     "text": [
      "(1) 95% 신뢰구간 2.7221~14.8779\n",
      "(1) 유의확률 0.0039로 유의수준 0.01보다 작으므로 귀무가설을 기각한다. 약이 혈압을 내린다.\n"
     ]
    }
   ],
   "source": [
    "data = pd.read_csv('https://raw.githubusercontent.com/Datamanim/datarepo/main/stats/stats3.csv')\n",
    "x = data.loc[data.상태=='투약 전', '혈압']\n",
    "y = data.loc[data.상태=='투약 후', '혈압']\n",
    "d = np.array(x)-np.array(y)\n",
    "d_bar = np.mean(d)\n",
    "sd = np.std(d, ddof = 1)\n",
    "n = len(d)\n",
    "df = n-1\n",
    "conf_t = t.ppf(0.975, df)\n",
    "SE = sd/np.sqrt(n)\n",
    "ME = conf_t*SE\n",
    "start = d_bar - ME\n",
    "end = d_bar + ME\n",
    "\n",
    "print('(1) 95% 신뢰구간 {:.4f}~{:.4f}'.format(start, end))\n",
    "tstat = d_bar / SE\n",
    "sp = 1-t.cdf(tstat, df)\n",
    "print('(1) 유의확률 {:.4f}로 유의수준 0.01보다 작으므로 귀무가설을 기각한다. 약이 혈압을 내린다.'.format(sp))\n"
   ]
  },
  {
   "cell_type": "markdown",
   "id": "c77e8ffd",
   "metadata": {},
   "source": [
    "예제 12.10      \n",
    "어떤 화학적인 처리가 씨의 발아비율을 높이는 데 효과가 있는가를 알아보기 위해서 100개의 화학적 으로 처리된 씨와 150개의 처리되지 않은 보통의 씨를 파종하여 발아되는 것을 관찰하였다. 그 결과 화학적으로 처리된 씨 중에서는 88개, 보통의 씨 중에서는 126개가 발아되었다. 화학적으로 처리된 씨와 처리되지 않은 보통의 씨의 발아비율의 차에 대한 95% 신뢰구간을 구하라."
   ]
  },
  {
   "cell_type": "code",
   "execution_count": 47,
   "id": "51b8bc55",
   "metadata": {},
   "outputs": [
    {
     "name": "stdout",
     "output_type": "stream",
     "text": [
      "95% 신뢰구간 -0.0466~0.1266\n"
     ]
    }
   ],
   "source": [
    "p1 = 88/100\n",
    "p2 = 126/150\n",
    "n1 = 100\n",
    "n2 = 150\n",
    "conf_z = norm.ppf(0.975)\n",
    "SE = np.sqrt((p1*(1-p1)/n1)+(p2*(1-p2)/n2))\n",
    "ME = conf_z*SE\n",
    "start = p1-p2-ME\n",
    "end = p1-p2+ME\n",
    "print('95% 신뢰구간 {:.4f}~{:.4f}'.format(start, end))"
   ]
  },
  {
   "cell_type": "markdown",
   "id": "41195e1b",
   "metadata": {},
   "source": [
    "연습 12.4.2    \n",
    "두 집단 A와 B에서 각각 100명을 뽑아 약을 투약한 후 효과가 있었는지 설문했다.       \n",
    "dataurl : https://raw.githubusercontent.com/Datamanim/datarepo/main/stats/stats4.csv        \n",
    "(1) 두 집단간 효과 정도가 같은지 검정하라 (유의수준 0.05)       \n",
    "(2) 효과율 (yes응답 비율)의 집단간 차이에 대한 95% 신뢰구간을 구하여라.    "
   ]
  },
  {
   "cell_type": "code",
   "execution_count": 66,
   "id": "2b56ee34",
   "metadata": {},
   "outputs": [
    {
     "name": "stdout",
     "output_type": "stream",
     "text": [
      "(1) 유의확률 0.0000로 유의수준 0.05보다 크므로 귀무가설을 기각함. 두 집단간 효과 정도 다름\n",
      "(2) 95% 신뢰구간은 0.200~0.460\n"
     ]
    }
   ],
   "source": [
    "data = pd.read_csv('https://raw.githubusercontent.com/Datamanim/datarepo/main/stats/stats4.csv')\n",
    "data[['ab', 'id','no']] = data.집단.str.split('_', expand=True)\n",
    "p1 = data.loc[(data.ab == 'A')&(data.응답=='예'), :].shape[0]/100\n",
    "p2 = data.loc[(data.ab == 'B')&(data.응답=='예'), :].shape[0]/100\n",
    "n1 = 100\n",
    "n2 = 100\n",
    "SE = np.sqrt((p1*(1-p1)/n1)+(p2*(1-p2)/n2))\n",
    "\n",
    "zstat = (p1-p2) / SE\n",
    "sp = (1-norm.cdf(zstat))*2\n",
    "print('(1) 유의확률 {:.4f}로 유의수준 0.05보다 크므로 귀무가설을 기각함. 두 집단간 효과 정도 다름'.format(sp))\n",
    "\n",
    "conf_z = norm.ppf(0.975)\n",
    "ME = conf_z*SE\n",
    "start = p1-p2-ME\n",
    "end = p1-p2+ME\n",
    "print('(2) 95% 신뢰구간은 {:.3f}~{:.3f}'.format(start, end))"
   ]
  },
  {
   "cell_type": "markdown",
   "id": "d967dfc9",
   "metadata": {},
   "source": [
    "연습 12.4.14    \n",
    "두 모집단으로부터 크기가 $n1$ , $n2$인 서로 독립인 표본을 추출하였다고 하자. 또한 그 표본의 성공률을 p1 = 0.62, p2 = 0.51이라고 하자. 다음의 각 경우에 대해 두 모비율이 통계적으로 차이가 있다고 할 수 있는지를 각각에 주어진 유의수준에 대하여 검정하라.    \n",
    "(1) $n1$= 42, $n2$= 50, $\\alpha$=0.05    \n",
    "(2) $n1$= 200, $n2$= 210, $\\alpha$=0.05     \n",
    "(3) $n1$= 200, $n2$= 210, $\\alpha$= 0.01     "
   ]
  },
  {
   "cell_type": "code",
   "execution_count": 53,
   "id": "3a970886",
   "metadata": {},
   "outputs": [
    {
     "name": "stdout",
     "output_type": "stream",
     "text": [
      "(1) 유의확률 0.2855로 유의수준 0.05보다 크므로 귀무가설을 기각하지 못함.\n",
      "(1) 유의확률 0.0238로 유의수준 0.05보다 작으므로 귀무가설을 기각함.\n",
      "(1) 유의확률 0.0238로 유의수준 0.01보다 크므로 귀무가설을 기각하지 못함.\n"
     ]
    }
   ],
   "source": [
    "p1 = 0.62\n",
    "p2 = 0.51\n",
    "\n",
    "n1 = 42\n",
    "n2 = 50\n",
    "conf_z = norm.ppf(0.975)\n",
    "SE = np.sqrt((p1*(1-p1)/n1)+(p2*(1-p2)/n2))\n",
    "zstat = (p1-p2) / SE\n",
    "sp = (1-norm.cdf(zstat))*2\n",
    "print('(1) 유의확률 {:.4f}로 유의수준 0.05보다 크므로 귀무가설을 기각하지 못함.'.format(sp))\n",
    "\n",
    "n1 = 200\n",
    "n2 = 210\n",
    "conf_z = norm.ppf(0.975)\n",
    "SE = np.sqrt((p1*(1-p1)/n1)+(p2*(1-p2)/n2))\n",
    "zstat = (p1-p2) / SE\n",
    "sp = (1-norm.cdf(zstat))*2\n",
    "print('(1) 유의확률 {:.4f}로 유의수준 0.05보다 작으므로 귀무가설을 기각함.'.format(sp))\n",
    "\n",
    "conf_z = norm.ppf(0.995)\n",
    "SE = np.sqrt((p1*(1-p1)/n1)+(p2*(1-p2)/n2))\n",
    "zstat = (p1-p2) / SE\n",
    "sp = (1-norm.cdf(zstat))*2\n",
    "print('(1) 유의확률 {:.4f}로 유의수준 0.01보다 크므로 귀무가설을 기각하지 못함.'.format(sp))"
   ]
  },
  {
   "cell_type": "markdown",
   "id": "84601583",
   "metadata": {},
   "source": [
    "종합 12.5.28    \n",
    "금연패치를 이용하는 것이 금연에 효과가 있는가를 알아보려고 실험을 하였다. 금연을 원하는 80 명의 흡연자들 중에서 임의로 42명을 뽑아서 금연패치를 사용하게 하고 다른 38명의 흡연자들에겐 가짜패치를 사용하게 하였다. 4주 후에 금연패치 사용자 중 27명이, 가짜패치 사용자 중 14명이 담배를 끊었다. 이들 결과로부터 금연패치 사용이 담배를 끊게 하는 비율을 높인다고 할 수 있는가? P—값을 이용하여 답하라."
   ]
  },
  {
   "cell_type": "code",
   "execution_count": 56,
   "id": "6e2245b2",
   "metadata": {},
   "outputs": [
    {
     "name": "stdout",
     "output_type": "stream",
     "text": [
      "유의확률 0.0057로 유의수준 0.05보다 작으므로 귀무가설을 기각함. 금연패치 사용이 담배를 끊게하는 비율을 높인다.\n"
     ]
    }
   ],
   "source": [
    "p1 = 27/42\n",
    "p2 = 14/38\n",
    "n1 = 42\n",
    "n2 = 37\n",
    "conf_z = norm.ppf(0.975)\n",
    "SE = np.sqrt((p1*(1-p1)/n1)+(p2*(1-p2)/n2))\n",
    "zstat = (p1-p2) / SE\n",
    "sp = 1-norm.cdf(zstat)\n",
    "# 귀무가설 p1 = p2\n",
    "# 대립가설 p1 > p2\n",
    "print('유의확률 {:.4f}로 유의수준 0.05보다 작으므로 귀무가설을 기각함. 금연패치 사용이 담배를 끊게하는 비율을 높인다.'.format(sp))\n"
   ]
  },
  {
   "cell_type": "markdown",
   "id": "f84cebee",
   "metadata": {},
   "source": [
    "## ch13. 회귀분석"
   ]
  },
  {
   "cell_type": "markdown",
   "id": "a1bec038",
   "metadata": {},
   "source": [
    "예제 13.2     \n",
    "복용량 3,3,4,5,6,6,7,8,8,9    \n",
    "지속기간 9,5,12,9,14,16,22,18,24,22      \n",
    "\n",
    "복용량과 효과지속기간의 관계를 설명하는 단순선형회귀모형에서의 모수를 추 정하여 추정회귀직선을 구하고, 자료에서 주어진 각 복용량에 대한 지속기간의 추정량, 잔차 그리고 오차분산의 추정량을 구하라."
   ]
  },
  {
   "cell_type": "code",
   "execution_count": 3,
   "id": "c4786527",
   "metadata": {},
   "outputs": [
    {
     "name": "stdout",
     "output_type": "stream",
     "text": [
      "추정회귀직선 y = [2.7408313] + -1.0709046454767783x\n",
      "복용량에 대한 지속기간 추정량 \n",
      " [7.151589242053786, 7.151589242053786, 9.892420537897307, 12.633251833740827, 15.374083129584351, 15.374083129584351, 18.11491442542787, 20.85574572127139, 20.85574572127139, 23.59657701711491]\n",
      "잔차 \n",
      " [1.8484107579462137, -2.1515892420537863, 2.1075794621026933, -3.633251833740827, -1.374083129584351, 0.625916870415649, 3.8850855745721304, -2.85574572127139, 3.14425427872861, -1.5965770171149103]\n",
      " 오차분산의 추정량 7.956601466992664\n"
     ]
    }
   ],
   "source": [
    "x = [3, 3, 4, 5, 6, 6, 7, 8, 8, 9]\n",
    "y = [9, 5, 12, 9, 14, 16, 22, 18, 24, 22]\n",
    "from sklearn.linear_model import LinearRegression\n",
    "lr = LinearRegression(fit_intercept=True)\n",
    "lr.fit(np.array(x).reshape(-1, 1), y)\n",
    "coef = lr.coef_ # 기울기\n",
    "intr = lr.intercept_ # 절편\n",
    "print('추정회귀직선 y = {} + {}x'.format(coef, intr))\n",
    "\n",
    "pred = lr.predict(np.array(x).reshape(-1, 1))\n",
    "print('복용량에 대한 지속기간 추정량 \\n {}'.format(list(pred)))\n",
    "\n",
    "resid = np.array(y) - pred\n",
    "print('잔차 \\n {}'.format(list(resid)))\n",
    "\n",
    "SSE = sum(resid**2)\n",
    "MSE = SSE / (len(x)-2)\n",
    "print(' 오차분산의 추정량 {}'.format(MSE))\n",
    "\n",
    "# import statsmodels.api as sm\n",
    "# xc = sm.add_constant(x)\n",
    "# model = sm.OLS(y, xc)\n",
    "# fitted = model.fit()\n",
    "# print(fitted.summary())"
   ]
  },
  {
   "cell_type": "markdown",
   "id": "af6b7470",
   "metadata": {},
   "source": [
    "예제 13.3     \n",
    "복용량 3,3,4,5,6,6,7,8,8,9        \n",
    "지속기간 9,5,12,9,14,16,22,18,24,22       \n",
    "(1) 자료에 대하여 기울기 $\\beta_{1}$의 95% 신뢰구간을 구하라.    \n",
    "(2) 약의 복용량이 증가함에 따라 효과의 지속기간도 증가하는지 유의수준 5%로 검정하라.\n",
    "(3) $\\beta_{0}$에 대한 95% 신뢰구간을 구하고, $\\beta_{0}$가 0인지, 아닌지를 유의수준 $\\alpha$= 0.05에서 검정하라."
   ]
  },
  {
   "cell_type": "code",
   "execution_count": 9,
   "id": "6dd9c2e0",
   "metadata": {},
   "outputs": [
    {
     "name": "stdout",
     "output_type": "stream",
     "text": [
      "(1) 기울기 신뢰구간\n",
      " 기울기의 95% 신뢰구간은 1.724~3.758\n",
      "\n",
      "(2) x, y가 증가 관계인지 검정\n",
      "H0: 기울기 = 0 H1: 기울기 >0\n",
      "검정통계량 6.214, 유의확률 0.000로 유의수준 0.05보다 작으므로 귀무가설을 기각한다. 기울기 >0\n",
      "\n",
      "(3) 절편의 신뢰구간 및 가설검정\n",
      " 절편의 95% 신뢰구간은 -7.741~5.599\n",
      "절편의 가설검정 (H0: 절편은 0이다. H1: 절편은 0이 아니다)\n",
      "검정통계량 -0.370, 유의확률 0.721로 유의수준 0.05보다 크므로 귀무가설을 채택한다. 절편은 0이다.\n"
     ]
    }
   ],
   "source": [
    "from scipy.stats import t\n",
    "import numpy as np\n",
    "x = np.array([3, 3, 4, 5, 6, 6, 7, 8, 8, 9])\n",
    "y = np.array([9, 5, 12, 9, 14, 16, 22, 18, 24, 22])\n",
    "n = len(x)\n",
    "xm = np.mean(x)\n",
    "treat_df = 1 # 처리의 자유도\n",
    "resid_df = len(x) - treat_df - 1 # 잔차의 자유도\n",
    "resid_std = np.sqrt(MSE)\n",
    "\n",
    "print('(1) 기울기 신뢰구간')\n",
    "SE = resid_std / np.sqrt(sum((x-xm)**2)) # 점추정량의 표준 오차\n",
    "conf_a = 0.05\n",
    "start = float(coef + t.ppf(conf_a/2, resid_df) * SE)\n",
    "end = float(coef + t.ppf(1-conf_a/2, resid_df) * SE)\n",
    "print(' 기울기의 95% 신뢰구간은 {:.3f}~{:.3f}'.format(start, end))\n",
    "\n",
    "print('\\n(2) x, y가 증가 관계인지 검정')\n",
    "print('H0: 기울기 = 0 H1: 기울기 >0')\n",
    "test_a = 0.05\n",
    "w0 = 0\n",
    "tstat = float((coef - w0) / SE)\n",
    "print('검정통계량 {:.3f}, 유의확률 {:.3f}로 유의수준 0.05보다 작으므로 귀무가설을 기각한다. 기울기 >0'.\n",
    "      format(tstat, float(1-t.cdf(tstat, resid_df))))\n",
    "\n",
    "print('\\n(3) 절편의 신뢰구간 및 가설검정')\n",
    "xi = 0\n",
    "SE2 = resid_std / np.sqrt(1/n + (xi-xm)**2/sum((x-xm)**2))\n",
    "\n",
    "start2 = intr + t.ppf(conf_a/2, resid_df)*SE2\n",
    "end2 = intr + t.ppf(1-conf_a/2, resid_df) * SE2\n",
    "print(' 절편의 95% 신뢰구간은 {:.3f}~{:.3f}'.format(start2, end2))\n",
    "print('절편의 가설검정 (H0: 절편은 0이다. H1: 절편은 0이 아니다)')\n",
    "test_a = 0.05\n",
    "b0 = 0\n",
    "tstat2 = (intr-b0) / SE2\n",
    "print('검정통계량 {:.3f}, 유의확률 {:.3f}로 유의수준 0.05보다 크므로 귀무가설을 채택한다. 절편은 0이다.'.\n",
    "      format(tstat2,(1-t.cdf(np.abs(tstat2), resid_df))*2))"
   ]
  },
  {
   "cell_type": "markdown",
   "id": "14332aaf",
   "metadata": {},
   "source": [
    "예제 13.6      \n",
    "복용량 3,3,4,5,6,6,7,8,8,9        \n",
    "지속기간 9,5,12,9,14,16,22,18,24,22    \n",
    "자료에 대하여 독립변수의 값이 x*=6 mg일 때와 x*=9.5 mg일 때 각각 효과지속기간의 평균에 대한 95% 신뢰구간을 구하라."
   ]
  },
  {
   "cell_type": "code",
   "execution_count": 8,
   "id": "6c6a3cee",
   "metadata": {},
   "outputs": [
    {
     "name": "stdout",
     "output_type": "stream",
     "text": [
      " x*=6 mg일 때 신뢰구간은 13.315~17.434\n",
      " x*=9.5 mg일 때 신뢰구간은 20.767~29.167\n"
     ]
    }
   ],
   "source": [
    "xi = 6\n",
    "y2 = intr + coef*xi\n",
    "SE3 = resid_std * np.sqrt(1/n + (xi-xm)**2/sum((x-xm)**2))\n",
    "start3 = y2 + t.ppf(conf_a/2, resid_df)*SE3\n",
    "end3 = y2 + t.ppf(1-conf_a/2, resid_df)*SE3\n",
    "print(' x*=6 mg일 때 신뢰구간은 {:.3f}~{:.3f}'.format(float(start3), float(end3)))\n",
    "\n",
    "xi = 9.5\n",
    "y2 = intr + coef*xi\n",
    "SE3 = resid_std * np.sqrt(1/n + (xi-xm)**2/sum((x-xm)**2))\n",
    "start3 = y2 + t.ppf(conf_a/2, resid_df)*SE3\n",
    "end3 = y2 + t.ppf(1-conf_a/2, resid_df)*SE3\n",
    "print(' x*=9.5 mg일 때 신뢰구간은 {:.3f}~{:.3f}'.format(float(start3), float(end3)))"
   ]
  },
  {
   "cell_type": "markdown",
   "id": "67e4abbe",
   "metadata": {},
   "source": [
    "연습 13.4.6    \n",
    "어떤 혼합비료의 시비량(x)과 어떤 농작물의 생산량(y)의 관계를 파악하기 위한 실험으로부터 다음의 값들이 구해졌다고 한다.     \n",
    "$n$= 15, $\\bar x$=10.8, $\\bar y$=122.7 , $S_{xx}$=70.6, $S_{yy}$=98.5, $S_{xy}$=68.3    \n",
    "두 변수 사이에 직선관계를 가정하고 다음의 각 항에 답하라.    \n",
    "\n",
    "(1) 추정회귀직선의 식을 구하라     \n",
    "(2) 오차제곱합 SSE를 계산하고,$\\sigma^2$을 추정하라     \n",
    "(3) 자료의 x 범위 내에서 혼합비료 1단위를 증가할 때 평균생산량이 적어도 0.6 이상 증가한다고 할수있는가?     "
   ]
  },
  {
   "cell_type": "code",
   "execution_count": 21,
   "id": "924589dd",
   "metadata": {},
   "outputs": [
    {
     "name": "stdout",
     "output_type": "stream",
     "text": [
      "(1)\n",
      "추정회귀직선 : y = 112.2518 + 0.9674*x\n",
      "(2)\n",
      "오차제곱합 SSE : 32.4251, 오차의 분산 추정량 : 2.4942\n",
      "(3)\n",
      " 기울기의 95% 신뢰구간은 0.561~1.373로 혼합비료 1단위 증가할 때 평균생산량은 적어도 0.6이상 증가한다. \n"
     ]
    }
   ],
   "source": [
    "print('(1)')\n",
    "w = 68.3/70.6\n",
    "b = 122.7-w*10.8\n",
    "print('추정회귀직선 : y = {:.4f} + {:.4f}*x'.format(b, w))\n",
    "\n",
    "print('(2)')\n",
    "SSE = 98.5 - 68.3**2/70.6\n",
    "MSE = SSE/(n-2)\n",
    "print('오차제곱합 SSE : {:.4f}, 오차의 분산 추정량 : {:.4f}'.format(SSE, MSE))\n",
    "\n",
    "print('(3)')\n",
    "conf_a = 0.05\n",
    "n = 15\n",
    "xm = 10.8\n",
    "treat_df = 1 # 처리의 자유도\n",
    "resid_df = n - treat_df - 1 # 잔차의 자유도\n",
    "resid_std = np.sqrt(MSE)\n",
    "\n",
    "SE = np.sqrt(MSE) / np.sqrt(70.6) # 점추정량의 표준 오차\n",
    "conf_a = 0.05\n",
    "start = float(w + t.ppf(conf_a/2, resid_df) * SE)\n",
    "end = float(w + t.ppf(1-conf_a/2, resid_df) * SE)\n",
    "print(' 기울기의 95% 신뢰구간은 {:.3f}~{:.3f}로 혼합비료 1단위 증가할 때 평균생산량은 적어도 0.6이상 증가한다. '.format(start, end))"
   ]
  },
  {
   "cell_type": "markdown",
   "id": "31bae8bc",
   "metadata": {},
   "source": [
    "연습 13.6.4    \n",
    "어떤 학생이 최근 26년간(1995—2020)의 국내총생산(GDP, 단위: 조)에 대한 자료를 반응변수 (y)로 1부터 26까지 연번을 나타낸 변수 x를 독립변수로 이용하여 단순선형회귀모형에 적합시켜 추정회귀직선 $\\hat{y}$= a+ bx를 얻었다고 한다. 아래의 결과로부터 선형회귀모형의 가정 중에서 심각 하게 위배된 것이 있으면 지적하라"
   ]
  },
  {
   "cell_type": "code",
   "execution_count": 18,
   "id": "306de6fc",
   "metadata": {},
   "outputs": [
    {
     "name": "stdout",
     "output_type": "stream",
     "text": [
      "정규성 가정 확인\n"
     ]
    },
    {
     "data": {
      "image/png": "[encoded data removed]",
      "text/plain": [
       "<Figure size 1000x500 with 2 Axes>"
      ]
     },
     "metadata": {},
     "output_type": "display_data"
    },
    {
     "name": "stdout",
     "output_type": "stream",
     "text": [
      "등분산성 가정 확인\n"
     ]
    },
    {
     "data": {
      "image/png": "[encoded data removed]",
      "text/plain": [
       "<Figure size 1200x300 with 1 Axes>"
      ]
     },
     "metadata": {},
     "output_type": "display_data"
    },
    {
     "name": "stdout",
     "output_type": "stream",
     "text": [
      "독립성 가정 확인\n",
      "durbin_watson 통계량 0.395\n",
      "회귀분석의 가정 정규성, 등분산성, 독립성을 모두 다 충족하지 않는다. qqplot에서도 정규분포와 벗어난 모양이 보이며 등분산성을 확인하는 독립변수와 잔차의 분산 그래프에서도 분산이 일정하지 않아 보인다. 마지막 독립성 검정에서도 더빈왓슨값이 0.395로 0에 가까워 양의상관성을 가지고 있다.\n"
     ]
    }
   ],
   "source": [
    "from scipy.stats import probplot, zscore\n",
    "from matplotlib import pyplot as plt\n",
    "import seaborn as sns\n",
    "from statsmodels.stats.stattools import durbin_watson\n",
    "\n",
    "resid = [84.4, 73.83, 60.55, -8.66, -18.86, -23.11, -32.15, -18.86, -30.66, -24.02, -39.44, -55.72, -36.09, \n",
    "        -35.96, -49.26, 3.57, 5.47, -7.79, -11.51, -13.83, 16.83, 35.16, 65.65, 63.71, 25.59, -30.19]\n",
    "sresid = zscore(resid) # 표준화 잔차\n",
    "\n",
    "print('정규성 가정 확인')\n",
    "fig, ax = plt.subplots(1, 2, figsize = (10, 5))\n",
    "ax[0].hist(resid)\n",
    "probplot(resid, plot=ax[1])\n",
    "plt.show()\n",
    "\n",
    "print('등분산성 가정 확인')\n",
    "fig, ax = plt.subplots(1, 1, figsize = (12,3))\n",
    "sns.regplot(x = list(range(1,27)), y = sresid, line_kws = {'color':'C1'}, ax = ax)\n",
    "plt.show()\n",
    "\n",
    "print('독립성 가정 확인')\n",
    "dw = durbin_watson(resid)\n",
    "print('durbin_watson 통계량 {:.3f}'.format(dw))\n",
    "print('회귀분석의 가정 정규성, 등분산성, 독립성을 모두 다 충족하지 않는다. qqplot에서도 정규분포와 벗어난 모양이 보이며 등분산성을 확인하는 독립변수와 잔차의 분산 그래프에서도 분산이 일정하지 않아 보인다. 마지막 독립성 검정에서도 더빈왓슨값이 0.395로 0에 가까워 양의상관성을 가지고 있다.')"
   ]
  },
  {
   "cell_type": "markdown",
   "id": "98f1f591",
   "metadata": {},
   "source": [
    "종합 13.7.6     \n",
    "실험실에서 각 열매의 디스크 로딩(x)과 떨어지는 속도(y)를 측정하였다.\n",
    "|디스크 로딩 x|떨어지는 속도 y|\n",
    "|:---|:---:|\n",
    "|0.257|1.35|\n",
    "|0.295|1.50|\n",
    "|0.284|1.33|\n",
    "|0.272|1.39|\n",
    "|0.277|1.28|\n",
    "|0.245|1.06|\n",
    "|0.255|1.32|\n",
    "|0.284|1.23|\n",
    "|0.265|1.15|\n",
    "|0.302|1.35|\n",
    "\n",
    "(1) 추정회귀직선식을 구하라.    \n",
    "(2) 위의 자료는 떨어지는 속도가 디스크 로딩에 의해 영향을 받는다는 주장을 뒷받침할 만한가?(유의수준 $\\alpha$=0.05로 검정하라.)      \n",
    "(3) 잔차와 예측값의 산점도를 그리고, 선형회귀모형의 가정 중에서 위배되는 것이 있으면 지적하라    \n",
    "(4) 표본상관계수를 구하라     \n",
    "(5) y의 총변동부분 중 회귀모형에 의해 설명되는 변동부분의 비율을 구하라."
   ]
  },
  {
   "cell_type": "code",
   "execution_count": 27,
   "id": "71980d11",
   "metadata": {},
   "outputs": [
    {
     "name": "stderr",
     "output_type": "stream",
     "text": [
      "C:\\Users\\user\\anaconda3\\Lib\\site-packages\\scipy\\stats\\_stats_py.py:1806: UserWarning: kurtosistest only valid for n>=20 ... continuing anyway, n=10\n",
      "  warnings.warn(\"kurtosistest only valid for n>=20 ... continuing \"\n"
     ]
    },
    {
     "name": "stdout",
     "output_type": "stream",
     "text": [
      "                            OLS Regression Results                            \n",
      "==============================================================================\n",
      "Dep. Variable:                      y   R-squared:                       0.344\n",
      "Model:                            OLS   Adj. R-squared:                  0.262\n",
      "Method:                 Least Squares   F-statistic:                     4.198\n",
      "Date:                Mon, 30 Oct 2023   Prob (F-statistic):             0.0746\n",
      "Time:                        20:44:21   Log-Likelihood:                 9.2761\n",
      "No. Observations:                  10   AIC:                            -14.55\n",
      "Df Residuals:                       8   BIC:                            -13.95\n",
      "Df Model:                           1                                         \n",
      "Covariance Type:            nonrobust                                         \n",
      "==============================================================================\n",
      "                 coef    std err          t      P>|t|      [0.025      0.975]\n",
      "------------------------------------------------------------------------------\n",
      "const          0.2025      0.535      0.379      0.715      -1.031       1.436\n",
      "x1             3.9968      1.951      2.049      0.075      -0.502       8.495\n",
      "==============================================================================\n",
      "Omnibus:                        4.637   Durbin-Watson:                   1.599\n",
      "Prob(Omnibus):                  0.098   Jarque-Bera (JB):                1.159\n",
      "Skew:                           0.079   Prob(JB):                        0.560\n",
      "Kurtosis:                       1.340   Cond. No.                         62.0\n",
      "==============================================================================\n",
      "\n",
      "Notes:\n",
      "[1] Standard Errors assume that the covariance matrix of the errors is correctly specified.\n",
      "(1) 추정회귀직선식 y = 0.2025 + 3.9968*x\n",
      "(2) 디스크 로딩의 계수값이 유의한지 검정한 결과 유의확률이 0.075로 유의수준 0.05보다 크므로 떨어지는 속도를 예측하는데 유의한 변수가 아니라는 결론이다.\n",
      "(3)\n"
     ]
    },
    {
     "data": {
      "image/png": "[encoded data removed]",
      "text/plain": [
       "<Figure size 600x300 with 2 Axes>"
      ]
     },
     "metadata": {},
     "output_type": "display_data"
    },
    {
     "name": "stdout",
     "output_type": "stream",
     "text": [
      "(4) 표본상관계수 : 0.5865151319446071\n",
      "(5) 회귀모형에 의해 설명되는 변동부분의 비율 :  0.0480576306342238\n"
     ]
    }
   ],
   "source": [
    "x = [0.257, 0.295, 0.284, 0.272, 0.277, 0.245, 0.255, 0.284, 0.265, 0.302]\n",
    "y = [1.35, 1.50, 1.33, 1.39, 1.28, 1.06, 1.32, 1.23, 1.15, 1.35]\n",
    "import numpy as np\n",
    "import statsmodels.api as sm\n",
    "xc = sm.add_constant(x)\n",
    "model = sm.OLS(y, xc)\n",
    "fitted = model.fit()\n",
    "resid = fitted.resid\n",
    "print(fitted.summary())\n",
    "print('(1) 추정회귀직선식 y = 0.2025 + 3.9968*x')\n",
    "print('(2) 디스크 로딩의 계수값이 유의한지 검정한 결과 유의확률이 0.075로 유의수준 0.05보다 크므로 떨어지는 속도를 예측하는데 유의한 변수가 아니라는 결론이다.')\n",
    "print('(3)')\n",
    "sresid = zscore(resid)\n",
    "fig, ax = plt.subplots(1, 2, figsize = (6, 3))\n",
    "probplot(resid, plot=ax[0])\n",
    "sns.regplot(x = x, y = sresid, line_kws = {'color':'C1'}, ax = ax[1])\n",
    "plt.show()\n",
    "print('(4) 표본상관계수 : {}'.format(np.sqrt(0.344)))\n",
    "\n",
    "SSR = sum((np.mean(y)-fitted.predict())**2)\n",
    "print('(5) 회귀모형에 의해 설명되는 변동부분의 비율 : ',SSR)"
   ]
  },
  {
   "cell_type": "markdown",
   "id": "18c606b7",
   "metadata": {},
   "source": [
    "종합 13.7.14     \n",
    "쇳물을 식혀 주물을 만들 때 주물 각 부분의 탄소 알갱이의 양에 따라 그 부분의 시간당 열전도율 (y)이 각기 다르다. 다음은 어느 금속공학자가 실험에서 얻은 자료이다. (x = 단위면적당 탄소 알갱이의 개수)     \n",
    "\n",
    "|디스크 로딩 x|떨어지는 속도 y|\n",
    "|:---|:---:|\n",
    "|346|45|\n",
    "|272|20|\n",
    "|276|20|\n",
    "|350|65|\n",
    "|345|65|\n",
    "|304|20|\n",
    "|311|30|\n",
    "|338|30|\n",
    "|344|55|\n",
    "|346|55|\n",
    "|272|30|\n",
    "|276|30|\n",
    "|239|20|\n",
    "|254|20|\n",
    "|238|20|\n",
    "|304|30|\n",
    "|311|45|\n",
    "|338|45|\n",
    "|344|65|\n",
    "|346|65|\n",
    "|272|45|\n",
    "|276|40|\n",
    "\n",
    "모형: y=$\\beta_{0}$+$\\beta_{1}x$+£    \n",
    "모형에 대하여     \n",
    "\n",
    "(1) 추정회귀직선식을 구하라.     \n",
    "(2) 위의 자료가 단위면적당 탄소 알갱이 수가 많을수록 열전도율이 커진다는 주장을 뒷받침해 줄 수 있을지 검정하라 (유의수준 a = 0.05)    \n",
    "(3) x=300일 때 평균 열전도율에 대한 95% 신뢰구간을 구하라.    \n",
    "(4) 총제곱합의 분해를 제시하고, 선형회귀모형의 적합성에 대하여 평가하라.    \n",
    "(5) 잔차와 예측값의 산점도를 그리고 선형회귀모형의 가정 중에서 위배되는지를 검토하라     "
   ]
  },
  {
   "cell_type": "code",
   "execution_count": 78,
   "id": "9b0815f5",
   "metadata": {},
   "outputs": [
    {
     "name": "stdout",
     "output_type": "stream",
     "text": [
      "(1) 추정 회귀직선식: y = -65.720 + 0.344x\n",
      "(2) 귀무가설 단위면적당 탄소 알갱이 수에 따른 열전도율 차이가 없다일 때, 유의수준 0.05에서 귀무가설을 기각한다(p = 0.000)\n",
      "(3) x=300일 때 평균 열전도율의 95% 신뢰구간: (-103.61, -27.14)\n",
      "(4) 총제곱합: 5931.818, 회귀제곱합: 3692.614, 잔차제곱합: 2239.204\n",
      "결정계수: 0.623\n",
      "위 선형회귀모형으로 데이터의 약 62.3%를 설명할 수 있기에 적합하다.\n"
     ]
    },
    {
     "data": {
      "image/png": "[encoded data removed]",
      "text/plain": [
       "<Figure size 400x200 with 1 Axes>"
      ]
     },
     "metadata": {},
     "output_type": "display_data"
    }
   ],
   "source": [
    "import statsmodels.api as sm\n",
    "import matplotlib.pyplot as plt\n",
    "x = np.array([346, 272, 276, 350, 345, 304, 311, 338, 344, 346, 272, 276, 239, 254, 238, 304, 311, 338, 344, 346, 272, 276])\n",
    "y = np.array([45, 20, 20, 65, 65, 20, 30, 30, 55, 55, 30, 30, 20, 20, 20, 30, 45, 45, 65, 65, 45, 40])\n",
    "\n",
    "x = sm.add_constant(x)\n",
    "model = sm.OLS(y, x).fit()\n",
    "\n",
    "print(f\"(1) 추정 회귀직선식: y = {model.params[0]:.3f} + {model.params[1]:.3f}x\")\n",
    "\n",
    "h0 = \"단위면적당 탄소 알갱이 수에 따른 열전도율 차이가 없다\"\n",
    "p = model.f_pvalue\n",
    "if p <= 0.05:\n",
    "    print(\"(2) 귀무가설 %s일 때, 유의수준 0.05에서 귀무가설을 기각한다(p = %.3f)\" %(h0, p))\n",
    "else:\n",
    "    print(\"(2) 귀무가설 %s일 때, 유의수준 0.05에서 귀무가설을 기각하지 못한다(p = %.3f)\" %(h0, p))\n",
    "    \n",
    "x_new = sm.add_constant(np.array([1, 300]))\n",
    "y_pred = model.get_prediction(x_new)\n",
    "ci = y_pred.conf_int(alpha=0.05)\n",
    "print(f\"(3) x=300일 때 평균 열전도율의 95% 신뢰구간: ({ci[0][0]:.2f}, {ci[0][1]:.2f})\")\n",
    "\n",
    "SST = np.sum((y - np.mean(y))**2)\n",
    "SSR = model.rsquared * SST \n",
    "SSE = SST - SSR \n",
    "\n",
    "print(f\"(4) 총제곱합: {SST:.3f}, 회귀제곱합: {SSR:.3f}, 잔차제곱합: {SSE:.3f}\")\n",
    "print(f\"결정계수: {model.rsquared:.3f}\")\n",
    "print(\"위 선형회귀모형으로 데이터의 약 62.3%를 설명할 수 있기에 적합하다.\")\n",
    "\n",
    "# (5) 잔차와 예측값의 산점도\n",
    "y_pred = model.predict()\n",
    "residual = y - y_pred\n",
    "plt.figure(figsize = (4, 2))\n",
    "plt.scatter(y_pred, residual)\n",
    "plt.axhline(y=0, color='black', linestyle='--')\n",
    "plt.xlabel('predicted value')\n",
    "plt.ylabel('residual')\n",
    "plt.title('(5) scatter plot')\n",
    "plt.show()"
   ]
  },
  {
   "cell_type": "markdown",
   "id": "06a8b0fa",
   "metadata": {},
   "source": [
    "## ch14. 분산분석"
   ]
  },
  {
   "cell_type": "markdown",
   "id": "0b35b444",
   "metadata": {},
   "source": [
    "예제 14.1    \n",
    "안경의 표면손상을 방지 하려고 A, B, C, D의 네종류의 코팅처리에 대하여 표면보호에 얼마나 효과가 있는지를 비교하여 보았다. 다음의 표는 네 종류로 코팅처리된 안경에서 표면의 마모도를 측정한 자료이다.\n",
    "\n",
    "|코딩|관측자료|\n",
    "|:---|:---:|\n",
    "|A|10,15,8,12,15|\n",
    "|B|14,18,21,15|\n",
    "|C|17,16,14,15,17,15,18|\n",
    "|D|12,15,17,15,16,15|\n",
    "\n",
    "(1) 이 자료로부터 과연 네 종류 코팅처리의 평균 마모도에 차이가 있다고 할 수 있는가?    \n",
    "(2) 총제곱합(SSn 처리제곱합(SStr)과 오차제곱합(SSE)을 구하라.     "
   ]
  },
  {
   "cell_type": "code",
   "execution_count": 17,
   "id": "c2dd12b3",
   "metadata": {},
   "outputs": [
    {
     "name": "stdout",
     "output_type": "stream",
     "text": [
      "(1)\n",
      "1. 정규성 검정 (H0: 네 종류 모두 정규성을 만족한다. H1: 하나라도 정규성을 만족하지 않는다.)\n",
      "- 검정 결과 유의확률이 a  0.4292, b 0.6532, c 0.7518 d 0.2375로 유의수준 0.05보다 크므로 귀무가설 채택한다. 네 종류 모두 정규성을 만족한다.\n",
      "2. 독립성 검정 (H0: 네 집단 간 분산이 같다. H1: 네 집단 간 분산이 다르다.\n",
      "- 검정 결과 유의확률이 0.1107로 유의수준 0.05보다 크므로 귀무가설을 채택한다. 분산은 같다.\n",
      "3. 분산분석 (H0: 네 집단 간 평균의 차이가 없다. H1: 네 집단 간 평균의 차이가 있다.)\n",
      "- 검정 결과 유의확률이 0.0181로 유의수준 0.05보다 작으므로 귀무가설을 기각한다. 평균의 차이가 있다.\n",
      "(2)\n",
      "총제곱합 : 162.0, 처리제곱합: 68.0, 오차제곱합: 94.0\n"
     ]
    }
   ],
   "source": [
    "import pandas as pd\n",
    "import scipy.stats as stat\n",
    "import numpy as np\n",
    "a = [10, 15, 8, 12, 15]\n",
    "b = [14, 18, 21, 15]\n",
    "c = [17, 16, 14, 15, 17, 15, 18]\n",
    "d = [12, 15, 17, 15, 16, 15]\n",
    "stats, pvalue_shpr_a = stat.shapiro(a)\n",
    "stats, pvalue_shpr_b = stat.shapiro(b)\n",
    "stats, pvalue_shpr_c = stat.shapiro(c)\n",
    "stats, pvalue_shpr_d = stat.shapiro(d)\n",
    "stats, pvalue_lvn =  stat.levene(a, b, c, d)\n",
    "stats, pvalue_fo = stat.f_oneway(a, b, c, d)\n",
    "print('(1)')\n",
    "print('1. 정규성 검정 (H0: 네 종류 모두 정규성을 만족한다. H1: 하나라도 정규성을 만족하지 않는다.)')\n",
    "print('- 검정 결과 유의확률이 a  {:.4f}, b {:.4f}, c {:.4f} d {:.4f}로 유의수준 0.05보다 크므로 귀무가설 채택한다. 네 종류 모두 정규성을 만족한다.'.\n",
    "     format(pvalue_shpr_a, pvalue_shpr_b, pvalue_shpr_c, pvalue_shpr_d))\n",
    "print('2. 독립성 검정 (H0: 네 집단 간 분산이 같다. H1: 네 집단 간 분산이 다르다.')\n",
    "print('- 검정 결과 유의확률이 {:.4f}로 유의수준 0.05보다 크므로 귀무가설을 채택한다. 분산은 같다.'.format(pvalue_lvn))\n",
    "print('3. 분산분석 (H0: 네 집단 간 평균의 차이가 없다. H1: 네 집단 간 평균의 차이가 있다.)')\n",
    "print('- 검정 결과 유의확률이 {:.4f}로 유의수준 0.05보다 작으므로 귀무가설을 기각한다. 평균의 차이가 있다.'.format(pvalue_fo))\n",
    "\n",
    "data_1d = sum([a, b, c, d], []) # 1d list로 정렬\n",
    "\n",
    "means = [] #모집단(수준)별 평균\n",
    "vs = []    #모집단(수준)별 분산\n",
    "n = 0      #표본전체 개수\n",
    "k = []     #모집단(수준)별 표본개수\n",
    "for d in [a, b, c, d]:\n",
    "    means.append(np.mean(d))\n",
    "    vs.append(np.std(d, ddof=1)**2)\n",
    "    n += len(d)\n",
    "    k.append(len(d))\n",
    "mu = np.mean(data_1d) # 전체 평균\n",
    "vs = np.array(vs)\n",
    "k = np.array(k)\n",
    "\n",
    "SSTR = (k * (means - mu)**2).sum() #처리제곱: 처리 평균들과 전체 평균의 오차제곱합\n",
    "SSE = ((k-1) * vs).sum() #오차제곱: 처리분산들과 오차 자유도를 곱한 합\n",
    "SST = ((data_1d - mu) **2).sum() # SSTR + SSE\n",
    "print('(2)')\n",
    "print('총제곱합 : {}, 처리제곱합: {}, 오차제곱합: {}'.format(SST, SSTR, SSE))"
   ]
  },
  {
   "cell_type": "markdown",
   "id": "fe795254",
   "metadata": {},
   "source": [
    "연습 13.3.4     \n",
    "다음 분산분석표에서 $\\alpha$= 0.05일 때 평균의 동일성에 대한 F —검정을 시행하라.     \n",
    "|요인|제곱합|자유도|\n",
    "|:---|:---:|:---:|\n",
    "|처리|104|5|\n",
    "|오차|109|20|\n",
    "|합계|213|25|\n"
   ]
  },
  {
   "cell_type": "code",
   "execution_count": 16,
   "id": "325c3044",
   "metadata": {},
   "outputs": [
    {
     "name": "stdout",
     "output_type": "stream",
     "text": [
      "H0: 평균은 동일하다. H1: 평균은 동일하지 않다.\n",
      "검정통계량 2.7109, 유의확률 0.0137로 유의수준 0.05보다 작으므로 귀무가설을 기각한다. 평균은 동일하지 않다.\n"
     ]
    }
   ],
   "source": [
    "SSR = 104\n",
    "SSE = 109\n",
    "SST = 213\n",
    "MSR = SSR/5\n",
    "MSE = SSE/20\n",
    "F = MSR/MSE\n",
    "from scipy.stats import f\n",
    "cv = f.ppf(1-0.05, 5, 20)\n",
    "sp = 1-f.cdf(F, 5, 20)\n",
    "print('H0: 평균은 동일하다. H1: 평균은 동일하지 않다.')\n",
    "print('검정통계량 {:.4f}, 유의확률 {:.4f}로 유의수준 0.05보다 작으므로 귀무가설을 기각한다. 평균은 동일하지 않다.'.format(cv, sp))"
   ]
  },
  {
   "cell_type": "markdown",
   "id": "4ae550e0",
   "metadata": {},
   "source": [
    "종합 13.4.4    \n",
    "국제표준협회에서는 네 가지 직물에 대한 인화성을 검사하였다. 다음 표는 각 직물로 만든 옷에서 잘라낸 조각에 불을 붙여 인화되는 시간을 초 단위로 기록한 것이다.\n",
    "\n",
    "|작물1|작물2|작물3|작물4|\n",
    "|:---|:---:|:---:|:---:|\n",
    "|17.8|11.2|11.8|14.9|\n",
    "|16.2|11.4|11.0|10.8|\n",
    "|17.5|15.8|10.0|12.8|\n",
    "|17.4|10.0|9.2|10.7|\n",
    "|15.0|10.4|9.2|10.7|\n",
    "\n",
    "(1) 직물 네 종류의 인화성이 모두 똑같다고 귀무가 설을 세우고 으= 0.05로 검정하라"
   ]
  },
  {
   "cell_type": "code",
   "execution_count": 18,
   "id": "820b9bdd",
   "metadata": {},
   "outputs": [
    {
     "name": "stdout",
     "output_type": "stream",
     "text": [
      "(1)\n",
      "1. 정규성 검정 (H0: 네 종류 모두 정규성을 만족한다. H1: 하나라도 정규성을 만족하지 않는다.)\n",
      "- 검정 결과 유의확률이 a  0.2589, b 0.0478, c 0.3767 d 0.0602로 유의수준 0.05보다 크므로 귀무가설 채택한다. 네 종류 모두 정규성을 만족한다.\n",
      "2. 독립성 검정 (H0: 네 집단 간 분산이 같다. H1: 네 집단 간 분산이 다르다.\n",
      "- 검정 결과 유의확률이 0.9092로 유의수준 0.05보다 크므로 귀무가설을 채택한다. 분산은 같다.\n",
      "3. 분산분석 (H0: 네 집단 간 평균의 차이가 없다. H1: 네 집단 간 평균의 차이가 있다.)\n",
      "- 검정 결과 유의확률이 0.0001로 유의수준 0.05보다 작으므로 귀무가설을 기각한다. 평균의 차이가 있다.\n"
     ]
    }
   ],
   "source": [
    "import pandas as pd\n",
    "import scipy.stats as stat\n",
    "import numpy as np\n",
    "\n",
    "p1 = [17.8, 16.2, 17.5, 17.4, 15]\n",
    "p2 = [11.2, 11.4, 15.8, 10, 10.4]\n",
    "p3 = [11.8, 11, 10, 9.2, 9.2]\n",
    "p4 = [14.9, 10.8, 12.8, 10.7, 10.7]\n",
    "\n",
    "tats, pvalue_shpr_a = stat.shapiro(p1)\n",
    "stats, pvalue_shpr_b = stat.shapiro(p2)\n",
    "stats, pvalue_shpr_c = stat.shapiro(p3)\n",
    "stats, pvalue_shpr_d = stat.shapiro(p4)\n",
    "stats, pvalue_lvn =  stat.levene(p1, p2, p3, p4)\n",
    "stats, pvalue_fo = stat.f_oneway(p1, p2, p3, p4)\n",
    "print('(1)')\n",
    "print('1. 정규성 검정 (H0: 네 종류 모두 정규성을 만족한다. H1: 하나라도 정규성을 만족하지 않는다.)')\n",
    "print('- 검정 결과 유의확률이 a  {:.4f}, b {:.4f}, c {:.4f} d {:.4f}로 유의수준 0.05보다 크므로 귀무가설 채택한다. 네 종류 모두 정규성을 만족한다.'.\n",
    "     format(pvalue_shpr_a, pvalue_shpr_b, pvalue_shpr_c, pvalue_shpr_d))\n",
    "print('2. 독립성 검정 (H0: 네 집단 간 분산이 같다. H1: 네 집단 간 분산이 다르다.')\n",
    "print('- 검정 결과 유의확률이 {:.4f}로 유의수준 0.05보다 크므로 귀무가설을 채택한다. 분산은 같다.'.format(pvalue_lvn))\n",
    "print('3. 분산분석 (H0: 네 집단 간 평균의 차이가 없다. H1: 네 집단 간 평균의 차이가 있다.)')\n",
    "print('- 검정 결과 유의확률이 {:.4f}로 유의수준 0.05보다 작으므로 귀무가설을 기각한다. 평균의 차이가 있다.'.format(pvalue_fo))\n"
   ]
  },
  {
   "cell_type": "markdown",
   "id": "25d6e632",
   "metadata": {},
   "source": [
    "## ch15. 범주형 자료 분석"
   ]
  },
  {
   "cell_type": "markdown",
   "id": "c19c6b09",
   "metadata": {},
   "source": [
    "15.4.2     \n",
    "스트레스를 받는 직종에 근무하는 185명에 대한 조사를 통하여 다음과 같은 표를 얻었다.     \n",
    "우울증의 유무와 알콜 중독과 관계가 있는가? 유의수준 \tα = 0.1로 검정하라.\n",
    "<br></br><img src=\"https://github.com/Datamanim/datarepo/blob/main/stats/stats_image2.png?raw=true\" align=\"left\"><br></br>       "
   ]
  },
  {
   "cell_type": "code",
   "execution_count": 4,
   "id": "b0fd8da0",
   "metadata": {},
   "outputs": [
    {
     "name": "stdout",
     "output_type": "stream",
     "text": [
      "H0: 우울증의 유무와 알콜 중독 여부는 관계가 없다.\n",
      "H1: 우울증의 유무와 알콜 중독 여부는 관계가 있다.\n",
      "독립성 검정 결과 통계량은 38.9688, 유의확률은 0.0000로 유의수준 0.1보다 작으므로 귀무가설을 기각한다. 따라서 우울증의 유무와 알콜 중독 여부는 관계가 있다.\n"
     ]
    }
   ],
   "source": [
    "import pandas as pd\n",
    "from scipy import stats\n",
    "df = pd.DataFrame({'중독':[54, 22], '정상':[27, 82]})\n",
    "stats, pvalue, dof, exp_freq = stats.chi2_contingency(df, correction = False)\n",
    "print('H0: 우울증의 유무와 알콜 중독 여부는 관계가 없다.')\n",
    "print('H1: 우울증의 유무와 알콜 중독 여부는 관계가 있다.')\n",
    "print('독립성 검정 결과 통계량은 {:.4f}, 유의확률은 {:.4f}로 유의수준 0.1보다 작으므로 귀무가설을 기각한다. 따라서 우울증의 유무와 알콜 중독 여부는 관계가 있다.'\n",
    "      .format(stats, pvalue))"
   ]
  },
  {
   "cell_type": "markdown",
   "id": "b9fcf56d",
   "metadata": {},
   "source": [
    "15.5.2     \n",
    "사형제도 폐지에 대한 대규모 여론조사 결과와 같은 조사를 임의로 선택한 200명의 법집행관들에게 질문한 결과가 다음과 같다.        \n",
    "이 두 자료로부터 법집행관의 사형제도 폐지에 대한 견해가 일반인과 차이가 있다고 할 수 있는 가? (유의수준 α=0.05)\n",
    "<br></br><img src=\"https://github.com/Datamanim/datarepo/blob/main/stats/stats_image3.png?raw=true\" align=\"left\"><br></br>       "
   ]
  },
  {
   "cell_type": "code",
   "execution_count": 2,
   "id": "d849ee8e",
   "metadata": {},
   "outputs": [
    {
     "name": "stdout",
     "output_type": "stream",
     "text": [
      "H0: 사형제도 폐지에 대한 견해는 법집행관과 일반인에 관계 없이 동일하다.\n",
      "H1: 사형제도 폐지에 대한 견해는 법집행관과 일반인에 따라 차이가 있다.\n",
      "독립성 검정 결과 통계량은 21.4228, 유의확률은 0.0003로 유의수준 0.05보다 작으므로 귀무가설을 기각한다. 따라서 사형제도 폐지에 대한 견해는 법집행관과 일반인에 따라 차이가 있다.\n"
     ]
    }
   ],
   "source": [
    "import pandas as pd\n",
    "from scipy import stats\n",
    "df = pd.DataFrame({'여론조사':[40, 60, 40, 40, 20], '법집행관':[28, 36, 36, 52, 48]})\n",
    "stats, pvalue, dof, exp_freq = stats.chi2_contingency(df, correction = False)\n",
    "print('H0: 사형제도 폐지에 대한 견해는 법집행관과 일반인에 관계 없이 동일하다.')\n",
    "print('H1: 사형제도 폐지에 대한 견해는 법집행관과 일반인에 따라 차이가 있다.')\n",
    "print('동질성 검정 결과 통계량은 {:.4f}, 유의확률은 {:.4f}로 유의수준 0.05보다 작으므로 귀무가설을 기각한다. 따라서 사형제도 폐지에 대한 견해는 법집행관과 일반인에 따라 차이가 있다.'\n",
    "      .format(stats, pvalue))"
   ]
  },
  {
   "cell_type": "markdown",
   "id": "a16a300d",
   "metadata": {},
   "source": [
    "15.5.4    \n",
    "다음은 어떤 해에 태어난 신생아의 생일을 달별로 정리한 자료이다. 각 달에 태어나는 아이들의 비율이 같다는 가정을 유의수준 a=0.01로 검정하라.     \n",
    "dataurl : https://raw.githubusercontent.com/Datamanim/datarepo/main/stats/stats5.csv"
   ]
  },
  {
   "cell_type": "code",
   "execution_count": 15,
   "id": "63a61c5f",
   "metadata": {},
   "outputs": [
    {
     "data": {
      "text/html": [
       "<div>\n",
       "<style scoped>\n",
       "    .dataframe tbody tr th:only-of-type {\n",
       "        vertical-align: middle;\n",
       "    }\n",
       "\n",
       "    .dataframe tbody tr th {\n",
       "        vertical-align: top;\n",
       "    }\n",
       "\n",
       "    .dataframe thead th {\n",
       "        text-align: right;\n",
       "    }\n",
       "</style>\n",
       "<table border=\"1\" class=\"dataframe\">\n",
       "  <thead>\n",
       "    <tr style=\"text-align: right;\">\n",
       "      <th></th>\n",
       "      <th>출생월</th>\n",
       "      <th>출생숫자</th>\n",
       "      <th>기대값</th>\n",
       "    </tr>\n",
       "  </thead>\n",
       "  <tbody>\n",
       "    <tr>\n",
       "      <th>0</th>\n",
       "      <td>1월</td>\n",
       "      <td>3702</td>\n",
       "      <td>3692</td>\n",
       "    </tr>\n",
       "    <tr>\n",
       "      <th>1</th>\n",
       "      <td>2월</td>\n",
       "      <td>3719</td>\n",
       "      <td>3692</td>\n",
       "    </tr>\n",
       "    <tr>\n",
       "      <th>2</th>\n",
       "      <td>3월</td>\n",
       "      <td>3660</td>\n",
       "      <td>3692</td>\n",
       "    </tr>\n",
       "  </tbody>\n",
       "</table>\n",
       "</div>"
      ],
      "text/plain": [
       "  출생월  출생숫자   기대값\n",
       "0  1월  3702  3692\n",
       "1  2월  3719  3692\n",
       "2  3월  3660  3692"
      ]
     },
     "metadata": {},
     "output_type": "display_data"
    },
    {
     "name": "stdout",
     "output_type": "stream",
     "text": [
      "H0: 각 달에 태어나는 아이들의 비율이 같다.\n",
      "H1: 각 달에 태어나는 아이들의 비율은 다르다.\n",
      "검정 결과 통계량은 1.4246, 유의확률은 0.9997로 유의수준 0.05보다 크므로 귀무가설을 채택한다. 따라서 각 달에 태어나는 아이들의 비율이 같다.\n"
     ]
    }
   ],
   "source": [
    "import re\n",
    "import pandas as pd\n",
    "from scipy import stats\n",
    "df = pd.read_csv('https://raw.githubusercontent.com/Datamanim/datarepo/main/stats/stats5.csv')\n",
    "df.출생숫자 = list(map(lambda x: int(re.sub(',', '',x)), df.출생숫자))\n",
    "df['기대값'] = int(df.출생숫자.sum()/12)\n",
    "display(df.head(3))\n",
    "stats, pvalue, dof, exp_freq = stats.chi2_contingency(df[['출생숫자', '기대값']], correction = False)\n",
    "\n",
    "print('H0: 각 달에 태어나는 아이들의 비율이 같다.')\n",
    "print('H1: 각 달에 태어나는 아이들의 비율은 다르다.')\n",
    "print('검정 결과 통계량은 {:.4f}, 유의확률은 {:.4f}로 유의수준 0.05보다 크므로 귀무가설을 채택한다. 따라서 각 달에 태어나는 아이들의 비율이 같다.'\n",
    "      .format(stats, pvalue))"
   ]
  },
  {
   "cell_type": "markdown",
   "id": "f39377c2",
   "metadata": {},
   "source": [
    "15.5.8    \n",
    "수술 후 통증을 감소시키는 4종류의 진통제의 성능을 조사하기 위하여 195명의 수술환자를 임의 로 선택하여 각 진통제에 대해 진통제를 투여한 환자수와 5시간 이상 통증을 느끼지 않은 환자수 를 아래의 표와 같이 정리하였다.\n",
    "\n",
    "(1) 진통제 별로 진통 경감에 차이가 없다는 귀무가설을 검정하라. (유의수준 a=0.05)    \n",
    "(2) 4종류의 진통제가 5시간 이상 효과가 있는 비율을 각각 p1,p2,p3,p4 라고 할 때 각각의 신뢰구간을 구하라        "
   ]
  },
  {
   "cell_type": "code",
   "execution_count": 14,
   "id": "50d371e4",
   "metadata": {},
   "outputs": [
    {
     "data": {
      "text/html": [
       "<div>\n",
       "<style scoped>\n",
       "    .dataframe tbody tr th:only-of-type {\n",
       "        vertical-align: middle;\n",
       "    }\n",
       "\n",
       "    .dataframe tbody tr th {\n",
       "        vertical-align: top;\n",
       "    }\n",
       "\n",
       "    .dataframe thead th {\n",
       "        text-align: right;\n",
       "    }\n",
       "</style>\n",
       "<table border=\"1\" class=\"dataframe\">\n",
       "  <thead>\n",
       "    <tr style=\"text-align: right;\">\n",
       "      <th></th>\n",
       "      <th>진통없음</th>\n",
       "      <th>진통제투여환자수</th>\n",
       "    </tr>\n",
       "  </thead>\n",
       "  <tbody>\n",
       "    <tr>\n",
       "      <th>1</th>\n",
       "      <td>23</td>\n",
       "      <td>52</td>\n",
       "    </tr>\n",
       "    <tr>\n",
       "      <th>2</th>\n",
       "      <td>30</td>\n",
       "      <td>48</td>\n",
       "    </tr>\n",
       "    <tr>\n",
       "      <th>3</th>\n",
       "      <td>19</td>\n",
       "      <td>50</td>\n",
       "    </tr>\n",
       "    <tr>\n",
       "      <th>4</th>\n",
       "      <td>29</td>\n",
       "      <td>45</td>\n",
       "    </tr>\n",
       "  </tbody>\n",
       "</table>\n",
       "</div>"
      ],
      "text/plain": [
       "   진통없음  진통제투여환자수\n",
       "1    23        52\n",
       "2    30        48\n",
       "3    19        50\n",
       "4    29        45"
      ]
     },
     "metadata": {},
     "output_type": "display_data"
    },
    {
     "name": "stdout",
     "output_type": "stream",
     "text": [
      "(1)\n",
      "H0: 진통제별로 진통 경감에 차이가 없다.\n",
      "H1: 진통제별로 진통 경감에 차이가 있다.\n",
      "동질성 검정 결과 통계량은 10.0896, 유의확률은 0.0178로 유의수준 0.05보다 작으로 귀무가설을 기각한다. 따라서 진통제별로 진통 경감에 차이가 있다.\n"
     ]
    }
   ],
   "source": [
    "import pandas as pd\n",
    "from scipy import stats\n",
    "import statsmodels\n",
    "df = pd.DataFrame({'진통없음':[23, 30, 19, 29], '진통제투여환자수':[52, 48, 50, 45]},\n",
    "                 index = [1,2,3,4])\n",
    "display(df)\n",
    "df['진통있음'] = df.진통제투여환자수 - df.진통없음\n",
    "\n",
    "stats, pvalue, dof, exp_freq = stats.chi2_contingency(df[['진통없음', '진통있음']], correction = False)\n",
    "print('(1)')\n",
    "print('H0: 진통제별로 진통 경감에 차이가 없다.')\n",
    "print('H1: 진통제별로 진통 경감에 차이가 있다.')\n",
    "print('동질성 검정 결과 통계량은 {:.4f}, 유의확률은 {:.4f}로 유의수준 0.05보다 작으로 귀무가설을 기각한다. 따라서 진통제별로 진통 경감에 차이가 있다.'\n",
    "      .format(stats, pvalue))"
   ]
  },
  {
   "cell_type": "markdown",
   "id": "afee0e68",
   "metadata": {},
   "source": [
    "15.4.2     \n",
    "스트레스를 받는 직종에 근무하는 185명에 대한 조사를 통하여 다음과 같은 표를 얻었다.     \n",
    "우울증의 유무와 알콜 중독과 관계가 있는가? 유의수준 \tα = 0.1로 검정하라.\n",
    "<br></br><img src=\"https://github.com/Datamanim/datarepo/blob/main/stats/stats_image2.png?raw=true\" align=\"left\"><br></br>       "
   ]
  },
  {
   "cell_type": "code",
   "execution_count": 24,
   "id": "e1093efe",
   "metadata": {},
   "outputs": [
    {
     "name": "stdout",
     "output_type": "stream",
     "text": [
      "H0: 우울증의 유무와 알콜 중독 여부는 관계가 없다.\n",
      "H1: 우울증의 유무와 알콜 중독 여부는 관계가 있다.\n",
      "독립성 검정 결과 통계량은 38.9688, 유의확률은 0.0000로 유의수준 0.1보다 작으므로 귀무가설을 기각한다. 따라서 우울증의 유무와 알콜 중독 여부는 관계가 있다.\n"
     ]
    }
   ],
   "source": [
    "import pandas as pd\n",
    "from scipy import stats\n",
    "df = pd.DataFrame({'중독':[54, 22], '정상':[27, 82]})\n",
    "stats, pvalue, dof, exp_freq = stats.chi2_contingency(df, correction = False)\n",
    "print('H0: 우울증의 유무와 알콜 중독 여부는 관계가 없다.')\n",
    "print('H1: 우울증의 유무와 알콜 중독 여부는 관계가 있다.')\n",
    "print('독립성 검정 결과 통계량은 {:.4f}, 유의확률은 {:.4f}로 유의수준 0.1보다 작으므로 귀무가설을 기각한다. 따라서 우울증의 유무와 알콜 중독 여부는 관계가 있다.'\n",
    "      .format(stats, pvalue))"
   ]
  },
  {
   "cell_type": "markdown",
   "id": "de9fda27",
   "metadata": {},
   "source": [
    "## ch16. 비모수 통계"
   ]
  },
  {
   "cell_type": "markdown",
   "id": "cc8a03be",
   "metadata": {},
   "source": [
    "p.1    \n",
    "A,B두가지 치료법에 대해 치료의 성공 유무를 나타내는 데이터이다.    \n",
    "치료법이 특정 질병의 치료여부에 영향을 미치는지 검정하려한다.   \n",
    "귀무가설과 대립가설 설정, 오즈비 및 검정결과를 유의수준 0.05하에서 해석하라     \n",
    "dataurl : https://raw.githubusercontent.com/Datamanim/datarepo/main/stats/stats6.csv"
   ]
  },
  {
   "cell_type": "code",
   "execution_count": 12,
   "id": "cc12ac4d",
   "metadata": {},
   "outputs": [
    {
     "data": {
      "text/html": [
       "<div>\n",
       "<style scoped>\n",
       "    .dataframe tbody tr th:only-of-type {\n",
       "        vertical-align: middle;\n",
       "    }\n",
       "\n",
       "    .dataframe tbody tr th {\n",
       "        vertical-align: top;\n",
       "    }\n",
       "\n",
       "    .dataframe thead th {\n",
       "        text-align: right;\n",
       "    }\n",
       "</style>\n",
       "<table border=\"1\" class=\"dataframe\">\n",
       "  <thead>\n",
       "    <tr style=\"text-align: right;\">\n",
       "      <th>치료결과</th>\n",
       "      <th>성공</th>\n",
       "      <th>실패</th>\n",
       "    </tr>\n",
       "    <tr>\n",
       "      <th>치료법</th>\n",
       "      <th></th>\n",
       "      <th></th>\n",
       "    </tr>\n",
       "  </thead>\n",
       "  <tbody>\n",
       "    <tr>\n",
       "      <th>A</th>\n",
       "      <td>3</td>\n",
       "      <td>8</td>\n",
       "    </tr>\n",
       "    <tr>\n",
       "      <th>B</th>\n",
       "      <td>2</td>\n",
       "      <td>5</td>\n",
       "    </tr>\n",
       "  </tbody>\n",
       "</table>\n",
       "</div>"
      ],
      "text/plain": [
       "치료결과  성공  실패\n",
       "치료법         \n",
       "A      3   8\n",
       "B      2   5"
      ]
     },
     "metadata": {},
     "output_type": "display_data"
    },
    {
     "name": "stdout",
     "output_type": "stream",
     "text": [
      "H0: 치료법이 특정 질병의 치료여부에 영향을 미치지 않는다.\n",
      "H1: 치료법이 특정 질병의 치료여부에 영향을 미친다.\n",
      "동질성 검정 결과 통계량은 0.0036, 유의확률은 0.9522로 유의수준 0.05보다 크므로 귀무가설을 채택한다. 치료법이 특정 질병의 치료여부에 영향을 미치지 않는다.\n"
     ]
    }
   ],
   "source": [
    "import pandas as pd\n",
    "from scipy import stats\n",
    "df = pd.read_csv('https://raw.githubusercontent.com/Datamanim/datarepo/main/stats/stats6.csv')\n",
    "t = pd.crosstab(df.치료법, df.치료결과)\n",
    "\n",
    "stats, pvalue, dof, exp_freq = stats.chi2_contingency(t, correction = False)\n",
    "display(t)\n",
    "print('H0: 치료법이 특정 질병의 치료여부에 영향을 미치지 않는다.')\n",
    "print('H1: 치료법이 특정 질병의 치료여부에 영향을 미친다.')\n",
    "print('동질성 검정 결과 통계량은 {:.4f}, 유의확률은 {:.4f}로 유의수준 0.05보다 크므로 귀무가설을 채택한다. 치료법이 특정 질병의 치료여부에 영향을 미치지 않는다.'\n",
    "      .format(stats, pvalue))"
   ]
  },
  {
   "cell_type": "markdown",
   "id": "7cafba57",
   "metadata": {},
   "source": [
    "p.2     \n",
    "어떤 광고 방법(A와 B)의 전환율을 확인하기 위해 200명 유저그룹에 두 번의 광고를 노출한 후 전환 여부를 조사하였습니다.     \n",
    "(1) 광고 노출이 유저의 전환에 영향을 주었는지 검정하시오. 귀무가설과 대립가설을 설정하고 유의수준 0.01하에서\n",
    "<br></br><img src=\"https://github.com/Datamanim/datarepo/blob/main/stats/stats_image4.png?raw=true\" align=\"left\"><br></br>  "
   ]
  },
  {
   "cell_type": "code",
   "execution_count": 11,
   "id": "f283c065",
   "metadata": {},
   "outputs": [
    {
     "data": {
      "text/html": [
       "<div>\n",
       "<style scoped>\n",
       "    .dataframe tbody tr th:only-of-type {\n",
       "        vertical-align: middle;\n",
       "    }\n",
       "\n",
       "    .dataframe tbody tr th {\n",
       "        vertical-align: top;\n",
       "    }\n",
       "\n",
       "    .dataframe thead th {\n",
       "        text-align: right;\n",
       "    }\n",
       "</style>\n",
       "<table border=\"1\" class=\"dataframe\">\n",
       "  <thead>\n",
       "    <tr style=\"text-align: right;\">\n",
       "      <th></th>\n",
       "      <th>비전환</th>\n",
       "      <th>전환</th>\n",
       "    </tr>\n",
       "  </thead>\n",
       "  <tbody>\n",
       "    <tr>\n",
       "      <th>0</th>\n",
       "      <td>80</td>\n",
       "      <td>100</td>\n",
       "    </tr>\n",
       "    <tr>\n",
       "      <th>1</th>\n",
       "      <td>100</td>\n",
       "      <td>100</td>\n",
       "    </tr>\n",
       "  </tbody>\n",
       "</table>\n",
       "</div>"
      ],
      "text/plain": [
       "   비전환   전환\n",
       "0   80  100\n",
       "1  100  100"
      ]
     },
     "metadata": {},
     "output_type": "display_data"
    },
    {
     "name": "stdout",
     "output_type": "stream",
     "text": [
      "H0: 광고 노출이 유저의 전환에 영향을 미치지 않는다.\n",
      "H1: 광고 노출이 유저의 전환에 영향을 미친다.\n",
      "동질성 검정 결과 통계량은 1.1728, 유의확률은 0.2788로 유의수준 0.01보다 크므로 귀무가설을 채택한다. 광고 노출이 유저의 전환에 영향을 미치지 않는다.\n"
     ]
    }
   ],
   "source": [
    "import pandas as pd\n",
    "from scipy import stats\n",
    "df = pd.DataFrame({'비전환':[80, 100], '전환':[100, 100]})\n",
    "stats, pvalue, dof, exp_freq = stats.chi2_contingency(df, correction = False)\n",
    "display(df.head(3))\n",
    "print('H0: 광고 노출이 유저의 전환에 영향을 미치지 않는다.')\n",
    "print('H1: 광고 노출이 유저의 전환에 영향을 미친다.')\n",
    "print('동질성 검정 결과 통계량은 {:.4f}, 유의확률은 {:.4f}로 유의수준 0.01보다 크므로 귀무가설을 채택한다. 광고 노출이 유저의 전환에 영향을 미치지 않는다.'\n",
    "      .format(stats, pvalue))"
   ]
  },
  {
   "cell_type": "markdown",
   "id": "848e12c1",
   "metadata": {},
   "source": [
    "p.3     \n",
    "두 상점의 5개월간 판매량이 아래와 같다.     \n",
    "상점간의 판매량 차이가 존재하는지 검정하라(귀무가설 및 대립가설 설정 검정통계량 확인 및 유의확률에 대한 해석)             \n",
    "상점 A: [15, 20, 18, 10, 22]     \n",
    "상점 B: [12, 17, 14, 16, 11]"
   ]
  },
  {
   "cell_type": "code",
   "execution_count": 10,
   "id": "1cedbf71",
   "metadata": {},
   "outputs": [
    {
     "data": {
      "text/html": [
       "<div>\n",
       "<style scoped>\n",
       "    .dataframe tbody tr th:only-of-type {\n",
       "        vertical-align: middle;\n",
       "    }\n",
       "\n",
       "    .dataframe tbody tr th {\n",
       "        vertical-align: top;\n",
       "    }\n",
       "\n",
       "    .dataframe thead th {\n",
       "        text-align: right;\n",
       "    }\n",
       "</style>\n",
       "<table border=\"1\" class=\"dataframe\">\n",
       "  <thead>\n",
       "    <tr style=\"text-align: right;\">\n",
       "      <th></th>\n",
       "      <th>A</th>\n",
       "      <th>B</th>\n",
       "    </tr>\n",
       "  </thead>\n",
       "  <tbody>\n",
       "    <tr>\n",
       "      <th>0</th>\n",
       "      <td>15</td>\n",
       "      <td>12</td>\n",
       "    </tr>\n",
       "    <tr>\n",
       "      <th>1</th>\n",
       "      <td>20</td>\n",
       "      <td>17</td>\n",
       "    </tr>\n",
       "    <tr>\n",
       "      <th>2</th>\n",
       "      <td>18</td>\n",
       "      <td>14</td>\n",
       "    </tr>\n",
       "  </tbody>\n",
       "</table>\n",
       "</div>"
      ],
      "text/plain": [
       "    A   B\n",
       "0  15  12\n",
       "1  20  17\n",
       "2  18  14"
      ]
     },
     "metadata": {},
     "output_type": "display_data"
    },
    {
     "name": "stdout",
     "output_type": "stream",
     "text": [
      "H0: 상점간의 판매량 차이가 없다.\n",
      "H1: 상점간의 판매량 차이가 있다.\n",
      "동질성 검정 결과 통계량은 1.1489, 유의확률은 0.2506로 유의수준 0.01보다 크므로 귀무가설을 채택한다. 상점간의 판매량 차이가 없다.\n"
     ]
    }
   ],
   "source": [
    "import pandas as pd\n",
    "from scipy import stats\n",
    "df = pd.DataFrame({'A':[15, 20, 18, 10, 22], 'B':[12, 17, 14, 16, 11]})\n",
    "stats, pvalue = stats.ranksums(df.A, df.B)\n",
    "display(df.head(3))\n",
    "print('H0: 상점간의 판매량 차이가 없다.')\n",
    "print('H1: 상점간의 판매량 차이가 있다.')\n",
    "print('동질성 검정 결과 통계량은 {:.4f}, 유의확률은 {:.4f}로 유의수준 0.01보다 크므로 귀무가설을 채택한다. 상점간의 판매량 차이가 없다.'\n",
    "      .format(stats, pvalue))"
   ]
  },
  {
   "cell_type": "markdown",
   "id": "8cddb52e",
   "metadata": {},
   "source": [
    "p.4     \n",
    "한 연구자가 새로운 의약품의 효과를 평가하기 위해 15명의 환자들을 대상으로 전후로 측정한 데이터가 있습니다. 연구자는 의약품 투여 전의 측정값과 의약품 투여 후의 측정값을 비교하여 의약품의 효과 여부를 확인하고자 합니다. 윌콕슨 부호순위 검정을 사용하여 의약품 투여 전후의 차이가 유의미한지를 평가하세요. (유의수준 α = 0.05)     \n",
    "dataurl : https://raw.githubusercontent.com/Datamanim/datarepo/main/stats/stats7.csv"
   ]
  },
  {
   "cell_type": "code",
   "execution_count": 9,
   "id": "bfbeec89",
   "metadata": {},
   "outputs": [
    {
     "data": {
      "text/html": [
       "<div>\n",
       "<style scoped>\n",
       "    .dataframe tbody tr th:only-of-type {\n",
       "        vertical-align: middle;\n",
       "    }\n",
       "\n",
       "    .dataframe tbody tr th {\n",
       "        vertical-align: top;\n",
       "    }\n",
       "\n",
       "    .dataframe thead th {\n",
       "        text-align: right;\n",
       "    }\n",
       "</style>\n",
       "<table border=\"1\" class=\"dataframe\">\n",
       "  <thead>\n",
       "    <tr style=\"text-align: right;\">\n",
       "      <th></th>\n",
       "      <th>투약전 혈류량</th>\n",
       "      <th>투약후 혈류량</th>\n",
       "    </tr>\n",
       "  </thead>\n",
       "  <tbody>\n",
       "    <tr>\n",
       "      <th>0</th>\n",
       "      <td>23</td>\n",
       "      <td>20</td>\n",
       "    </tr>\n",
       "    <tr>\n",
       "      <th>1</th>\n",
       "      <td>18</td>\n",
       "      <td>15</td>\n",
       "    </tr>\n",
       "    <tr>\n",
       "      <th>2</th>\n",
       "      <td>20</td>\n",
       "      <td>18</td>\n",
       "    </tr>\n",
       "  </tbody>\n",
       "</table>\n",
       "</div>"
      ],
      "text/plain": [
       "   투약전 혈류량  투약후 혈류량\n",
       "0       23       20\n",
       "1       18       15\n",
       "2       20       18"
      ]
     },
     "metadata": {},
     "output_type": "display_data"
    },
    {
     "name": "stdout",
     "output_type": "stream",
     "text": [
      "H0: 의약품 투여 전후 차이가 없다.\n",
      "H1: 의약품 투여 전후 차이가 있다.\n",
      "동질성 검정 결과 통계량은 0.0000, 유의확률은 0.0001로 유의수준 0.05보다 작으므로 귀무가설을 기각한다. 의약품 투여 전후 차이가 있다.\n"
     ]
    }
   ],
   "source": [
    "import pandas as pd\n",
    "from scipy import stats\n",
    "df = pd.read_csv('https://raw.githubusercontent.com/Datamanim/datarepo/main/stats/stats7.csv')\n",
    "display(df.head(3))\n",
    "stats, pvalue = stats.wilcoxon(df['투약전 혈류량'], df['투약후 혈류량'], zero_method = 'wilcox')\n",
    "print('H0: 의약품 투여 전후 차이가 없다.')\n",
    "print('H1: 의약품 투여 전후 차이가 있다.')\n",
    "print('동질성 검정 결과 통계량은 {:.4f}, 유의확률은 {:.4f}로 유의수준 0.05보다 작으므로 귀무가설을 기각한다. 의약품 투여 전후 차이가 있다.'\n",
    "      .format(stats, pvalue))"
   ]
  }
 ],
 "metadata": {
  "kernelspec": {
   "display_name": "Python 3",
   "language": "python",
   "name": "python3"
  },
  "language_info": {
   "codemirror_mode": {
    "name": "ipython",
    "version": 3
   },
   "file_extension": ".py",
   "mimetype": "text/x-python",
   "name": "python",
   "nbconvert_exporter": "python",
   "pygments_lexer": "ipython3",
   "version": "3.8.8"
  }
 },
 "nbformat": 4,
 "nbformat_minor": 5
}
